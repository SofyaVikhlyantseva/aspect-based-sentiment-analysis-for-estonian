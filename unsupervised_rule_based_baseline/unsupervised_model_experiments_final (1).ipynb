{
  "nbformat": 4,
  "nbformat_minor": 0,
  "metadata": {
    "colab": {
      "provenance": []
    },
    "kernelspec": {
      "name": "python3",
      "display_name": "Python 3"
    },
    "language_info": {
      "name": "python"
    },
    "widgets": {
      "application/vnd.jupyter.widget-state+json": {
        "f922a5a152054b2daaa01c2bb0376559": {
          "model_module": "@jupyter-widgets/controls",
          "model_name": "HBoxModel",
          "model_module_version": "1.5.0",
          "state": {
            "_dom_classes": [],
            "_model_module": "@jupyter-widgets/controls",
            "_model_module_version": "1.5.0",
            "_model_name": "HBoxModel",
            "_view_count": null,
            "_view_module": "@jupyter-widgets/controls",
            "_view_module_version": "1.5.0",
            "_view_name": "HBoxView",
            "box_style": "",
            "children": [
              "IPY_MODEL_f51183f7adc94606bf718c5ac00bd49e",
              "IPY_MODEL_3a090512c3c044d3b3066528136b462c",
              "IPY_MODEL_e96ec08810bd491f857af87634c60b6f"
            ],
            "layout": "IPY_MODEL_82cdd09e5a2445bdb2762c274c988745"
          }
        },
        "f51183f7adc94606bf718c5ac00bd49e": {
          "model_module": "@jupyter-widgets/controls",
          "model_name": "HTMLModel",
          "model_module_version": "1.5.0",
          "state": {
            "_dom_classes": [],
            "_model_module": "@jupyter-widgets/controls",
            "_model_module_version": "1.5.0",
            "_model_name": "HTMLModel",
            "_view_count": null,
            "_view_module": "@jupyter-widgets/controls",
            "_view_module_version": "1.5.0",
            "_view_name": "HTMLView",
            "description": "",
            "description_tooltip": null,
            "layout": "IPY_MODEL_05c8c0adf30e4f5598c7aab53e4d4803",
            "placeholder": "​",
            "style": "IPY_MODEL_9ed7a75296d44290a9273ad15ae75e1f",
            "value": "Downloading https://raw.githubusercontent.com/stanfordnlp/stanza-resources/main/resources_1.10.0.json: "
          }
        },
        "3a090512c3c044d3b3066528136b462c": {
          "model_module": "@jupyter-widgets/controls",
          "model_name": "FloatProgressModel",
          "model_module_version": "1.5.0",
          "state": {
            "_dom_classes": [],
            "_model_module": "@jupyter-widgets/controls",
            "_model_module_version": "1.5.0",
            "_model_name": "FloatProgressModel",
            "_view_count": null,
            "_view_module": "@jupyter-widgets/controls",
            "_view_module_version": "1.5.0",
            "_view_name": "ProgressView",
            "bar_style": "success",
            "description": "",
            "description_tooltip": null,
            "layout": "IPY_MODEL_586d49f4522e465ea475abd7689698a1",
            "max": 52963,
            "min": 0,
            "orientation": "horizontal",
            "style": "IPY_MODEL_3c6d13e7e11f4840aedef3b2fdf612f4",
            "value": 52963
          }
        },
        "e96ec08810bd491f857af87634c60b6f": {
          "model_module": "@jupyter-widgets/controls",
          "model_name": "HTMLModel",
          "model_module_version": "1.5.0",
          "state": {
            "_dom_classes": [],
            "_model_module": "@jupyter-widgets/controls",
            "_model_module_version": "1.5.0",
            "_model_name": "HTMLModel",
            "_view_count": null,
            "_view_module": "@jupyter-widgets/controls",
            "_view_module_version": "1.5.0",
            "_view_name": "HTMLView",
            "description": "",
            "description_tooltip": null,
            "layout": "IPY_MODEL_441cc05f85bd4b69a5c492d91ed55c6a",
            "placeholder": "​",
            "style": "IPY_MODEL_26acaf2a585c4dfca2e7f616a16423a7",
            "value": " 428k/? [00:00&lt;00:00, 10.7MB/s]"
          }
        },
        "82cdd09e5a2445bdb2762c274c988745": {
          "model_module": "@jupyter-widgets/base",
          "model_name": "LayoutModel",
          "model_module_version": "1.2.0",
          "state": {
            "_model_module": "@jupyter-widgets/base",
            "_model_module_version": "1.2.0",
            "_model_name": "LayoutModel",
            "_view_count": null,
            "_view_module": "@jupyter-widgets/base",
            "_view_module_version": "1.2.0",
            "_view_name": "LayoutView",
            "align_content": null,
            "align_items": null,
            "align_self": null,
            "border": null,
            "bottom": null,
            "display": null,
            "flex": null,
            "flex_flow": null,
            "grid_area": null,
            "grid_auto_columns": null,
            "grid_auto_flow": null,
            "grid_auto_rows": null,
            "grid_column": null,
            "grid_gap": null,
            "grid_row": null,
            "grid_template_areas": null,
            "grid_template_columns": null,
            "grid_template_rows": null,
            "height": null,
            "justify_content": null,
            "justify_items": null,
            "left": null,
            "margin": null,
            "max_height": null,
            "max_width": null,
            "min_height": null,
            "min_width": null,
            "object_fit": null,
            "object_position": null,
            "order": null,
            "overflow": null,
            "overflow_x": null,
            "overflow_y": null,
            "padding": null,
            "right": null,
            "top": null,
            "visibility": null,
            "width": null
          }
        },
        "05c8c0adf30e4f5598c7aab53e4d4803": {
          "model_module": "@jupyter-widgets/base",
          "model_name": "LayoutModel",
          "model_module_version": "1.2.0",
          "state": {
            "_model_module": "@jupyter-widgets/base",
            "_model_module_version": "1.2.0",
            "_model_name": "LayoutModel",
            "_view_count": null,
            "_view_module": "@jupyter-widgets/base",
            "_view_module_version": "1.2.0",
            "_view_name": "LayoutView",
            "align_content": null,
            "align_items": null,
            "align_self": null,
            "border": null,
            "bottom": null,
            "display": null,
            "flex": null,
            "flex_flow": null,
            "grid_area": null,
            "grid_auto_columns": null,
            "grid_auto_flow": null,
            "grid_auto_rows": null,
            "grid_column": null,
            "grid_gap": null,
            "grid_row": null,
            "grid_template_areas": null,
            "grid_template_columns": null,
            "grid_template_rows": null,
            "height": null,
            "justify_content": null,
            "justify_items": null,
            "left": null,
            "margin": null,
            "max_height": null,
            "max_width": null,
            "min_height": null,
            "min_width": null,
            "object_fit": null,
            "object_position": null,
            "order": null,
            "overflow": null,
            "overflow_x": null,
            "overflow_y": null,
            "padding": null,
            "right": null,
            "top": null,
            "visibility": null,
            "width": null
          }
        },
        "9ed7a75296d44290a9273ad15ae75e1f": {
          "model_module": "@jupyter-widgets/controls",
          "model_name": "DescriptionStyleModel",
          "model_module_version": "1.5.0",
          "state": {
            "_model_module": "@jupyter-widgets/controls",
            "_model_module_version": "1.5.0",
            "_model_name": "DescriptionStyleModel",
            "_view_count": null,
            "_view_module": "@jupyter-widgets/base",
            "_view_module_version": "1.2.0",
            "_view_name": "StyleView",
            "description_width": ""
          }
        },
        "586d49f4522e465ea475abd7689698a1": {
          "model_module": "@jupyter-widgets/base",
          "model_name": "LayoutModel",
          "model_module_version": "1.2.0",
          "state": {
            "_model_module": "@jupyter-widgets/base",
            "_model_module_version": "1.2.0",
            "_model_name": "LayoutModel",
            "_view_count": null,
            "_view_module": "@jupyter-widgets/base",
            "_view_module_version": "1.2.0",
            "_view_name": "LayoutView",
            "align_content": null,
            "align_items": null,
            "align_self": null,
            "border": null,
            "bottom": null,
            "display": null,
            "flex": null,
            "flex_flow": null,
            "grid_area": null,
            "grid_auto_columns": null,
            "grid_auto_flow": null,
            "grid_auto_rows": null,
            "grid_column": null,
            "grid_gap": null,
            "grid_row": null,
            "grid_template_areas": null,
            "grid_template_columns": null,
            "grid_template_rows": null,
            "height": null,
            "justify_content": null,
            "justify_items": null,
            "left": null,
            "margin": null,
            "max_height": null,
            "max_width": null,
            "min_height": null,
            "min_width": null,
            "object_fit": null,
            "object_position": null,
            "order": null,
            "overflow": null,
            "overflow_x": null,
            "overflow_y": null,
            "padding": null,
            "right": null,
            "top": null,
            "visibility": null,
            "width": null
          }
        },
        "3c6d13e7e11f4840aedef3b2fdf612f4": {
          "model_module": "@jupyter-widgets/controls",
          "model_name": "ProgressStyleModel",
          "model_module_version": "1.5.0",
          "state": {
            "_model_module": "@jupyter-widgets/controls",
            "_model_module_version": "1.5.0",
            "_model_name": "ProgressStyleModel",
            "_view_count": null,
            "_view_module": "@jupyter-widgets/base",
            "_view_module_version": "1.2.0",
            "_view_name": "StyleView",
            "bar_color": null,
            "description_width": ""
          }
        },
        "441cc05f85bd4b69a5c492d91ed55c6a": {
          "model_module": "@jupyter-widgets/base",
          "model_name": "LayoutModel",
          "model_module_version": "1.2.0",
          "state": {
            "_model_module": "@jupyter-widgets/base",
            "_model_module_version": "1.2.0",
            "_model_name": "LayoutModel",
            "_view_count": null,
            "_view_module": "@jupyter-widgets/base",
            "_view_module_version": "1.2.0",
            "_view_name": "LayoutView",
            "align_content": null,
            "align_items": null,
            "align_self": null,
            "border": null,
            "bottom": null,
            "display": null,
            "flex": null,
            "flex_flow": null,
            "grid_area": null,
            "grid_auto_columns": null,
            "grid_auto_flow": null,
            "grid_auto_rows": null,
            "grid_column": null,
            "grid_gap": null,
            "grid_row": null,
            "grid_template_areas": null,
            "grid_template_columns": null,
            "grid_template_rows": null,
            "height": null,
            "justify_content": null,
            "justify_items": null,
            "left": null,
            "margin": null,
            "max_height": null,
            "max_width": null,
            "min_height": null,
            "min_width": null,
            "object_fit": null,
            "object_position": null,
            "order": null,
            "overflow": null,
            "overflow_x": null,
            "overflow_y": null,
            "padding": null,
            "right": null,
            "top": null,
            "visibility": null,
            "width": null
          }
        },
        "26acaf2a585c4dfca2e7f616a16423a7": {
          "model_module": "@jupyter-widgets/controls",
          "model_name": "DescriptionStyleModel",
          "model_module_version": "1.5.0",
          "state": {
            "_model_module": "@jupyter-widgets/controls",
            "_model_module_version": "1.5.0",
            "_model_name": "DescriptionStyleModel",
            "_view_count": null,
            "_view_module": "@jupyter-widgets/base",
            "_view_module_version": "1.2.0",
            "_view_name": "StyleView",
            "description_width": ""
          }
        },
        "e298ab726a534c7ea52c75aada0238e2": {
          "model_module": "@jupyter-widgets/controls",
          "model_name": "HBoxModel",
          "model_module_version": "1.5.0",
          "state": {
            "_dom_classes": [],
            "_model_module": "@jupyter-widgets/controls",
            "_model_module_version": "1.5.0",
            "_model_name": "HBoxModel",
            "_view_count": null,
            "_view_module": "@jupyter-widgets/controls",
            "_view_module_version": "1.5.0",
            "_view_name": "HBoxView",
            "box_style": "",
            "children": [
              "IPY_MODEL_015a24ca284e486e9823397ad8de9684",
              "IPY_MODEL_55fe4cfe62e04430a3885b0087004734",
              "IPY_MODEL_55753baa42e34ac9bff9c0fed0a5426b"
            ],
            "layout": "IPY_MODEL_f5448ce0ec8f4c7da29a1056983f0002"
          }
        },
        "015a24ca284e486e9823397ad8de9684": {
          "model_module": "@jupyter-widgets/controls",
          "model_name": "HTMLModel",
          "model_module_version": "1.5.0",
          "state": {
            "_dom_classes": [],
            "_model_module": "@jupyter-widgets/controls",
            "_model_module_version": "1.5.0",
            "_model_name": "HTMLModel",
            "_view_count": null,
            "_view_module": "@jupyter-widgets/controls",
            "_view_module_version": "1.5.0",
            "_view_name": "HTMLView",
            "description": "",
            "description_tooltip": null,
            "layout": "IPY_MODEL_296d17b15e6245d3964f92d5be0d33a6",
            "placeholder": "​",
            "style": "IPY_MODEL_5cebf99f00704392a6baef88aca5f329",
            "value": "Downloading https://huggingface.co/stanfordnlp/stanza-et/resolve/v1.10.0/models/default.zip: 100%"
          }
        },
        "55fe4cfe62e04430a3885b0087004734": {
          "model_module": "@jupyter-widgets/controls",
          "model_name": "FloatProgressModel",
          "model_module_version": "1.5.0",
          "state": {
            "_dom_classes": [],
            "_model_module": "@jupyter-widgets/controls",
            "_model_module_version": "1.5.0",
            "_model_name": "FloatProgressModel",
            "_view_count": null,
            "_view_module": "@jupyter-widgets/controls",
            "_view_module_version": "1.5.0",
            "_view_name": "ProgressView",
            "bar_style": "success",
            "description": "",
            "description_tooltip": null,
            "layout": "IPY_MODEL_750e7247b7244cd0a18d021a7e61d184",
            "max": 214079140,
            "min": 0,
            "orientation": "horizontal",
            "style": "IPY_MODEL_936e105a7d7943ae92d2460f30c9d17b",
            "value": 214079140
          }
        },
        "55753baa42e34ac9bff9c0fed0a5426b": {
          "model_module": "@jupyter-widgets/controls",
          "model_name": "HTMLModel",
          "model_module_version": "1.5.0",
          "state": {
            "_dom_classes": [],
            "_model_module": "@jupyter-widgets/controls",
            "_model_module_version": "1.5.0",
            "_model_name": "HTMLModel",
            "_view_count": null,
            "_view_module": "@jupyter-widgets/controls",
            "_view_module_version": "1.5.0",
            "_view_name": "HTMLView",
            "description": "",
            "description_tooltip": null,
            "layout": "IPY_MODEL_a2a737a3c8a743e59ef401c485e83d5d",
            "placeholder": "​",
            "style": "IPY_MODEL_c8b16e1bc702490189aaabdf006c4380",
            "value": " 214M/214M [00:02&lt;00:00, 83.7MB/s]"
          }
        },
        "f5448ce0ec8f4c7da29a1056983f0002": {
          "model_module": "@jupyter-widgets/base",
          "model_name": "LayoutModel",
          "model_module_version": "1.2.0",
          "state": {
            "_model_module": "@jupyter-widgets/base",
            "_model_module_version": "1.2.0",
            "_model_name": "LayoutModel",
            "_view_count": null,
            "_view_module": "@jupyter-widgets/base",
            "_view_module_version": "1.2.0",
            "_view_name": "LayoutView",
            "align_content": null,
            "align_items": null,
            "align_self": null,
            "border": null,
            "bottom": null,
            "display": null,
            "flex": null,
            "flex_flow": null,
            "grid_area": null,
            "grid_auto_columns": null,
            "grid_auto_flow": null,
            "grid_auto_rows": null,
            "grid_column": null,
            "grid_gap": null,
            "grid_row": null,
            "grid_template_areas": null,
            "grid_template_columns": null,
            "grid_template_rows": null,
            "height": null,
            "justify_content": null,
            "justify_items": null,
            "left": null,
            "margin": null,
            "max_height": null,
            "max_width": null,
            "min_height": null,
            "min_width": null,
            "object_fit": null,
            "object_position": null,
            "order": null,
            "overflow": null,
            "overflow_x": null,
            "overflow_y": null,
            "padding": null,
            "right": null,
            "top": null,
            "visibility": null,
            "width": null
          }
        },
        "296d17b15e6245d3964f92d5be0d33a6": {
          "model_module": "@jupyter-widgets/base",
          "model_name": "LayoutModel",
          "model_module_version": "1.2.0",
          "state": {
            "_model_module": "@jupyter-widgets/base",
            "_model_module_version": "1.2.0",
            "_model_name": "LayoutModel",
            "_view_count": null,
            "_view_module": "@jupyter-widgets/base",
            "_view_module_version": "1.2.0",
            "_view_name": "LayoutView",
            "align_content": null,
            "align_items": null,
            "align_self": null,
            "border": null,
            "bottom": null,
            "display": null,
            "flex": null,
            "flex_flow": null,
            "grid_area": null,
            "grid_auto_columns": null,
            "grid_auto_flow": null,
            "grid_auto_rows": null,
            "grid_column": null,
            "grid_gap": null,
            "grid_row": null,
            "grid_template_areas": null,
            "grid_template_columns": null,
            "grid_template_rows": null,
            "height": null,
            "justify_content": null,
            "justify_items": null,
            "left": null,
            "margin": null,
            "max_height": null,
            "max_width": null,
            "min_height": null,
            "min_width": null,
            "object_fit": null,
            "object_position": null,
            "order": null,
            "overflow": null,
            "overflow_x": null,
            "overflow_y": null,
            "padding": null,
            "right": null,
            "top": null,
            "visibility": null,
            "width": null
          }
        },
        "5cebf99f00704392a6baef88aca5f329": {
          "model_module": "@jupyter-widgets/controls",
          "model_name": "DescriptionStyleModel",
          "model_module_version": "1.5.0",
          "state": {
            "_model_module": "@jupyter-widgets/controls",
            "_model_module_version": "1.5.0",
            "_model_name": "DescriptionStyleModel",
            "_view_count": null,
            "_view_module": "@jupyter-widgets/base",
            "_view_module_version": "1.2.0",
            "_view_name": "StyleView",
            "description_width": ""
          }
        },
        "750e7247b7244cd0a18d021a7e61d184": {
          "model_module": "@jupyter-widgets/base",
          "model_name": "LayoutModel",
          "model_module_version": "1.2.0",
          "state": {
            "_model_module": "@jupyter-widgets/base",
            "_model_module_version": "1.2.0",
            "_model_name": "LayoutModel",
            "_view_count": null,
            "_view_module": "@jupyter-widgets/base",
            "_view_module_version": "1.2.0",
            "_view_name": "LayoutView",
            "align_content": null,
            "align_items": null,
            "align_self": null,
            "border": null,
            "bottom": null,
            "display": null,
            "flex": null,
            "flex_flow": null,
            "grid_area": null,
            "grid_auto_columns": null,
            "grid_auto_flow": null,
            "grid_auto_rows": null,
            "grid_column": null,
            "grid_gap": null,
            "grid_row": null,
            "grid_template_areas": null,
            "grid_template_columns": null,
            "grid_template_rows": null,
            "height": null,
            "justify_content": null,
            "justify_items": null,
            "left": null,
            "margin": null,
            "max_height": null,
            "max_width": null,
            "min_height": null,
            "min_width": null,
            "object_fit": null,
            "object_position": null,
            "order": null,
            "overflow": null,
            "overflow_x": null,
            "overflow_y": null,
            "padding": null,
            "right": null,
            "top": null,
            "visibility": null,
            "width": null
          }
        },
        "936e105a7d7943ae92d2460f30c9d17b": {
          "model_module": "@jupyter-widgets/controls",
          "model_name": "ProgressStyleModel",
          "model_module_version": "1.5.0",
          "state": {
            "_model_module": "@jupyter-widgets/controls",
            "_model_module_version": "1.5.0",
            "_model_name": "ProgressStyleModel",
            "_view_count": null,
            "_view_module": "@jupyter-widgets/base",
            "_view_module_version": "1.2.0",
            "_view_name": "StyleView",
            "bar_color": null,
            "description_width": ""
          }
        },
        "a2a737a3c8a743e59ef401c485e83d5d": {
          "model_module": "@jupyter-widgets/base",
          "model_name": "LayoutModel",
          "model_module_version": "1.2.0",
          "state": {
            "_model_module": "@jupyter-widgets/base",
            "_model_module_version": "1.2.0",
            "_model_name": "LayoutModel",
            "_view_count": null,
            "_view_module": "@jupyter-widgets/base",
            "_view_module_version": "1.2.0",
            "_view_name": "LayoutView",
            "align_content": null,
            "align_items": null,
            "align_self": null,
            "border": null,
            "bottom": null,
            "display": null,
            "flex": null,
            "flex_flow": null,
            "grid_area": null,
            "grid_auto_columns": null,
            "grid_auto_flow": null,
            "grid_auto_rows": null,
            "grid_column": null,
            "grid_gap": null,
            "grid_row": null,
            "grid_template_areas": null,
            "grid_template_columns": null,
            "grid_template_rows": null,
            "height": null,
            "justify_content": null,
            "justify_items": null,
            "left": null,
            "margin": null,
            "max_height": null,
            "max_width": null,
            "min_height": null,
            "min_width": null,
            "object_fit": null,
            "object_position": null,
            "order": null,
            "overflow": null,
            "overflow_x": null,
            "overflow_y": null,
            "padding": null,
            "right": null,
            "top": null,
            "visibility": null,
            "width": null
          }
        },
        "c8b16e1bc702490189aaabdf006c4380": {
          "model_module": "@jupyter-widgets/controls",
          "model_name": "DescriptionStyleModel",
          "model_module_version": "1.5.0",
          "state": {
            "_model_module": "@jupyter-widgets/controls",
            "_model_module_version": "1.5.0",
            "_model_name": "DescriptionStyleModel",
            "_view_count": null,
            "_view_module": "@jupyter-widgets/base",
            "_view_module_version": "1.2.0",
            "_view_name": "StyleView",
            "description_width": ""
          }
        },
        "2c018e81d62242b0bb9675c26ba874a7": {
          "model_module": "@jupyter-widgets/controls",
          "model_name": "HBoxModel",
          "model_module_version": "1.5.0",
          "state": {
            "_dom_classes": [],
            "_model_module": "@jupyter-widgets/controls",
            "_model_module_version": "1.5.0",
            "_model_name": "HBoxModel",
            "_view_count": null,
            "_view_module": "@jupyter-widgets/controls",
            "_view_module_version": "1.5.0",
            "_view_name": "HBoxView",
            "box_style": "",
            "children": [
              "IPY_MODEL_48efae6282894fbb903d48858de36cd3",
              "IPY_MODEL_94df266bae31444b9291e1a4ac30c353",
              "IPY_MODEL_add8f575be544d35b20e73d0fcac4969"
            ],
            "layout": "IPY_MODEL_ebce6b5eac734b1a8bbff0dc4206f758"
          }
        },
        "48efae6282894fbb903d48858de36cd3": {
          "model_module": "@jupyter-widgets/controls",
          "model_name": "HTMLModel",
          "model_module_version": "1.5.0",
          "state": {
            "_dom_classes": [],
            "_model_module": "@jupyter-widgets/controls",
            "_model_module_version": "1.5.0",
            "_model_name": "HTMLModel",
            "_view_count": null,
            "_view_module": "@jupyter-widgets/controls",
            "_view_module_version": "1.5.0",
            "_view_name": "HTMLView",
            "description": "",
            "description_tooltip": null,
            "layout": "IPY_MODEL_ee47a7a4f0b9446597b2d540a1f2cf49",
            "placeholder": "​",
            "style": "IPY_MODEL_3e3567ff09e54b139923e035ea090bdf",
            "value": "Downloading https://raw.githubusercontent.com/stanfordnlp/stanza-resources/main/resources_1.10.0.json: "
          }
        },
        "94df266bae31444b9291e1a4ac30c353": {
          "model_module": "@jupyter-widgets/controls",
          "model_name": "FloatProgressModel",
          "model_module_version": "1.5.0",
          "state": {
            "_dom_classes": [],
            "_model_module": "@jupyter-widgets/controls",
            "_model_module_version": "1.5.0",
            "_model_name": "FloatProgressModel",
            "_view_count": null,
            "_view_module": "@jupyter-widgets/controls",
            "_view_module_version": "1.5.0",
            "_view_name": "ProgressView",
            "bar_style": "success",
            "description": "",
            "description_tooltip": null,
            "layout": "IPY_MODEL_af9fed6e4c824531b4b2ae495c7b59c4",
            "max": 52963,
            "min": 0,
            "orientation": "horizontal",
            "style": "IPY_MODEL_596cb4b6ff8547c7ac863ab9fbb0bc44",
            "value": 52963
          }
        },
        "add8f575be544d35b20e73d0fcac4969": {
          "model_module": "@jupyter-widgets/controls",
          "model_name": "HTMLModel",
          "model_module_version": "1.5.0",
          "state": {
            "_dom_classes": [],
            "_model_module": "@jupyter-widgets/controls",
            "_model_module_version": "1.5.0",
            "_model_name": "HTMLModel",
            "_view_count": null,
            "_view_module": "@jupyter-widgets/controls",
            "_view_module_version": "1.5.0",
            "_view_name": "HTMLView",
            "description": "",
            "description_tooltip": null,
            "layout": "IPY_MODEL_0080d018490740379d847e624617155e",
            "placeholder": "​",
            "style": "IPY_MODEL_8ff003e178e9431b820dcc3e01ae05f1",
            "value": " 428k/? [00:00&lt;00:00, 6.54MB/s]"
          }
        },
        "ebce6b5eac734b1a8bbff0dc4206f758": {
          "model_module": "@jupyter-widgets/base",
          "model_name": "LayoutModel",
          "model_module_version": "1.2.0",
          "state": {
            "_model_module": "@jupyter-widgets/base",
            "_model_module_version": "1.2.0",
            "_model_name": "LayoutModel",
            "_view_count": null,
            "_view_module": "@jupyter-widgets/base",
            "_view_module_version": "1.2.0",
            "_view_name": "LayoutView",
            "align_content": null,
            "align_items": null,
            "align_self": null,
            "border": null,
            "bottom": null,
            "display": null,
            "flex": null,
            "flex_flow": null,
            "grid_area": null,
            "grid_auto_columns": null,
            "grid_auto_flow": null,
            "grid_auto_rows": null,
            "grid_column": null,
            "grid_gap": null,
            "grid_row": null,
            "grid_template_areas": null,
            "grid_template_columns": null,
            "grid_template_rows": null,
            "height": null,
            "justify_content": null,
            "justify_items": null,
            "left": null,
            "margin": null,
            "max_height": null,
            "max_width": null,
            "min_height": null,
            "min_width": null,
            "object_fit": null,
            "object_position": null,
            "order": null,
            "overflow": null,
            "overflow_x": null,
            "overflow_y": null,
            "padding": null,
            "right": null,
            "top": null,
            "visibility": null,
            "width": null
          }
        },
        "ee47a7a4f0b9446597b2d540a1f2cf49": {
          "model_module": "@jupyter-widgets/base",
          "model_name": "LayoutModel",
          "model_module_version": "1.2.0",
          "state": {
            "_model_module": "@jupyter-widgets/base",
            "_model_module_version": "1.2.0",
            "_model_name": "LayoutModel",
            "_view_count": null,
            "_view_module": "@jupyter-widgets/base",
            "_view_module_version": "1.2.0",
            "_view_name": "LayoutView",
            "align_content": null,
            "align_items": null,
            "align_self": null,
            "border": null,
            "bottom": null,
            "display": null,
            "flex": null,
            "flex_flow": null,
            "grid_area": null,
            "grid_auto_columns": null,
            "grid_auto_flow": null,
            "grid_auto_rows": null,
            "grid_column": null,
            "grid_gap": null,
            "grid_row": null,
            "grid_template_areas": null,
            "grid_template_columns": null,
            "grid_template_rows": null,
            "height": null,
            "justify_content": null,
            "justify_items": null,
            "left": null,
            "margin": null,
            "max_height": null,
            "max_width": null,
            "min_height": null,
            "min_width": null,
            "object_fit": null,
            "object_position": null,
            "order": null,
            "overflow": null,
            "overflow_x": null,
            "overflow_y": null,
            "padding": null,
            "right": null,
            "top": null,
            "visibility": null,
            "width": null
          }
        },
        "3e3567ff09e54b139923e035ea090bdf": {
          "model_module": "@jupyter-widgets/controls",
          "model_name": "DescriptionStyleModel",
          "model_module_version": "1.5.0",
          "state": {
            "_model_module": "@jupyter-widgets/controls",
            "_model_module_version": "1.5.0",
            "_model_name": "DescriptionStyleModel",
            "_view_count": null,
            "_view_module": "@jupyter-widgets/base",
            "_view_module_version": "1.2.0",
            "_view_name": "StyleView",
            "description_width": ""
          }
        },
        "af9fed6e4c824531b4b2ae495c7b59c4": {
          "model_module": "@jupyter-widgets/base",
          "model_name": "LayoutModel",
          "model_module_version": "1.2.0",
          "state": {
            "_model_module": "@jupyter-widgets/base",
            "_model_module_version": "1.2.0",
            "_model_name": "LayoutModel",
            "_view_count": null,
            "_view_module": "@jupyter-widgets/base",
            "_view_module_version": "1.2.0",
            "_view_name": "LayoutView",
            "align_content": null,
            "align_items": null,
            "align_self": null,
            "border": null,
            "bottom": null,
            "display": null,
            "flex": null,
            "flex_flow": null,
            "grid_area": null,
            "grid_auto_columns": null,
            "grid_auto_flow": null,
            "grid_auto_rows": null,
            "grid_column": null,
            "grid_gap": null,
            "grid_row": null,
            "grid_template_areas": null,
            "grid_template_columns": null,
            "grid_template_rows": null,
            "height": null,
            "justify_content": null,
            "justify_items": null,
            "left": null,
            "margin": null,
            "max_height": null,
            "max_width": null,
            "min_height": null,
            "min_width": null,
            "object_fit": null,
            "object_position": null,
            "order": null,
            "overflow": null,
            "overflow_x": null,
            "overflow_y": null,
            "padding": null,
            "right": null,
            "top": null,
            "visibility": null,
            "width": null
          }
        },
        "596cb4b6ff8547c7ac863ab9fbb0bc44": {
          "model_module": "@jupyter-widgets/controls",
          "model_name": "ProgressStyleModel",
          "model_module_version": "1.5.0",
          "state": {
            "_model_module": "@jupyter-widgets/controls",
            "_model_module_version": "1.5.0",
            "_model_name": "ProgressStyleModel",
            "_view_count": null,
            "_view_module": "@jupyter-widgets/base",
            "_view_module_version": "1.2.0",
            "_view_name": "StyleView",
            "bar_color": null,
            "description_width": ""
          }
        },
        "0080d018490740379d847e624617155e": {
          "model_module": "@jupyter-widgets/base",
          "model_name": "LayoutModel",
          "model_module_version": "1.2.0",
          "state": {
            "_model_module": "@jupyter-widgets/base",
            "_model_module_version": "1.2.0",
            "_model_name": "LayoutModel",
            "_view_count": null,
            "_view_module": "@jupyter-widgets/base",
            "_view_module_version": "1.2.0",
            "_view_name": "LayoutView",
            "align_content": null,
            "align_items": null,
            "align_self": null,
            "border": null,
            "bottom": null,
            "display": null,
            "flex": null,
            "flex_flow": null,
            "grid_area": null,
            "grid_auto_columns": null,
            "grid_auto_flow": null,
            "grid_auto_rows": null,
            "grid_column": null,
            "grid_gap": null,
            "grid_row": null,
            "grid_template_areas": null,
            "grid_template_columns": null,
            "grid_template_rows": null,
            "height": null,
            "justify_content": null,
            "justify_items": null,
            "left": null,
            "margin": null,
            "max_height": null,
            "max_width": null,
            "min_height": null,
            "min_width": null,
            "object_fit": null,
            "object_position": null,
            "order": null,
            "overflow": null,
            "overflow_x": null,
            "overflow_y": null,
            "padding": null,
            "right": null,
            "top": null,
            "visibility": null,
            "width": null
          }
        },
        "8ff003e178e9431b820dcc3e01ae05f1": {
          "model_module": "@jupyter-widgets/controls",
          "model_name": "DescriptionStyleModel",
          "model_module_version": "1.5.0",
          "state": {
            "_model_module": "@jupyter-widgets/controls",
            "_model_module_version": "1.5.0",
            "_model_name": "DescriptionStyleModel",
            "_view_count": null,
            "_view_module": "@jupyter-widgets/base",
            "_view_module_version": "1.2.0",
            "_view_name": "StyleView",
            "description_width": ""
          }
        },
        "d015e790bca14ae88ac4f147a501b93c": {
          "model_module": "@jupyter-widgets/controls",
          "model_name": "HBoxModel",
          "model_module_version": "1.5.0",
          "state": {
            "_dom_classes": [],
            "_model_module": "@jupyter-widgets/controls",
            "_model_module_version": "1.5.0",
            "_model_name": "HBoxModel",
            "_view_count": null,
            "_view_module": "@jupyter-widgets/controls",
            "_view_module_version": "1.5.0",
            "_view_name": "HBoxView",
            "box_style": "",
            "children": [
              "IPY_MODEL_c98a56bd5291441281b08e7ebd44e692",
              "IPY_MODEL_5ef917fd7bc04016b8249d019df0a5e4",
              "IPY_MODEL_4af4445a7ba745f3a0f739eb7dd75067"
            ],
            "layout": "IPY_MODEL_5dff9325c1e74e8ca9cde47e011f87a3"
          }
        },
        "c98a56bd5291441281b08e7ebd44e692": {
          "model_module": "@jupyter-widgets/controls",
          "model_name": "HTMLModel",
          "model_module_version": "1.5.0",
          "state": {
            "_dom_classes": [],
            "_model_module": "@jupyter-widgets/controls",
            "_model_module_version": "1.5.0",
            "_model_name": "HTMLModel",
            "_view_count": null,
            "_view_module": "@jupyter-widgets/controls",
            "_view_module_version": "1.5.0",
            "_view_name": "HTMLView",
            "description": "",
            "description_tooltip": null,
            "layout": "IPY_MODEL_5753eb783c39467880254d99487e2b9b",
            "placeholder": "​",
            "style": "IPY_MODEL_d8f6e344b67645c2946bd80493387452",
            "value": "tokenizer_config.json: 100%"
          }
        },
        "5ef917fd7bc04016b8249d019df0a5e4": {
          "model_module": "@jupyter-widgets/controls",
          "model_name": "FloatProgressModel",
          "model_module_version": "1.5.0",
          "state": {
            "_dom_classes": [],
            "_model_module": "@jupyter-widgets/controls",
            "_model_module_version": "1.5.0",
            "_model_name": "FloatProgressModel",
            "_view_count": null,
            "_view_module": "@jupyter-widgets/controls",
            "_view_module_version": "1.5.0",
            "_view_name": "ProgressView",
            "bar_style": "success",
            "description": "",
            "description_tooltip": null,
            "layout": "IPY_MODEL_b1df80e43d614364b5295bf3bb56bba1",
            "max": 62,
            "min": 0,
            "orientation": "horizontal",
            "style": "IPY_MODEL_c822334cd1624bbfb0db37a435754c8a",
            "value": 62
          }
        },
        "4af4445a7ba745f3a0f739eb7dd75067": {
          "model_module": "@jupyter-widgets/controls",
          "model_name": "HTMLModel",
          "model_module_version": "1.5.0",
          "state": {
            "_dom_classes": [],
            "_model_module": "@jupyter-widgets/controls",
            "_model_module_version": "1.5.0",
            "_model_name": "HTMLModel",
            "_view_count": null,
            "_view_module": "@jupyter-widgets/controls",
            "_view_module_version": "1.5.0",
            "_view_name": "HTMLView",
            "description": "",
            "description_tooltip": null,
            "layout": "IPY_MODEL_d9a6630804f845cb93ed9a84f48b3638",
            "placeholder": "​",
            "style": "IPY_MODEL_52f9a841698a4d07b1fb6b936d949e37",
            "value": " 62.0/62.0 [00:00&lt;00:00, 4.32kB/s]"
          }
        },
        "5dff9325c1e74e8ca9cde47e011f87a3": {
          "model_module": "@jupyter-widgets/base",
          "model_name": "LayoutModel",
          "model_module_version": "1.2.0",
          "state": {
            "_model_module": "@jupyter-widgets/base",
            "_model_module_version": "1.2.0",
            "_model_name": "LayoutModel",
            "_view_count": null,
            "_view_module": "@jupyter-widgets/base",
            "_view_module_version": "1.2.0",
            "_view_name": "LayoutView",
            "align_content": null,
            "align_items": null,
            "align_self": null,
            "border": null,
            "bottom": null,
            "display": null,
            "flex": null,
            "flex_flow": null,
            "grid_area": null,
            "grid_auto_columns": null,
            "grid_auto_flow": null,
            "grid_auto_rows": null,
            "grid_column": null,
            "grid_gap": null,
            "grid_row": null,
            "grid_template_areas": null,
            "grid_template_columns": null,
            "grid_template_rows": null,
            "height": null,
            "justify_content": null,
            "justify_items": null,
            "left": null,
            "margin": null,
            "max_height": null,
            "max_width": null,
            "min_height": null,
            "min_width": null,
            "object_fit": null,
            "object_position": null,
            "order": null,
            "overflow": null,
            "overflow_x": null,
            "overflow_y": null,
            "padding": null,
            "right": null,
            "top": null,
            "visibility": null,
            "width": null
          }
        },
        "5753eb783c39467880254d99487e2b9b": {
          "model_module": "@jupyter-widgets/base",
          "model_name": "LayoutModel",
          "model_module_version": "1.2.0",
          "state": {
            "_model_module": "@jupyter-widgets/base",
            "_model_module_version": "1.2.0",
            "_model_name": "LayoutModel",
            "_view_count": null,
            "_view_module": "@jupyter-widgets/base",
            "_view_module_version": "1.2.0",
            "_view_name": "LayoutView",
            "align_content": null,
            "align_items": null,
            "align_self": null,
            "border": null,
            "bottom": null,
            "display": null,
            "flex": null,
            "flex_flow": null,
            "grid_area": null,
            "grid_auto_columns": null,
            "grid_auto_flow": null,
            "grid_auto_rows": null,
            "grid_column": null,
            "grid_gap": null,
            "grid_row": null,
            "grid_template_areas": null,
            "grid_template_columns": null,
            "grid_template_rows": null,
            "height": null,
            "justify_content": null,
            "justify_items": null,
            "left": null,
            "margin": null,
            "max_height": null,
            "max_width": null,
            "min_height": null,
            "min_width": null,
            "object_fit": null,
            "object_position": null,
            "order": null,
            "overflow": null,
            "overflow_x": null,
            "overflow_y": null,
            "padding": null,
            "right": null,
            "top": null,
            "visibility": null,
            "width": null
          }
        },
        "d8f6e344b67645c2946bd80493387452": {
          "model_module": "@jupyter-widgets/controls",
          "model_name": "DescriptionStyleModel",
          "model_module_version": "1.5.0",
          "state": {
            "_model_module": "@jupyter-widgets/controls",
            "_model_module_version": "1.5.0",
            "_model_name": "DescriptionStyleModel",
            "_view_count": null,
            "_view_module": "@jupyter-widgets/base",
            "_view_module_version": "1.2.0",
            "_view_name": "StyleView",
            "description_width": ""
          }
        },
        "b1df80e43d614364b5295bf3bb56bba1": {
          "model_module": "@jupyter-widgets/base",
          "model_name": "LayoutModel",
          "model_module_version": "1.2.0",
          "state": {
            "_model_module": "@jupyter-widgets/base",
            "_model_module_version": "1.2.0",
            "_model_name": "LayoutModel",
            "_view_count": null,
            "_view_module": "@jupyter-widgets/base",
            "_view_module_version": "1.2.0",
            "_view_name": "LayoutView",
            "align_content": null,
            "align_items": null,
            "align_self": null,
            "border": null,
            "bottom": null,
            "display": null,
            "flex": null,
            "flex_flow": null,
            "grid_area": null,
            "grid_auto_columns": null,
            "grid_auto_flow": null,
            "grid_auto_rows": null,
            "grid_column": null,
            "grid_gap": null,
            "grid_row": null,
            "grid_template_areas": null,
            "grid_template_columns": null,
            "grid_template_rows": null,
            "height": null,
            "justify_content": null,
            "justify_items": null,
            "left": null,
            "margin": null,
            "max_height": null,
            "max_width": null,
            "min_height": null,
            "min_width": null,
            "object_fit": null,
            "object_position": null,
            "order": null,
            "overflow": null,
            "overflow_x": null,
            "overflow_y": null,
            "padding": null,
            "right": null,
            "top": null,
            "visibility": null,
            "width": null
          }
        },
        "c822334cd1624bbfb0db37a435754c8a": {
          "model_module": "@jupyter-widgets/controls",
          "model_name": "ProgressStyleModel",
          "model_module_version": "1.5.0",
          "state": {
            "_model_module": "@jupyter-widgets/controls",
            "_model_module_version": "1.5.0",
            "_model_name": "ProgressStyleModel",
            "_view_count": null,
            "_view_module": "@jupyter-widgets/base",
            "_view_module_version": "1.2.0",
            "_view_name": "StyleView",
            "bar_color": null,
            "description_width": ""
          }
        },
        "d9a6630804f845cb93ed9a84f48b3638": {
          "model_module": "@jupyter-widgets/base",
          "model_name": "LayoutModel",
          "model_module_version": "1.2.0",
          "state": {
            "_model_module": "@jupyter-widgets/base",
            "_model_module_version": "1.2.0",
            "_model_name": "LayoutModel",
            "_view_count": null,
            "_view_module": "@jupyter-widgets/base",
            "_view_module_version": "1.2.0",
            "_view_name": "LayoutView",
            "align_content": null,
            "align_items": null,
            "align_self": null,
            "border": null,
            "bottom": null,
            "display": null,
            "flex": null,
            "flex_flow": null,
            "grid_area": null,
            "grid_auto_columns": null,
            "grid_auto_flow": null,
            "grid_auto_rows": null,
            "grid_column": null,
            "grid_gap": null,
            "grid_row": null,
            "grid_template_areas": null,
            "grid_template_columns": null,
            "grid_template_rows": null,
            "height": null,
            "justify_content": null,
            "justify_items": null,
            "left": null,
            "margin": null,
            "max_height": null,
            "max_width": null,
            "min_height": null,
            "min_width": null,
            "object_fit": null,
            "object_position": null,
            "order": null,
            "overflow": null,
            "overflow_x": null,
            "overflow_y": null,
            "padding": null,
            "right": null,
            "top": null,
            "visibility": null,
            "width": null
          }
        },
        "52f9a841698a4d07b1fb6b936d949e37": {
          "model_module": "@jupyter-widgets/controls",
          "model_name": "DescriptionStyleModel",
          "model_module_version": "1.5.0",
          "state": {
            "_model_module": "@jupyter-widgets/controls",
            "_model_module_version": "1.5.0",
            "_model_name": "DescriptionStyleModel",
            "_view_count": null,
            "_view_module": "@jupyter-widgets/base",
            "_view_module_version": "1.2.0",
            "_view_name": "StyleView",
            "description_width": ""
          }
        },
        "29dfe6f8884d41428d33101f8a57e4c5": {
          "model_module": "@jupyter-widgets/controls",
          "model_name": "HBoxModel",
          "model_module_version": "1.5.0",
          "state": {
            "_dom_classes": [],
            "_model_module": "@jupyter-widgets/controls",
            "_model_module_version": "1.5.0",
            "_model_name": "HBoxModel",
            "_view_count": null,
            "_view_module": "@jupyter-widgets/controls",
            "_view_module_version": "1.5.0",
            "_view_name": "HBoxView",
            "box_style": "",
            "children": [
              "IPY_MODEL_989a307c9a5446bfb6812f43bcccaf6a",
              "IPY_MODEL_95635b2a8b1f4a0185e1c26a05acbc47",
              "IPY_MODEL_5e173237c47e4c5a819d895dc2699e01"
            ],
            "layout": "IPY_MODEL_5a7566c1d73e46319470aaa477859455"
          }
        },
        "989a307c9a5446bfb6812f43bcccaf6a": {
          "model_module": "@jupyter-widgets/controls",
          "model_name": "HTMLModel",
          "model_module_version": "1.5.0",
          "state": {
            "_dom_classes": [],
            "_model_module": "@jupyter-widgets/controls",
            "_model_module_version": "1.5.0",
            "_model_name": "HTMLModel",
            "_view_count": null,
            "_view_module": "@jupyter-widgets/controls",
            "_view_module_version": "1.5.0",
            "_view_name": "HTMLView",
            "description": "",
            "description_tooltip": null,
            "layout": "IPY_MODEL_3905545bef374c27bd7bdfb999020384",
            "placeholder": "​",
            "style": "IPY_MODEL_37540abf28c54375a98a27c9f69ba7b6",
            "value": "config.json: 100%"
          }
        },
        "95635b2a8b1f4a0185e1c26a05acbc47": {
          "model_module": "@jupyter-widgets/controls",
          "model_name": "FloatProgressModel",
          "model_module_version": "1.5.0",
          "state": {
            "_dom_classes": [],
            "_model_module": "@jupyter-widgets/controls",
            "_model_module_version": "1.5.0",
            "_model_name": "FloatProgressModel",
            "_view_count": null,
            "_view_module": "@jupyter-widgets/controls",
            "_view_module_version": "1.5.0",
            "_view_name": "ProgressView",
            "bar_style": "success",
            "description": "",
            "description_tooltip": null,
            "layout": "IPY_MODEL_18da9014974e4b01b32dcc6e98df1b51",
            "max": 534,
            "min": 0,
            "orientation": "horizontal",
            "style": "IPY_MODEL_abb9289541b54fe393d8b7d85de7890f",
            "value": 534
          }
        },
        "5e173237c47e4c5a819d895dc2699e01": {
          "model_module": "@jupyter-widgets/controls",
          "model_name": "HTMLModel",
          "model_module_version": "1.5.0",
          "state": {
            "_dom_classes": [],
            "_model_module": "@jupyter-widgets/controls",
            "_model_module_version": "1.5.0",
            "_model_name": "HTMLModel",
            "_view_count": null,
            "_view_module": "@jupyter-widgets/controls",
            "_view_module_version": "1.5.0",
            "_view_name": "HTMLView",
            "description": "",
            "description_tooltip": null,
            "layout": "IPY_MODEL_a2ae2385e52440cd968f1ccffd39aaf6",
            "placeholder": "​",
            "style": "IPY_MODEL_d78094d01c0f479790593dccc8886b89",
            "value": " 534/534 [00:00&lt;00:00, 45.7kB/s]"
          }
        },
        "5a7566c1d73e46319470aaa477859455": {
          "model_module": "@jupyter-widgets/base",
          "model_name": "LayoutModel",
          "model_module_version": "1.2.0",
          "state": {
            "_model_module": "@jupyter-widgets/base",
            "_model_module_version": "1.2.0",
            "_model_name": "LayoutModel",
            "_view_count": null,
            "_view_module": "@jupyter-widgets/base",
            "_view_module_version": "1.2.0",
            "_view_name": "LayoutView",
            "align_content": null,
            "align_items": null,
            "align_self": null,
            "border": null,
            "bottom": null,
            "display": null,
            "flex": null,
            "flex_flow": null,
            "grid_area": null,
            "grid_auto_columns": null,
            "grid_auto_flow": null,
            "grid_auto_rows": null,
            "grid_column": null,
            "grid_gap": null,
            "grid_row": null,
            "grid_template_areas": null,
            "grid_template_columns": null,
            "grid_template_rows": null,
            "height": null,
            "justify_content": null,
            "justify_items": null,
            "left": null,
            "margin": null,
            "max_height": null,
            "max_width": null,
            "min_height": null,
            "min_width": null,
            "object_fit": null,
            "object_position": null,
            "order": null,
            "overflow": null,
            "overflow_x": null,
            "overflow_y": null,
            "padding": null,
            "right": null,
            "top": null,
            "visibility": null,
            "width": null
          }
        },
        "3905545bef374c27bd7bdfb999020384": {
          "model_module": "@jupyter-widgets/base",
          "model_name": "LayoutModel",
          "model_module_version": "1.2.0",
          "state": {
            "_model_module": "@jupyter-widgets/base",
            "_model_module_version": "1.2.0",
            "_model_name": "LayoutModel",
            "_view_count": null,
            "_view_module": "@jupyter-widgets/base",
            "_view_module_version": "1.2.0",
            "_view_name": "LayoutView",
            "align_content": null,
            "align_items": null,
            "align_self": null,
            "border": null,
            "bottom": null,
            "display": null,
            "flex": null,
            "flex_flow": null,
            "grid_area": null,
            "grid_auto_columns": null,
            "grid_auto_flow": null,
            "grid_auto_rows": null,
            "grid_column": null,
            "grid_gap": null,
            "grid_row": null,
            "grid_template_areas": null,
            "grid_template_columns": null,
            "grid_template_rows": null,
            "height": null,
            "justify_content": null,
            "justify_items": null,
            "left": null,
            "margin": null,
            "max_height": null,
            "max_width": null,
            "min_height": null,
            "min_width": null,
            "object_fit": null,
            "object_position": null,
            "order": null,
            "overflow": null,
            "overflow_x": null,
            "overflow_y": null,
            "padding": null,
            "right": null,
            "top": null,
            "visibility": null,
            "width": null
          }
        },
        "37540abf28c54375a98a27c9f69ba7b6": {
          "model_module": "@jupyter-widgets/controls",
          "model_name": "DescriptionStyleModel",
          "model_module_version": "1.5.0",
          "state": {
            "_model_module": "@jupyter-widgets/controls",
            "_model_module_version": "1.5.0",
            "_model_name": "DescriptionStyleModel",
            "_view_count": null,
            "_view_module": "@jupyter-widgets/base",
            "_view_module_version": "1.2.0",
            "_view_name": "StyleView",
            "description_width": ""
          }
        },
        "18da9014974e4b01b32dcc6e98df1b51": {
          "model_module": "@jupyter-widgets/base",
          "model_name": "LayoutModel",
          "model_module_version": "1.2.0",
          "state": {
            "_model_module": "@jupyter-widgets/base",
            "_model_module_version": "1.2.0",
            "_model_name": "LayoutModel",
            "_view_count": null,
            "_view_module": "@jupyter-widgets/base",
            "_view_module_version": "1.2.0",
            "_view_name": "LayoutView",
            "align_content": null,
            "align_items": null,
            "align_self": null,
            "border": null,
            "bottom": null,
            "display": null,
            "flex": null,
            "flex_flow": null,
            "grid_area": null,
            "grid_auto_columns": null,
            "grid_auto_flow": null,
            "grid_auto_rows": null,
            "grid_column": null,
            "grid_gap": null,
            "grid_row": null,
            "grid_template_areas": null,
            "grid_template_columns": null,
            "grid_template_rows": null,
            "height": null,
            "justify_content": null,
            "justify_items": null,
            "left": null,
            "margin": null,
            "max_height": null,
            "max_width": null,
            "min_height": null,
            "min_width": null,
            "object_fit": null,
            "object_position": null,
            "order": null,
            "overflow": null,
            "overflow_x": null,
            "overflow_y": null,
            "padding": null,
            "right": null,
            "top": null,
            "visibility": null,
            "width": null
          }
        },
        "abb9289541b54fe393d8b7d85de7890f": {
          "model_module": "@jupyter-widgets/controls",
          "model_name": "ProgressStyleModel",
          "model_module_version": "1.5.0",
          "state": {
            "_model_module": "@jupyter-widgets/controls",
            "_model_module_version": "1.5.0",
            "_model_name": "ProgressStyleModel",
            "_view_count": null,
            "_view_module": "@jupyter-widgets/base",
            "_view_module_version": "1.2.0",
            "_view_name": "StyleView",
            "bar_color": null,
            "description_width": ""
          }
        },
        "a2ae2385e52440cd968f1ccffd39aaf6": {
          "model_module": "@jupyter-widgets/base",
          "model_name": "LayoutModel",
          "model_module_version": "1.2.0",
          "state": {
            "_model_module": "@jupyter-widgets/base",
            "_model_module_version": "1.2.0",
            "_model_name": "LayoutModel",
            "_view_count": null,
            "_view_module": "@jupyter-widgets/base",
            "_view_module_version": "1.2.0",
            "_view_name": "LayoutView",
            "align_content": null,
            "align_items": null,
            "align_self": null,
            "border": null,
            "bottom": null,
            "display": null,
            "flex": null,
            "flex_flow": null,
            "grid_area": null,
            "grid_auto_columns": null,
            "grid_auto_flow": null,
            "grid_auto_rows": null,
            "grid_column": null,
            "grid_gap": null,
            "grid_row": null,
            "grid_template_areas": null,
            "grid_template_columns": null,
            "grid_template_rows": null,
            "height": null,
            "justify_content": null,
            "justify_items": null,
            "left": null,
            "margin": null,
            "max_height": null,
            "max_width": null,
            "min_height": null,
            "min_width": null,
            "object_fit": null,
            "object_position": null,
            "order": null,
            "overflow": null,
            "overflow_x": null,
            "overflow_y": null,
            "padding": null,
            "right": null,
            "top": null,
            "visibility": null,
            "width": null
          }
        },
        "d78094d01c0f479790593dccc8886b89": {
          "model_module": "@jupyter-widgets/controls",
          "model_name": "DescriptionStyleModel",
          "model_module_version": "1.5.0",
          "state": {
            "_model_module": "@jupyter-widgets/controls",
            "_model_module_version": "1.5.0",
            "_model_name": "DescriptionStyleModel",
            "_view_count": null,
            "_view_module": "@jupyter-widgets/base",
            "_view_module_version": "1.2.0",
            "_view_name": "StyleView",
            "description_width": ""
          }
        },
        "2af361da2c8f40988afc747ac07587b7": {
          "model_module": "@jupyter-widgets/controls",
          "model_name": "HBoxModel",
          "model_module_version": "1.5.0",
          "state": {
            "_dom_classes": [],
            "_model_module": "@jupyter-widgets/controls",
            "_model_module_version": "1.5.0",
            "_model_name": "HBoxModel",
            "_view_count": null,
            "_view_module": "@jupyter-widgets/controls",
            "_view_module_version": "1.5.0",
            "_view_name": "HBoxView",
            "box_style": "",
            "children": [
              "IPY_MODEL_8811a7f7aeec4a33bded2aa9419124f4",
              "IPY_MODEL_91170f324ea540f0a810651a1e7e125c",
              "IPY_MODEL_592cbbad0ed9430fb0afb54254c354cd"
            ],
            "layout": "IPY_MODEL_4278d216f5eb4f9180d5e66d43b21c78"
          }
        },
        "8811a7f7aeec4a33bded2aa9419124f4": {
          "model_module": "@jupyter-widgets/controls",
          "model_name": "HTMLModel",
          "model_module_version": "1.5.0",
          "state": {
            "_dom_classes": [],
            "_model_module": "@jupyter-widgets/controls",
            "_model_module_version": "1.5.0",
            "_model_name": "HTMLModel",
            "_view_count": null,
            "_view_module": "@jupyter-widgets/controls",
            "_view_module_version": "1.5.0",
            "_view_name": "HTMLView",
            "description": "",
            "description_tooltip": null,
            "layout": "IPY_MODEL_09b29b43be56486aac371fd6a402e0d7",
            "placeholder": "​",
            "style": "IPY_MODEL_e8445c7a88e94c1ab0d4b759703ddc72",
            "value": "vocab.txt: 100%"
          }
        },
        "91170f324ea540f0a810651a1e7e125c": {
          "model_module": "@jupyter-widgets/controls",
          "model_name": "FloatProgressModel",
          "model_module_version": "1.5.0",
          "state": {
            "_dom_classes": [],
            "_model_module": "@jupyter-widgets/controls",
            "_model_module_version": "1.5.0",
            "_model_name": "FloatProgressModel",
            "_view_count": null,
            "_view_module": "@jupyter-widgets/controls",
            "_view_module_version": "1.5.0",
            "_view_name": "ProgressView",
            "bar_style": "success",
            "description": "",
            "description_tooltip": null,
            "layout": "IPY_MODEL_e9043704c70545c7b1f6e81e390ab330",
            "max": 409878,
            "min": 0,
            "orientation": "horizontal",
            "style": "IPY_MODEL_4395938d486b433eb2ff6825aba521e7",
            "value": 409878
          }
        },
        "592cbbad0ed9430fb0afb54254c354cd": {
          "model_module": "@jupyter-widgets/controls",
          "model_name": "HTMLModel",
          "model_module_version": "1.5.0",
          "state": {
            "_dom_classes": [],
            "_model_module": "@jupyter-widgets/controls",
            "_model_module_version": "1.5.0",
            "_model_name": "HTMLModel",
            "_view_count": null,
            "_view_module": "@jupyter-widgets/controls",
            "_view_module_version": "1.5.0",
            "_view_name": "HTMLView",
            "description": "",
            "description_tooltip": null,
            "layout": "IPY_MODEL_d94eb3624289473c9b82b7afd2f83b3d",
            "placeholder": "​",
            "style": "IPY_MODEL_6c62518d272f4bbcb61df7e4c41f9167",
            "value": " 410k/410k [00:00&lt;00:00, 7.21MB/s]"
          }
        },
        "4278d216f5eb4f9180d5e66d43b21c78": {
          "model_module": "@jupyter-widgets/base",
          "model_name": "LayoutModel",
          "model_module_version": "1.2.0",
          "state": {
            "_model_module": "@jupyter-widgets/base",
            "_model_module_version": "1.2.0",
            "_model_name": "LayoutModel",
            "_view_count": null,
            "_view_module": "@jupyter-widgets/base",
            "_view_module_version": "1.2.0",
            "_view_name": "LayoutView",
            "align_content": null,
            "align_items": null,
            "align_self": null,
            "border": null,
            "bottom": null,
            "display": null,
            "flex": null,
            "flex_flow": null,
            "grid_area": null,
            "grid_auto_columns": null,
            "grid_auto_flow": null,
            "grid_auto_rows": null,
            "grid_column": null,
            "grid_gap": null,
            "grid_row": null,
            "grid_template_areas": null,
            "grid_template_columns": null,
            "grid_template_rows": null,
            "height": null,
            "justify_content": null,
            "justify_items": null,
            "left": null,
            "margin": null,
            "max_height": null,
            "max_width": null,
            "min_height": null,
            "min_width": null,
            "object_fit": null,
            "object_position": null,
            "order": null,
            "overflow": null,
            "overflow_x": null,
            "overflow_y": null,
            "padding": null,
            "right": null,
            "top": null,
            "visibility": null,
            "width": null
          }
        },
        "09b29b43be56486aac371fd6a402e0d7": {
          "model_module": "@jupyter-widgets/base",
          "model_name": "LayoutModel",
          "model_module_version": "1.2.0",
          "state": {
            "_model_module": "@jupyter-widgets/base",
            "_model_module_version": "1.2.0",
            "_model_name": "LayoutModel",
            "_view_count": null,
            "_view_module": "@jupyter-widgets/base",
            "_view_module_version": "1.2.0",
            "_view_name": "LayoutView",
            "align_content": null,
            "align_items": null,
            "align_self": null,
            "border": null,
            "bottom": null,
            "display": null,
            "flex": null,
            "flex_flow": null,
            "grid_area": null,
            "grid_auto_columns": null,
            "grid_auto_flow": null,
            "grid_auto_rows": null,
            "grid_column": null,
            "grid_gap": null,
            "grid_row": null,
            "grid_template_areas": null,
            "grid_template_columns": null,
            "grid_template_rows": null,
            "height": null,
            "justify_content": null,
            "justify_items": null,
            "left": null,
            "margin": null,
            "max_height": null,
            "max_width": null,
            "min_height": null,
            "min_width": null,
            "object_fit": null,
            "object_position": null,
            "order": null,
            "overflow": null,
            "overflow_x": null,
            "overflow_y": null,
            "padding": null,
            "right": null,
            "top": null,
            "visibility": null,
            "width": null
          }
        },
        "e8445c7a88e94c1ab0d4b759703ddc72": {
          "model_module": "@jupyter-widgets/controls",
          "model_name": "DescriptionStyleModel",
          "model_module_version": "1.5.0",
          "state": {
            "_model_module": "@jupyter-widgets/controls",
            "_model_module_version": "1.5.0",
            "_model_name": "DescriptionStyleModel",
            "_view_count": null,
            "_view_module": "@jupyter-widgets/base",
            "_view_module_version": "1.2.0",
            "_view_name": "StyleView",
            "description_width": ""
          }
        },
        "e9043704c70545c7b1f6e81e390ab330": {
          "model_module": "@jupyter-widgets/base",
          "model_name": "LayoutModel",
          "model_module_version": "1.2.0",
          "state": {
            "_model_module": "@jupyter-widgets/base",
            "_model_module_version": "1.2.0",
            "_model_name": "LayoutModel",
            "_view_count": null,
            "_view_module": "@jupyter-widgets/base",
            "_view_module_version": "1.2.0",
            "_view_name": "LayoutView",
            "align_content": null,
            "align_items": null,
            "align_self": null,
            "border": null,
            "bottom": null,
            "display": null,
            "flex": null,
            "flex_flow": null,
            "grid_area": null,
            "grid_auto_columns": null,
            "grid_auto_flow": null,
            "grid_auto_rows": null,
            "grid_column": null,
            "grid_gap": null,
            "grid_row": null,
            "grid_template_areas": null,
            "grid_template_columns": null,
            "grid_template_rows": null,
            "height": null,
            "justify_content": null,
            "justify_items": null,
            "left": null,
            "margin": null,
            "max_height": null,
            "max_width": null,
            "min_height": null,
            "min_width": null,
            "object_fit": null,
            "object_position": null,
            "order": null,
            "overflow": null,
            "overflow_x": null,
            "overflow_y": null,
            "padding": null,
            "right": null,
            "top": null,
            "visibility": null,
            "width": null
          }
        },
        "4395938d486b433eb2ff6825aba521e7": {
          "model_module": "@jupyter-widgets/controls",
          "model_name": "ProgressStyleModel",
          "model_module_version": "1.5.0",
          "state": {
            "_model_module": "@jupyter-widgets/controls",
            "_model_module_version": "1.5.0",
            "_model_name": "ProgressStyleModel",
            "_view_count": null,
            "_view_module": "@jupyter-widgets/base",
            "_view_module_version": "1.2.0",
            "_view_name": "StyleView",
            "bar_color": null,
            "description_width": ""
          }
        },
        "d94eb3624289473c9b82b7afd2f83b3d": {
          "model_module": "@jupyter-widgets/base",
          "model_name": "LayoutModel",
          "model_module_version": "1.2.0",
          "state": {
            "_model_module": "@jupyter-widgets/base",
            "_model_module_version": "1.2.0",
            "_model_name": "LayoutModel",
            "_view_count": null,
            "_view_module": "@jupyter-widgets/base",
            "_view_module_version": "1.2.0",
            "_view_name": "LayoutView",
            "align_content": null,
            "align_items": null,
            "align_self": null,
            "border": null,
            "bottom": null,
            "display": null,
            "flex": null,
            "flex_flow": null,
            "grid_area": null,
            "grid_auto_columns": null,
            "grid_auto_flow": null,
            "grid_auto_rows": null,
            "grid_column": null,
            "grid_gap": null,
            "grid_row": null,
            "grid_template_areas": null,
            "grid_template_columns": null,
            "grid_template_rows": null,
            "height": null,
            "justify_content": null,
            "justify_items": null,
            "left": null,
            "margin": null,
            "max_height": null,
            "max_width": null,
            "min_height": null,
            "min_width": null,
            "object_fit": null,
            "object_position": null,
            "order": null,
            "overflow": null,
            "overflow_x": null,
            "overflow_y": null,
            "padding": null,
            "right": null,
            "top": null,
            "visibility": null,
            "width": null
          }
        },
        "6c62518d272f4bbcb61df7e4c41f9167": {
          "model_module": "@jupyter-widgets/controls",
          "model_name": "DescriptionStyleModel",
          "model_module_version": "1.5.0",
          "state": {
            "_model_module": "@jupyter-widgets/controls",
            "_model_module_version": "1.5.0",
            "_model_name": "DescriptionStyleModel",
            "_view_count": null,
            "_view_module": "@jupyter-widgets/base",
            "_view_module_version": "1.2.0",
            "_view_name": "StyleView",
            "description_width": ""
          }
        },
        "034c8d4ac26b4a73bde8d9f735b03001": {
          "model_module": "@jupyter-widgets/controls",
          "model_name": "HBoxModel",
          "model_module_version": "1.5.0",
          "state": {
            "_dom_classes": [],
            "_model_module": "@jupyter-widgets/controls",
            "_model_module_version": "1.5.0",
            "_model_name": "HBoxModel",
            "_view_count": null,
            "_view_module": "@jupyter-widgets/controls",
            "_view_module_version": "1.5.0",
            "_view_name": "HBoxView",
            "box_style": "",
            "children": [
              "IPY_MODEL_5e9ca7a4543347318876a72f6e2a759a",
              "IPY_MODEL_bd940154b32b4640a978e42a1e2b8882",
              "IPY_MODEL_58c26c8755584ff9bfbcabadf1b754db"
            ],
            "layout": "IPY_MODEL_c4c51d14a47d4d98890f3fc1cb8011c9"
          }
        },
        "5e9ca7a4543347318876a72f6e2a759a": {
          "model_module": "@jupyter-widgets/controls",
          "model_name": "HTMLModel",
          "model_module_version": "1.5.0",
          "state": {
            "_dom_classes": [],
            "_model_module": "@jupyter-widgets/controls",
            "_model_module_version": "1.5.0",
            "_model_name": "HTMLModel",
            "_view_count": null,
            "_view_module": "@jupyter-widgets/controls",
            "_view_module_version": "1.5.0",
            "_view_name": "HTMLView",
            "description": "",
            "description_tooltip": null,
            "layout": "IPY_MODEL_2c9b02abd1c34f3b8c25f79691ae3f6b",
            "placeholder": "​",
            "style": "IPY_MODEL_d9b0f50b4e124c40bb5b7c345e7f846b",
            "value": "special_tokens_map.json: 100%"
          }
        },
        "bd940154b32b4640a978e42a1e2b8882": {
          "model_module": "@jupyter-widgets/controls",
          "model_name": "FloatProgressModel",
          "model_module_version": "1.5.0",
          "state": {
            "_dom_classes": [],
            "_model_module": "@jupyter-widgets/controls",
            "_model_module_version": "1.5.0",
            "_model_name": "FloatProgressModel",
            "_view_count": null,
            "_view_module": "@jupyter-widgets/controls",
            "_view_module_version": "1.5.0",
            "_view_name": "ProgressView",
            "bar_style": "success",
            "description": "",
            "description_tooltip": null,
            "layout": "IPY_MODEL_c093b85e6a9b467c99d7d317269a6cb7",
            "max": 112,
            "min": 0,
            "orientation": "horizontal",
            "style": "IPY_MODEL_79495dab430a43088afc6b203a33d181",
            "value": 112
          }
        },
        "58c26c8755584ff9bfbcabadf1b754db": {
          "model_module": "@jupyter-widgets/controls",
          "model_name": "HTMLModel",
          "model_module_version": "1.5.0",
          "state": {
            "_dom_classes": [],
            "_model_module": "@jupyter-widgets/controls",
            "_model_module_version": "1.5.0",
            "_model_name": "HTMLModel",
            "_view_count": null,
            "_view_module": "@jupyter-widgets/controls",
            "_view_module_version": "1.5.0",
            "_view_name": "HTMLView",
            "description": "",
            "description_tooltip": null,
            "layout": "IPY_MODEL_8302aaa7fe324d90b3bf5015515aeba9",
            "placeholder": "​",
            "style": "IPY_MODEL_38233f44e8ad45478641ee6b11a3d87f",
            "value": " 112/112 [00:00&lt;00:00, 8.85kB/s]"
          }
        },
        "c4c51d14a47d4d98890f3fc1cb8011c9": {
          "model_module": "@jupyter-widgets/base",
          "model_name": "LayoutModel",
          "model_module_version": "1.2.0",
          "state": {
            "_model_module": "@jupyter-widgets/base",
            "_model_module_version": "1.2.0",
            "_model_name": "LayoutModel",
            "_view_count": null,
            "_view_module": "@jupyter-widgets/base",
            "_view_module_version": "1.2.0",
            "_view_name": "LayoutView",
            "align_content": null,
            "align_items": null,
            "align_self": null,
            "border": null,
            "bottom": null,
            "display": null,
            "flex": null,
            "flex_flow": null,
            "grid_area": null,
            "grid_auto_columns": null,
            "grid_auto_flow": null,
            "grid_auto_rows": null,
            "grid_column": null,
            "grid_gap": null,
            "grid_row": null,
            "grid_template_areas": null,
            "grid_template_columns": null,
            "grid_template_rows": null,
            "height": null,
            "justify_content": null,
            "justify_items": null,
            "left": null,
            "margin": null,
            "max_height": null,
            "max_width": null,
            "min_height": null,
            "min_width": null,
            "object_fit": null,
            "object_position": null,
            "order": null,
            "overflow": null,
            "overflow_x": null,
            "overflow_y": null,
            "padding": null,
            "right": null,
            "top": null,
            "visibility": null,
            "width": null
          }
        },
        "2c9b02abd1c34f3b8c25f79691ae3f6b": {
          "model_module": "@jupyter-widgets/base",
          "model_name": "LayoutModel",
          "model_module_version": "1.2.0",
          "state": {
            "_model_module": "@jupyter-widgets/base",
            "_model_module_version": "1.2.0",
            "_model_name": "LayoutModel",
            "_view_count": null,
            "_view_module": "@jupyter-widgets/base",
            "_view_module_version": "1.2.0",
            "_view_name": "LayoutView",
            "align_content": null,
            "align_items": null,
            "align_self": null,
            "border": null,
            "bottom": null,
            "display": null,
            "flex": null,
            "flex_flow": null,
            "grid_area": null,
            "grid_auto_columns": null,
            "grid_auto_flow": null,
            "grid_auto_rows": null,
            "grid_column": null,
            "grid_gap": null,
            "grid_row": null,
            "grid_template_areas": null,
            "grid_template_columns": null,
            "grid_template_rows": null,
            "height": null,
            "justify_content": null,
            "justify_items": null,
            "left": null,
            "margin": null,
            "max_height": null,
            "max_width": null,
            "min_height": null,
            "min_width": null,
            "object_fit": null,
            "object_position": null,
            "order": null,
            "overflow": null,
            "overflow_x": null,
            "overflow_y": null,
            "padding": null,
            "right": null,
            "top": null,
            "visibility": null,
            "width": null
          }
        },
        "d9b0f50b4e124c40bb5b7c345e7f846b": {
          "model_module": "@jupyter-widgets/controls",
          "model_name": "DescriptionStyleModel",
          "model_module_version": "1.5.0",
          "state": {
            "_model_module": "@jupyter-widgets/controls",
            "_model_module_version": "1.5.0",
            "_model_name": "DescriptionStyleModel",
            "_view_count": null,
            "_view_module": "@jupyter-widgets/base",
            "_view_module_version": "1.2.0",
            "_view_name": "StyleView",
            "description_width": ""
          }
        },
        "c093b85e6a9b467c99d7d317269a6cb7": {
          "model_module": "@jupyter-widgets/base",
          "model_name": "LayoutModel",
          "model_module_version": "1.2.0",
          "state": {
            "_model_module": "@jupyter-widgets/base",
            "_model_module_version": "1.2.0",
            "_model_name": "LayoutModel",
            "_view_count": null,
            "_view_module": "@jupyter-widgets/base",
            "_view_module_version": "1.2.0",
            "_view_name": "LayoutView",
            "align_content": null,
            "align_items": null,
            "align_self": null,
            "border": null,
            "bottom": null,
            "display": null,
            "flex": null,
            "flex_flow": null,
            "grid_area": null,
            "grid_auto_columns": null,
            "grid_auto_flow": null,
            "grid_auto_rows": null,
            "grid_column": null,
            "grid_gap": null,
            "grid_row": null,
            "grid_template_areas": null,
            "grid_template_columns": null,
            "grid_template_rows": null,
            "height": null,
            "justify_content": null,
            "justify_items": null,
            "left": null,
            "margin": null,
            "max_height": null,
            "max_width": null,
            "min_height": null,
            "min_width": null,
            "object_fit": null,
            "object_position": null,
            "order": null,
            "overflow": null,
            "overflow_x": null,
            "overflow_y": null,
            "padding": null,
            "right": null,
            "top": null,
            "visibility": null,
            "width": null
          }
        },
        "79495dab430a43088afc6b203a33d181": {
          "model_module": "@jupyter-widgets/controls",
          "model_name": "ProgressStyleModel",
          "model_module_version": "1.5.0",
          "state": {
            "_model_module": "@jupyter-widgets/controls",
            "_model_module_version": "1.5.0",
            "_model_name": "ProgressStyleModel",
            "_view_count": null,
            "_view_module": "@jupyter-widgets/base",
            "_view_module_version": "1.2.0",
            "_view_name": "StyleView",
            "bar_color": null,
            "description_width": ""
          }
        },
        "8302aaa7fe324d90b3bf5015515aeba9": {
          "model_module": "@jupyter-widgets/base",
          "model_name": "LayoutModel",
          "model_module_version": "1.2.0",
          "state": {
            "_model_module": "@jupyter-widgets/base",
            "_model_module_version": "1.2.0",
            "_model_name": "LayoutModel",
            "_view_count": null,
            "_view_module": "@jupyter-widgets/base",
            "_view_module_version": "1.2.0",
            "_view_name": "LayoutView",
            "align_content": null,
            "align_items": null,
            "align_self": null,
            "border": null,
            "bottom": null,
            "display": null,
            "flex": null,
            "flex_flow": null,
            "grid_area": null,
            "grid_auto_columns": null,
            "grid_auto_flow": null,
            "grid_auto_rows": null,
            "grid_column": null,
            "grid_gap": null,
            "grid_row": null,
            "grid_template_areas": null,
            "grid_template_columns": null,
            "grid_template_rows": null,
            "height": null,
            "justify_content": null,
            "justify_items": null,
            "left": null,
            "margin": null,
            "max_height": null,
            "max_width": null,
            "min_height": null,
            "min_width": null,
            "object_fit": null,
            "object_position": null,
            "order": null,
            "overflow": null,
            "overflow_x": null,
            "overflow_y": null,
            "padding": null,
            "right": null,
            "top": null,
            "visibility": null,
            "width": null
          }
        },
        "38233f44e8ad45478641ee6b11a3d87f": {
          "model_module": "@jupyter-widgets/controls",
          "model_name": "DescriptionStyleModel",
          "model_module_version": "1.5.0",
          "state": {
            "_model_module": "@jupyter-widgets/controls",
            "_model_module_version": "1.5.0",
            "_model_name": "DescriptionStyleModel",
            "_view_count": null,
            "_view_module": "@jupyter-widgets/base",
            "_view_module_version": "1.2.0",
            "_view_name": "StyleView",
            "description_width": ""
          }
        },
        "5e96218f923d42459d1dc8955f1730e9": {
          "model_module": "@jupyter-widgets/controls",
          "model_name": "HBoxModel",
          "model_module_version": "1.5.0",
          "state": {
            "_dom_classes": [],
            "_model_module": "@jupyter-widgets/controls",
            "_model_module_version": "1.5.0",
            "_model_name": "HBoxModel",
            "_view_count": null,
            "_view_module": "@jupyter-widgets/controls",
            "_view_module_version": "1.5.0",
            "_view_name": "HBoxView",
            "box_style": "",
            "children": [
              "IPY_MODEL_0fc7aab6d8844bfe8e57f03cb56bc4f1",
              "IPY_MODEL_01e7f171b8dc43099732e7e3d195d8d5",
              "IPY_MODEL_19669724ef7b4a389f265dd861d99f11"
            ],
            "layout": "IPY_MODEL_1f93d0ac7f6a448cba488edd37895c14"
          }
        },
        "0fc7aab6d8844bfe8e57f03cb56bc4f1": {
          "model_module": "@jupyter-widgets/controls",
          "model_name": "HTMLModel",
          "model_module_version": "1.5.0",
          "state": {
            "_dom_classes": [],
            "_model_module": "@jupyter-widgets/controls",
            "_model_module_version": "1.5.0",
            "_model_name": "HTMLModel",
            "_view_count": null,
            "_view_module": "@jupyter-widgets/controls",
            "_view_module_version": "1.5.0",
            "_view_name": "HTMLView",
            "description": "",
            "description_tooltip": null,
            "layout": "IPY_MODEL_a68d7e2438964360bfed3b50e275b6a7",
            "placeholder": "​",
            "style": "IPY_MODEL_91cac34731be462287365e8b31b7f2ec",
            "value": "model.safetensors: 100%"
          }
        },
        "01e7f171b8dc43099732e7e3d195d8d5": {
          "model_module": "@jupyter-widgets/controls",
          "model_name": "FloatProgressModel",
          "model_module_version": "1.5.0",
          "state": {
            "_dom_classes": [],
            "_model_module": "@jupyter-widgets/controls",
            "_model_module_version": "1.5.0",
            "_model_name": "FloatProgressModel",
            "_view_count": null,
            "_view_module": "@jupyter-widgets/controls",
            "_view_module_version": "1.5.0",
            "_view_name": "ProgressView",
            "bar_style": "success",
            "description": "",
            "description_tooltip": null,
            "layout": "IPY_MODEL_8bb6b7fef0524188a3f59676ccdc6267",
            "max": 497999424,
            "min": 0,
            "orientation": "horizontal",
            "style": "IPY_MODEL_70b1d448af43433ca7fabbcca17744ce",
            "value": 497999424
          }
        },
        "19669724ef7b4a389f265dd861d99f11": {
          "model_module": "@jupyter-widgets/controls",
          "model_name": "HTMLModel",
          "model_module_version": "1.5.0",
          "state": {
            "_dom_classes": [],
            "_model_module": "@jupyter-widgets/controls",
            "_model_module_version": "1.5.0",
            "_model_name": "HTMLModel",
            "_view_count": null,
            "_view_module": "@jupyter-widgets/controls",
            "_view_module_version": "1.5.0",
            "_view_name": "HTMLView",
            "description": "",
            "description_tooltip": null,
            "layout": "IPY_MODEL_9d7cd2fe614a42449a479211ab28b2ba",
            "placeholder": "​",
            "style": "IPY_MODEL_ec5392ce1be047489b6d854221030e76",
            "value": " 498M/498M [00:03&lt;00:00, 159MB/s]"
          }
        },
        "1f93d0ac7f6a448cba488edd37895c14": {
          "model_module": "@jupyter-widgets/base",
          "model_name": "LayoutModel",
          "model_module_version": "1.2.0",
          "state": {
            "_model_module": "@jupyter-widgets/base",
            "_model_module_version": "1.2.0",
            "_model_name": "LayoutModel",
            "_view_count": null,
            "_view_module": "@jupyter-widgets/base",
            "_view_module_version": "1.2.0",
            "_view_name": "LayoutView",
            "align_content": null,
            "align_items": null,
            "align_self": null,
            "border": null,
            "bottom": null,
            "display": null,
            "flex": null,
            "flex_flow": null,
            "grid_area": null,
            "grid_auto_columns": null,
            "grid_auto_flow": null,
            "grid_auto_rows": null,
            "grid_column": null,
            "grid_gap": null,
            "grid_row": null,
            "grid_template_areas": null,
            "grid_template_columns": null,
            "grid_template_rows": null,
            "height": null,
            "justify_content": null,
            "justify_items": null,
            "left": null,
            "margin": null,
            "max_height": null,
            "max_width": null,
            "min_height": null,
            "min_width": null,
            "object_fit": null,
            "object_position": null,
            "order": null,
            "overflow": null,
            "overflow_x": null,
            "overflow_y": null,
            "padding": null,
            "right": null,
            "top": null,
            "visibility": null,
            "width": null
          }
        },
        "a68d7e2438964360bfed3b50e275b6a7": {
          "model_module": "@jupyter-widgets/base",
          "model_name": "LayoutModel",
          "model_module_version": "1.2.0",
          "state": {
            "_model_module": "@jupyter-widgets/base",
            "_model_module_version": "1.2.0",
            "_model_name": "LayoutModel",
            "_view_count": null,
            "_view_module": "@jupyter-widgets/base",
            "_view_module_version": "1.2.0",
            "_view_name": "LayoutView",
            "align_content": null,
            "align_items": null,
            "align_self": null,
            "border": null,
            "bottom": null,
            "display": null,
            "flex": null,
            "flex_flow": null,
            "grid_area": null,
            "grid_auto_columns": null,
            "grid_auto_flow": null,
            "grid_auto_rows": null,
            "grid_column": null,
            "grid_gap": null,
            "grid_row": null,
            "grid_template_areas": null,
            "grid_template_columns": null,
            "grid_template_rows": null,
            "height": null,
            "justify_content": null,
            "justify_items": null,
            "left": null,
            "margin": null,
            "max_height": null,
            "max_width": null,
            "min_height": null,
            "min_width": null,
            "object_fit": null,
            "object_position": null,
            "order": null,
            "overflow": null,
            "overflow_x": null,
            "overflow_y": null,
            "padding": null,
            "right": null,
            "top": null,
            "visibility": null,
            "width": null
          }
        },
        "91cac34731be462287365e8b31b7f2ec": {
          "model_module": "@jupyter-widgets/controls",
          "model_name": "DescriptionStyleModel",
          "model_module_version": "1.5.0",
          "state": {
            "_model_module": "@jupyter-widgets/controls",
            "_model_module_version": "1.5.0",
            "_model_name": "DescriptionStyleModel",
            "_view_count": null,
            "_view_module": "@jupyter-widgets/base",
            "_view_module_version": "1.2.0",
            "_view_name": "StyleView",
            "description_width": ""
          }
        },
        "8bb6b7fef0524188a3f59676ccdc6267": {
          "model_module": "@jupyter-widgets/base",
          "model_name": "LayoutModel",
          "model_module_version": "1.2.0",
          "state": {
            "_model_module": "@jupyter-widgets/base",
            "_model_module_version": "1.2.0",
            "_model_name": "LayoutModel",
            "_view_count": null,
            "_view_module": "@jupyter-widgets/base",
            "_view_module_version": "1.2.0",
            "_view_name": "LayoutView",
            "align_content": null,
            "align_items": null,
            "align_self": null,
            "border": null,
            "bottom": null,
            "display": null,
            "flex": null,
            "flex_flow": null,
            "grid_area": null,
            "grid_auto_columns": null,
            "grid_auto_flow": null,
            "grid_auto_rows": null,
            "grid_column": null,
            "grid_gap": null,
            "grid_row": null,
            "grid_template_areas": null,
            "grid_template_columns": null,
            "grid_template_rows": null,
            "height": null,
            "justify_content": null,
            "justify_items": null,
            "left": null,
            "margin": null,
            "max_height": null,
            "max_width": null,
            "min_height": null,
            "min_width": null,
            "object_fit": null,
            "object_position": null,
            "order": null,
            "overflow": null,
            "overflow_x": null,
            "overflow_y": null,
            "padding": null,
            "right": null,
            "top": null,
            "visibility": null,
            "width": null
          }
        },
        "70b1d448af43433ca7fabbcca17744ce": {
          "model_module": "@jupyter-widgets/controls",
          "model_name": "ProgressStyleModel",
          "model_module_version": "1.5.0",
          "state": {
            "_model_module": "@jupyter-widgets/controls",
            "_model_module_version": "1.5.0",
            "_model_name": "ProgressStyleModel",
            "_view_count": null,
            "_view_module": "@jupyter-widgets/base",
            "_view_module_version": "1.2.0",
            "_view_name": "StyleView",
            "bar_color": null,
            "description_width": ""
          }
        },
        "9d7cd2fe614a42449a479211ab28b2ba": {
          "model_module": "@jupyter-widgets/base",
          "model_name": "LayoutModel",
          "model_module_version": "1.2.0",
          "state": {
            "_model_module": "@jupyter-widgets/base",
            "_model_module_version": "1.2.0",
            "_model_name": "LayoutModel",
            "_view_count": null,
            "_view_module": "@jupyter-widgets/base",
            "_view_module_version": "1.2.0",
            "_view_name": "LayoutView",
            "align_content": null,
            "align_items": null,
            "align_self": null,
            "border": null,
            "bottom": null,
            "display": null,
            "flex": null,
            "flex_flow": null,
            "grid_area": null,
            "grid_auto_columns": null,
            "grid_auto_flow": null,
            "grid_auto_rows": null,
            "grid_column": null,
            "grid_gap": null,
            "grid_row": null,
            "grid_template_areas": null,
            "grid_template_columns": null,
            "grid_template_rows": null,
            "height": null,
            "justify_content": null,
            "justify_items": null,
            "left": null,
            "margin": null,
            "max_height": null,
            "max_width": null,
            "min_height": null,
            "min_width": null,
            "object_fit": null,
            "object_position": null,
            "order": null,
            "overflow": null,
            "overflow_x": null,
            "overflow_y": null,
            "padding": null,
            "right": null,
            "top": null,
            "visibility": null,
            "width": null
          }
        },
        "ec5392ce1be047489b6d854221030e76": {
          "model_module": "@jupyter-widgets/controls",
          "model_name": "DescriptionStyleModel",
          "model_module_version": "1.5.0",
          "state": {
            "_model_module": "@jupyter-widgets/controls",
            "_model_module_version": "1.5.0",
            "_model_name": "DescriptionStyleModel",
            "_view_count": null,
            "_view_module": "@jupyter-widgets/base",
            "_view_module_version": "1.2.0",
            "_view_name": "StyleView",
            "description_width": ""
          }
        }
      }
    }
  },
  "cells": [
    {
      "cell_type": "code",
      "execution_count": 1,
      "metadata": {
        "colab": {
          "base_uri": "https://localhost:8080/"
        },
        "id": "Q0I4TsG06YFq",
        "outputId": "4299f2cf-848f-48a3-89c3-2bc15ecf96c1"
      },
      "outputs": [
        {
          "output_type": "stream",
          "name": "stdout",
          "text": [
            "Collecting stanza\n",
            "  Downloading stanza-1.10.1-py3-none-any.whl.metadata (13 kB)\n",
            "Collecting emoji (from stanza)\n",
            "  Downloading emoji-2.14.1-py3-none-any.whl.metadata (5.7 kB)\n",
            "Requirement already satisfied: numpy in /usr/local/lib/python3.11/dist-packages (from stanza) (2.0.2)\n",
            "Requirement already satisfied: protobuf>=3.15.0 in /usr/local/lib/python3.11/dist-packages (from stanza) (5.29.4)\n",
            "Requirement already satisfied: requests in /usr/local/lib/python3.11/dist-packages (from stanza) (2.32.3)\n",
            "Requirement already satisfied: networkx in /usr/local/lib/python3.11/dist-packages (from stanza) (3.4.2)\n",
            "Requirement already satisfied: torch>=1.3.0 in /usr/local/lib/python3.11/dist-packages (from stanza) (2.6.0+cu124)\n",
            "Requirement already satisfied: tqdm in /usr/local/lib/python3.11/dist-packages (from stanza) (4.67.1)\n",
            "Requirement already satisfied: filelock in /usr/local/lib/python3.11/dist-packages (from torch>=1.3.0->stanza) (3.18.0)\n",
            "Requirement already satisfied: typing-extensions>=4.10.0 in /usr/local/lib/python3.11/dist-packages (from torch>=1.3.0->stanza) (4.13.2)\n",
            "Requirement already satisfied: jinja2 in /usr/local/lib/python3.11/dist-packages (from torch>=1.3.0->stanza) (3.1.6)\n",
            "Requirement already satisfied: fsspec in /usr/local/lib/python3.11/dist-packages (from torch>=1.3.0->stanza) (2025.3.2)\n",
            "Collecting nvidia-cuda-nvrtc-cu12==12.4.127 (from torch>=1.3.0->stanza)\n",
            "  Downloading nvidia_cuda_nvrtc_cu12-12.4.127-py3-none-manylinux2014_x86_64.whl.metadata (1.5 kB)\n",
            "Collecting nvidia-cuda-runtime-cu12==12.4.127 (from torch>=1.3.0->stanza)\n",
            "  Downloading nvidia_cuda_runtime_cu12-12.4.127-py3-none-manylinux2014_x86_64.whl.metadata (1.5 kB)\n",
            "Collecting nvidia-cuda-cupti-cu12==12.4.127 (from torch>=1.3.0->stanza)\n",
            "  Downloading nvidia_cuda_cupti_cu12-12.4.127-py3-none-manylinux2014_x86_64.whl.metadata (1.6 kB)\n",
            "Collecting nvidia-cudnn-cu12==9.1.0.70 (from torch>=1.3.0->stanza)\n",
            "  Downloading nvidia_cudnn_cu12-9.1.0.70-py3-none-manylinux2014_x86_64.whl.metadata (1.6 kB)\n",
            "Collecting nvidia-cublas-cu12==12.4.5.8 (from torch>=1.3.0->stanza)\n",
            "  Downloading nvidia_cublas_cu12-12.4.5.8-py3-none-manylinux2014_x86_64.whl.metadata (1.5 kB)\n",
            "Collecting nvidia-cufft-cu12==11.2.1.3 (from torch>=1.3.0->stanza)\n",
            "  Downloading nvidia_cufft_cu12-11.2.1.3-py3-none-manylinux2014_x86_64.whl.metadata (1.5 kB)\n",
            "Collecting nvidia-curand-cu12==10.3.5.147 (from torch>=1.3.0->stanza)\n",
            "  Downloading nvidia_curand_cu12-10.3.5.147-py3-none-manylinux2014_x86_64.whl.metadata (1.5 kB)\n",
            "Collecting nvidia-cusolver-cu12==11.6.1.9 (from torch>=1.3.0->stanza)\n",
            "  Downloading nvidia_cusolver_cu12-11.6.1.9-py3-none-manylinux2014_x86_64.whl.metadata (1.6 kB)\n",
            "Collecting nvidia-cusparse-cu12==12.3.1.170 (from torch>=1.3.0->stanza)\n",
            "  Downloading nvidia_cusparse_cu12-12.3.1.170-py3-none-manylinux2014_x86_64.whl.metadata (1.6 kB)\n",
            "Requirement already satisfied: nvidia-cusparselt-cu12==0.6.2 in /usr/local/lib/python3.11/dist-packages (from torch>=1.3.0->stanza) (0.6.2)\n",
            "Requirement already satisfied: nvidia-nccl-cu12==2.21.5 in /usr/local/lib/python3.11/dist-packages (from torch>=1.3.0->stanza) (2.21.5)\n",
            "Requirement already satisfied: nvidia-nvtx-cu12==12.4.127 in /usr/local/lib/python3.11/dist-packages (from torch>=1.3.0->stanza) (12.4.127)\n",
            "Collecting nvidia-nvjitlink-cu12==12.4.127 (from torch>=1.3.0->stanza)\n",
            "  Downloading nvidia_nvjitlink_cu12-12.4.127-py3-none-manylinux2014_x86_64.whl.metadata (1.5 kB)\n",
            "Requirement already satisfied: triton==3.2.0 in /usr/local/lib/python3.11/dist-packages (from torch>=1.3.0->stanza) (3.2.0)\n",
            "Requirement already satisfied: sympy==1.13.1 in /usr/local/lib/python3.11/dist-packages (from torch>=1.3.0->stanza) (1.13.1)\n",
            "Requirement already satisfied: mpmath<1.4,>=1.1.0 in /usr/local/lib/python3.11/dist-packages (from sympy==1.13.1->torch>=1.3.0->stanza) (1.3.0)\n",
            "Requirement already satisfied: charset-normalizer<4,>=2 in /usr/local/lib/python3.11/dist-packages (from requests->stanza) (3.4.2)\n",
            "Requirement already satisfied: idna<4,>=2.5 in /usr/local/lib/python3.11/dist-packages (from requests->stanza) (3.10)\n",
            "Requirement already satisfied: urllib3<3,>=1.21.1 in /usr/local/lib/python3.11/dist-packages (from requests->stanza) (2.4.0)\n",
            "Requirement already satisfied: certifi>=2017.4.17 in /usr/local/lib/python3.11/dist-packages (from requests->stanza) (2025.4.26)\n",
            "Requirement already satisfied: MarkupSafe>=2.0 in /usr/local/lib/python3.11/dist-packages (from jinja2->torch>=1.3.0->stanza) (3.0.2)\n",
            "Downloading stanza-1.10.1-py3-none-any.whl (1.1 MB)\n",
            "\u001b[2K   \u001b[90m━━━━━━━━━━━━━━━━━━━━━━━━━━━━━━━━━━━━━━━━\u001b[0m \u001b[32m1.1/1.1 MB\u001b[0m \u001b[31m11.4 MB/s\u001b[0m eta \u001b[36m0:00:00\u001b[0m\n",
            "\u001b[?25hDownloading nvidia_cublas_cu12-12.4.5.8-py3-none-manylinux2014_x86_64.whl (363.4 MB)\n",
            "\u001b[2K   \u001b[90m━━━━━━━━━━━━━━━━━━━━━━━━━━━━━━━━━━━━━━━━\u001b[0m \u001b[32m363.4/363.4 MB\u001b[0m \u001b[31m3.4 MB/s\u001b[0m eta \u001b[36m0:00:00\u001b[0m\n",
            "\u001b[?25hDownloading nvidia_cuda_cupti_cu12-12.4.127-py3-none-manylinux2014_x86_64.whl (13.8 MB)\n",
            "\u001b[2K   \u001b[90m━━━━━━━━━━━━━━━━━━━━━━━━━━━━━━━━━━━━━━━━\u001b[0m \u001b[32m13.8/13.8 MB\u001b[0m \u001b[31m25.4 MB/s\u001b[0m eta \u001b[36m0:00:00\u001b[0m\n",
            "\u001b[?25hDownloading nvidia_cuda_nvrtc_cu12-12.4.127-py3-none-manylinux2014_x86_64.whl (24.6 MB)\n",
            "\u001b[2K   \u001b[90m━━━━━━━━━━━━━━━━━━━━━━━━━━━━━━━━━━━━━━━━\u001b[0m \u001b[32m24.6/24.6 MB\u001b[0m \u001b[31m25.6 MB/s\u001b[0m eta \u001b[36m0:00:00\u001b[0m\n",
            "\u001b[?25hDownloading nvidia_cuda_runtime_cu12-12.4.127-py3-none-manylinux2014_x86_64.whl (883 kB)\n",
            "\u001b[2K   \u001b[90m━━━━━━━━━━━━━━━━━━━━━━━━━━━━━━━━━━━━━━━━\u001b[0m \u001b[32m883.7/883.7 kB\u001b[0m \u001b[31m21.2 MB/s\u001b[0m eta \u001b[36m0:00:00\u001b[0m\n",
            "\u001b[?25hDownloading nvidia_cudnn_cu12-9.1.0.70-py3-none-manylinux2014_x86_64.whl (664.8 MB)\n",
            "\u001b[2K   \u001b[90m━━━━━━━━━━━━━━━━━━━━━━━━━━━━━━━━━━━━━━━━\u001b[0m \u001b[32m664.8/664.8 MB\u001b[0m \u001b[31m2.5 MB/s\u001b[0m eta \u001b[36m0:00:00\u001b[0m\n",
            "\u001b[?25hDownloading nvidia_cufft_cu12-11.2.1.3-py3-none-manylinux2014_x86_64.whl (211.5 MB)\n",
            "\u001b[2K   \u001b[90m━━━━━━━━━━━━━━━━━━━━━━━━━━━━━━━━━━━━━━━━\u001b[0m \u001b[32m211.5/211.5 MB\u001b[0m \u001b[31m4.6 MB/s\u001b[0m eta \u001b[36m0:00:00\u001b[0m\n",
            "\u001b[?25hDownloading nvidia_curand_cu12-10.3.5.147-py3-none-manylinux2014_x86_64.whl (56.3 MB)\n",
            "\u001b[2K   \u001b[90m━━━━━━━━━━━━━━━━━━━━━━━━━━━━━━━━━━━━━━━━\u001b[0m \u001b[32m56.3/56.3 MB\u001b[0m \u001b[31m11.2 MB/s\u001b[0m eta \u001b[36m0:00:00\u001b[0m\n",
            "\u001b[?25hDownloading nvidia_cusolver_cu12-11.6.1.9-py3-none-manylinux2014_x86_64.whl (127.9 MB)\n",
            "\u001b[2K   \u001b[90m━━━━━━━━━━━━━━━━━━━━━━━━━━━━━━━━━━━━━━━━\u001b[0m \u001b[32m127.9/127.9 MB\u001b[0m \u001b[31m8.4 MB/s\u001b[0m eta \u001b[36m0:00:00\u001b[0m\n",
            "\u001b[?25hDownloading nvidia_cusparse_cu12-12.3.1.170-py3-none-manylinux2014_x86_64.whl (207.5 MB)\n",
            "\u001b[2K   \u001b[90m━━━━━━━━━━━━━━━━━━━━━━━━━━━━━━━━━━━━━━━━\u001b[0m \u001b[32m207.5/207.5 MB\u001b[0m \u001b[31m4.6 MB/s\u001b[0m eta \u001b[36m0:00:00\u001b[0m\n",
            "\u001b[?25hDownloading nvidia_nvjitlink_cu12-12.4.127-py3-none-manylinux2014_x86_64.whl (21.1 MB)\n",
            "\u001b[2K   \u001b[90m━━━━━━━━━━━━━━━━━━━━━━━━━━━━━━━━━━━━━━━━\u001b[0m \u001b[32m21.1/21.1 MB\u001b[0m \u001b[31m67.3 MB/s\u001b[0m eta \u001b[36m0:00:00\u001b[0m\n",
            "\u001b[?25hDownloading emoji-2.14.1-py3-none-any.whl (590 kB)\n",
            "\u001b[2K   \u001b[90m━━━━━━━━━━━━━━━━━━━━━━━━━━━━━━━━━━━━━━━━\u001b[0m \u001b[32m590.6/590.6 kB\u001b[0m \u001b[31m41.5 MB/s\u001b[0m eta \u001b[36m0:00:00\u001b[0m\n",
            "\u001b[?25hInstalling collected packages: nvidia-nvjitlink-cu12, nvidia-curand-cu12, nvidia-cufft-cu12, nvidia-cuda-runtime-cu12, nvidia-cuda-nvrtc-cu12, nvidia-cuda-cupti-cu12, nvidia-cublas-cu12, emoji, nvidia-cusparse-cu12, nvidia-cudnn-cu12, nvidia-cusolver-cu12, stanza\n",
            "  Attempting uninstall: nvidia-nvjitlink-cu12\n",
            "    Found existing installation: nvidia-nvjitlink-cu12 12.5.82\n",
            "    Uninstalling nvidia-nvjitlink-cu12-12.5.82:\n",
            "      Successfully uninstalled nvidia-nvjitlink-cu12-12.5.82\n",
            "  Attempting uninstall: nvidia-curand-cu12\n",
            "    Found existing installation: nvidia-curand-cu12 10.3.6.82\n",
            "    Uninstalling nvidia-curand-cu12-10.3.6.82:\n",
            "      Successfully uninstalled nvidia-curand-cu12-10.3.6.82\n",
            "  Attempting uninstall: nvidia-cufft-cu12\n",
            "    Found existing installation: nvidia-cufft-cu12 11.2.3.61\n",
            "    Uninstalling nvidia-cufft-cu12-11.2.3.61:\n",
            "      Successfully uninstalled nvidia-cufft-cu12-11.2.3.61\n",
            "  Attempting uninstall: nvidia-cuda-runtime-cu12\n",
            "    Found existing installation: nvidia-cuda-runtime-cu12 12.5.82\n",
            "    Uninstalling nvidia-cuda-runtime-cu12-12.5.82:\n",
            "      Successfully uninstalled nvidia-cuda-runtime-cu12-12.5.82\n",
            "  Attempting uninstall: nvidia-cuda-nvrtc-cu12\n",
            "    Found existing installation: nvidia-cuda-nvrtc-cu12 12.5.82\n",
            "    Uninstalling nvidia-cuda-nvrtc-cu12-12.5.82:\n",
            "      Successfully uninstalled nvidia-cuda-nvrtc-cu12-12.5.82\n",
            "  Attempting uninstall: nvidia-cuda-cupti-cu12\n",
            "    Found existing installation: nvidia-cuda-cupti-cu12 12.5.82\n",
            "    Uninstalling nvidia-cuda-cupti-cu12-12.5.82:\n",
            "      Successfully uninstalled nvidia-cuda-cupti-cu12-12.5.82\n",
            "  Attempting uninstall: nvidia-cublas-cu12\n",
            "    Found existing installation: nvidia-cublas-cu12 12.5.3.2\n",
            "    Uninstalling nvidia-cublas-cu12-12.5.3.2:\n",
            "      Successfully uninstalled nvidia-cublas-cu12-12.5.3.2\n",
            "  Attempting uninstall: nvidia-cusparse-cu12\n",
            "    Found existing installation: nvidia-cusparse-cu12 12.5.1.3\n",
            "    Uninstalling nvidia-cusparse-cu12-12.5.1.3:\n",
            "      Successfully uninstalled nvidia-cusparse-cu12-12.5.1.3\n",
            "  Attempting uninstall: nvidia-cudnn-cu12\n",
            "    Found existing installation: nvidia-cudnn-cu12 9.3.0.75\n",
            "    Uninstalling nvidia-cudnn-cu12-9.3.0.75:\n",
            "      Successfully uninstalled nvidia-cudnn-cu12-9.3.0.75\n",
            "  Attempting uninstall: nvidia-cusolver-cu12\n",
            "    Found existing installation: nvidia-cusolver-cu12 11.6.3.83\n",
            "    Uninstalling nvidia-cusolver-cu12-11.6.3.83:\n",
            "      Successfully uninstalled nvidia-cusolver-cu12-11.6.3.83\n",
            "Successfully installed emoji-2.14.1 nvidia-cublas-cu12-12.4.5.8 nvidia-cuda-cupti-cu12-12.4.127 nvidia-cuda-nvrtc-cu12-12.4.127 nvidia-cuda-runtime-cu12-12.4.127 nvidia-cudnn-cu12-9.1.0.70 nvidia-cufft-cu12-11.2.1.3 nvidia-curand-cu12-10.3.5.147 nvidia-cusolver-cu12-11.6.1.9 nvidia-cusparse-cu12-12.3.1.170 nvidia-nvjitlink-cu12-12.4.127 stanza-1.10.1\n"
          ]
        }
      ],
      "source": [
        "!pip install stanza"
      ]
    },
    {
      "cell_type": "code",
      "source": [
        "import time\n",
        "import stanza"
      ],
      "metadata": {
        "id": "f3DzwzWB6wSr"
      },
      "execution_count": 2,
      "outputs": []
    },
    {
      "cell_type": "code",
      "source": [
        "# Download the Estonian model for Stanza\n",
        "stanza.download(\"et\")\n",
        "nlp = stanza.Pipeline(\"et\", processors=\"tokenize,pos,lemma,depparse\")"
      ],
      "metadata": {
        "colab": {
          "base_uri": "https://localhost:8080/",
          "height": 547,
          "referenced_widgets": [
            "f922a5a152054b2daaa01c2bb0376559",
            "f51183f7adc94606bf718c5ac00bd49e",
            "3a090512c3c044d3b3066528136b462c",
            "e96ec08810bd491f857af87634c60b6f",
            "82cdd09e5a2445bdb2762c274c988745",
            "05c8c0adf30e4f5598c7aab53e4d4803",
            "9ed7a75296d44290a9273ad15ae75e1f",
            "586d49f4522e465ea475abd7689698a1",
            "3c6d13e7e11f4840aedef3b2fdf612f4",
            "441cc05f85bd4b69a5c492d91ed55c6a",
            "26acaf2a585c4dfca2e7f616a16423a7",
            "e298ab726a534c7ea52c75aada0238e2",
            "015a24ca284e486e9823397ad8de9684",
            "55fe4cfe62e04430a3885b0087004734",
            "55753baa42e34ac9bff9c0fed0a5426b",
            "f5448ce0ec8f4c7da29a1056983f0002",
            "296d17b15e6245d3964f92d5be0d33a6",
            "5cebf99f00704392a6baef88aca5f329",
            "750e7247b7244cd0a18d021a7e61d184",
            "936e105a7d7943ae92d2460f30c9d17b",
            "a2a737a3c8a743e59ef401c485e83d5d",
            "c8b16e1bc702490189aaabdf006c4380",
            "2c018e81d62242b0bb9675c26ba874a7",
            "48efae6282894fbb903d48858de36cd3",
            "94df266bae31444b9291e1a4ac30c353",
            "add8f575be544d35b20e73d0fcac4969",
            "ebce6b5eac734b1a8bbff0dc4206f758",
            "ee47a7a4f0b9446597b2d540a1f2cf49",
            "3e3567ff09e54b139923e035ea090bdf",
            "af9fed6e4c824531b4b2ae495c7b59c4",
            "596cb4b6ff8547c7ac863ab9fbb0bc44",
            "0080d018490740379d847e624617155e",
            "8ff003e178e9431b820dcc3e01ae05f1"
          ]
        },
        "id": "JmOjwek96z2l",
        "outputId": "206108b5-cf70-4076-ff1f-57dc8c2b8d87"
      },
      "execution_count": 3,
      "outputs": [
        {
          "output_type": "display_data",
          "data": {
            "text/plain": [
              "Downloading https://raw.githubusercontent.com/stanfordnlp/stanza-resources/main/resources_1.10.0.json:   0%|  …"
            ],
            "application/vnd.jupyter.widget-view+json": {
              "version_major": 2,
              "version_minor": 0,
              "model_id": "f922a5a152054b2daaa01c2bb0376559"
            }
          },
          "metadata": {}
        },
        {
          "output_type": "stream",
          "name": "stderr",
          "text": [
            "INFO:stanza:Downloaded file to /root/stanza_resources/resources.json\n",
            "INFO:stanza:Downloading default packages for language: et (Estonian) ...\n"
          ]
        },
        {
          "output_type": "display_data",
          "data": {
            "text/plain": [
              "Downloading https://huggingface.co/stanfordnlp/stanza-et/resolve/v1.10.0/models/default.zip:   0%|          | …"
            ],
            "application/vnd.jupyter.widget-view+json": {
              "version_major": 2,
              "version_minor": 0,
              "model_id": "e298ab726a534c7ea52c75aada0238e2"
            }
          },
          "metadata": {}
        },
        {
          "output_type": "stream",
          "name": "stderr",
          "text": [
            "INFO:stanza:Downloaded file to /root/stanza_resources/et/default.zip\n",
            "INFO:stanza:Finished downloading models and saved to /root/stanza_resources\n",
            "INFO:stanza:Checking for updates to resources.json in case models have been updated.  Note: this behavior can be turned off with download_method=None or download_method=DownloadMethod.REUSE_RESOURCES\n"
          ]
        },
        {
          "output_type": "display_data",
          "data": {
            "text/plain": [
              "Downloading https://raw.githubusercontent.com/stanfordnlp/stanza-resources/main/resources_1.10.0.json:   0%|  …"
            ],
            "application/vnd.jupyter.widget-view+json": {
              "version_major": 2,
              "version_minor": 0,
              "model_id": "2c018e81d62242b0bb9675c26ba874a7"
            }
          },
          "metadata": {}
        },
        {
          "output_type": "stream",
          "name": "stderr",
          "text": [
            "INFO:stanza:Downloaded file to /root/stanza_resources/resources.json\n",
            "WARNING:stanza:Language et package default expects mwt, which has been added\n",
            "INFO:stanza:Loading these models for language: et (Estonian):\n",
            "============================\n",
            "| Processor | Package      |\n",
            "----------------------------\n",
            "| tokenize  | edt          |\n",
            "| mwt       | edt          |\n",
            "| pos       | edt_nocharlm |\n",
            "| lemma     | edt_nocharlm |\n",
            "| depparse  | edt_nocharlm |\n",
            "============================\n",
            "\n",
            "INFO:stanza:Using device: cpu\n",
            "INFO:stanza:Loading: tokenize\n",
            "INFO:stanza:Loading: mwt\n",
            "INFO:stanza:Loading: pos\n",
            "INFO:stanza:Loading: lemma\n",
            "INFO:stanza:Loading: depparse\n",
            "INFO:stanza:Done loading processors!\n"
          ]
        }
      ]
    },
    {
      "cell_type": "markdown",
      "source": [
        "Example of aspect and opinion terms extraction"
      ],
      "metadata": {
        "id": "lvylPQBNhDAw"
      }
    },
    {
      "cell_type": "code",
      "source": [
        "start_time = time.time()\n",
        "\n",
        "text = 'Kõik oli nii hästi läbimõeldud ja teostatud: alates vastuvõtust restorani uksel, kogu menüü ja joogid sinna juurde, väga mõnus jalutuskäik söökikordade keskel, teenindajate suhtlus, atmosfäär…'\n",
        "\n",
        "doc = nlp(text.lower())\n",
        "\n",
        "aspect_terms = []\n",
        "opinion_terms = []\n",
        "\n",
        "non_aspect_noun_lemmas = ['õhtu', 'kogemus', 'tükk', 'restoran', 'tallinn']\n",
        "non_opinion_adjective_lemmas = ['soe', 'kuulus']\n",
        "noun_opinions = ['super', 'ülitore']\n",
        "sentential_adverbs = ['näiteks', 'sinna', 'juurde']\n",
        "\n",
        "def collect_subtree_aspect_noun(word, sentence):\n",
        "    # Recursively assemble a subtree of dependents of an aspect noun\n",
        "    subtree = [word]\n",
        "    for child in sentence.words:\n",
        "        if child.head == word.id and child.deprel == \"cop\":\n",
        "          return []\n",
        "        elif (child.head == word.id and\n",
        "             child.upos not in [\"CCONJ\", \"PUNCT\", \"DET\", \"PRON\"] and\n",
        "             child.feats != \"AdpType=Prep\" and not\n",
        "             (child.upos == \"NOUN\" and child.feats.split(\"|\")[0].split(\"=\")[1] in [\"Nom\", \"Ine\"] and child.deprel not in [\"nmod\", \"obj\", \"obl\"] and child.lemma not in non_aspect_noun_lemmas) and\n",
        "             (child.text not in sentential_adverbs) and not\n",
        "             ((child.upos == \"ADJ\" and child.deprel in [\"acl\", \"acl:relcl\", \"conj\", \"amod\", \"root\"] and child.lemma not in non_opinion_adjective_lemmas and check_participle_with_noun_dependents(child, sentence) == False) or (child.text in noun_opinions))):\n",
        "             subtree.extend(collect_subtree_aspect_noun(child, sentence))\n",
        "    return subtree\n",
        "\n",
        "def collect_subtree_opinion_verb(word, sentence):\n",
        "    # Recursively assemble a subtree of dependents of an opinion verb\n",
        "    subtree = [word]\n",
        "    for child in sentence.words:\n",
        "        if child.head == word.id and ((child.deprel == \"advmod\" and child.text not in sentential_adverbs) or child.deprel in [\"obj\", \"obl\", \"amod\", \"conj\", \"cc\"]):\n",
        "            subtree.extend(collect_subtree_opinion_verb(child, sentence))\n",
        "    return subtree\n",
        "\n",
        "def collect_subtree_opinion_noun(word, sentence):\n",
        "    # Recursively assemble a subtree of dependents of an opinion noun (after a copula)\n",
        "    subtree = [word]\n",
        "    for child in sentence.words:\n",
        "        if child.head == word.id and not (child.upos == \"NOUN\" and \"Nom\" in child.feats) and not (child.deprel in [\"nsubj:cop\", \"cop\"]):\n",
        "            subtree.extend(collect_subtree_opinion_noun(child, sentence))\n",
        "    return subtree\n",
        "\n",
        "def check_participle_with_noun_dependents(word, sentence):\n",
        "    # Check if a participle has noun dependents\n",
        "    has_noun_dependents = False\n",
        "    for child in sentence.words:\n",
        "        if child.head == word.id and child.upos == \"NOUN\" and child.text not in noun_opinions:\n",
        "          has_noun_dependents = True\n",
        "    return has_noun_dependents\n",
        "\n",
        "def has_dependent_copula(word, sentence):\n",
        "    # Check if a noun has dependent copula\n",
        "    has_dependent_copula = False\n",
        "    for child in sentence.words:\n",
        "        if child.head == word.id and child.deprel == \"cop\":\n",
        "          has_dependent_copula = True\n",
        "    return has_dependent_copula\n",
        "\n",
        "def collect_subtree_verb_after_sconj(word, sentence):\n",
        "    # Recursively assemble a subtree of dependents of a verb in a subordinate clause\n",
        "    subtree = [word]\n",
        "    for child in sentence.words:\n",
        "      if child.head == word.id and child.upos != \"PUNCT\" and child.text != \"et\":\n",
        "        subtree.extend(collect_subtree_verb_after_sconj(child, sentence))\n",
        "    return subtree\n",
        "\n",
        "for sentence in doc.sentences:\n",
        "    for i, word in enumerate(sentence.words):\n",
        "      if word.upos == \"NOUN\" and word.feats.split(\"|\")[0].split(\"=\")[1] in [\"Nom\", \"Ine\", \"Ade\"] and word.deprel not in [\"nmod\", \"obj\", \"obl\"] and has_dependent_copula(word, sentence) == False and word.lemma not in non_aspect_noun_lemmas:\n",
        "          subtree_words = collect_subtree_aspect_noun(word, sentence)\n",
        "          sorted_subtree = sorted(subtree_words, key=lambda w: w.id)\n",
        "          aspect_terms.append({\n",
        "                        \"text\": \" \".join([w.text.strip(' ...') for w in sorted_subtree]),\n",
        "                        \"start\": sorted_subtree[0].start_char,\n",
        "                        \"end\": sorted_subtree[-1].end_char\n",
        "                    })\n",
        "      elif word.text == \"et\":  # subordinate conjunction 'that'\n",
        "        subtree_words = collect_subtree_verb_after_sconj(sentence.words[word.head - 1], sentence)\n",
        "        sorted_subtree = sorted(subtree_words, key=lambda w: w.id)\n",
        "        aspect_terms.append({\n",
        "                        \"text\": \" \".join([w.text.strip(' ...') for w in sorted_subtree]),\n",
        "                        \"start\": sorted_subtree[0].start_char,\n",
        "                        \"end\": sorted_subtree[-1].end_char\n",
        "                    })\n",
        "\n",
        "    aspect_terms = list(filter(None, aspect_terms))\n",
        "\n",
        "    if aspect_terms == []:\n",
        "        opinion_terms = []\n",
        "        break\n",
        "\n",
        "    aspect_elems = []\n",
        "    for elem in aspect_terms:\n",
        "        aspect_elems.extend(elem[\"text\"].split(\" \"))\n",
        "\n",
        "    for i, word in enumerate(sentence.words):\n",
        "      if word.text in aspect_elems:\n",
        "        continue\n",
        "      if word.upos == \"VERB\" and word.deprel == \"root\":\n",
        "        subtree_words = collect_subtree_opinion_verb(word, sentence)\n",
        "        sorted_subtree = sorted(subtree_words, key=lambda w: w.id)\n",
        "        opinion_terms.append({\n",
        "                        \"text\": \" \".join([w.text.strip() for w in sorted_subtree]),\n",
        "                        \"start\": sorted_subtree[0].start_char,\n",
        "                        \"end\": sorted_subtree[-1].end_char\n",
        "                    })\n",
        "\n",
        "    opinion_elems = []\n",
        "    for elem in opinion_terms:\n",
        "        opinion_elems.extend(elem[\"text\"].split(\" \"))\n",
        "\n",
        "    for i, word in enumerate(sentence.words):\n",
        "      if word.text in aspect_elems:\n",
        "        continue\n",
        "      if word.upos == \"NOUN\" and (word.text not in aspect_elems) and (word.text not in opinion_elems) and word.deprel == \"root\":\n",
        "        subtree_words = collect_subtree_opinion_noun(word, sentence)\n",
        "        sorted_subtree = sorted(subtree_words, key=lambda w: w.id)\n",
        "        opinion_terms.append({\n",
        "                        \"text\": (\" \".join([w.text.strip(' ...') for w in sorted_subtree])).strip(),\n",
        "                        \"start\": sorted_subtree[0].start_char,\n",
        "                        \"end\": sorted_subtree[-1].end_char\n",
        "                    })\n",
        "\n",
        "    for elem in opinion_terms:\n",
        "      if elem not in opinion_elems:\n",
        "        opinion_elems.extend(elem[\"text\"].split(\" \"))\n",
        "\n",
        "    for i, word in enumerate(sentence.words):\n",
        "      if word.text in aspect_elems:\n",
        "        continue\n",
        "      if word.upos == \"ADJ\" and (word.text not in opinion_elems) and word.deprel in [\"acl\", \"acl:relcl\", \"conj\", \"amod\", \"root\"] and \"Case\" in word.feats:\n",
        "        if i > 0 and sentence.words[i - 1].deprel in [\"nmod\", \"advmod\"]:\n",
        "          opinion_terms.append({\n",
        "                        \"text\": \" \".join([sentence.words[i - 1].text.strip()] + [word.text.strip()]),\n",
        "                        \"start\": sentence.words[i - 1].start_char,\n",
        "                        \"end\": word.end_char\n",
        "                    })\n",
        "        else:\n",
        "          opinion_terms.append({\n",
        "                        \"text\": word.text.strip(),\n",
        "                        \"start\": word.start_char,\n",
        "                        \"end\": word.end_char\n",
        "                    })\n",
        "\n",
        "print(\"Aspect terms: \", aspect_terms)\n",
        "print(\"Opinion terms: \", opinion_terms)\n",
        "\n",
        "end_time = time.time()\n",
        "print(f'Time taken for stanza: {end_time - start_time} seconds')"
      ],
      "metadata": {
        "colab": {
          "base_uri": "https://localhost:8080/"
        },
        "id": "qrQAF1Np65_A",
        "outputId": "3ccaf1df-08b5-400f-db82-3a86316032fd"
      },
      "execution_count": 4,
      "outputs": [
        {
          "output_type": "stream",
          "name": "stdout",
          "text": [
            "Aspect terms:  [{'text': 'vastuvõtust restorani uksel', 'start': 52, 'end': 79}, {'text': 'menüü', 'start': 86, 'end': 91}, {'text': 'joogid', 'start': 95, 'end': 101}, {'text': 'jalutuskäik söökikordade keskel', 'start': 127, 'end': 158}, {'text': 'teenindajate suhtlus', 'start': 160, 'end': 180}, {'text': 'atmosfäär', 'start': 182, 'end': 191}]\n",
            "Opinion terms:  [{'text': 'nii hästi läbimõeldud ja teostatud', 'start': 9, 'end': 43}, {'text': 'väga mõnus', 'start': 116, 'end': 126}]\n",
            "Time taken for stanza: 0.5913057327270508 seconds\n"
          ]
        }
      ]
    },
    {
      "cell_type": "code",
      "source": [
        "text = 'Kõik oli nii hästi läbimõeldud ja teostatud: alates vastuvõtust restorani uksel, kogu menüü ja joogid sinna juurde, väga mõnus jalutuskäik söökikordade keskel, teenindajate suhtlus, atmosfäär…'\n",
        "doc = nlp(text.lower())\n",
        "for sentence in doc.sentences:\n",
        "    for i, word in enumerate(sentence.words):\n",
        "      print(word)"
      ],
      "metadata": {
        "colab": {
          "base_uri": "https://localhost:8080/"
        },
        "id": "uMoeE0cM6_dk",
        "outputId": "e0ed8c2e-124c-464e-b544-47e545cf02ba"
      },
      "execution_count": null,
      "outputs": [
        {
          "output_type": "stream",
          "name": "stdout",
          "text": [
            "{\n",
            "  \"id\": 1,\n",
            "  \"text\": \"kõik\",\n",
            "  \"lemma\": \"kõik\",\n",
            "  \"upos\": \"PRON\",\n",
            "  \"xpos\": \"P\",\n",
            "  \"feats\": \"Case=Nom|Number=Sing|PronType=Tot\",\n",
            "  \"head\": 5,\n",
            "  \"deprel\": \"nsubj:cop\",\n",
            "  \"start_char\": 0,\n",
            "  \"end_char\": 4\n",
            "}\n",
            "{\n",
            "  \"id\": 2,\n",
            "  \"text\": \"oli\",\n",
            "  \"lemma\": \"olema\",\n",
            "  \"upos\": \"AUX\",\n",
            "  \"xpos\": \"V\",\n",
            "  \"feats\": \"Mood=Ind|Number=Sing|Person=3|Tense=Past|VerbForm=Fin|Voice=Act\",\n",
            "  \"head\": 5,\n",
            "  \"deprel\": \"cop\",\n",
            "  \"start_char\": 5,\n",
            "  \"end_char\": 8\n",
            "}\n",
            "{\n",
            "  \"id\": 3,\n",
            "  \"text\": \"nii\",\n",
            "  \"lemma\": \"nii\",\n",
            "  \"upos\": \"ADV\",\n",
            "  \"xpos\": \"D\",\n",
            "  \"head\": 4,\n",
            "  \"deprel\": \"advmod\",\n",
            "  \"start_char\": 9,\n",
            "  \"end_char\": 12\n",
            "}\n",
            "{\n",
            "  \"id\": 4,\n",
            "  \"text\": \"hästi\",\n",
            "  \"lemma\": \"hästi\",\n",
            "  \"upos\": \"ADV\",\n",
            "  \"xpos\": \"D\",\n",
            "  \"head\": 5,\n",
            "  \"deprel\": \"advmod\",\n",
            "  \"start_char\": 13,\n",
            "  \"end_char\": 18\n",
            "}\n",
            "{\n",
            "  \"id\": 5,\n",
            "  \"text\": \"läbimõeldud\",\n",
            "  \"lemma\": \"läbi_mõeldud\",\n",
            "  \"upos\": \"VERB\",\n",
            "  \"xpos\": \"V\",\n",
            "  \"feats\": \"Tense=Past|VerbForm=Part|Voice=Pass\",\n",
            "  \"head\": 0,\n",
            "  \"deprel\": \"root\",\n",
            "  \"start_char\": 19,\n",
            "  \"end_char\": 30\n",
            "}\n",
            "{\n",
            "  \"id\": 6,\n",
            "  \"text\": \"ja\",\n",
            "  \"lemma\": \"ja\",\n",
            "  \"upos\": \"CCONJ\",\n",
            "  \"xpos\": \"J\",\n",
            "  \"head\": 7,\n",
            "  \"deprel\": \"cc\",\n",
            "  \"start_char\": 31,\n",
            "  \"end_char\": 33\n",
            "}\n",
            "{\n",
            "  \"id\": 7,\n",
            "  \"text\": \"teostatud\",\n",
            "  \"lemma\": \"teostama\",\n",
            "  \"upos\": \"VERB\",\n",
            "  \"xpos\": \"V\",\n",
            "  \"feats\": \"Tense=Past|VerbForm=Part|Voice=Pass\",\n",
            "  \"head\": 5,\n",
            "  \"deprel\": \"conj\",\n",
            "  \"start_char\": 34,\n",
            "  \"end_char\": 43\n",
            "}\n",
            "{\n",
            "  \"id\": 8,\n",
            "  \"text\": \":\",\n",
            "  \"lemma\": \":\",\n",
            "  \"upos\": \"PUNCT\",\n",
            "  \"xpos\": \"Z\",\n",
            "  \"head\": 12,\n",
            "  \"deprel\": \"punct\",\n",
            "  \"start_char\": 43,\n",
            "  \"end_char\": 44\n",
            "}\n",
            "{\n",
            "  \"id\": 9,\n",
            "  \"text\": \"alates\",\n",
            "  \"lemma\": \"alates\",\n",
            "  \"upos\": \"ADP\",\n",
            "  \"xpos\": \"K\",\n",
            "  \"feats\": \"AdpType=Prep\",\n",
            "  \"head\": 10,\n",
            "  \"deprel\": \"case\",\n",
            "  \"start_char\": 45,\n",
            "  \"end_char\": 51\n",
            "}\n",
            "{\n",
            "  \"id\": 10,\n",
            "  \"text\": \"vastuvõtust\",\n",
            "  \"lemma\": \"vastu_võtt\",\n",
            "  \"upos\": \"NOUN\",\n",
            "  \"xpos\": \"S\",\n",
            "  \"feats\": \"Case=Ela|Number=Sing\",\n",
            "  \"head\": 12,\n",
            "  \"deprel\": \"nmod\",\n",
            "  \"start_char\": 52,\n",
            "  \"end_char\": 63\n",
            "}\n",
            "{\n",
            "  \"id\": 11,\n",
            "  \"text\": \"restorani\",\n",
            "  \"lemma\": \"restoran\",\n",
            "  \"upos\": \"NOUN\",\n",
            "  \"xpos\": \"S\",\n",
            "  \"feats\": \"Case=Gen|Number=Sing\",\n",
            "  \"head\": 12,\n",
            "  \"deprel\": \"nmod\",\n",
            "  \"start_char\": 64,\n",
            "  \"end_char\": 73\n",
            "}\n",
            "{\n",
            "  \"id\": 12,\n",
            "  \"text\": \"uksel\",\n",
            "  \"lemma\": \"uks\",\n",
            "  \"upos\": \"NOUN\",\n",
            "  \"xpos\": \"S\",\n",
            "  \"feats\": \"Case=Ade|Number=Sing\",\n",
            "  \"head\": 7,\n",
            "  \"deprel\": \"parataxis\",\n",
            "  \"start_char\": 74,\n",
            "  \"end_char\": 79\n",
            "}\n",
            "{\n",
            "  \"id\": 13,\n",
            "  \"text\": \",\",\n",
            "  \"lemma\": \",\",\n",
            "  \"upos\": \"PUNCT\",\n",
            "  \"xpos\": \"Z\",\n",
            "  \"head\": 15,\n",
            "  \"deprel\": \"punct\",\n",
            "  \"start_char\": 79,\n",
            "  \"end_char\": 80\n",
            "}\n",
            "{\n",
            "  \"id\": 14,\n",
            "  \"text\": \"kogu\",\n",
            "  \"lemma\": \"kogu\",\n",
            "  \"upos\": \"DET\",\n",
            "  \"xpos\": \"A\",\n",
            "  \"feats\": \"PronType=Tot\",\n",
            "  \"head\": 15,\n",
            "  \"deprel\": \"det\",\n",
            "  \"start_char\": 81,\n",
            "  \"end_char\": 85\n",
            "}\n",
            "{\n",
            "  \"id\": 15,\n",
            "  \"text\": \"menüü\",\n",
            "  \"lemma\": \"menüü\",\n",
            "  \"upos\": \"NOUN\",\n",
            "  \"xpos\": \"S\",\n",
            "  \"feats\": \"Case=Nom|Number=Sing\",\n",
            "  \"head\": 12,\n",
            "  \"deprel\": \"conj\",\n",
            "  \"start_char\": 86,\n",
            "  \"end_char\": 91\n",
            "}\n",
            "{\n",
            "  \"id\": 16,\n",
            "  \"text\": \"ja\",\n",
            "  \"lemma\": \"ja\",\n",
            "  \"upos\": \"CCONJ\",\n",
            "  \"xpos\": \"J\",\n",
            "  \"head\": 17,\n",
            "  \"deprel\": \"cc\",\n",
            "  \"start_char\": 92,\n",
            "  \"end_char\": 94\n",
            "}\n",
            "{\n",
            "  \"id\": 17,\n",
            "  \"text\": \"joogid\",\n",
            "  \"lemma\": \"jook\",\n",
            "  \"upos\": \"NOUN\",\n",
            "  \"xpos\": \"S\",\n",
            "  \"feats\": \"Case=Nom|Number=Plur\",\n",
            "  \"head\": 12,\n",
            "  \"deprel\": \"conj\",\n",
            "  \"start_char\": 95,\n",
            "  \"end_char\": 101\n",
            "}\n",
            "{\n",
            "  \"id\": 18,\n",
            "  \"text\": \"sinna\",\n",
            "  \"lemma\": \"sinna\",\n",
            "  \"upos\": \"ADV\",\n",
            "  \"xpos\": \"D\",\n",
            "  \"head\": 12,\n",
            "  \"deprel\": \"advmod\",\n",
            "  \"start_char\": 102,\n",
            "  \"end_char\": 107\n",
            "}\n",
            "{\n",
            "  \"id\": 19,\n",
            "  \"text\": \"juurde\",\n",
            "  \"lemma\": \"juurde\",\n",
            "  \"upos\": \"ADV\",\n",
            "  \"xpos\": \"D\",\n",
            "  \"head\": 12,\n",
            "  \"deprel\": \"advmod\",\n",
            "  \"start_char\": 108,\n",
            "  \"end_char\": 114\n",
            "}\n",
            "{\n",
            "  \"id\": 20,\n",
            "  \"text\": \",\",\n",
            "  \"lemma\": \",\",\n",
            "  \"upos\": \"PUNCT\",\n",
            "  \"xpos\": \"Z\",\n",
            "  \"head\": 23,\n",
            "  \"deprel\": \"punct\",\n",
            "  \"start_char\": 114,\n",
            "  \"end_char\": 115\n",
            "}\n",
            "{\n",
            "  \"id\": 21,\n",
            "  \"text\": \"väga\",\n",
            "  \"lemma\": \"väga\",\n",
            "  \"upos\": \"ADV\",\n",
            "  \"xpos\": \"D\",\n",
            "  \"head\": 22,\n",
            "  \"deprel\": \"advmod\",\n",
            "  \"start_char\": 116,\n",
            "  \"end_char\": 120\n",
            "}\n",
            "{\n",
            "  \"id\": 22,\n",
            "  \"text\": \"mõnus\",\n",
            "  \"lemma\": \"mõnus\",\n",
            "  \"upos\": \"ADJ\",\n",
            "  \"xpos\": \"A\",\n",
            "  \"feats\": \"Case=Nom|Degree=Pos|Number=Sing\",\n",
            "  \"head\": 23,\n",
            "  \"deprel\": \"amod\",\n",
            "  \"start_char\": 121,\n",
            "  \"end_char\": 126\n",
            "}\n",
            "{\n",
            "  \"id\": 23,\n",
            "  \"text\": \"jalutuskäik\",\n",
            "  \"lemma\": \"jalutus_käik\",\n",
            "  \"upos\": \"NOUN\",\n",
            "  \"xpos\": \"S\",\n",
            "  \"feats\": \"Case=Nom|Number=Sing\",\n",
            "  \"head\": 12,\n",
            "  \"deprel\": \"conj\",\n",
            "  \"start_char\": 127,\n",
            "  \"end_char\": 138\n",
            "}\n",
            "{\n",
            "  \"id\": 24,\n",
            "  \"text\": \"söökikordade\",\n",
            "  \"lemma\": \"sööki_kord\",\n",
            "  \"upos\": \"NOUN\",\n",
            "  \"xpos\": \"S\",\n",
            "  \"feats\": \"Case=Gen|Number=Plur\",\n",
            "  \"head\": 23,\n",
            "  \"deprel\": \"nmod\",\n",
            "  \"start_char\": 139,\n",
            "  \"end_char\": 151\n",
            "}\n",
            "{\n",
            "  \"id\": 25,\n",
            "  \"text\": \"keskel\",\n",
            "  \"lemma\": \"keskel\",\n",
            "  \"upos\": \"ADP\",\n",
            "  \"xpos\": \"K\",\n",
            "  \"feats\": \"AdpType=Post\",\n",
            "  \"head\": 24,\n",
            "  \"deprel\": \"case\",\n",
            "  \"start_char\": 152,\n",
            "  \"end_char\": 158\n",
            "}\n",
            "{\n",
            "  \"id\": 26,\n",
            "  \"text\": \",\",\n",
            "  \"lemma\": \",\",\n",
            "  \"upos\": \"PUNCT\",\n",
            "  \"xpos\": \"Z\",\n",
            "  \"head\": 28,\n",
            "  \"deprel\": \"punct\",\n",
            "  \"start_char\": 158,\n",
            "  \"end_char\": 159\n",
            "}\n",
            "{\n",
            "  \"id\": 27,\n",
            "  \"text\": \"teenindajate\",\n",
            "  \"lemma\": \"teenindaja\",\n",
            "  \"upos\": \"NOUN\",\n",
            "  \"xpos\": \"S\",\n",
            "  \"feats\": \"Case=Gen|Number=Plur\",\n",
            "  \"head\": 28,\n",
            "  \"deprel\": \"nmod\",\n",
            "  \"start_char\": 160,\n",
            "  \"end_char\": 172\n",
            "}\n",
            "{\n",
            "  \"id\": 28,\n",
            "  \"text\": \"suhtlus\",\n",
            "  \"lemma\": \"suhtlus\",\n",
            "  \"upos\": \"NOUN\",\n",
            "  \"xpos\": \"S\",\n",
            "  \"feats\": \"Case=Nom|Number=Sing\",\n",
            "  \"head\": 12,\n",
            "  \"deprel\": \"conj\",\n",
            "  \"start_char\": 173,\n",
            "  \"end_char\": 180\n",
            "}\n",
            "{\n",
            "  \"id\": 29,\n",
            "  \"text\": \",\",\n",
            "  \"lemma\": \",\",\n",
            "  \"upos\": \"PUNCT\",\n",
            "  \"xpos\": \"Z\",\n",
            "  \"head\": 30,\n",
            "  \"deprel\": \"punct\",\n",
            "  \"start_char\": 180,\n",
            "  \"end_char\": 181\n",
            "}\n",
            "{\n",
            "  \"id\": 30,\n",
            "  \"text\": \"atmosfäär\",\n",
            "  \"lemma\": \"atmo_sfäär\",\n",
            "  \"upos\": \"NOUN\",\n",
            "  \"xpos\": \"S\",\n",
            "  \"feats\": \"Case=Nom|Number=Sing\",\n",
            "  \"head\": 12,\n",
            "  \"deprel\": \"conj\",\n",
            "  \"start_char\": 182,\n",
            "  \"end_char\": 191\n",
            "}\n",
            "{\n",
            "  \"id\": 31,\n",
            "  \"text\": \"…\",\n",
            "  \"lemma\": \"…\",\n",
            "  \"upos\": \"PUNCT\",\n",
            "  \"xpos\": \"Z\",\n",
            "  \"head\": 5,\n",
            "  \"deprel\": \"punct\",\n",
            "  \"start_char\": 191,\n",
            "  \"end_char\": 192\n",
            "}\n"
          ]
        }
      ]
    },
    {
      "cell_type": "code",
      "source": [
        "import torch\n",
        "import numpy as np\n",
        "import json\n",
        "import matplotlib.pyplot as plt\n",
        "import seaborn as sns\n",
        "from transformers import AutoTokenizer, AutoModelForMaskedLM\n",
        "from sklearn.preprocessing import normalize\n",
        "from scipy.spatial.distance import cosine\n",
        "import re\n",
        "import unicodedata\n",
        "from sklearn.metrics import accuracy_score\n",
        "from tqdm import tqdm"
      ],
      "metadata": {
        "id": "9qosNdV6qFaS"
      },
      "execution_count": 4,
      "outputs": []
    },
    {
      "cell_type": "code",
      "source": [
        "# Load EstBERT tokenizer and model\n",
        "model_name = \"tartuNLP/EstBERT\"\n",
        "tokenizer = AutoTokenizer.from_pretrained(model_name)\n",
        "model = AutoModelForMaskedLM.from_pretrained(model_name)"
      ],
      "metadata": {
        "colab": {
          "base_uri": "https://localhost:8080/",
          "height": 281,
          "referenced_widgets": [
            "d015e790bca14ae88ac4f147a501b93c",
            "c98a56bd5291441281b08e7ebd44e692",
            "5ef917fd7bc04016b8249d019df0a5e4",
            "4af4445a7ba745f3a0f739eb7dd75067",
            "5dff9325c1e74e8ca9cde47e011f87a3",
            "5753eb783c39467880254d99487e2b9b",
            "d8f6e344b67645c2946bd80493387452",
            "b1df80e43d614364b5295bf3bb56bba1",
            "c822334cd1624bbfb0db37a435754c8a",
            "d9a6630804f845cb93ed9a84f48b3638",
            "52f9a841698a4d07b1fb6b936d949e37",
            "29dfe6f8884d41428d33101f8a57e4c5",
            "989a307c9a5446bfb6812f43bcccaf6a",
            "95635b2a8b1f4a0185e1c26a05acbc47",
            "5e173237c47e4c5a819d895dc2699e01",
            "5a7566c1d73e46319470aaa477859455",
            "3905545bef374c27bd7bdfb999020384",
            "37540abf28c54375a98a27c9f69ba7b6",
            "18da9014974e4b01b32dcc6e98df1b51",
            "abb9289541b54fe393d8b7d85de7890f",
            "a2ae2385e52440cd968f1ccffd39aaf6",
            "d78094d01c0f479790593dccc8886b89",
            "2af361da2c8f40988afc747ac07587b7",
            "8811a7f7aeec4a33bded2aa9419124f4",
            "91170f324ea540f0a810651a1e7e125c",
            "592cbbad0ed9430fb0afb54254c354cd",
            "4278d216f5eb4f9180d5e66d43b21c78",
            "09b29b43be56486aac371fd6a402e0d7",
            "e8445c7a88e94c1ab0d4b759703ddc72",
            "e9043704c70545c7b1f6e81e390ab330",
            "4395938d486b433eb2ff6825aba521e7",
            "d94eb3624289473c9b82b7afd2f83b3d",
            "6c62518d272f4bbcb61df7e4c41f9167",
            "034c8d4ac26b4a73bde8d9f735b03001",
            "5e9ca7a4543347318876a72f6e2a759a",
            "bd940154b32b4640a978e42a1e2b8882",
            "58c26c8755584ff9bfbcabadf1b754db",
            "c4c51d14a47d4d98890f3fc1cb8011c9",
            "2c9b02abd1c34f3b8c25f79691ae3f6b",
            "d9b0f50b4e124c40bb5b7c345e7f846b",
            "c093b85e6a9b467c99d7d317269a6cb7",
            "79495dab430a43088afc6b203a33d181",
            "8302aaa7fe324d90b3bf5015515aeba9",
            "38233f44e8ad45478641ee6b11a3d87f",
            "5e96218f923d42459d1dc8955f1730e9",
            "0fc7aab6d8844bfe8e57f03cb56bc4f1",
            "01e7f171b8dc43099732e7e3d195d8d5",
            "19669724ef7b4a389f265dd861d99f11",
            "1f93d0ac7f6a448cba488edd37895c14",
            "a68d7e2438964360bfed3b50e275b6a7",
            "91cac34731be462287365e8b31b7f2ec",
            "8bb6b7fef0524188a3f59676ccdc6267",
            "70b1d448af43433ca7fabbcca17744ce",
            "9d7cd2fe614a42449a479211ab28b2ba",
            "ec5392ce1be047489b6d854221030e76"
          ]
        },
        "id": "KKgk1o8Kq1pg",
        "outputId": "3dfe176e-f807-4f46-fcfb-4ce6bb3eff0d"
      },
      "execution_count": 5,
      "outputs": [
        {
          "output_type": "stream",
          "name": "stderr",
          "text": [
            "/usr/local/lib/python3.11/dist-packages/huggingface_hub/utils/_auth.py:94: UserWarning: \n",
            "The secret `HF_TOKEN` does not exist in your Colab secrets.\n",
            "To authenticate with the Hugging Face Hub, create a token in your settings tab (https://huggingface.co/settings/tokens), set it as secret in your Google Colab and restart your session.\n",
            "You will be able to reuse this secret in all of your notebooks.\n",
            "Please note that authentication is recommended but still optional to access public models or datasets.\n",
            "  warnings.warn(\n"
          ]
        },
        {
          "output_type": "display_data",
          "data": {
            "text/plain": [
              "tokenizer_config.json:   0%|          | 0.00/62.0 [00:00<?, ?B/s]"
            ],
            "application/vnd.jupyter.widget-view+json": {
              "version_major": 2,
              "version_minor": 0,
              "model_id": "d015e790bca14ae88ac4f147a501b93c"
            }
          },
          "metadata": {}
        },
        {
          "output_type": "display_data",
          "data": {
            "text/plain": [
              "config.json:   0%|          | 0.00/534 [00:00<?, ?B/s]"
            ],
            "application/vnd.jupyter.widget-view+json": {
              "version_major": 2,
              "version_minor": 0,
              "model_id": "29dfe6f8884d41428d33101f8a57e4c5"
            }
          },
          "metadata": {}
        },
        {
          "output_type": "display_data",
          "data": {
            "text/plain": [
              "vocab.txt:   0%|          | 0.00/410k [00:00<?, ?B/s]"
            ],
            "application/vnd.jupyter.widget-view+json": {
              "version_major": 2,
              "version_minor": 0,
              "model_id": "2af361da2c8f40988afc747ac07587b7"
            }
          },
          "metadata": {}
        },
        {
          "output_type": "display_data",
          "data": {
            "text/plain": [
              "special_tokens_map.json:   0%|          | 0.00/112 [00:00<?, ?B/s]"
            ],
            "application/vnd.jupyter.widget-view+json": {
              "version_major": 2,
              "version_minor": 0,
              "model_id": "034c8d4ac26b4a73bde8d9f735b03001"
            }
          },
          "metadata": {}
        },
        {
          "output_type": "display_data",
          "data": {
            "text/plain": [
              "model.safetensors:   0%|          | 0.00/498M [00:00<?, ?B/s]"
            ],
            "application/vnd.jupyter.widget-view+json": {
              "version_major": 2,
              "version_minor": 0,
              "model_id": "5e96218f923d42459d1dc8955f1730e9"
            }
          },
          "metadata": {}
        }
      ]
    },
    {
      "cell_type": "code",
      "source": [
        "# Check if a word is punctuation\n",
        "def is_punctuation(word):\n",
        "    return bool(re.fullmatch(r\"\\W+\", word))\n",
        "\n",
        "# Remove accents from a string\n",
        "def remove_accents(input_str):\n",
        "    nkfd_form = unicodedata.normalize('NFKD', input_str)\n",
        "    return \"\".join([c for c in nkfd_form if not unicodedata.combining(c)])\n",
        "\n",
        "# Normalize and lowercase a word for matching\n",
        "def normalize_word(word):\n",
        "    return remove_accents(word.lower())"
      ],
      "metadata": {
        "id": "Hg_yh-L_l0Z9"
      },
      "execution_count": 6,
      "outputs": []
    },
    {
      "cell_type": "code",
      "source": [
        "# Extract aspect and opinion terms from a sentence\n",
        "def extract_aspects_opinions(text):\n",
        "  doc = nlp(text)\n",
        "\n",
        "  aspect_terms = []\n",
        "  opinion_terms = []\n",
        "\n",
        "  non_aspect_noun_lemmas = ['õhtu', 'kogemus', 'tükk', 'restoran', 'tallinn']\n",
        "  non_opinion_adjective_lemmas = ['soe', 'kuulus']\n",
        "  noun_opinions = ['super', 'ülitore']\n",
        "  sentential_adverbs = ['näiteks', 'sinna', 'juurde']\n",
        "\n",
        "  def collect_subtree_aspect_noun(word, sentence):\n",
        "    # Recursively assemble a subtree of dependents of an aspect noun\n",
        "    subtree = [word]\n",
        "    for child in sentence.words:\n",
        "        if child.head == word.id and child.deprel == \"cop\":\n",
        "          return []\n",
        "        elif (child.head == word.id and\n",
        "             child.upos not in [\"CCONJ\", \"PUNCT\", \"DET\", \"PRON\"] and\n",
        "             child.feats != \"AdpType=Prep\" and not\n",
        "             (child.upos == \"NOUN\" and child.feats.split(\"|\")[0].split(\"=\")[1] in [\"Nom\", \"Ine\"] and child.deprel not in [\"nmod\", \"obj\", \"obl\"] and child.lemma.lower() not in non_aspect_noun_lemmas) and\n",
        "             (child.text.lower() not in sentential_adverbs) and not\n",
        "             ((child.upos == \"ADJ\" and child.deprel in [\"acl\", \"acl:relcl\", \"conj\", \"amod\", \"root\"] and child.lemma.lower() not in non_opinion_adjective_lemmas and check_participle_with_noun_dependents(child, sentence) == False) or (child.text.lower() in noun_opinions))):\n",
        "             subtree.extend(collect_subtree_aspect_noun(child, sentence))\n",
        "    return subtree\n",
        "\n",
        "  def collect_subtree_opinion_verb(word, sentence):\n",
        "    # Recursively assemble a subtree of dependents of an opinion verb\n",
        "    subtree = [word]\n",
        "    for child in sentence.words:\n",
        "        if child.head == word.id and ((child.deprel == \"advmod\" and child.text.lower() not in sentential_adverbs) or child.deprel in [\"obj\", \"obl\", \"amod\", \"conj\", \"cc\"]):\n",
        "            subtree.extend(collect_subtree_opinion_verb(child, sentence))\n",
        "    return subtree\n",
        "\n",
        "  def collect_subtree_opinion_noun(word, sentence):\n",
        "    # Recursively assemble a subtree of dependents of an opinion noun (after a copula)\n",
        "    subtree = [word]\n",
        "    for child in sentence.words:\n",
        "        if child.head == word.id and not (child.upos == \"NOUN\" and \"Nom\" in child.feats) and not (child.deprel in [\"nsubj:cop\", \"cop\"]):\n",
        "            subtree.extend(collect_subtree_opinion_noun(child, sentence))\n",
        "    return subtree\n",
        "\n",
        "  def check_participle_with_noun_dependents(word, sentence):\n",
        "    # Check if a participle has noun dependents\n",
        "    has_noun_dependents = False\n",
        "    for child in sentence.words:\n",
        "        if child.head == word.id and child.upos == \"NOUN\" and child.text.lower() not in noun_opinions:\n",
        "          has_noun_dependents = True\n",
        "    return has_noun_dependents\n",
        "\n",
        "  def has_dependent_copula(word, sentence):\n",
        "    # Check if a noun has dependent copula\n",
        "    has_dependent_copula = False\n",
        "    for child in sentence.words:\n",
        "        if child.head == word.id and child.deprel == \"cop\":\n",
        "          has_dependent_copula = True\n",
        "    return has_dependent_copula\n",
        "\n",
        "  def collect_subtree_verb_after_sconj(word, sentence):\n",
        "    # Recursively assemble a subtree of dependents of a verb in a subordinate clause\n",
        "    subtree = [word]\n",
        "    for child in sentence.words:\n",
        "      if child.head == word.id and child.upos != \"PUNCT\" and child.text != \"et\":\n",
        "        subtree.extend(collect_subtree_verb_after_sconj(child, sentence))\n",
        "    return subtree\n",
        "\n",
        "  for sentence in doc.sentences:\n",
        "    for i, word in enumerate(sentence.words):\n",
        "      if word.upos == \"NOUN\" and word.feats.split(\"|\")[0].split(\"=\")[1] in [\"Nom\", \"Ine\", \"Ade\"] and word.deprel not in [\"nmod\", \"obj\", \"obl\"] and has_dependent_copula(word, sentence) == False and word.lemma.lower() not in non_aspect_noun_lemmas:\n",
        "          subtree_words = collect_subtree_aspect_noun(word, sentence)\n",
        "          sorted_subtree = sorted(subtree_words, key=lambda w: w.id)\n",
        "          aspect_terms.append({\n",
        "                        \"start\": sorted_subtree[0].start_char,\n",
        "                        \"end\": sorted_subtree[-1].end_char,\n",
        "                        \"text\": \" \".join([w.text.strip() for w in sorted_subtree])\n",
        "                    })\n",
        "      elif word.text == \"et\":  # subordinate conjunction 'that'\n",
        "        subtree_words = collect_subtree_verb_after_sconj(sentence.words[word.head - 1], sentence)\n",
        "        sorted_subtree = sorted(subtree_words, key=lambda w: w.id)\n",
        "        aspect_terms.append({\n",
        "                        \"start\": sorted_subtree[0].start_char,\n",
        "                        \"end\": sorted_subtree[-1].end_char,\n",
        "                        \"text\": \" \".join([w.text.strip() for w in sorted_subtree])\n",
        "                    })\n",
        "\n",
        "    aspect_terms = list(filter(None, aspect_terms))\n",
        "\n",
        "    if aspect_terms == []:\n",
        "        opinion_terms = []\n",
        "        break\n",
        "\n",
        "    aspect_elems = []\n",
        "    for elem in aspect_terms:\n",
        "        aspect_elems.extend(elem[\"text\"].split(\" \"))\n",
        "\n",
        "    for i, word in enumerate(sentence.words):\n",
        "      if word.text in aspect_elems:\n",
        "        continue\n",
        "      if word.upos == \"VERB\" and word.deprel == \"root\":\n",
        "        subtree_words = collect_subtree_opinion_verb(word, sentence)\n",
        "        sorted_subtree = sorted(subtree_words, key=lambda w: w.id)\n",
        "        opinion_terms.append({\n",
        "                        \"start\": sorted_subtree[0].start_char,\n",
        "                        \"end\": sorted_subtree[-1].end_char,\n",
        "                        \"text\": \" \".join([w.text.strip() for w in sorted_subtree])\n",
        "                    })\n",
        "\n",
        "    opinion_elems = []\n",
        "    for elem in opinion_terms:\n",
        "        opinion_elems.extend(elem[\"text\"].split(\" \"))\n",
        "\n",
        "    for i, word in enumerate(sentence.words):\n",
        "      if word.text in aspect_elems:\n",
        "        continue\n",
        "      if word.upos == \"NOUN\" and (word.text.lower() not in aspect_elems) and (word.text.lower() not in opinion_elems) and word.deprel == \"root\":\n",
        "        subtree_words = collect_subtree_opinion_noun(word, sentence)\n",
        "        sorted_subtree = sorted(subtree_words, key=lambda w: w.id)\n",
        "        opinion_terms.append({\n",
        "                        \"start\": sorted_subtree[0].start_char,\n",
        "                        \"end\": sorted_subtree[-1].end_char,\n",
        "                        \"text\": (\" \".join([w.text.strip(' ...') for w in sorted_subtree])).strip()\n",
        "                    })\n",
        "\n",
        "    for elem in opinion_terms:\n",
        "      if elem not in opinion_elems:\n",
        "        opinion_elems.extend(elem[\"text\"].split(\" \"))\n",
        "\n",
        "    for i, word in enumerate(sentence.words):\n",
        "      if word.text in aspect_elems:\n",
        "        continue\n",
        "      if word.upos == \"ADJ\" and (word.text.lower() not in opinion_elems) and word.deprel in [\"acl\", \"acl:relcl\", \"conj\", \"amod\", \"root\"] and \"Case\" in word.feats:\n",
        "        if i > 0 and sentence.words[i - 1].deprel in [\"nmod\", \"advmod\"]:\n",
        "          opinion_terms.append({\n",
        "                        \"start\": sentence.words[i - 1].start_char,\n",
        "                        \"end\": word.end_char,\n",
        "                        \"text\": \" \".join([sentence.words[i - 1].text.strip()] + [word.text.strip()])\n",
        "                    })\n",
        "        else:\n",
        "          opinion_terms.append({\n",
        "                        \"start\": word.start_char,\n",
        "                        \"end\": word.end_char,\n",
        "                        \"text\": word.text.strip()\n",
        "                    })\n",
        "  return aspect_terms, opinion_terms"
      ],
      "metadata": {
        "id": "H1CKdRtsl-_T"
      },
      "execution_count": 7,
      "outputs": []
    },
    {
      "cell_type": "code",
      "source": [
        "# Map tokens to words and aggregate subwords; store both raw and normalized forms\n",
        "def get_token_word_mapping(tokens):\n",
        "    word_ids = tokens.word_ids()\n",
        "    token_labels = tokens.tokens()\n",
        "    word_to_token_idxs = {}\n",
        "    word_list = []\n",
        "\n",
        "    for idx, word_id in enumerate(word_ids):\n",
        "        if word_id is not None:\n",
        "            word_to_token_idxs.setdefault(word_id, []).append(idx)\n",
        "\n",
        "    valid_word_ids = sorted(set([wid for wid in word_ids if wid is not None]))\n",
        "    for word_id in valid_word_ids:\n",
        "        token_idxs = word_to_token_idxs[word_id]\n",
        "        word_tokens = [token_labels[idx] for idx in token_idxs]\n",
        "        raw_word = \"\".join([t.replace(\"##\", \"\") if t.startswith(\"##\") else t for t in word_tokens])\n",
        "        normalized_word = normalize_word(raw_word)\n",
        "        if is_punctuation(normalized_word):\n",
        "            continue\n",
        "        word_list.append({\n",
        "            \"raw_word\": raw_word,\n",
        "            \"word\": normalized_word,\n",
        "            \"token_idxs\": token_idxs\n",
        "        })\n",
        "    return word_list, word_to_token_idxs"
      ],
      "metadata": {
        "id": "nDRGNwoemFjE"
      },
      "execution_count": 8,
      "outputs": []
    },
    {
      "cell_type": "code",
      "source": [
        "# Aggregate attention matrix from tokens to words\n",
        "def aggregate_attention_by_words(tokens, attention_matrix):\n",
        "    word_list, word_to_token_idxs = get_token_word_mapping(tokens)\n",
        "    num_words = len(word_list)\n",
        "    word_attention_matrix = np.zeros((num_words, num_words))\n",
        "    for i, word_i in enumerate(word_list):\n",
        "        idxs_i = word_i['token_idxs']\n",
        "        for j, word_j in enumerate(word_list):\n",
        "            idxs_j = word_j['token_idxs']\n",
        "            sub_scores = [attention_matrix[idx_i, idx_j] for idx_i in idxs_i for idx_j in idxs_j]\n",
        "            word_attention_matrix[i, j] = np.mean(sub_scores)\n",
        "    # For visualization, use the raw words\n",
        "    word_labels = [w['raw_word'] for w in word_list]\n",
        "    return word_attention_matrix, word_labels"
      ],
      "metadata": {
        "id": "czBiLGUkmN2k"
      },
      "execution_count": 9,
      "outputs": []
    },
    {
      "cell_type": "code",
      "source": [
        "def dynamic_threshold(attention_matrix):\n",
        "    mean_val = attention_matrix.mean()\n",
        "    std_val = attention_matrix.std()\n",
        "    return mean_val + std_val  # Threshold = mean + 1 * std"
      ],
      "metadata": {
        "id": "a1RBO_4WmQQ_"
      },
      "execution_count": 10,
      "outputs": []
    },
    {
      "cell_type": "code",
      "source": [
        "# Extract attention matrices from the model for a given text\n",
        "def get_attention_matrices(text):\n",
        "    tokens = tokenizer(text, return_tensors=\"pt\", truncation=True, padding=True)\n",
        "    with torch.no_grad():\n",
        "        outputs = model(**tokens, output_attentions=True)\n",
        "    attentions = outputs.attentions  # List of attention matrices: [batch_size, heads, tokens, tokens]\n",
        "    return tokens, attentions"
      ],
      "metadata": {
        "id": "8OmVeKEqmSeM"
      },
      "execution_count": 11,
      "outputs": []
    },
    {
      "cell_type": "code",
      "source": [
        "# Aggregate attention from selected layers\n",
        "def aggregate_layers(attention_list, selected_layers):\n",
        "    if selected_layers is None or len(selected_layers) == 0:\n",
        "        raise ValueError(\"selected_layers must be a non-empty list of layer indices.\")\n",
        "\n",
        "    # Compute average attention across selected layers\n",
        "    layer_matrices = [attention_list[layer].squeeze(0).mean(dim=0).cpu().numpy() for layer in selected_layers]\n",
        "    return np.mean(layer_matrices, axis=0)"
      ],
      "metadata": {
        "id": "6JMyCF6OmYcs"
      },
      "execution_count": 12,
      "outputs": []
    },
    {
      "cell_type": "code",
      "source": [
        "# Find all valid aspect-opinion pairs based on threshold attention.\n",
        "# For multi-word opinion terms, if at least one word's attention is >= threshold, the pair is accepted.\n",
        "def find_aspect_opinion_pairs(tokens, attention_matrix, aspect_terms, opinion_terms, threshold):\n",
        "    word_list, word_to_token_idxs = get_token_word_mapping(tokens)\n",
        "    word_attention_matrix, word_labels = aggregate_attention_by_words(tokens, attention_matrix)\n",
        "    word_label_to_index = {w[\"word\"]: idx for idx, w in enumerate(word_list)}\n",
        "    normalized_to_raw = {w[\"word\"]: w[\"raw_word\"] for w in word_list}\n",
        "\n",
        "    aspect_opinion_pairs = []\n",
        "    for aspect in aspect_terms:\n",
        "        aspect_words_raw = aspect[\"text\"].split()\n",
        "        aspect_words = [normalize_word(w) for w in aspect_words_raw]\n",
        "        aspect_idxs = [word_label_to_index.get(w) for w in aspect_words if word_label_to_index.get(w) is not None]\n",
        "        if not aspect_idxs:\n",
        "            continue\n",
        "\n",
        "        for opinion in opinion_terms:\n",
        "            opinion_words_raw = opinion[\"text\"].split()\n",
        "            opinion_words = [normalize_word(w) for w in opinion_words_raw]\n",
        "            opinion_idxs = [word_label_to_index.get(w) for w in opinion_words if word_label_to_index.get(w) is not None]\n",
        "            if not opinion_idxs:\n",
        "                continue\n",
        "\n",
        "            if any(word_attention_matrix[ai, oi] >= threshold for ai in aspect_idxs for oi in opinion_idxs):\n",
        "                aspect_opinion_pairs.append({\n",
        "                    \"aspect\": {\"text\": aspect[\"text\"]},\n",
        "                    \"opinion\": {\"text\": opinion[\"text\"]}\n",
        "                })\n",
        "\n",
        "    return aspect_opinion_pairs"
      ],
      "metadata": {
        "id": "Y6RteV6wmbRx"
      },
      "execution_count": 13,
      "outputs": []
    },
    {
      "cell_type": "code",
      "source": [
        "# Compute sentence embedding (mean pooling over logits)\n",
        "def compute_sentence_embedding(text):\n",
        "    tokens = tokenizer(text, return_tensors=\"pt\", truncation=True, padding=True)\n",
        "    with torch.no_grad():\n",
        "        outputs = model(**tokens)\n",
        "    hidden_states = outputs.logits\n",
        "    sentence_embedding = hidden_states.mean(dim=1).squeeze().cpu().numpy()\n",
        "    return sentence_embedding"
      ],
      "metadata": {
        "id": "9JZDQGI6mjGe"
      },
      "execution_count": 14,
      "outputs": []
    },
    {
      "cell_type": "code",
      "source": [
        "# Assign sentiment polarity to opinion terms based on cosine similarity with embeddings of labels\n",
        "def assign_sentiment_polarity(opinion_terms):\n",
        "    sentiment_labels = {\n",
        "        \"positive\": compute_sentence_embedding(\"positiivne\"),\n",
        "        \"negative\": compute_sentence_embedding(\"negatiivne\"),\n",
        "        \"neutral\": compute_sentence_embedding(\"neutraalne\")\n",
        "    }\n",
        "    opinion_polarities = {}\n",
        "    for opinion in opinion_terms:\n",
        "        opinion_embedding = compute_sentence_embedding(opinion[\"text\"])\n",
        "        best_match = max(sentiment_labels.keys(),\n",
        "                         key=lambda label: 1 - cosine(opinion_embedding, sentiment_labels[label]))\n",
        "        opinion_polarities[opinion[\"text\"]] = best_match\n",
        "    return opinion_polarities"
      ],
      "metadata": {
        "id": "M4x6dJO3zgji"
      },
      "execution_count": 15,
      "outputs": []
    },
    {
      "cell_type": "code",
      "source": [
        "# Plot word-level attention heatmap using raw words for display\n",
        "def plot_attention_heatmap(attention_matrix, labels):\n",
        "    plt.figure(figsize=(12, 10))\n",
        "    sns.heatmap(attention_matrix, xticklabels=labels, yticklabels=labels,\n",
        "                cmap=\"Blues\", annot=True, fmt=\".2f\", cbar_kws={\"shrink\": 0.5})\n",
        "    plt.title(\"Word-Level Attention Scores Heatmap\")\n",
        "    plt.xlabel(\"Words\")\n",
        "    plt.ylabel(\"Words\")\n",
        "    plt.xticks(rotation=90)\n",
        "    plt.yticks(rotation=0)\n",
        "    plt.show()"
      ],
      "metadata": {
        "id": "paoIetsXmeq3"
      },
      "execution_count": 16,
      "outputs": []
    },
    {
      "cell_type": "code",
      "source": [
        "# Evaluation: compute aspect accuracy\n",
        "def evaluate_aspect_accuracy(gold_data, selected_layers, direction='last', window_size=None):\n",
        "    y_true = []\n",
        "    y_pred = []\n",
        "    for item in tqdm(gold_data):\n",
        "        review_text = item[\"review_text\"]\n",
        "        gold_aspects = item[\"aspects\"]\n",
        "\n",
        "        tokens, attentions = get_attention_matrices(review_text)\n",
        "\n",
        "        if direction == 'last':\n",
        "            layers = list(range(-selected_layers, 0))\n",
        "        elif direction == 'first':\n",
        "            layers = list(range(0, selected_layers))\n",
        "        elif direction == 'window' and window_size is not None:\n",
        "            layers = list(range(window_size, window_size + selected_layers))\n",
        "        else:\n",
        "            raise ValueError(\"Invalid direction/window parameters\")\n",
        "\n",
        "        attention_matrix = aggregate_layers(attentions, layers)\n",
        "\n",
        "        extracted_aspects, extracted_opinions = extract_aspects_opinions(review_text)\n",
        "\n",
        "        threshold = dynamic_threshold(attention_matrix)\n",
        "        predicted_pairs = find_aspect_opinion_pairs(tokens, attention_matrix, extracted_aspects, extracted_opinions, threshold)\n",
        "\n",
        "        gold_aspect_terms = [a[\"aspect_term\"][\"text\"] for a in gold_aspects]\n",
        "        print(\"True aspect terms: \", gold_aspect_terms)\n",
        "        predicted_aspect_terms = [p[\"aspect\"][\"text\"] for p in predicted_pairs]\n",
        "        print(\"Predicted aspect terms: \", predicted_aspect_terms)\n",
        "\n",
        "        for aspect in gold_aspect_terms:\n",
        "            y_true.append(1)\n",
        "            y_pred.append(1 if aspect in predicted_aspect_terms else 0)\n",
        "\n",
        "        for aspect in predicted_aspect_terms:\n",
        "            if aspect not in gold_aspect_terms:\n",
        "                y_true.append(0)\n",
        "                y_pred.append(1)\n",
        "\n",
        "    return accuracy_score(y_true, y_pred)"
      ],
      "metadata": {
        "id": "sUMhIhgenIRX"
      },
      "execution_count": 17,
      "outputs": []
    },
    {
      "cell_type": "code",
      "source": [
        "# Load validation dataset\n",
        "with open('output_val.json', 'r', encoding='utf-8') as f:\n",
        "    validation_data = json.load(f)"
      ],
      "metadata": {
        "id": "m8wh1BabnKZ0"
      },
      "execution_count": 18,
      "outputs": []
    },
    {
      "cell_type": "code",
      "source": [
        "# Plot 1: Accuracy by layer index (single layer)\n",
        "def plot_accuracy_by_single_layer():\n",
        "    layer_indexes = list(range(len(model.base_model.encoder.layer)))\n",
        "    accuracies = []\n",
        "    for i in layer_indexes:\n",
        "        print(f\"Evaluating layer № {i}: \")\n",
        "        acc = evaluate_aspect_accuracy(validation_data, selected_layers=1, direction='window', window_size=i)\n",
        "        accuracies.append(acc)\n",
        "\n",
        "    plt.figure(figsize=(10, 6))\n",
        "    plt.plot(layer_indexes, accuracies, marker='o')\n",
        "    plt.title(\"Accuracy by Single Layer Index\")\n",
        "    plt.xlabel(\"Layer Index\")\n",
        "    plt.ylabel(\"Accuracy\")\n",
        "    plt.grid(True)\n",
        "    plt.show()"
      ],
      "metadata": {
        "id": "BrPM79vFnNYL"
      },
      "execution_count": null,
      "outputs": []
    },
    {
      "cell_type": "code",
      "source": [
        "# Plot 2: Accuracy by number of aggregated layers from last\n",
        "def plot_accuracy_by_last_layers():\n",
        "    num_layers = len(model.base_model.encoder.layer)\n",
        "    aggregated_counts = list(range(1, num_layers + 1))\n",
        "    accuracies = []\n",
        "    for count in aggregated_counts:\n",
        "        print(f\"Evaluating {count} last layers: \")\n",
        "        acc = evaluate_aspect_accuracy(validation_data, selected_layers=count, direction='last')\n",
        "        accuracies.append(acc)\n",
        "\n",
        "    plt.figure(figsize=(10, 6))\n",
        "    plt.plot(aggregated_counts, accuracies, marker='o')\n",
        "    plt.title(\"Accuracy by Aggregated Layers (from last)\")\n",
        "    plt.xlabel(\"Number of Aggregated Layers (from last)\")\n",
        "    plt.ylabel(\"Accuracy\")\n",
        "    plt.grid(True)\n",
        "    plt.show()"
      ],
      "metadata": {
        "id": "M3XGto7LnQPz"
      },
      "execution_count": null,
      "outputs": []
    },
    {
      "cell_type": "code",
      "source": [
        "# Plot 3: Accuracy by number of aggregated layers from first\n",
        "def plot_accuracy_by_first_layers():\n",
        "    num_layers = len(model.base_model.encoder.layer)\n",
        "    aggregated_counts = list(range(1, num_layers + 1))\n",
        "    accuracies = []\n",
        "    for count in aggregated_counts:\n",
        "        print(f\"Evaluating {count} first layers: \")\n",
        "        acc = evaluate_aspect_accuracy(validation_data, selected_layers=count, direction='first')\n",
        "        accuracies.append(acc)\n",
        "\n",
        "    plt.figure(figsize=(10, 6))\n",
        "    plt.plot(aggregated_counts, accuracies, marker='o')\n",
        "    plt.title(\"Accuracy by Aggregated Layers (from first)\")\n",
        "    plt.xlabel(\"Number of Aggregated Layers (from first)\")\n",
        "    plt.ylabel(\"Accuracy\")\n",
        "    plt.grid(True)\n",
        "    plt.show()"
      ],
      "metadata": {
        "id": "pQGMDOPPnSfx"
      },
      "execution_count": null,
      "outputs": []
    },
    {
      "cell_type": "code",
      "source": [
        "# Plot 4: Accuracy by moving window of 4 layers\n",
        "def plot_accuracy_by_moving_window():\n",
        "    num_layers = len(model.base_model.encoder.layer)\n",
        "    window_size = 4\n",
        "    window_indexes = list(range(0, num_layers - window_size + 1))\n",
        "    accuracies = []\n",
        "    for start_idx in window_indexes:\n",
        "        print(f\"Evaluating layers {start_idx}-{start_idx + 3}: \")\n",
        "        acc = evaluate_aspect_accuracy(validation_data, selected_layers=window_size, direction='window', window_size=start_idx)\n",
        "        accuracies.append(acc)\n",
        "\n",
        "    plt.figure(figsize=(10, 6))\n",
        "    plt.plot(window_indexes, accuracies, marker='o')\n",
        "    plt.title(f\"Accuracy by Moving Window of {window_size} Layers\")\n",
        "    plt.xlabel(\"Starting Layer Index of Window\")\n",
        "    plt.ylabel(\"Accuracy\")\n",
        "    plt.grid(True)\n",
        "    plt.show()"
      ],
      "metadata": {
        "id": "_wbobhf5nU45"
      },
      "execution_count": null,
      "outputs": []
    },
    {
      "cell_type": "code",
      "source": [
        "plot_accuracy_by_single_layer()"
      ],
      "metadata": {
        "colab": {
          "base_uri": "https://localhost:8080/",
          "height": 1000
        },
        "id": "mHpHCjuBqj85",
        "outputId": "e23a597b-ba24-4a7c-85e4-483dfe2e23d3"
      },
      "execution_count": null,
      "outputs": [
        {
          "output_type": "stream",
          "name": "stdout",
          "text": [
            "Evaluating layer № 0: \n"
          ]
        },
        {
          "output_type": "stream",
          "name": "stderr",
          "text": [
            " 10%|█         | 1/10 [00:00<00:05,  1.63it/s]"
          ]
        },
        {
          "output_type": "stream",
          "name": "stdout",
          "text": [
            "True aspect terms:  ['noormees', 'noormees', 'noormees', 'Toit']\n",
            "Predicted aspect terms:  ['noormees']\n"
          ]
        },
        {
          "output_type": "stream",
          "name": "stderr",
          "text": [
            "\r 20%|██        | 2/10 [00:01<00:04,  1.76it/s]"
          ]
        },
        {
          "output_type": "stream",
          "name": "stdout",
          "text": [
            "True aspect terms:  ['Teenindaja Karl', 'toit', 'vein']\n",
            "Predicted aspect terms:  ['lükata oma broneering 18.00st 19.30le', 'toit']\n"
          ]
        },
        {
          "output_type": "stream",
          "name": "stderr",
          "text": [
            "\r 30%|███       | 3/10 [00:01<00:04,  1.60it/s]"
          ]
        },
        {
          "output_type": "stream",
          "name": "stdout",
          "text": [
            "True aspect terms:  ['jahiõhtusöögiga', 'Toit', 'atmosfäär', 'atmosfäär', 'Silverile', 'Sanderile', 'lahkele pererahvale']\n",
            "Predicted aspect terms:  ['Toit', 'õdus viis novembriõhtu veetmiseks sõprade seltsis', 'õdus viis novembriõhtu veetmiseks sõprade seltsis']\n"
          ]
        },
        {
          "output_type": "stream",
          "name": "stderr",
          "text": [
            "\r 40%|████      | 4/10 [00:02<00:03,  1.57it/s]"
          ]
        },
        {
          "output_type": "stream",
          "name": "stdout",
          "text": [
            "True aspect terms:  ['Pitsa põhi', 'Portsud ravioolidele', 'Pasta', 'Pitsa', 'Pitsa', 'Jookidel']\n",
            "Predicted aspect terms:  ['Portsud ravioolidele', 'Pitsa']\n"
          ]
        },
        {
          "output_type": "stream",
          "name": "stderr",
          "text": [
            "\r 50%|█████     | 5/10 [00:03<00:03,  1.42it/s]"
          ]
        },
        {
          "output_type": "stream",
          "name": "stdout",
          "text": [
            "True aspect terms:  ['Toit', 'ruum', 'õhkkond']\n",
            "Predicted aspect terms:  ['Toit', 'ruum', 'ruum']\n"
          ]
        },
        {
          "output_type": "stream",
          "name": "stderr",
          "text": [
            "\r 60%|██████    | 6/10 [00:04<00:02,  1.34it/s]"
          ]
        },
        {
          "output_type": "stream",
          "name": "stdout",
          "text": [
            "True aspect terms:  ['Tom Khalt', 'supp', 'Kala kogus', 'maitsed']\n",
            "Predicted aspect terms:  []\n"
          ]
        },
        {
          "output_type": "stream",
          "name": "stderr",
          "text": [
            "\r 70%|███████   | 7/10 [00:04<00:02,  1.31it/s]"
          ]
        },
        {
          "output_type": "stream",
          "name": "stdout",
          "text": [
            "True aspect terms:  ['töötajad']\n",
            "Predicted aspect terms:  []\n"
          ]
        },
        {
          "output_type": "stream",
          "name": "stderr",
          "text": [
            "\r 80%|████████  | 8/10 [00:05<00:01,  1.33it/s]"
          ]
        },
        {
          "output_type": "stream",
          "name": "stdout",
          "text": [
            "True aspect terms:  ['laua broneerimisest', 'vaatega Kadriorule', 'teenindus', 'teenindus', 'teenindus', 'toidud']\n",
            "Predicted aspect terms:  ['külastus', 'teenindus', 'teenindus', 'toidud']\n"
          ]
        },
        {
          "output_type": "stream",
          "name": "stderr",
          "text": [
            "\r 90%|█████████ | 9/10 [00:06<00:00,  1.47it/s]"
          ]
        },
        {
          "output_type": "stream",
          "name": "stdout",
          "text": [
            "True aspect terms:  ['kulinaarse \"etteastega\"']\n",
            "Predicted aspect terms:  ['üks parimaid restorane Tallinnas vahest ka Baltikumis', 'koht']\n"
          ]
        },
        {
          "output_type": "stream",
          "name": "stderr",
          "text": [
            "100%|██████████| 10/10 [00:06<00:00,  1.51it/s]\n"
          ]
        },
        {
          "output_type": "stream",
          "name": "stdout",
          "text": [
            "True aspect terms:  ['toiduvalikut', 'Teenindus', 'Teenindus', 'teenindajad', 'teenindajad']\n",
            "Predicted aspect terms:  []\n",
            "Evaluating layer № 1: \n"
          ]
        },
        {
          "output_type": "stream",
          "name": "stderr",
          "text": [
            " 10%|█         | 1/10 [00:00<00:04,  2.10it/s]"
          ]
        },
        {
          "output_type": "stream",
          "name": "stdout",
          "text": [
            "True aspect terms:  ['noormees', 'noormees', 'noormees', 'Toit']\n",
            "Predicted aspect terms:  ['noormees']\n"
          ]
        },
        {
          "output_type": "stream",
          "name": "stderr",
          "text": [
            "\r 20%|██        | 2/10 [00:01<00:04,  1.95it/s]"
          ]
        },
        {
          "output_type": "stream",
          "name": "stdout",
          "text": [
            "True aspect terms:  ['Teenindaja Karl', 'toit', 'vein']\n",
            "Predicted aspect terms:  ['toit', 'vein']\n"
          ]
        },
        {
          "output_type": "stream",
          "name": "stderr",
          "text": [
            "\r 30%|███       | 3/10 [00:01<00:04,  1.68it/s]"
          ]
        },
        {
          "output_type": "stream",
          "name": "stdout",
          "text": [
            "True aspect terms:  ['jahiõhtusöögiga', 'Toit', 'atmosfäär', 'atmosfäär', 'Silverile', 'Sanderile', 'lahkele pererahvale']\n",
            "Predicted aspect terms:  ['elamusrestoran', 'õdus viis novembriõhtu veetmiseks sõprade seltsis', 'õdus viis novembriõhtu veetmiseks sõprade seltsis']\n"
          ]
        },
        {
          "output_type": "stream",
          "name": "stderr",
          "text": [
            "\r 40%|████      | 4/10 [00:02<00:03,  1.64it/s]"
          ]
        },
        {
          "output_type": "stream",
          "name": "stdout",
          "text": [
            "True aspect terms:  ['Pitsa põhi', 'Portsud ravioolidele', 'Pasta', 'Pitsa', 'Pitsa', 'Jookidel']\n",
            "Predicted aspect terms:  []\n"
          ]
        },
        {
          "output_type": "stream",
          "name": "stderr",
          "text": [
            "\r 50%|█████     | 5/10 [00:02<00:02,  1.71it/s]"
          ]
        },
        {
          "output_type": "stream",
          "name": "stdout",
          "text": [
            "True aspect terms:  ['Toit', 'ruum', 'õhkkond']\n",
            "Predicted aspect terms:  ['ruum', 'ruum']\n"
          ]
        },
        {
          "output_type": "stream",
          "name": "stderr",
          "text": [
            "\r 60%|██████    | 6/10 [00:03<00:02,  1.76it/s]"
          ]
        },
        {
          "output_type": "stream",
          "name": "stdout",
          "text": [
            "True aspect terms:  ['Tom Khalt', 'supp', 'Kala kogus', 'maitsed']\n",
            "Predicted aspect terms:  []\n"
          ]
        },
        {
          "output_type": "stream",
          "name": "stderr",
          "text": [
            "\r 70%|███████   | 7/10 [00:03<00:01,  1.84it/s]"
          ]
        },
        {
          "output_type": "stream",
          "name": "stdout",
          "text": [
            "True aspect terms:  ['töötajad']\n",
            "Predicted aspect terms:  []\n"
          ]
        },
        {
          "output_type": "stream",
          "name": "stderr",
          "text": [
            "\r 80%|████████  | 8/10 [00:04<00:01,  1.74it/s]"
          ]
        },
        {
          "output_type": "stream",
          "name": "stdout",
          "text": [
            "True aspect terms:  ['laua broneerimisest', 'vaatega Kadriorule', 'teenindus', 'teenindus', 'teenindus', 'toidud']\n",
            "Predicted aspect terms:  ['toidud']\n"
          ]
        },
        {
          "output_type": "stream",
          "name": "stderr",
          "text": [
            "\r 90%|█████████ | 9/10 [00:05<00:00,  1.80it/s]"
          ]
        },
        {
          "output_type": "stream",
          "name": "stdout",
          "text": [
            "True aspect terms:  ['kulinaarse \"etteastega\"']\n",
            "Predicted aspect terms:  ['üks parimaid restorane Tallinnas vahest ka Baltikumis', 'olete']\n"
          ]
        },
        {
          "output_type": "stream",
          "name": "stderr",
          "text": [
            "100%|██████████| 10/10 [00:05<00:00,  1.83it/s]\n"
          ]
        },
        {
          "output_type": "stream",
          "name": "stdout",
          "text": [
            "True aspect terms:  ['toiduvalikut', 'Teenindus', 'Teenindus', 'teenindajad', 'teenindajad']\n",
            "Predicted aspect terms:  []\n",
            "Evaluating layer № 2: \n"
          ]
        },
        {
          "output_type": "stream",
          "name": "stderr",
          "text": [
            " 10%|█         | 1/10 [00:00<00:04,  2.09it/s]"
          ]
        },
        {
          "output_type": "stream",
          "name": "stdout",
          "text": [
            "True aspect terms:  ['noormees', 'noormees', 'noormees', 'Toit']\n",
            "Predicted aspect terms:  []\n"
          ]
        },
        {
          "output_type": "stream",
          "name": "stderr",
          "text": [
            "\r 20%|██        | 2/10 [00:01<00:04,  1.98it/s]"
          ]
        },
        {
          "output_type": "stream",
          "name": "stdout",
          "text": [
            "True aspect terms:  ['Teenindaja Karl', 'toit', 'vein']\n",
            "Predicted aspect terms:  ['toit']\n"
          ]
        },
        {
          "output_type": "stream",
          "name": "stderr",
          "text": [
            "\r 30%|███       | 3/10 [00:01<00:04,  1.69it/s]"
          ]
        },
        {
          "output_type": "stream",
          "name": "stdout",
          "text": [
            "True aspect terms:  ['jahiõhtusöögiga', 'Toit', 'atmosfäär', 'atmosfäär', 'Silverile', 'Sanderile', 'lahkele pererahvale']\n",
            "Predicted aspect terms:  ['õdus viis novembriõhtu veetmiseks sõprade seltsis']\n"
          ]
        },
        {
          "output_type": "stream",
          "name": "stderr",
          "text": [
            "\r 40%|████      | 4/10 [00:02<00:03,  1.64it/s]"
          ]
        },
        {
          "output_type": "stream",
          "name": "stdout",
          "text": [
            "True aspect terms:  ['Pitsa põhi', 'Portsud ravioolidele', 'Pasta', 'Pitsa', 'Pitsa', 'Jookidel']\n",
            "Predicted aspect terms:  []\n"
          ]
        },
        {
          "output_type": "stream",
          "name": "stderr",
          "text": [
            "\r 50%|█████     | 5/10 [00:02<00:02,  1.74it/s]"
          ]
        },
        {
          "output_type": "stream",
          "name": "stdout",
          "text": [
            "True aspect terms:  ['Toit', 'ruum', 'õhkkond']\n",
            "Predicted aspect terms:  ['ruum']\n"
          ]
        },
        {
          "output_type": "stream",
          "name": "stderr",
          "text": [
            "\r 60%|██████    | 6/10 [00:03<00:02,  1.67it/s]"
          ]
        },
        {
          "output_type": "stream",
          "name": "stdout",
          "text": [
            "True aspect terms:  ['Tom Khalt', 'supp', 'Kala kogus', 'maitsed']\n",
            "Predicted aspect terms:  []\n"
          ]
        },
        {
          "output_type": "stream",
          "name": "stderr",
          "text": [
            "\r 70%|███████   | 7/10 [00:04<00:01,  1.51it/s]"
          ]
        },
        {
          "output_type": "stream",
          "name": "stdout",
          "text": [
            "True aspect terms:  ['töötajad']\n",
            "Predicted aspect terms:  []\n"
          ]
        },
        {
          "output_type": "stream",
          "name": "stderr",
          "text": [
            "\r 80%|████████  | 8/10 [00:05<00:01,  1.35it/s]"
          ]
        },
        {
          "output_type": "stream",
          "name": "stdout",
          "text": [
            "True aspect terms:  ['laua broneerimisest', 'vaatega Kadriorule', 'teenindus', 'teenindus', 'teenindus', 'toidud']\n",
            "Predicted aspect terms:  ['toidud']\n"
          ]
        },
        {
          "output_type": "stream",
          "name": "stderr",
          "text": [
            "\r 90%|█████████ | 9/10 [00:06<00:00,  1.31it/s]"
          ]
        },
        {
          "output_type": "stream",
          "name": "stdout",
          "text": [
            "True aspect terms:  ['kulinaarse \"etteastega\"']\n",
            "Predicted aspect terms:  ['üks parimaid restorane Tallinnas vahest ka Baltikumis']\n"
          ]
        },
        {
          "output_type": "stream",
          "name": "stderr",
          "text": [
            "100%|██████████| 10/10 [00:06<00:00,  1.55it/s]\n"
          ]
        },
        {
          "output_type": "stream",
          "name": "stdout",
          "text": [
            "True aspect terms:  ['toiduvalikut', 'Teenindus', 'Teenindus', 'teenindajad', 'teenindajad']\n",
            "Predicted aspect terms:  []\n",
            "Evaluating layer № 3: \n"
          ]
        },
        {
          "output_type": "stream",
          "name": "stderr",
          "text": [
            " 10%|█         | 1/10 [00:00<00:04,  2.10it/s]"
          ]
        },
        {
          "output_type": "stream",
          "name": "stdout",
          "text": [
            "True aspect terms:  ['noormees', 'noormees', 'noormees', 'Toit']\n",
            "Predicted aspect terms:  []\n"
          ]
        },
        {
          "output_type": "stream",
          "name": "stderr",
          "text": [
            "\r 20%|██        | 2/10 [00:01<00:04,  1.94it/s]"
          ]
        },
        {
          "output_type": "stream",
          "name": "stdout",
          "text": [
            "True aspect terms:  ['Teenindaja Karl', 'toit', 'vein']\n",
            "Predicted aspect terms:  []\n"
          ]
        },
        {
          "output_type": "stream",
          "name": "stderr",
          "text": [
            "\r 30%|███       | 3/10 [00:01<00:04,  1.69it/s]"
          ]
        },
        {
          "output_type": "stream",
          "name": "stdout",
          "text": [
            "True aspect terms:  ['jahiõhtusöögiga', 'Toit', 'atmosfäär', 'atmosfäär', 'Silverile', 'Sanderile', 'lahkele pererahvale']\n",
            "Predicted aspect terms:  []\n"
          ]
        },
        {
          "output_type": "stream",
          "name": "stderr",
          "text": [
            "\r 40%|████      | 4/10 [00:02<00:03,  1.64it/s]"
          ]
        },
        {
          "output_type": "stream",
          "name": "stdout",
          "text": [
            "True aspect terms:  ['Pitsa põhi', 'Portsud ravioolidele', 'Pasta', 'Pitsa', 'Pitsa', 'Jookidel']\n",
            "Predicted aspect terms:  []\n"
          ]
        },
        {
          "output_type": "stream",
          "name": "stderr",
          "text": [
            "\r 50%|█████     | 5/10 [00:02<00:02,  1.71it/s]"
          ]
        },
        {
          "output_type": "stream",
          "name": "stdout",
          "text": [
            "True aspect terms:  ['Toit', 'ruum', 'õhkkond']\n",
            "Predicted aspect terms:  []\n"
          ]
        },
        {
          "output_type": "stream",
          "name": "stderr",
          "text": [
            "\r 60%|██████    | 6/10 [00:03<00:02,  1.76it/s]"
          ]
        },
        {
          "output_type": "stream",
          "name": "stdout",
          "text": [
            "True aspect terms:  ['Tom Khalt', 'supp', 'Kala kogus', 'maitsed']\n",
            "Predicted aspect terms:  []\n"
          ]
        },
        {
          "output_type": "stream",
          "name": "stderr",
          "text": [
            "\r 70%|███████   | 7/10 [00:03<00:01,  1.83it/s]"
          ]
        },
        {
          "output_type": "stream",
          "name": "stdout",
          "text": [
            "True aspect terms:  ['töötajad']\n",
            "Predicted aspect terms:  []\n"
          ]
        },
        {
          "output_type": "stream",
          "name": "stderr",
          "text": [
            "\r 80%|████████  | 8/10 [00:04<00:01,  1.77it/s]"
          ]
        },
        {
          "output_type": "stream",
          "name": "stdout",
          "text": [
            "True aspect terms:  ['laua broneerimisest', 'vaatega Kadriorule', 'teenindus', 'teenindus', 'teenindus', 'toidud']\n",
            "Predicted aspect terms:  []\n"
          ]
        },
        {
          "output_type": "stream",
          "name": "stderr",
          "text": [
            "\r 90%|█████████ | 9/10 [00:05<00:00,  1.81it/s]"
          ]
        },
        {
          "output_type": "stream",
          "name": "stdout",
          "text": [
            "True aspect terms:  ['kulinaarse \"etteastega\"']\n",
            "Predicted aspect terms:  []\n"
          ]
        },
        {
          "output_type": "stream",
          "name": "stderr",
          "text": [
            "100%|██████████| 10/10 [00:05<00:00,  1.84it/s]\n"
          ]
        },
        {
          "output_type": "stream",
          "name": "stdout",
          "text": [
            "True aspect terms:  ['toiduvalikut', 'Teenindus', 'Teenindus', 'teenindajad', 'teenindajad']\n",
            "Predicted aspect terms:  []\n",
            "Evaluating layer № 4: \n"
          ]
        },
        {
          "output_type": "stream",
          "name": "stderr",
          "text": [
            " 10%|█         | 1/10 [00:00<00:04,  2.15it/s]"
          ]
        },
        {
          "output_type": "stream",
          "name": "stdout",
          "text": [
            "True aspect terms:  ['noormees', 'noormees', 'noormees', 'Toit']\n",
            "Predicted aspect terms:  []\n"
          ]
        },
        {
          "output_type": "stream",
          "name": "stderr",
          "text": [
            "\r 20%|██        | 2/10 [00:01<00:04,  1.97it/s]"
          ]
        },
        {
          "output_type": "stream",
          "name": "stdout",
          "text": [
            "True aspect terms:  ['Teenindaja Karl', 'toit', 'vein']\n",
            "Predicted aspect terms:  []\n"
          ]
        },
        {
          "output_type": "stream",
          "name": "stderr",
          "text": [
            "\r 30%|███       | 3/10 [00:01<00:04,  1.47it/s]"
          ]
        },
        {
          "output_type": "stream",
          "name": "stdout",
          "text": [
            "True aspect terms:  ['jahiõhtusöögiga', 'Toit', 'atmosfäär', 'atmosfäär', 'Silverile', 'Sanderile', 'lahkele pererahvale']\n",
            "Predicted aspect terms:  []\n"
          ]
        },
        {
          "output_type": "stream",
          "name": "stderr",
          "text": [
            "\r 40%|████      | 4/10 [00:02<00:04,  1.39it/s]"
          ]
        },
        {
          "output_type": "stream",
          "name": "stdout",
          "text": [
            "True aspect terms:  ['Pitsa põhi', 'Portsud ravioolidele', 'Pasta', 'Pitsa', 'Pitsa', 'Jookidel']\n",
            "Predicted aspect terms:  []\n"
          ]
        },
        {
          "output_type": "stream",
          "name": "stderr",
          "text": [
            "\r 50%|█████     | 5/10 [00:03<00:03,  1.45it/s]"
          ]
        },
        {
          "output_type": "stream",
          "name": "stdout",
          "text": [
            "True aspect terms:  ['Toit', 'ruum', 'õhkkond']\n",
            "Predicted aspect terms:  ['valik', 'Toit', 'ruum']\n"
          ]
        },
        {
          "output_type": "stream",
          "name": "stderr",
          "text": [
            "\r 60%|██████    | 6/10 [00:04<00:03,  1.09it/s]"
          ]
        },
        {
          "output_type": "stream",
          "name": "stdout",
          "text": [
            "True aspect terms:  ['Tom Khalt', 'supp', 'Kala kogus', 'maitsed']\n",
            "Predicted aspect terms:  []\n"
          ]
        },
        {
          "output_type": "stream",
          "name": "stderr",
          "text": [
            "\r 70%|███████   | 7/10 [00:05<00:03,  1.01s/it]"
          ]
        },
        {
          "output_type": "stream",
          "name": "stdout",
          "text": [
            "True aspect terms:  ['töötajad']\n",
            "Predicted aspect terms:  []\n"
          ]
        },
        {
          "output_type": "stream",
          "name": "stderr",
          "text": [
            "\r 80%|████████  | 8/10 [00:07<00:02,  1.29s/it]"
          ]
        },
        {
          "output_type": "stream",
          "name": "stdout",
          "text": [
            "True aspect terms:  ['laua broneerimisest', 'vaatega Kadriorule', 'teenindus', 'teenindus', 'teenindus', 'toidud']\n",
            "Predicted aspect terms:  []\n"
          ]
        },
        {
          "output_type": "stream",
          "name": "stderr",
          "text": [
            "\r 90%|█████████ | 9/10 [00:08<00:01,  1.26s/it]"
          ]
        },
        {
          "output_type": "stream",
          "name": "stdout",
          "text": [
            "True aspect terms:  ['kulinaarse \"etteastega\"']\n",
            "Predicted aspect terms:  ['üks parimaid restorane Tallinnas vahest ka Baltikumis', 'koht', 'olete']\n"
          ]
        },
        {
          "output_type": "stream",
          "name": "stderr",
          "text": [
            "100%|██████████| 10/10 [00:09<00:00,  1.03it/s]\n"
          ]
        },
        {
          "output_type": "stream",
          "name": "stdout",
          "text": [
            "True aspect terms:  ['toiduvalikut', 'Teenindus', 'Teenindus', 'teenindajad', 'teenindajad']\n",
            "Predicted aspect terms:  []\n",
            "Evaluating layer № 5: \n"
          ]
        },
        {
          "output_type": "stream",
          "name": "stderr",
          "text": [
            " 10%|█         | 1/10 [00:00<00:04,  2.09it/s]"
          ]
        },
        {
          "output_type": "stream",
          "name": "stdout",
          "text": [
            "True aspect terms:  ['noormees', 'noormees', 'noormees', 'Toit']\n",
            "Predicted aspect terms:  []\n"
          ]
        },
        {
          "output_type": "stream",
          "name": "stderr",
          "text": [
            "\r 20%|██        | 2/10 [00:01<00:04,  1.93it/s]"
          ]
        },
        {
          "output_type": "stream",
          "name": "stdout",
          "text": [
            "True aspect terms:  ['Teenindaja Karl', 'toit', 'vein']\n",
            "Predicted aspect terms:  ['lükata oma broneering 18.00st 19.30le', 'Teenindaja Karl', 'toit', 'vein']\n"
          ]
        },
        {
          "output_type": "stream",
          "name": "stderr",
          "text": [
            "\r 30%|███       | 3/10 [00:01<00:04,  1.68it/s]"
          ]
        },
        {
          "output_type": "stream",
          "name": "stdout",
          "text": [
            "True aspect terms:  ['jahiõhtusöögiga', 'Toit', 'atmosfäär', 'atmosfäär', 'Silverile', 'Sanderile', 'lahkele pererahvale']\n",
            "Predicted aspect terms:  ['elamusrestoran', 'elamusrestoran', 'õdus viis novembriõhtu veetmiseks sõprade seltsis', 'õdus viis novembriõhtu veetmiseks sõprade seltsis']\n"
          ]
        },
        {
          "output_type": "stream",
          "name": "stderr",
          "text": [
            "\r 40%|████      | 4/10 [00:02<00:03,  1.63it/s]"
          ]
        },
        {
          "output_type": "stream",
          "name": "stdout",
          "text": [
            "True aspect terms:  ['Pitsa põhi', 'Portsud ravioolidele', 'Pasta', 'Pitsa', 'Pitsa', 'Jookidel']\n",
            "Predicted aspect terms:  ['Portsud ravioolidele']\n"
          ]
        },
        {
          "output_type": "stream",
          "name": "stderr",
          "text": [
            "\r 50%|█████     | 5/10 [00:02<00:02,  1.70it/s]"
          ]
        },
        {
          "output_type": "stream",
          "name": "stdout",
          "text": [
            "True aspect terms:  ['Toit', 'ruum', 'õhkkond']\n",
            "Predicted aspect terms:  ['valik', 'ruum']\n"
          ]
        },
        {
          "output_type": "stream",
          "name": "stderr",
          "text": [
            "\r 60%|██████    | 6/10 [00:03<00:02,  1.77it/s]"
          ]
        },
        {
          "output_type": "stream",
          "name": "stdout",
          "text": [
            "True aspect terms:  ['Tom Khalt', 'supp', 'Kala kogus', 'maitsed']\n",
            "Predicted aspect terms:  []\n"
          ]
        },
        {
          "output_type": "stream",
          "name": "stderr",
          "text": [
            "\r 70%|███████   | 7/10 [00:03<00:01,  1.81it/s]"
          ]
        },
        {
          "output_type": "stream",
          "name": "stdout",
          "text": [
            "True aspect terms:  ['töötajad']\n",
            "Predicted aspect terms:  []\n"
          ]
        },
        {
          "output_type": "stream",
          "name": "stderr",
          "text": [
            "\r 80%|████████  | 8/10 [00:04<00:01,  1.75it/s]"
          ]
        },
        {
          "output_type": "stream",
          "name": "stdout",
          "text": [
            "True aspect terms:  ['laua broneerimisest', 'vaatega Kadriorule', 'teenindus', 'teenindus', 'teenindus', 'toidud']\n",
            "Predicted aspect terms:  ['toidud']\n"
          ]
        },
        {
          "output_type": "stream",
          "name": "stderr",
          "text": [
            "\r 90%|█████████ | 9/10 [00:05<00:00,  1.81it/s]"
          ]
        },
        {
          "output_type": "stream",
          "name": "stdout",
          "text": [
            "True aspect terms:  ['kulinaarse \"etteastega\"']\n",
            "Predicted aspect terms:  ['üks parimaid restorane Tallinnas vahest ka Baltikumis']\n"
          ]
        },
        {
          "output_type": "stream",
          "name": "stderr",
          "text": [
            "100%|██████████| 10/10 [00:05<00:00,  1.83it/s]\n"
          ]
        },
        {
          "output_type": "stream",
          "name": "stdout",
          "text": [
            "True aspect terms:  ['toiduvalikut', 'Teenindus', 'Teenindus', 'teenindajad', 'teenindajad']\n",
            "Predicted aspect terms:  []\n",
            "Evaluating layer № 6: \n"
          ]
        },
        {
          "output_type": "stream",
          "name": "stderr",
          "text": [
            " 10%|█         | 1/10 [00:00<00:04,  2.09it/s]"
          ]
        },
        {
          "output_type": "stream",
          "name": "stdout",
          "text": [
            "True aspect terms:  ['noormees', 'noormees', 'noormees', 'Toit']\n",
            "Predicted aspect terms:  ['noormees']\n"
          ]
        },
        {
          "output_type": "stream",
          "name": "stderr",
          "text": [
            "\r 20%|██        | 2/10 [00:01<00:04,  1.95it/s]"
          ]
        },
        {
          "output_type": "stream",
          "name": "stdout",
          "text": [
            "True aspect terms:  ['Teenindaja Karl', 'toit', 'vein']\n",
            "Predicted aspect terms:  ['lükata oma broneering 18.00st 19.30le', 'Teenindaja Karl', 'toit', 'vein']\n"
          ]
        },
        {
          "output_type": "stream",
          "name": "stderr",
          "text": [
            "\r 30%|███       | 3/10 [00:01<00:04,  1.67it/s]"
          ]
        },
        {
          "output_type": "stream",
          "name": "stdout",
          "text": [
            "True aspect terms:  ['jahiõhtusöögiga', 'Toit', 'atmosfäär', 'atmosfäär', 'Silverile', 'Sanderile', 'lahkele pererahvale']\n",
            "Predicted aspect terms:  ['elamusrestoran', 'elamusrestoran', 'Toit', 'Toit', 'õdus viis novembriõhtu veetmiseks sõprade seltsis', 'õdus viis novembriõhtu veetmiseks sõprade seltsis']\n"
          ]
        },
        {
          "output_type": "stream",
          "name": "stderr",
          "text": [
            "\r 40%|████      | 4/10 [00:02<00:03,  1.62it/s]"
          ]
        },
        {
          "output_type": "stream",
          "name": "stdout",
          "text": [
            "True aspect terms:  ['Pitsa põhi', 'Portsud ravioolidele', 'Pasta', 'Pitsa', 'Pitsa', 'Jookidel']\n",
            "Predicted aspect terms:  ['Portsud ravioolidele', 'Pitsa', 'Pitsa', 'Pitsa']\n"
          ]
        },
        {
          "output_type": "stream",
          "name": "stderr",
          "text": [
            "\r 50%|█████     | 5/10 [00:02<00:02,  1.69it/s]"
          ]
        },
        {
          "output_type": "stream",
          "name": "stdout",
          "text": [
            "True aspect terms:  ['Toit', 'ruum', 'õhkkond']\n",
            "Predicted aspect terms:  ['Toit', 'ruum', 'ruum']\n"
          ]
        },
        {
          "output_type": "stream",
          "name": "stderr",
          "text": [
            "\r 60%|██████    | 6/10 [00:03<00:02,  1.76it/s]"
          ]
        },
        {
          "output_type": "stream",
          "name": "stdout",
          "text": [
            "True aspect terms:  ['Tom Khalt', 'supp', 'Kala kogus', 'maitsed']\n",
            "Predicted aspect terms:  []\n"
          ]
        },
        {
          "output_type": "stream",
          "name": "stderr",
          "text": [
            "\r 70%|███████   | 7/10 [00:03<00:01,  1.81it/s]"
          ]
        },
        {
          "output_type": "stream",
          "name": "stdout",
          "text": [
            "True aspect terms:  ['töötajad']\n",
            "Predicted aspect terms:  []\n"
          ]
        },
        {
          "output_type": "stream",
          "name": "stderr",
          "text": [
            "\r 80%|████████  | 8/10 [00:04<00:01,  1.68it/s]"
          ]
        },
        {
          "output_type": "stream",
          "name": "stdout",
          "text": [
            "True aspect terms:  ['laua broneerimisest', 'vaatega Kadriorule', 'teenindus', 'teenindus', 'teenindus', 'toidud']\n",
            "Predicted aspect terms:  ['külastus', 'teenindus', 'teenindus', 'toidud']\n"
          ]
        },
        {
          "output_type": "stream",
          "name": "stderr",
          "text": [
            "\r 90%|█████████ | 9/10 [00:05<00:00,  1.52it/s]"
          ]
        },
        {
          "output_type": "stream",
          "name": "stdout",
          "text": [
            "True aspect terms:  ['kulinaarse \"etteastega\"']\n",
            "Predicted aspect terms:  ['üks parimaid restorane Tallinnas vahest ka Baltikumis', 'koht', 'olete']\n"
          ]
        },
        {
          "output_type": "stream",
          "name": "stderr",
          "text": [
            "100%|██████████| 10/10 [00:06<00:00,  1.65it/s]\n"
          ]
        },
        {
          "output_type": "stream",
          "name": "stdout",
          "text": [
            "True aspect terms:  ['toiduvalikut', 'Teenindus', 'Teenindus', 'teenindajad', 'teenindajad']\n",
            "Predicted aspect terms:  []\n",
            "Evaluating layer № 7: \n"
          ]
        },
        {
          "output_type": "stream",
          "name": "stderr",
          "text": [
            " 10%|█         | 1/10 [00:00<00:06,  1.33it/s]"
          ]
        },
        {
          "output_type": "stream",
          "name": "stdout",
          "text": [
            "True aspect terms:  ['noormees', 'noormees', 'noormees', 'Toit']\n",
            "Predicted aspect terms:  ['noormees']\n"
          ]
        },
        {
          "output_type": "stream",
          "name": "stderr",
          "text": [
            "\r 20%|██        | 2/10 [00:01<00:06,  1.31it/s]"
          ]
        },
        {
          "output_type": "stream",
          "name": "stdout",
          "text": [
            "True aspect terms:  ['Teenindaja Karl', 'toit', 'vein']\n",
            "Predicted aspect terms:  ['lükata oma broneering 18.00st 19.30le', 'toit', 'vein']\n"
          ]
        },
        {
          "output_type": "stream",
          "name": "stderr",
          "text": [
            "\r 30%|███       | 3/10 [00:02<00:05,  1.37it/s]"
          ]
        },
        {
          "output_type": "stream",
          "name": "stdout",
          "text": [
            "True aspect terms:  ['jahiõhtusöögiga', 'Toit', 'atmosfäär', 'atmosfäär', 'Silverile', 'Sanderile', 'lahkele pererahvale']\n",
            "Predicted aspect terms:  ['elamusrestoran', 'õdus viis novembriõhtu veetmiseks sõprade seltsis', 'õdus viis novembriõhtu veetmiseks sõprade seltsis']\n"
          ]
        },
        {
          "output_type": "stream",
          "name": "stderr",
          "text": [
            "\r 40%|████      | 4/10 [00:02<00:04,  1.44it/s]"
          ]
        },
        {
          "output_type": "stream",
          "name": "stdout",
          "text": [
            "True aspect terms:  ['Pitsa põhi', 'Portsud ravioolidele', 'Pasta', 'Pitsa', 'Pitsa', 'Jookidel']\n",
            "Predicted aspect terms:  ['Portsud ravioolidele', 'Pitsa']\n"
          ]
        },
        {
          "output_type": "stream",
          "name": "stderr",
          "text": [
            "\r 50%|█████     | 5/10 [00:03<00:03,  1.56it/s]"
          ]
        },
        {
          "output_type": "stream",
          "name": "stdout",
          "text": [
            "True aspect terms:  ['Toit', 'ruum', 'õhkkond']\n",
            "Predicted aspect terms:  ['valik', 'ruum', 'ruum']\n"
          ]
        },
        {
          "output_type": "stream",
          "name": "stderr",
          "text": [
            "\r 60%|██████    | 6/10 [00:03<00:02,  1.66it/s]"
          ]
        },
        {
          "output_type": "stream",
          "name": "stdout",
          "text": [
            "True aspect terms:  ['Tom Khalt', 'supp', 'Kala kogus', 'maitsed']\n",
            "Predicted aspect terms:  []\n"
          ]
        },
        {
          "output_type": "stream",
          "name": "stderr",
          "text": [
            "\r 70%|███████   | 7/10 [00:04<00:01,  1.76it/s]"
          ]
        },
        {
          "output_type": "stream",
          "name": "stdout",
          "text": [
            "True aspect terms:  ['töötajad']\n",
            "Predicted aspect terms:  []\n"
          ]
        },
        {
          "output_type": "stream",
          "name": "stderr",
          "text": [
            "\r 80%|████████  | 8/10 [00:05<00:01,  1.71it/s]"
          ]
        },
        {
          "output_type": "stream",
          "name": "stdout",
          "text": [
            "True aspect terms:  ['laua broneerimisest', 'vaatega Kadriorule', 'teenindus', 'teenindus', 'teenindus', 'toidud']\n",
            "Predicted aspect terms:  ['teenindus', 'teenindus', 'toidud']\n"
          ]
        },
        {
          "output_type": "stream",
          "name": "stderr",
          "text": [
            "\r 90%|█████████ | 9/10 [00:05<00:00,  1.78it/s]"
          ]
        },
        {
          "output_type": "stream",
          "name": "stdout",
          "text": [
            "True aspect terms:  ['kulinaarse \"etteastega\"']\n",
            "Predicted aspect terms:  ['üks parimaid restorane Tallinnas vahest ka Baltikumis', 'koht', 'olete']\n"
          ]
        },
        {
          "output_type": "stream",
          "name": "stderr",
          "text": [
            "100%|██████████| 10/10 [00:05<00:00,  1.68it/s]\n"
          ]
        },
        {
          "output_type": "stream",
          "name": "stdout",
          "text": [
            "True aspect terms:  ['toiduvalikut', 'Teenindus', 'Teenindus', 'teenindajad', 'teenindajad']\n",
            "Predicted aspect terms:  []\n",
            "Evaluating layer № 8: \n"
          ]
        },
        {
          "output_type": "stream",
          "name": "stderr",
          "text": [
            " 10%|█         | 1/10 [00:00<00:04,  2.01it/s]"
          ]
        },
        {
          "output_type": "stream",
          "name": "stdout",
          "text": [
            "True aspect terms:  ['noormees', 'noormees', 'noormees', 'Toit']\n",
            "Predicted aspect terms:  ['noormees']\n"
          ]
        },
        {
          "output_type": "stream",
          "name": "stderr",
          "text": [
            "\r 20%|██        | 2/10 [00:01<00:04,  1.91it/s]"
          ]
        },
        {
          "output_type": "stream",
          "name": "stdout",
          "text": [
            "True aspect terms:  ['Teenindaja Karl', 'toit', 'vein']\n",
            "Predicted aspect terms:  ['lükata oma broneering 18.00st 19.30le', 'toit', 'vein']\n"
          ]
        },
        {
          "output_type": "stream",
          "name": "stderr",
          "text": [
            "\r 30%|███       | 3/10 [00:01<00:04,  1.68it/s]"
          ]
        },
        {
          "output_type": "stream",
          "name": "stdout",
          "text": [
            "True aspect terms:  ['jahiõhtusöögiga', 'Toit', 'atmosfäär', 'atmosfäär', 'Silverile', 'Sanderile', 'lahkele pererahvale']\n",
            "Predicted aspect terms:  ['elamusrestoran', 'Toit', 'atmosfäär', 'õdus viis novembriõhtu veetmiseks sõprade seltsis', 'õdus viis novembriõhtu veetmiseks sõprade seltsis', 'õdus viis novembriõhtu veetmiseks sõprade seltsis']\n"
          ]
        },
        {
          "output_type": "stream",
          "name": "stderr",
          "text": [
            "\r 40%|████      | 4/10 [00:02<00:03,  1.63it/s]"
          ]
        },
        {
          "output_type": "stream",
          "name": "stdout",
          "text": [
            "True aspect terms:  ['Pitsa põhi', 'Portsud ravioolidele', 'Pasta', 'Pitsa', 'Pitsa', 'Jookidel']\n",
            "Predicted aspect terms:  ['põhi', 'Portsud ravioolidele', 'Pitsa']\n"
          ]
        },
        {
          "output_type": "stream",
          "name": "stderr",
          "text": [
            "\r 50%|█████     | 5/10 [00:02<00:02,  1.72it/s]"
          ]
        },
        {
          "output_type": "stream",
          "name": "stdout",
          "text": [
            "True aspect terms:  ['Toit', 'ruum', 'õhkkond']\n",
            "Predicted aspect terms:  ['valik', 'Toit', 'ruum', 'ruum']\n"
          ]
        },
        {
          "output_type": "stream",
          "name": "stderr",
          "text": [
            "\r 60%|██████    | 6/10 [00:03<00:02,  1.75it/s]"
          ]
        },
        {
          "output_type": "stream",
          "name": "stdout",
          "text": [
            "True aspect terms:  ['Tom Khalt', 'supp', 'Kala kogus', 'maitsed']\n",
            "Predicted aspect terms:  []\n"
          ]
        },
        {
          "output_type": "stream",
          "name": "stderr",
          "text": [
            "\r 70%|███████   | 7/10 [00:03<00:01,  1.83it/s]"
          ]
        },
        {
          "output_type": "stream",
          "name": "stdout",
          "text": [
            "True aspect terms:  ['töötajad']\n",
            "Predicted aspect terms:  []\n"
          ]
        },
        {
          "output_type": "stream",
          "name": "stderr",
          "text": [
            "\r 80%|████████  | 8/10 [00:04<00:01,  1.75it/s]"
          ]
        },
        {
          "output_type": "stream",
          "name": "stdout",
          "text": [
            "True aspect terms:  ['laua broneerimisest', 'vaatega Kadriorule', 'teenindus', 'teenindus', 'teenindus', 'toidud']\n",
            "Predicted aspect terms:  ['teenindus', 'teenindus', 'toidud']\n"
          ]
        },
        {
          "output_type": "stream",
          "name": "stderr",
          "text": [
            "\r 90%|█████████ | 9/10 [00:05<00:00,  1.82it/s]"
          ]
        },
        {
          "output_type": "stream",
          "name": "stdout",
          "text": [
            "True aspect terms:  ['kulinaarse \"etteastega\"']\n",
            "Predicted aspect terms:  ['üks parimaid restorane Tallinnas vahest ka Baltikumis', 'koht', 'olete']\n"
          ]
        },
        {
          "output_type": "stream",
          "name": "stderr",
          "text": [
            "100%|██████████| 10/10 [00:05<00:00,  1.79it/s]\n"
          ]
        },
        {
          "output_type": "stream",
          "name": "stdout",
          "text": [
            "True aspect terms:  ['toiduvalikut', 'Teenindus', 'Teenindus', 'teenindajad', 'teenindajad']\n",
            "Predicted aspect terms:  []\n",
            "Evaluating layer № 9: \n"
          ]
        },
        {
          "output_type": "stream",
          "name": "stderr",
          "text": [
            " 10%|█         | 1/10 [00:00<00:06,  1.33it/s]"
          ]
        },
        {
          "output_type": "stream",
          "name": "stdout",
          "text": [
            "True aspect terms:  ['noormees', 'noormees', 'noormees', 'Toit']\n",
            "Predicted aspect terms:  []\n"
          ]
        },
        {
          "output_type": "stream",
          "name": "stderr",
          "text": [
            "\r 20%|██        | 2/10 [00:01<00:06,  1.26it/s]"
          ]
        },
        {
          "output_type": "stream",
          "name": "stdout",
          "text": [
            "True aspect terms:  ['Teenindaja Karl', 'toit', 'vein']\n",
            "Predicted aspect terms:  ['toit', 'vein']\n"
          ]
        },
        {
          "output_type": "stream",
          "name": "stderr",
          "text": [
            "\r 30%|███       | 3/10 [00:02<00:06,  1.10it/s]"
          ]
        },
        {
          "output_type": "stream",
          "name": "stdout",
          "text": [
            "True aspect terms:  ['jahiõhtusöögiga', 'Toit', 'atmosfäär', 'atmosfäär', 'Silverile', 'Sanderile', 'lahkele pererahvale']\n",
            "Predicted aspect terms:  ['atmosfäär']\n"
          ]
        },
        {
          "output_type": "stream",
          "name": "stderr",
          "text": [
            "\r 40%|████      | 4/10 [00:03<00:04,  1.21it/s]"
          ]
        },
        {
          "output_type": "stream",
          "name": "stdout",
          "text": [
            "True aspect terms:  ['Pitsa põhi', 'Portsud ravioolidele', 'Pasta', 'Pitsa', 'Pitsa', 'Jookidel']\n",
            "Predicted aspect terms:  ['Portsud ravioolidele', 'Pitsa']\n"
          ]
        },
        {
          "output_type": "stream",
          "name": "stderr",
          "text": [
            "\r 50%|█████     | 5/10 [00:04<00:04,  1.24it/s]"
          ]
        },
        {
          "output_type": "stream",
          "name": "stdout",
          "text": [
            "True aspect terms:  ['Toit', 'ruum', 'õhkkond']\n",
            "Predicted aspect terms:  ['ruum']\n"
          ]
        },
        {
          "output_type": "stream",
          "name": "stderr",
          "text": [
            "\r 60%|██████    | 6/10 [00:04<00:03,  1.23it/s]"
          ]
        },
        {
          "output_type": "stream",
          "name": "stdout",
          "text": [
            "True aspect terms:  ['Tom Khalt', 'supp', 'Kala kogus', 'maitsed']\n",
            "Predicted aspect terms:  []\n"
          ]
        },
        {
          "output_type": "stream",
          "name": "stderr",
          "text": [
            "\r 70%|███████   | 7/10 [00:05<00:02,  1.27it/s]"
          ]
        },
        {
          "output_type": "stream",
          "name": "stdout",
          "text": [
            "True aspect terms:  ['töötajad']\n",
            "Predicted aspect terms:  []\n"
          ]
        },
        {
          "output_type": "stream",
          "name": "stderr",
          "text": [
            "\r 80%|████████  | 8/10 [00:06<00:01,  1.23it/s]"
          ]
        },
        {
          "output_type": "stream",
          "name": "stdout",
          "text": [
            "True aspect terms:  ['laua broneerimisest', 'vaatega Kadriorule', 'teenindus', 'teenindus', 'teenindus', 'toidud']\n",
            "Predicted aspect terms:  ['teenindus', 'teenindus', 'toidud']\n"
          ]
        },
        {
          "output_type": "stream",
          "name": "stderr",
          "text": [
            "\r 90%|█████████ | 9/10 [00:07<00:00,  1.25it/s]"
          ]
        },
        {
          "output_type": "stream",
          "name": "stdout",
          "text": [
            "True aspect terms:  ['kulinaarse \"etteastega\"']\n",
            "Predicted aspect terms:  ['üks parimaid restorane Tallinnas vahest ka Baltikumis']\n"
          ]
        },
        {
          "output_type": "stream",
          "name": "stderr",
          "text": [
            "100%|██████████| 10/10 [00:07<00:00,  1.27it/s]\n"
          ]
        },
        {
          "output_type": "stream",
          "name": "stdout",
          "text": [
            "True aspect terms:  ['toiduvalikut', 'Teenindus', 'Teenindus', 'teenindajad', 'teenindajad']\n",
            "Predicted aspect terms:  []\n",
            "Evaluating layer № 10: \n"
          ]
        },
        {
          "output_type": "stream",
          "name": "stderr",
          "text": [
            " 10%|█         | 1/10 [00:00<00:06,  1.36it/s]"
          ]
        },
        {
          "output_type": "stream",
          "name": "stdout",
          "text": [
            "True aspect terms:  ['noormees', 'noormees', 'noormees', 'Toit']\n",
            "Predicted aspect terms:  []\n"
          ]
        },
        {
          "output_type": "stream",
          "name": "stderr",
          "text": [
            "\r 20%|██        | 2/10 [00:01<00:06,  1.26it/s]"
          ]
        },
        {
          "output_type": "stream",
          "name": "stdout",
          "text": [
            "True aspect terms:  ['Teenindaja Karl', 'toit', 'vein']\n",
            "Predicted aspect terms:  []\n"
          ]
        },
        {
          "output_type": "stream",
          "name": "stderr",
          "text": [
            "\r 30%|███       | 3/10 [00:02<00:06,  1.10it/s]"
          ]
        },
        {
          "output_type": "stream",
          "name": "stdout",
          "text": [
            "True aspect terms:  ['jahiõhtusöögiga', 'Toit', 'atmosfäär', 'atmosfäär', 'Silverile', 'Sanderile', 'lahkele pererahvale']\n",
            "Predicted aspect terms:  ['õdus viis novembriõhtu veetmiseks sõprade seltsis']\n"
          ]
        },
        {
          "output_type": "stream",
          "name": "stderr",
          "text": [
            "\r 40%|████      | 4/10 [00:03<00:05,  1.08it/s]"
          ]
        },
        {
          "output_type": "stream",
          "name": "stdout",
          "text": [
            "True aspect terms:  ['Pitsa põhi', 'Portsud ravioolidele', 'Pasta', 'Pitsa', 'Pitsa', 'Jookidel']\n",
            "Predicted aspect terms:  ['Portsud ravioolidele']\n"
          ]
        },
        {
          "output_type": "stream",
          "name": "stderr",
          "text": [
            "\r 50%|█████     | 5/10 [00:04<00:04,  1.13it/s]"
          ]
        },
        {
          "output_type": "stream",
          "name": "stdout",
          "text": [
            "True aspect terms:  ['Toit', 'ruum', 'õhkkond']\n",
            "Predicted aspect terms:  []\n"
          ]
        },
        {
          "output_type": "stream",
          "name": "stderr",
          "text": [
            "\r 60%|██████    | 6/10 [00:05<00:03,  1.08it/s]"
          ]
        },
        {
          "output_type": "stream",
          "name": "stdout",
          "text": [
            "True aspect terms:  ['Tom Khalt', 'supp', 'Kala kogus', 'maitsed']\n",
            "Predicted aspect terms:  []\n"
          ]
        },
        {
          "output_type": "stream",
          "name": "stderr",
          "text": [
            "\r 70%|███████   | 7/10 [00:06<00:02,  1.12it/s]"
          ]
        },
        {
          "output_type": "stream",
          "name": "stdout",
          "text": [
            "True aspect terms:  ['töötajad']\n",
            "Predicted aspect terms:  []\n"
          ]
        },
        {
          "output_type": "stream",
          "name": "stderr",
          "text": [
            "\r 80%|████████  | 8/10 [00:07<00:01,  1.08it/s]"
          ]
        },
        {
          "output_type": "stream",
          "name": "stdout",
          "text": [
            "True aspect terms:  ['laua broneerimisest', 'vaatega Kadriorule', 'teenindus', 'teenindus', 'teenindus', 'toidud']\n",
            "Predicted aspect terms:  []\n"
          ]
        },
        {
          "output_type": "stream",
          "name": "stderr",
          "text": [
            "\r 90%|█████████ | 9/10 [00:08<00:00,  1.11it/s]"
          ]
        },
        {
          "output_type": "stream",
          "name": "stdout",
          "text": [
            "True aspect terms:  ['kulinaarse \"etteastega\"']\n",
            "Predicted aspect terms:  []\n"
          ]
        },
        {
          "output_type": "stream",
          "name": "stderr",
          "text": [
            "100%|██████████| 10/10 [00:08<00:00,  1.18it/s]\n"
          ]
        },
        {
          "output_type": "stream",
          "name": "stdout",
          "text": [
            "True aspect terms:  ['toiduvalikut', 'Teenindus', 'Teenindus', 'teenindajad', 'teenindajad']\n",
            "Predicted aspect terms:  []\n",
            "Evaluating layer № 11: \n"
          ]
        },
        {
          "output_type": "stream",
          "name": "stderr",
          "text": [
            " 10%|█         | 1/10 [00:00<00:04,  1.96it/s]"
          ]
        },
        {
          "output_type": "stream",
          "name": "stdout",
          "text": [
            "True aspect terms:  ['noormees', 'noormees', 'noormees', 'Toit']\n",
            "Predicted aspect terms:  []\n"
          ]
        },
        {
          "output_type": "stream",
          "name": "stderr",
          "text": [
            "\r 20%|██        | 2/10 [00:01<00:04,  1.85it/s]"
          ]
        },
        {
          "output_type": "stream",
          "name": "stdout",
          "text": [
            "True aspect terms:  ['Teenindaja Karl', 'toit', 'vein']\n",
            "Predicted aspect terms:  []\n"
          ]
        },
        {
          "output_type": "stream",
          "name": "stderr",
          "text": [
            "\r 30%|███       | 3/10 [00:01<00:04,  1.65it/s]"
          ]
        },
        {
          "output_type": "stream",
          "name": "stdout",
          "text": [
            "True aspect terms:  ['jahiõhtusöögiga', 'Toit', 'atmosfäär', 'atmosfäär', 'Silverile', 'Sanderile', 'lahkele pererahvale']\n",
            "Predicted aspect terms:  []\n"
          ]
        },
        {
          "output_type": "stream",
          "name": "stderr",
          "text": [
            "\r 40%|████      | 4/10 [00:02<00:03,  1.61it/s]"
          ]
        },
        {
          "output_type": "stream",
          "name": "stdout",
          "text": [
            "True aspect terms:  ['Pitsa põhi', 'Portsud ravioolidele', 'Pasta', 'Pitsa', 'Pitsa', 'Jookidel']\n",
            "Predicted aspect terms:  ['Pitsa']\n"
          ]
        },
        {
          "output_type": "stream",
          "name": "stderr",
          "text": [
            "\r 50%|█████     | 5/10 [00:02<00:02,  1.69it/s]"
          ]
        },
        {
          "output_type": "stream",
          "name": "stdout",
          "text": [
            "True aspect terms:  ['Toit', 'ruum', 'õhkkond']\n",
            "Predicted aspect terms:  ['valik']\n"
          ]
        },
        {
          "output_type": "stream",
          "name": "stderr",
          "text": [
            "\r 60%|██████    | 6/10 [00:03<00:02,  1.74it/s]"
          ]
        },
        {
          "output_type": "stream",
          "name": "stdout",
          "text": [
            "True aspect terms:  ['Tom Khalt', 'supp', 'Kala kogus', 'maitsed']\n",
            "Predicted aspect terms:  []\n"
          ]
        },
        {
          "output_type": "stream",
          "name": "stderr",
          "text": [
            "\r 70%|███████   | 7/10 [00:03<00:01,  1.82it/s]"
          ]
        },
        {
          "output_type": "stream",
          "name": "stdout",
          "text": [
            "True aspect terms:  ['töötajad']\n",
            "Predicted aspect terms:  []\n"
          ]
        },
        {
          "output_type": "stream",
          "name": "stderr",
          "text": [
            "\r 80%|████████  | 8/10 [00:04<00:01,  1.75it/s]"
          ]
        },
        {
          "output_type": "stream",
          "name": "stdout",
          "text": [
            "True aspect terms:  ['laua broneerimisest', 'vaatega Kadriorule', 'teenindus', 'teenindus', 'teenindus', 'toidud']\n",
            "Predicted aspect terms:  ['külastus']\n"
          ]
        },
        {
          "output_type": "stream",
          "name": "stderr",
          "text": [
            "\r 90%|█████████ | 9/10 [00:05<00:00,  1.81it/s]"
          ]
        },
        {
          "output_type": "stream",
          "name": "stdout",
          "text": [
            "True aspect terms:  ['kulinaarse \"etteastega\"']\n",
            "Predicted aspect terms:  ['üks parimaid restorane Tallinnas vahest ka Baltikumis', 'koht']\n"
          ]
        },
        {
          "output_type": "stream",
          "name": "stderr",
          "text": [
            "100%|██████████| 10/10 [00:05<00:00,  1.81it/s]"
          ]
        },
        {
          "output_type": "stream",
          "name": "stdout",
          "text": [
            "True aspect terms:  ['toiduvalikut', 'Teenindus', 'Teenindus', 'teenindajad', 'teenindajad']\n",
            "Predicted aspect terms:  []\n"
          ]
        },
        {
          "output_type": "stream",
          "name": "stderr",
          "text": [
            "\n"
          ]
        },
        {
          "output_type": "display_data",
          "data": {
            "text/plain": [
              "<Figure size 1000x600 with 1 Axes>"
            ],
            "image/png": "[encoded data removed]"
          },
          "metadata": {}
        }
      ]
    },
    {
      "cell_type": "code",
      "source": [
        "plot_accuracy_by_last_layers()"
      ],
      "metadata": {
        "colab": {
          "base_uri": "https://localhost:8080/",
          "height": 1000
        },
        "id": "wkQPoXEGnavr",
        "outputId": "36d922c5-a982-4feb-bd29-7855ffb5bee9"
      },
      "execution_count": null,
      "outputs": [
        {
          "output_type": "stream",
          "name": "stdout",
          "text": [
            "Evaluating 1 last layers: \n"
          ]
        },
        {
          "output_type": "stream",
          "name": "stderr",
          "text": [
            " 10%|█         | 1/10 [00:00<00:06,  1.38it/s]"
          ]
        },
        {
          "output_type": "stream",
          "name": "stdout",
          "text": [
            "True aspect terms:  ['noormees', 'noormees', 'noormees', 'Toit']\n",
            "Predicted aspect terms:  []\n"
          ]
        },
        {
          "output_type": "stream",
          "name": "stderr",
          "text": [
            "\r 20%|██        | 2/10 [00:01<00:05,  1.60it/s]"
          ]
        },
        {
          "output_type": "stream",
          "name": "stdout",
          "text": [
            "True aspect terms:  ['Teenindaja Karl', 'toit', 'vein']\n",
            "Predicted aspect terms:  []\n"
          ]
        },
        {
          "output_type": "stream",
          "name": "stderr",
          "text": [
            "\r 30%|███       | 3/10 [00:01<00:04,  1.51it/s]"
          ]
        },
        {
          "output_type": "stream",
          "name": "stdout",
          "text": [
            "True aspect terms:  ['jahiõhtusöögiga', 'Toit', 'atmosfäär', 'atmosfäär', 'Silverile', 'Sanderile', 'lahkele pererahvale']\n",
            "Predicted aspect terms:  []\n"
          ]
        },
        {
          "output_type": "stream",
          "name": "stderr",
          "text": [
            "\r 40%|████      | 4/10 [00:02<00:03,  1.54it/s]"
          ]
        },
        {
          "output_type": "stream",
          "name": "stdout",
          "text": [
            "True aspect terms:  ['Pitsa põhi', 'Portsud ravioolidele', 'Pasta', 'Pitsa', 'Pitsa', 'Jookidel']\n",
            "Predicted aspect terms:  ['Pitsa']\n"
          ]
        },
        {
          "output_type": "stream",
          "name": "stderr",
          "text": [
            "\r 50%|█████     | 5/10 [00:03<00:03,  1.64it/s]"
          ]
        },
        {
          "output_type": "stream",
          "name": "stdout",
          "text": [
            "True aspect terms:  ['Toit', 'ruum', 'õhkkond']\n",
            "Predicted aspect terms:  ['valik']\n"
          ]
        },
        {
          "output_type": "stream",
          "name": "stderr",
          "text": [
            "\r 60%|██████    | 6/10 [00:03<00:02,  1.72it/s]"
          ]
        },
        {
          "output_type": "stream",
          "name": "stdout",
          "text": [
            "True aspect terms:  ['Tom Khalt', 'supp', 'Kala kogus', 'maitsed']\n",
            "Predicted aspect terms:  []\n"
          ]
        },
        {
          "output_type": "stream",
          "name": "stderr",
          "text": [
            "\r 70%|███████   | 7/10 [00:04<00:01,  1.78it/s]"
          ]
        },
        {
          "output_type": "stream",
          "name": "stdout",
          "text": [
            "True aspect terms:  ['töötajad']\n",
            "Predicted aspect terms:  []\n"
          ]
        },
        {
          "output_type": "stream",
          "name": "stderr",
          "text": [
            "\r 80%|████████  | 8/10 [00:04<00:01,  1.72it/s]"
          ]
        },
        {
          "output_type": "stream",
          "name": "stdout",
          "text": [
            "True aspect terms:  ['laua broneerimisest', 'vaatega Kadriorule', 'teenindus', 'teenindus', 'teenindus', 'toidud']\n",
            "Predicted aspect terms:  ['külastus']\n"
          ]
        },
        {
          "output_type": "stream",
          "name": "stderr",
          "text": [
            "\r 90%|█████████ | 9/10 [00:05<00:00,  1.77it/s]"
          ]
        },
        {
          "output_type": "stream",
          "name": "stdout",
          "text": [
            "True aspect terms:  ['kulinaarse \"etteastega\"']\n",
            "Predicted aspect terms:  ['üks parimaid restorane Tallinnas vahest ka Baltikumis', 'koht']\n"
          ]
        },
        {
          "output_type": "stream",
          "name": "stderr",
          "text": [
            "100%|██████████| 10/10 [00:05<00:00,  1.74it/s]\n"
          ]
        },
        {
          "output_type": "stream",
          "name": "stdout",
          "text": [
            "True aspect terms:  ['toiduvalikut', 'Teenindus', 'Teenindus', 'teenindajad', 'teenindajad']\n",
            "Predicted aspect terms:  []\n",
            "Evaluating 2 last layers: \n"
          ]
        },
        {
          "output_type": "stream",
          "name": "stderr",
          "text": [
            " 10%|█         | 1/10 [00:00<00:04,  2.08it/s]"
          ]
        },
        {
          "output_type": "stream",
          "name": "stdout",
          "text": [
            "True aspect terms:  ['noormees', 'noormees', 'noormees', 'Toit']\n",
            "Predicted aspect terms:  []\n"
          ]
        },
        {
          "output_type": "stream",
          "name": "stderr",
          "text": [
            "\r 20%|██        | 2/10 [00:01<00:04,  1.95it/s]"
          ]
        },
        {
          "output_type": "stream",
          "name": "stdout",
          "text": [
            "True aspect terms:  ['Teenindaja Karl', 'toit', 'vein']\n",
            "Predicted aspect terms:  []\n"
          ]
        },
        {
          "output_type": "stream",
          "name": "stderr",
          "text": [
            "\r 30%|███       | 3/10 [00:01<00:04,  1.68it/s]"
          ]
        },
        {
          "output_type": "stream",
          "name": "stdout",
          "text": [
            "True aspect terms:  ['jahiõhtusöögiga', 'Toit', 'atmosfäär', 'atmosfäär', 'Silverile', 'Sanderile', 'lahkele pererahvale']\n",
            "Predicted aspect terms:  []\n"
          ]
        },
        {
          "output_type": "stream",
          "name": "stderr",
          "text": [
            "\r 40%|████      | 4/10 [00:02<00:03,  1.64it/s]"
          ]
        },
        {
          "output_type": "stream",
          "name": "stdout",
          "text": [
            "True aspect terms:  ['Pitsa põhi', 'Portsud ravioolidele', 'Pasta', 'Pitsa', 'Pitsa', 'Jookidel']\n",
            "Predicted aspect terms:  ['Portsud ravioolidele', 'Pitsa']\n"
          ]
        },
        {
          "output_type": "stream",
          "name": "stderr",
          "text": [
            "\r 50%|█████     | 5/10 [00:02<00:02,  1.72it/s]"
          ]
        },
        {
          "output_type": "stream",
          "name": "stdout",
          "text": [
            "True aspect terms:  ['Toit', 'ruum', 'õhkkond']\n",
            "Predicted aspect terms:  []\n"
          ]
        },
        {
          "output_type": "stream",
          "name": "stderr",
          "text": [
            "\r 60%|██████    | 6/10 [00:03<00:02,  1.79it/s]"
          ]
        },
        {
          "output_type": "stream",
          "name": "stdout",
          "text": [
            "True aspect terms:  ['Tom Khalt', 'supp', 'Kala kogus', 'maitsed']\n",
            "Predicted aspect terms:  []\n"
          ]
        },
        {
          "output_type": "stream",
          "name": "stderr",
          "text": [
            "\r 70%|███████   | 7/10 [00:03<00:01,  1.84it/s]"
          ]
        },
        {
          "output_type": "stream",
          "name": "stdout",
          "text": [
            "True aspect terms:  ['töötajad']\n",
            "Predicted aspect terms:  []\n"
          ]
        },
        {
          "output_type": "stream",
          "name": "stderr",
          "text": [
            "\r 80%|████████  | 8/10 [00:04<00:01,  1.76it/s]"
          ]
        },
        {
          "output_type": "stream",
          "name": "stdout",
          "text": [
            "True aspect terms:  ['laua broneerimisest', 'vaatega Kadriorule', 'teenindus', 'teenindus', 'teenindus', 'toidud']\n",
            "Predicted aspect terms:  []\n"
          ]
        },
        {
          "output_type": "stream",
          "name": "stderr",
          "text": [
            "\r 90%|█████████ | 9/10 [00:05<00:00,  1.63it/s]"
          ]
        },
        {
          "output_type": "stream",
          "name": "stdout",
          "text": [
            "True aspect terms:  ['kulinaarse \"etteastega\"']\n",
            "Predicted aspect terms:  ['üks parimaid restorane Tallinnas vahest ka Baltikumis']\n"
          ]
        },
        {
          "output_type": "stream",
          "name": "stderr",
          "text": [
            "100%|██████████| 10/10 [00:05<00:00,  1.71it/s]\n"
          ]
        },
        {
          "output_type": "stream",
          "name": "stdout",
          "text": [
            "True aspect terms:  ['toiduvalikut', 'Teenindus', 'Teenindus', 'teenindajad', 'teenindajad']\n",
            "Predicted aspect terms:  []\n",
            "Evaluating 3 last layers: \n"
          ]
        },
        {
          "output_type": "stream",
          "name": "stderr",
          "text": [
            " 10%|█         | 1/10 [00:00<00:06,  1.34it/s]"
          ]
        },
        {
          "output_type": "stream",
          "name": "stdout",
          "text": [
            "True aspect terms:  ['noormees', 'noormees', 'noormees', 'Toit']\n",
            "Predicted aspect terms:  []\n"
          ]
        },
        {
          "output_type": "stream",
          "name": "stderr",
          "text": [
            "\r 20%|██        | 2/10 [00:01<00:06,  1.25it/s]"
          ]
        },
        {
          "output_type": "stream",
          "name": "stdout",
          "text": [
            "True aspect terms:  ['Teenindaja Karl', 'toit', 'vein']\n",
            "Predicted aspect terms:  []\n"
          ]
        },
        {
          "output_type": "stream",
          "name": "stderr",
          "text": [
            "\r 30%|███       | 3/10 [00:02<00:05,  1.30it/s]"
          ]
        },
        {
          "output_type": "stream",
          "name": "stdout",
          "text": [
            "True aspect terms:  ['jahiõhtusöögiga', 'Toit', 'atmosfäär', 'atmosfäär', 'Silverile', 'Sanderile', 'lahkele pererahvale']\n",
            "Predicted aspect terms:  []\n"
          ]
        },
        {
          "output_type": "stream",
          "name": "stderr",
          "text": [
            "\r 40%|████      | 4/10 [00:02<00:04,  1.39it/s]"
          ]
        },
        {
          "output_type": "stream",
          "name": "stdout",
          "text": [
            "True aspect terms:  ['Pitsa põhi', 'Portsud ravioolidele', 'Pasta', 'Pitsa', 'Pitsa', 'Jookidel']\n",
            "Predicted aspect terms:  ['Portsud ravioolidele', 'Pitsa']\n"
          ]
        },
        {
          "output_type": "stream",
          "name": "stderr",
          "text": [
            "\r 50%|█████     | 5/10 [00:03<00:03,  1.54it/s]"
          ]
        },
        {
          "output_type": "stream",
          "name": "stdout",
          "text": [
            "True aspect terms:  ['Toit', 'ruum', 'õhkkond']\n",
            "Predicted aspect terms:  ['ruum']\n"
          ]
        },
        {
          "output_type": "stream",
          "name": "stderr",
          "text": [
            "\r 60%|██████    | 6/10 [00:04<00:02,  1.65it/s]"
          ]
        },
        {
          "output_type": "stream",
          "name": "stdout",
          "text": [
            "True aspect terms:  ['Tom Khalt', 'supp', 'Kala kogus', 'maitsed']\n",
            "Predicted aspect terms:  []\n"
          ]
        },
        {
          "output_type": "stream",
          "name": "stderr",
          "text": [
            "\r 70%|███████   | 7/10 [00:04<00:01,  1.75it/s]"
          ]
        },
        {
          "output_type": "stream",
          "name": "stdout",
          "text": [
            "True aspect terms:  ['töötajad']\n",
            "Predicted aspect terms:  []\n"
          ]
        },
        {
          "output_type": "stream",
          "name": "stderr",
          "text": [
            "\r 80%|████████  | 8/10 [00:05<00:01,  1.70it/s]"
          ]
        },
        {
          "output_type": "stream",
          "name": "stdout",
          "text": [
            "True aspect terms:  ['laua broneerimisest', 'vaatega Kadriorule', 'teenindus', 'teenindus', 'teenindus', 'toidud']\n",
            "Predicted aspect terms:  []\n"
          ]
        },
        {
          "output_type": "stream",
          "name": "stderr",
          "text": [
            "\r 90%|█████████ | 9/10 [00:05<00:00,  1.78it/s]"
          ]
        },
        {
          "output_type": "stream",
          "name": "stdout",
          "text": [
            "True aspect terms:  ['kulinaarse \"etteastega\"']\n",
            "Predicted aspect terms:  ['üks parimaid restorane Tallinnas vahest ka Baltikumis']\n"
          ]
        },
        {
          "output_type": "stream",
          "name": "stderr",
          "text": [
            "100%|██████████| 10/10 [00:06<00:00,  1.66it/s]\n"
          ]
        },
        {
          "output_type": "stream",
          "name": "stdout",
          "text": [
            "True aspect terms:  ['toiduvalikut', 'Teenindus', 'Teenindus', 'teenindajad', 'teenindajad']\n",
            "Predicted aspect terms:  []\n",
            "Evaluating 4 last layers: \n"
          ]
        },
        {
          "output_type": "stream",
          "name": "stderr",
          "text": [
            " 10%|█         | 1/10 [00:00<00:04,  2.09it/s]"
          ]
        },
        {
          "output_type": "stream",
          "name": "stdout",
          "text": [
            "True aspect terms:  ['noormees', 'noormees', 'noormees', 'Toit']\n",
            "Predicted aspect terms:  []\n"
          ]
        },
        {
          "output_type": "stream",
          "name": "stderr",
          "text": [
            "\r 20%|██        | 2/10 [00:01<00:04,  1.96it/s]"
          ]
        },
        {
          "output_type": "stream",
          "name": "stdout",
          "text": [
            "True aspect terms:  ['Teenindaja Karl', 'toit', 'vein']\n",
            "Predicted aspect terms:  ['vein']\n"
          ]
        },
        {
          "output_type": "stream",
          "name": "stderr",
          "text": [
            "\r 30%|███       | 3/10 [00:01<00:04,  1.70it/s]"
          ]
        },
        {
          "output_type": "stream",
          "name": "stdout",
          "text": [
            "True aspect terms:  ['jahiõhtusöögiga', 'Toit', 'atmosfäär', 'atmosfäär', 'Silverile', 'Sanderile', 'lahkele pererahvale']\n",
            "Predicted aspect terms:  ['atmosfäär', 'õdus viis novembriõhtu veetmiseks sõprade seltsis']\n"
          ]
        },
        {
          "output_type": "stream",
          "name": "stderr",
          "text": [
            "\r 40%|████      | 4/10 [00:02<00:03,  1.65it/s]"
          ]
        },
        {
          "output_type": "stream",
          "name": "stdout",
          "text": [
            "True aspect terms:  ['Pitsa põhi', 'Portsud ravioolidele', 'Pasta', 'Pitsa', 'Pitsa', 'Jookidel']\n",
            "Predicted aspect terms:  ['Portsud ravioolidele', 'Pitsa']\n"
          ]
        },
        {
          "output_type": "stream",
          "name": "stderr",
          "text": [
            "\r 50%|█████     | 5/10 [00:02<00:02,  1.71it/s]"
          ]
        },
        {
          "output_type": "stream",
          "name": "stdout",
          "text": [
            "True aspect terms:  ['Toit', 'ruum', 'õhkkond']\n",
            "Predicted aspect terms:  ['ruum']\n"
          ]
        },
        {
          "output_type": "stream",
          "name": "stderr",
          "text": [
            "\r 60%|██████    | 6/10 [00:03<00:02,  1.75it/s]"
          ]
        },
        {
          "output_type": "stream",
          "name": "stdout",
          "text": [
            "True aspect terms:  ['Tom Khalt', 'supp', 'Kala kogus', 'maitsed']\n",
            "Predicted aspect terms:  []\n"
          ]
        },
        {
          "output_type": "stream",
          "name": "stderr",
          "text": [
            "\r 70%|███████   | 7/10 [00:03<00:01,  1.84it/s]"
          ]
        },
        {
          "output_type": "stream",
          "name": "stdout",
          "text": [
            "True aspect terms:  ['töötajad']\n",
            "Predicted aspect terms:  []\n"
          ]
        },
        {
          "output_type": "stream",
          "name": "stderr",
          "text": [
            "\r 80%|████████  | 8/10 [00:04<00:01,  1.77it/s]"
          ]
        },
        {
          "output_type": "stream",
          "name": "stdout",
          "text": [
            "True aspect terms:  ['laua broneerimisest', 'vaatega Kadriorule', 'teenindus', 'teenindus', 'teenindus', 'toidud']\n",
            "Predicted aspect terms:  ['toidud']\n"
          ]
        },
        {
          "output_type": "stream",
          "name": "stderr",
          "text": [
            "\r 90%|█████████ | 9/10 [00:05<00:00,  1.83it/s]"
          ]
        },
        {
          "output_type": "stream",
          "name": "stdout",
          "text": [
            "True aspect terms:  ['kulinaarse \"etteastega\"']\n",
            "Predicted aspect terms:  ['üks parimaid restorane Tallinnas vahest ka Baltikumis', 'olete']\n"
          ]
        },
        {
          "output_type": "stream",
          "name": "stderr",
          "text": [
            "100%|██████████| 10/10 [00:05<00:00,  1.85it/s]\n"
          ]
        },
        {
          "output_type": "stream",
          "name": "stdout",
          "text": [
            "True aspect terms:  ['toiduvalikut', 'Teenindus', 'Teenindus', 'teenindajad', 'teenindajad']\n",
            "Predicted aspect terms:  []\n",
            "Evaluating 5 last layers: \n"
          ]
        },
        {
          "output_type": "stream",
          "name": "stderr",
          "text": [
            " 10%|█         | 1/10 [00:00<00:05,  1.68it/s]"
          ]
        },
        {
          "output_type": "stream",
          "name": "stdout",
          "text": [
            "True aspect terms:  ['noormees', 'noormees', 'noormees', 'Toit']\n",
            "Predicted aspect terms:  []\n"
          ]
        },
        {
          "output_type": "stream",
          "name": "stderr",
          "text": [
            "\r 20%|██        | 2/10 [00:01<00:05,  1.35it/s]"
          ]
        },
        {
          "output_type": "stream",
          "name": "stdout",
          "text": [
            "True aspect terms:  ['Teenindaja Karl', 'toit', 'vein']\n",
            "Predicted aspect terms:  ['toit', 'vein']\n"
          ]
        },
        {
          "output_type": "stream",
          "name": "stderr",
          "text": [
            "\r 30%|███       | 3/10 [00:02<00:06,  1.12it/s]"
          ]
        },
        {
          "output_type": "stream",
          "name": "stdout",
          "text": [
            "True aspect terms:  ['jahiõhtusöögiga', 'Toit', 'atmosfäär', 'atmosfäär', 'Silverile', 'Sanderile', 'lahkele pererahvale']\n",
            "Predicted aspect terms:  ['atmosfäär', 'õdus viis novembriõhtu veetmiseks sõprade seltsis', 'õdus viis novembriõhtu veetmiseks sõprade seltsis']\n"
          ]
        },
        {
          "output_type": "stream",
          "name": "stderr",
          "text": [
            "\r 40%|████      | 4/10 [00:03<00:05,  1.13it/s]"
          ]
        },
        {
          "output_type": "stream",
          "name": "stdout",
          "text": [
            "True aspect terms:  ['Pitsa põhi', 'Portsud ravioolidele', 'Pasta', 'Pitsa', 'Pitsa', 'Jookidel']\n",
            "Predicted aspect terms:  ['Portsud ravioolidele', 'Pitsa']\n"
          ]
        },
        {
          "output_type": "stream",
          "name": "stderr",
          "text": [
            "\r 50%|█████     | 5/10 [00:03<00:03,  1.32it/s]"
          ]
        },
        {
          "output_type": "stream",
          "name": "stdout",
          "text": [
            "True aspect terms:  ['Toit', 'ruum', 'õhkkond']\n",
            "Predicted aspect terms:  ['valik', 'ruum']\n"
          ]
        },
        {
          "output_type": "stream",
          "name": "stderr",
          "text": [
            "\r 60%|██████    | 6/10 [00:04<00:02,  1.47it/s]"
          ]
        },
        {
          "output_type": "stream",
          "name": "stdout",
          "text": [
            "True aspect terms:  ['Tom Khalt', 'supp', 'Kala kogus', 'maitsed']\n",
            "Predicted aspect terms:  []\n"
          ]
        },
        {
          "output_type": "stream",
          "name": "stderr",
          "text": [
            "\r 70%|███████   | 7/10 [00:04<00:01,  1.60it/s]"
          ]
        },
        {
          "output_type": "stream",
          "name": "stdout",
          "text": [
            "True aspect terms:  ['töötajad']\n",
            "Predicted aspect terms:  []\n"
          ]
        },
        {
          "output_type": "stream",
          "name": "stderr",
          "text": [
            "\r 80%|████████  | 8/10 [00:05<00:01,  1.62it/s]"
          ]
        },
        {
          "output_type": "stream",
          "name": "stdout",
          "text": [
            "True aspect terms:  ['laua broneerimisest', 'vaatega Kadriorule', 'teenindus', 'teenindus', 'teenindus', 'toidud']\n",
            "Predicted aspect terms:  ['teenindus', 'teenindus', 'toidud']\n"
          ]
        },
        {
          "output_type": "stream",
          "name": "stderr",
          "text": [
            "\r 90%|█████████ | 9/10 [00:06<00:00,  1.70it/s]"
          ]
        },
        {
          "output_type": "stream",
          "name": "stdout",
          "text": [
            "True aspect terms:  ['kulinaarse \"etteastega\"']\n",
            "Predicted aspect terms:  ['üks parimaid restorane Tallinnas vahest ka Baltikumis', 'olete']\n"
          ]
        },
        {
          "output_type": "stream",
          "name": "stderr",
          "text": [
            "100%|██████████| 10/10 [00:06<00:00,  1.54it/s]\n"
          ]
        },
        {
          "output_type": "stream",
          "name": "stdout",
          "text": [
            "True aspect terms:  ['toiduvalikut', 'Teenindus', 'Teenindus', 'teenindajad', 'teenindajad']\n",
            "Predicted aspect terms:  []\n",
            "Evaluating 6 last layers: \n"
          ]
        },
        {
          "output_type": "stream",
          "name": "stderr",
          "text": [
            " 10%|█         | 1/10 [00:00<00:04,  2.07it/s]"
          ]
        },
        {
          "output_type": "stream",
          "name": "stdout",
          "text": [
            "True aspect terms:  ['noormees', 'noormees', 'noormees', 'Toit']\n",
            "Predicted aspect terms:  []\n"
          ]
        },
        {
          "output_type": "stream",
          "name": "stderr",
          "text": [
            "\r 20%|██        | 2/10 [00:01<00:04,  1.92it/s]"
          ]
        },
        {
          "output_type": "stream",
          "name": "stdout",
          "text": [
            "True aspect terms:  ['Teenindaja Karl', 'toit', 'vein']\n",
            "Predicted aspect terms:  ['toit', 'vein']\n"
          ]
        },
        {
          "output_type": "stream",
          "name": "stderr",
          "text": [
            "\r 30%|███       | 3/10 [00:01<00:04,  1.65it/s]"
          ]
        },
        {
          "output_type": "stream",
          "name": "stdout",
          "text": [
            "True aspect terms:  ['jahiõhtusöögiga', 'Toit', 'atmosfäär', 'atmosfäär', 'Silverile', 'Sanderile', 'lahkele pererahvale']\n",
            "Predicted aspect terms:  ['atmosfäär', 'õdus viis novembriõhtu veetmiseks sõprade seltsis', 'õdus viis novembriõhtu veetmiseks sõprade seltsis']\n"
          ]
        },
        {
          "output_type": "stream",
          "name": "stderr",
          "text": [
            "\r 40%|████      | 4/10 [00:02<00:03,  1.62it/s]"
          ]
        },
        {
          "output_type": "stream",
          "name": "stdout",
          "text": [
            "True aspect terms:  ['Pitsa põhi', 'Portsud ravioolidele', 'Pasta', 'Pitsa', 'Pitsa', 'Jookidel']\n",
            "Predicted aspect terms:  ['Portsud ravioolidele', 'Pitsa']\n"
          ]
        },
        {
          "output_type": "stream",
          "name": "stderr",
          "text": [
            "\r 50%|█████     | 5/10 [00:02<00:02,  1.70it/s]"
          ]
        },
        {
          "output_type": "stream",
          "name": "stdout",
          "text": [
            "True aspect terms:  ['Toit', 'ruum', 'õhkkond']\n",
            "Predicted aspect terms:  ['valik', 'ruum']\n"
          ]
        },
        {
          "output_type": "stream",
          "name": "stderr",
          "text": [
            "\r 60%|██████    | 6/10 [00:03<00:02,  1.77it/s]"
          ]
        },
        {
          "output_type": "stream",
          "name": "stdout",
          "text": [
            "True aspect terms:  ['Tom Khalt', 'supp', 'Kala kogus', 'maitsed']\n",
            "Predicted aspect terms:  []\n"
          ]
        },
        {
          "output_type": "stream",
          "name": "stderr",
          "text": [
            "\r 70%|███████   | 7/10 [00:03<00:01,  1.82it/s]"
          ]
        },
        {
          "output_type": "stream",
          "name": "stdout",
          "text": [
            "True aspect terms:  ['töötajad']\n",
            "Predicted aspect terms:  []\n"
          ]
        },
        {
          "output_type": "stream",
          "name": "stderr",
          "text": [
            "\r 80%|████████  | 8/10 [00:04<00:01,  1.77it/s]"
          ]
        },
        {
          "output_type": "stream",
          "name": "stdout",
          "text": [
            "True aspect terms:  ['laua broneerimisest', 'vaatega Kadriorule', 'teenindus', 'teenindus', 'teenindus', 'toidud']\n",
            "Predicted aspect terms:  ['teenindus', 'teenindus', 'toidud']\n"
          ]
        },
        {
          "output_type": "stream",
          "name": "stderr",
          "text": [
            "\r 90%|█████████ | 9/10 [00:05<00:00,  1.79it/s]"
          ]
        },
        {
          "output_type": "stream",
          "name": "stdout",
          "text": [
            "True aspect terms:  ['kulinaarse \"etteastega\"']\n",
            "Predicted aspect terms:  ['üks parimaid restorane Tallinnas vahest ka Baltikumis', 'olete']\n"
          ]
        },
        {
          "output_type": "stream",
          "name": "stderr",
          "text": [
            "100%|██████████| 10/10 [00:05<00:00,  1.83it/s]\n"
          ]
        },
        {
          "output_type": "stream",
          "name": "stdout",
          "text": [
            "True aspect terms:  ['toiduvalikut', 'Teenindus', 'Teenindus', 'teenindajad', 'teenindajad']\n",
            "Predicted aspect terms:  []\n",
            "Evaluating 7 last layers: \n"
          ]
        },
        {
          "output_type": "stream",
          "name": "stderr",
          "text": [
            " 10%|█         | 1/10 [00:00<00:04,  2.04it/s]"
          ]
        },
        {
          "output_type": "stream",
          "name": "stdout",
          "text": [
            "True aspect terms:  ['noormees', 'noormees', 'noormees', 'Toit']\n",
            "Predicted aspect terms:  []\n"
          ]
        },
        {
          "output_type": "stream",
          "name": "stderr",
          "text": [
            "\r 20%|██        | 2/10 [00:01<00:04,  1.94it/s]"
          ]
        },
        {
          "output_type": "stream",
          "name": "stdout",
          "text": [
            "True aspect terms:  ['Teenindaja Karl', 'toit', 'vein']\n",
            "Predicted aspect terms:  ['toit', 'vein']\n"
          ]
        },
        {
          "output_type": "stream",
          "name": "stderr",
          "text": [
            "\r 30%|███       | 3/10 [00:01<00:04,  1.40it/s]"
          ]
        },
        {
          "output_type": "stream",
          "name": "stdout",
          "text": [
            "True aspect terms:  ['jahiõhtusöögiga', 'Toit', 'atmosfäär', 'atmosfäär', 'Silverile', 'Sanderile', 'lahkele pererahvale']\n",
            "Predicted aspect terms:  ['õdus viis novembriõhtu veetmiseks sõprade seltsis', 'õdus viis novembriõhtu veetmiseks sõprade seltsis']\n"
          ]
        },
        {
          "output_type": "stream",
          "name": "stderr",
          "text": [
            "\r 40%|████      | 4/10 [00:02<00:04,  1.25it/s]"
          ]
        },
        {
          "output_type": "stream",
          "name": "stdout",
          "text": [
            "True aspect terms:  ['Pitsa põhi', 'Portsud ravioolidele', 'Pasta', 'Pitsa', 'Pitsa', 'Jookidel']\n",
            "Predicted aspect terms:  ['Portsud ravioolidele', 'Pitsa']\n"
          ]
        },
        {
          "output_type": "stream",
          "name": "stderr",
          "text": [
            "\r 50%|█████     | 5/10 [00:03<00:04,  1.23it/s]"
          ]
        },
        {
          "output_type": "stream",
          "name": "stdout",
          "text": [
            "True aspect terms:  ['Toit', 'ruum', 'õhkkond']\n",
            "Predicted aspect terms:  ['valik', 'ruum', 'ruum']\n"
          ]
        },
        {
          "output_type": "stream",
          "name": "stderr",
          "text": [
            "\r 60%|██████    | 6/10 [00:04<00:03,  1.32it/s]"
          ]
        },
        {
          "output_type": "stream",
          "name": "stdout",
          "text": [
            "True aspect terms:  ['Tom Khalt', 'supp', 'Kala kogus', 'maitsed']\n",
            "Predicted aspect terms:  []\n"
          ]
        },
        {
          "output_type": "stream",
          "name": "stderr",
          "text": [
            "\r 70%|███████   | 7/10 [00:04<00:02,  1.48it/s]"
          ]
        },
        {
          "output_type": "stream",
          "name": "stdout",
          "text": [
            "True aspect terms:  ['töötajad']\n",
            "Predicted aspect terms:  []\n"
          ]
        },
        {
          "output_type": "stream",
          "name": "stderr",
          "text": [
            "\r 80%|████████  | 8/10 [00:05<00:01,  1.52it/s]"
          ]
        },
        {
          "output_type": "stream",
          "name": "stdout",
          "text": [
            "True aspect terms:  ['laua broneerimisest', 'vaatega Kadriorule', 'teenindus', 'teenindus', 'teenindus', 'toidud']\n",
            "Predicted aspect terms:  ['teenindus', 'teenindus', 'toidud']\n"
          ]
        },
        {
          "output_type": "stream",
          "name": "stderr",
          "text": [
            "\r 90%|█████████ | 9/10 [00:06<00:00,  1.63it/s]"
          ]
        },
        {
          "output_type": "stream",
          "name": "stdout",
          "text": [
            "True aspect terms:  ['kulinaarse \"etteastega\"']\n",
            "Predicted aspect terms:  ['üks parimaid restorane Tallinnas vahest ka Baltikumis', 'olete']\n"
          ]
        },
        {
          "output_type": "stream",
          "name": "stderr",
          "text": [
            "100%|██████████| 10/10 [00:06<00:00,  1.55it/s]\n"
          ]
        },
        {
          "output_type": "stream",
          "name": "stdout",
          "text": [
            "True aspect terms:  ['toiduvalikut', 'Teenindus', 'Teenindus', 'teenindajad', 'teenindajad']\n",
            "Predicted aspect terms:  []\n",
            "Evaluating 8 last layers: \n"
          ]
        },
        {
          "output_type": "stream",
          "name": "stderr",
          "text": [
            " 10%|█         | 1/10 [00:00<00:04,  2.01it/s]"
          ]
        },
        {
          "output_type": "stream",
          "name": "stdout",
          "text": [
            "True aspect terms:  ['noormees', 'noormees', 'noormees', 'Toit']\n",
            "Predicted aspect terms:  []\n"
          ]
        },
        {
          "output_type": "stream",
          "name": "stderr",
          "text": [
            "\r 20%|██        | 2/10 [00:01<00:04,  1.94it/s]"
          ]
        },
        {
          "output_type": "stream",
          "name": "stdout",
          "text": [
            "True aspect terms:  ['Teenindaja Karl', 'toit', 'vein']\n",
            "Predicted aspect terms:  ['toit', 'vein']\n"
          ]
        },
        {
          "output_type": "stream",
          "name": "stderr",
          "text": [
            "\r 30%|███       | 3/10 [00:01<00:04,  1.67it/s]"
          ]
        },
        {
          "output_type": "stream",
          "name": "stdout",
          "text": [
            "True aspect terms:  ['jahiõhtusöögiga', 'Toit', 'atmosfäär', 'atmosfäär', 'Silverile', 'Sanderile', 'lahkele pererahvale']\n",
            "Predicted aspect terms:  ['õdus viis novembriõhtu veetmiseks sõprade seltsis', 'õdus viis novembriõhtu veetmiseks sõprade seltsis']\n"
          ]
        },
        {
          "output_type": "stream",
          "name": "stderr",
          "text": [
            "\r 40%|████      | 4/10 [00:02<00:03,  1.63it/s]"
          ]
        },
        {
          "output_type": "stream",
          "name": "stdout",
          "text": [
            "True aspect terms:  ['Pitsa põhi', 'Portsud ravioolidele', 'Pasta', 'Pitsa', 'Pitsa', 'Jookidel']\n",
            "Predicted aspect terms:  ['Portsud ravioolidele', 'Pitsa']\n"
          ]
        },
        {
          "output_type": "stream",
          "name": "stderr",
          "text": [
            "\r 50%|█████     | 5/10 [00:02<00:02,  1.72it/s]"
          ]
        },
        {
          "output_type": "stream",
          "name": "stdout",
          "text": [
            "True aspect terms:  ['Toit', 'ruum', 'õhkkond']\n",
            "Predicted aspect terms:  ['valik', 'ruum', 'ruum']\n"
          ]
        },
        {
          "output_type": "stream",
          "name": "stderr",
          "text": [
            "\r 60%|██████    | 6/10 [00:03<00:02,  1.77it/s]"
          ]
        },
        {
          "output_type": "stream",
          "name": "stdout",
          "text": [
            "True aspect terms:  ['Tom Khalt', 'supp', 'Kala kogus', 'maitsed']\n",
            "Predicted aspect terms:  []\n"
          ]
        },
        {
          "output_type": "stream",
          "name": "stderr",
          "text": [
            "\r 70%|███████   | 7/10 [00:03<00:01,  1.84it/s]"
          ]
        },
        {
          "output_type": "stream",
          "name": "stdout",
          "text": [
            "True aspect terms:  ['töötajad']\n",
            "Predicted aspect terms:  []\n"
          ]
        },
        {
          "output_type": "stream",
          "name": "stderr",
          "text": [
            "\r 80%|████████  | 8/10 [00:04<00:01,  1.76it/s]"
          ]
        },
        {
          "output_type": "stream",
          "name": "stdout",
          "text": [
            "True aspect terms:  ['laua broneerimisest', 'vaatega Kadriorule', 'teenindus', 'teenindus', 'teenindus', 'toidud']\n",
            "Predicted aspect terms:  ['teenindus', 'teenindus', 'toidud']\n"
          ]
        },
        {
          "output_type": "stream",
          "name": "stderr",
          "text": [
            "\r 90%|█████████ | 9/10 [00:05<00:00,  1.80it/s]"
          ]
        },
        {
          "output_type": "stream",
          "name": "stdout",
          "text": [
            "True aspect terms:  ['kulinaarse \"etteastega\"']\n",
            "Predicted aspect terms:  ['üks parimaid restorane Tallinnas vahest ka Baltikumis', 'olete']\n"
          ]
        },
        {
          "output_type": "stream",
          "name": "stderr",
          "text": [
            "100%|██████████| 10/10 [00:05<00:00,  1.83it/s]\n"
          ]
        },
        {
          "output_type": "stream",
          "name": "stdout",
          "text": [
            "True aspect terms:  ['toiduvalikut', 'Teenindus', 'Teenindus', 'teenindajad', 'teenindajad']\n",
            "Predicted aspect terms:  []\n",
            "Evaluating 9 last layers: \n"
          ]
        },
        {
          "output_type": "stream",
          "name": "stderr",
          "text": [
            " 10%|█         | 1/10 [00:00<00:04,  2.12it/s]"
          ]
        },
        {
          "output_type": "stream",
          "name": "stdout",
          "text": [
            "True aspect terms:  ['noormees', 'noormees', 'noormees', 'Toit']\n",
            "Predicted aspect terms:  []\n"
          ]
        },
        {
          "output_type": "stream",
          "name": "stderr",
          "text": [
            "\r 20%|██        | 2/10 [00:01<00:04,  1.90it/s]"
          ]
        },
        {
          "output_type": "stream",
          "name": "stdout",
          "text": [
            "True aspect terms:  ['Teenindaja Karl', 'toit', 'vein']\n",
            "Predicted aspect terms:  ['toit', 'vein']\n"
          ]
        },
        {
          "output_type": "stream",
          "name": "stderr",
          "text": [
            "\r 30%|███       | 3/10 [00:01<00:04,  1.67it/s]"
          ]
        },
        {
          "output_type": "stream",
          "name": "stdout",
          "text": [
            "True aspect terms:  ['jahiõhtusöögiga', 'Toit', 'atmosfäär', 'atmosfäär', 'Silverile', 'Sanderile', 'lahkele pererahvale']\n",
            "Predicted aspect terms:  ['õdus viis novembriõhtu veetmiseks sõprade seltsis', 'õdus viis novembriõhtu veetmiseks sõprade seltsis']\n"
          ]
        },
        {
          "output_type": "stream",
          "name": "stderr",
          "text": [
            "\r 40%|████      | 4/10 [00:02<00:03,  1.53it/s]"
          ]
        },
        {
          "output_type": "stream",
          "name": "stdout",
          "text": [
            "True aspect terms:  ['Pitsa põhi', 'Portsud ravioolidele', 'Pasta', 'Pitsa', 'Pitsa', 'Jookidel']\n",
            "Predicted aspect terms:  ['Portsud ravioolidele', 'Pitsa']\n"
          ]
        },
        {
          "output_type": "stream",
          "name": "stderr",
          "text": [
            "\r 50%|█████     | 5/10 [00:03<00:03,  1.40it/s]"
          ]
        },
        {
          "output_type": "stream",
          "name": "stdout",
          "text": [
            "True aspect terms:  ['Toit', 'ruum', 'õhkkond']\n",
            "Predicted aspect terms:  ['ruum', 'ruum']\n"
          ]
        },
        {
          "output_type": "stream",
          "name": "stderr",
          "text": [
            "\r 60%|██████    | 6/10 [00:04<00:03,  1.32it/s]"
          ]
        },
        {
          "output_type": "stream",
          "name": "stdout",
          "text": [
            "True aspect terms:  ['Tom Khalt', 'supp', 'Kala kogus', 'maitsed']\n",
            "Predicted aspect terms:  []\n"
          ]
        },
        {
          "output_type": "stream",
          "name": "stderr",
          "text": [
            "\r 70%|███████   | 7/10 [00:04<00:02,  1.29it/s]"
          ]
        },
        {
          "output_type": "stream",
          "name": "stdout",
          "text": [
            "True aspect terms:  ['töötajad']\n",
            "Predicted aspect terms:  []\n"
          ]
        },
        {
          "output_type": "stream",
          "name": "stderr",
          "text": [
            "\r 80%|████████  | 8/10 [00:05<00:01,  1.33it/s]"
          ]
        },
        {
          "output_type": "stream",
          "name": "stdout",
          "text": [
            "True aspect terms:  ['laua broneerimisest', 'vaatega Kadriorule', 'teenindus', 'teenindus', 'teenindus', 'toidud']\n",
            "Predicted aspect terms:  ['teenindus', 'teenindus', 'toidud']\n"
          ]
        },
        {
          "output_type": "stream",
          "name": "stderr",
          "text": [
            "\r 90%|█████████ | 9/10 [00:06<00:00,  1.47it/s]"
          ]
        },
        {
          "output_type": "stream",
          "name": "stdout",
          "text": [
            "True aspect terms:  ['kulinaarse \"etteastega\"']\n",
            "Predicted aspect terms:  ['üks parimaid restorane Tallinnas vahest ka Baltikumis', 'olete']\n"
          ]
        },
        {
          "output_type": "stream",
          "name": "stderr",
          "text": [
            "100%|██████████| 10/10 [00:06<00:00,  1.53it/s]\n"
          ]
        },
        {
          "output_type": "stream",
          "name": "stdout",
          "text": [
            "True aspect terms:  ['toiduvalikut', 'Teenindus', 'Teenindus', 'teenindajad', 'teenindajad']\n",
            "Predicted aspect terms:  []\n",
            "Evaluating 10 last layers: \n"
          ]
        },
        {
          "output_type": "stream",
          "name": "stderr",
          "text": [
            " 10%|█         | 1/10 [00:00<00:04,  2.10it/s]"
          ]
        },
        {
          "output_type": "stream",
          "name": "stdout",
          "text": [
            "True aspect terms:  ['noormees', 'noormees', 'noormees', 'Toit']\n",
            "Predicted aspect terms:  []\n"
          ]
        },
        {
          "output_type": "stream",
          "name": "stderr",
          "text": [
            "\r 20%|██        | 2/10 [00:01<00:04,  1.90it/s]"
          ]
        },
        {
          "output_type": "stream",
          "name": "stdout",
          "text": [
            "True aspect terms:  ['Teenindaja Karl', 'toit', 'vein']\n",
            "Predicted aspect terms:  ['toit', 'vein']\n"
          ]
        },
        {
          "output_type": "stream",
          "name": "stderr",
          "text": [
            "\r 30%|███       | 3/10 [00:01<00:04,  1.63it/s]"
          ]
        },
        {
          "output_type": "stream",
          "name": "stdout",
          "text": [
            "True aspect terms:  ['jahiõhtusöögiga', 'Toit', 'atmosfäär', 'atmosfäär', 'Silverile', 'Sanderile', 'lahkele pererahvale']\n",
            "Predicted aspect terms:  ['õdus viis novembriõhtu veetmiseks sõprade seltsis', 'õdus viis novembriõhtu veetmiseks sõprade seltsis']\n"
          ]
        },
        {
          "output_type": "stream",
          "name": "stderr",
          "text": [
            "\r 40%|████      | 4/10 [00:02<00:03,  1.61it/s]"
          ]
        },
        {
          "output_type": "stream",
          "name": "stdout",
          "text": [
            "True aspect terms:  ['Pitsa põhi', 'Portsud ravioolidele', 'Pasta', 'Pitsa', 'Pitsa', 'Jookidel']\n",
            "Predicted aspect terms:  ['Portsud ravioolidele', 'Pitsa']\n"
          ]
        },
        {
          "output_type": "stream",
          "name": "stderr",
          "text": [
            "\r 50%|█████     | 5/10 [00:02<00:02,  1.67it/s]"
          ]
        },
        {
          "output_type": "stream",
          "name": "stdout",
          "text": [
            "True aspect terms:  ['Toit', 'ruum', 'õhkkond']\n",
            "Predicted aspect terms:  ['ruum', 'ruum']\n"
          ]
        },
        {
          "output_type": "stream",
          "name": "stderr",
          "text": [
            "\r 60%|██████    | 6/10 [00:03<00:02,  1.75it/s]"
          ]
        },
        {
          "output_type": "stream",
          "name": "stdout",
          "text": [
            "True aspect terms:  ['Tom Khalt', 'supp', 'Kala kogus', 'maitsed']\n",
            "Predicted aspect terms:  []\n"
          ]
        },
        {
          "output_type": "stream",
          "name": "stderr",
          "text": [
            "\r 70%|███████   | 7/10 [00:03<00:01,  1.81it/s]"
          ]
        },
        {
          "output_type": "stream",
          "name": "stdout",
          "text": [
            "True aspect terms:  ['töötajad']\n",
            "Predicted aspect terms:  []\n"
          ]
        },
        {
          "output_type": "stream",
          "name": "stderr",
          "text": [
            "\r 80%|████████  | 8/10 [00:04<00:01,  1.75it/s]"
          ]
        },
        {
          "output_type": "stream",
          "name": "stdout",
          "text": [
            "True aspect terms:  ['laua broneerimisest', 'vaatega Kadriorule', 'teenindus', 'teenindus', 'teenindus', 'toidud']\n",
            "Predicted aspect terms:  ['teenindus', 'teenindus', 'toidud']\n"
          ]
        },
        {
          "output_type": "stream",
          "name": "stderr",
          "text": [
            "\r 90%|█████████ | 9/10 [00:05<00:00,  1.81it/s]"
          ]
        },
        {
          "output_type": "stream",
          "name": "stdout",
          "text": [
            "True aspect terms:  ['kulinaarse \"etteastega\"']\n",
            "Predicted aspect terms:  ['üks parimaid restorane Tallinnas vahest ka Baltikumis', 'olete']\n"
          ]
        },
        {
          "output_type": "stream",
          "name": "stderr",
          "text": [
            "100%|██████████| 10/10 [00:05<00:00,  1.82it/s]\n"
          ]
        },
        {
          "output_type": "stream",
          "name": "stdout",
          "text": [
            "True aspect terms:  ['toiduvalikut', 'Teenindus', 'Teenindus', 'teenindajad', 'teenindajad']\n",
            "Predicted aspect terms:  []\n",
            "Evaluating 11 last layers: \n"
          ]
        },
        {
          "output_type": "stream",
          "name": "stderr",
          "text": [
            " 10%|█         | 1/10 [00:00<00:04,  2.05it/s]"
          ]
        },
        {
          "output_type": "stream",
          "name": "stdout",
          "text": [
            "True aspect terms:  ['noormees', 'noormees', 'noormees', 'Toit']\n",
            "Predicted aspect terms:  []\n"
          ]
        },
        {
          "output_type": "stream",
          "name": "stderr",
          "text": [
            "\r 20%|██        | 2/10 [00:01<00:04,  1.93it/s]"
          ]
        },
        {
          "output_type": "stream",
          "name": "stdout",
          "text": [
            "True aspect terms:  ['Teenindaja Karl', 'toit', 'vein']\n",
            "Predicted aspect terms:  ['toit', 'vein']\n"
          ]
        },
        {
          "output_type": "stream",
          "name": "stderr",
          "text": [
            "\r 30%|███       | 3/10 [00:01<00:04,  1.65it/s]"
          ]
        },
        {
          "output_type": "stream",
          "name": "stdout",
          "text": [
            "True aspect terms:  ['jahiõhtusöögiga', 'Toit', 'atmosfäär', 'atmosfäär', 'Silverile', 'Sanderile', 'lahkele pererahvale']\n",
            "Predicted aspect terms:  ['õdus viis novembriõhtu veetmiseks sõprade seltsis', 'õdus viis novembriõhtu veetmiseks sõprade seltsis']\n"
          ]
        },
        {
          "output_type": "stream",
          "name": "stderr",
          "text": [
            "\r 40%|████      | 4/10 [00:02<00:03,  1.58it/s]"
          ]
        },
        {
          "output_type": "stream",
          "name": "stdout",
          "text": [
            "True aspect terms:  ['Pitsa põhi', 'Portsud ravioolidele', 'Pasta', 'Pitsa', 'Pitsa', 'Jookidel']\n",
            "Predicted aspect terms:  ['Portsud ravioolidele', 'Pitsa']\n"
          ]
        },
        {
          "output_type": "stream",
          "name": "stderr",
          "text": [
            "\r 50%|█████     | 5/10 [00:02<00:03,  1.66it/s]"
          ]
        },
        {
          "output_type": "stream",
          "name": "stdout",
          "text": [
            "True aspect terms:  ['Toit', 'ruum', 'õhkkond']\n",
            "Predicted aspect terms:  ['ruum']\n"
          ]
        },
        {
          "output_type": "stream",
          "name": "stderr",
          "text": [
            "\r 60%|██████    | 6/10 [00:03<00:02,  1.52it/s]"
          ]
        },
        {
          "output_type": "stream",
          "name": "stdout",
          "text": [
            "True aspect terms:  ['Tom Khalt', 'supp', 'Kala kogus', 'maitsed']\n",
            "Predicted aspect terms:  []\n"
          ]
        },
        {
          "output_type": "stream",
          "name": "stderr",
          "text": [
            "\r 70%|███████   | 7/10 [00:04<00:02,  1.41it/s]"
          ]
        },
        {
          "output_type": "stream",
          "name": "stdout",
          "text": [
            "True aspect terms:  ['töötajad']\n",
            "Predicted aspect terms:  []\n"
          ]
        },
        {
          "output_type": "stream",
          "name": "stderr",
          "text": [
            "\r 80%|████████  | 8/10 [00:05<00:01,  1.28it/s]"
          ]
        },
        {
          "output_type": "stream",
          "name": "stdout",
          "text": [
            "True aspect terms:  ['laua broneerimisest', 'vaatega Kadriorule', 'teenindus', 'teenindus', 'teenindus', 'toidud']\n",
            "Predicted aspect terms:  ['teenindus', 'teenindus', 'toidud']\n"
          ]
        },
        {
          "output_type": "stream",
          "name": "stderr",
          "text": [
            "\r 90%|█████████ | 9/10 [00:06<00:00,  1.29it/s]"
          ]
        },
        {
          "output_type": "stream",
          "name": "stdout",
          "text": [
            "True aspect terms:  ['kulinaarse \"etteastega\"']\n",
            "Predicted aspect terms:  ['üks parimaid restorane Tallinnas vahest ka Baltikumis', 'olete']\n"
          ]
        },
        {
          "output_type": "stream",
          "name": "stderr",
          "text": [
            "100%|██████████| 10/10 [00:06<00:00,  1.50it/s]\n"
          ]
        },
        {
          "output_type": "stream",
          "name": "stdout",
          "text": [
            "True aspect terms:  ['toiduvalikut', 'Teenindus', 'Teenindus', 'teenindajad', 'teenindajad']\n",
            "Predicted aspect terms:  []\n",
            "Evaluating 12 last layers: \n"
          ]
        },
        {
          "output_type": "stream",
          "name": "stderr",
          "text": [
            " 10%|█         | 1/10 [00:00<00:04,  1.98it/s]"
          ]
        },
        {
          "output_type": "stream",
          "name": "stdout",
          "text": [
            "True aspect terms:  ['noormees', 'noormees', 'noormees', 'Toit']\n",
            "Predicted aspect terms:  []\n"
          ]
        },
        {
          "output_type": "stream",
          "name": "stderr",
          "text": [
            "\r 20%|██        | 2/10 [00:01<00:04,  1.90it/s]"
          ]
        },
        {
          "output_type": "stream",
          "name": "stdout",
          "text": [
            "True aspect terms:  ['Teenindaja Karl', 'toit', 'vein']\n",
            "Predicted aspect terms:  ['toit', 'vein']\n"
          ]
        },
        {
          "output_type": "stream",
          "name": "stderr",
          "text": [
            "\r 30%|███       | 3/10 [00:01<00:04,  1.66it/s]"
          ]
        },
        {
          "output_type": "stream",
          "name": "stdout",
          "text": [
            "True aspect terms:  ['jahiõhtusöögiga', 'Toit', 'atmosfäär', 'atmosfäär', 'Silverile', 'Sanderile', 'lahkele pererahvale']\n",
            "Predicted aspect terms:  ['õdus viis novembriõhtu veetmiseks sõprade seltsis', 'õdus viis novembriõhtu veetmiseks sõprade seltsis']\n"
          ]
        },
        {
          "output_type": "stream",
          "name": "stderr",
          "text": [
            "\r 40%|████      | 4/10 [00:02<00:04,  1.46it/s]"
          ]
        },
        {
          "output_type": "stream",
          "name": "stdout",
          "text": [
            "True aspect terms:  ['Pitsa põhi', 'Portsud ravioolidele', 'Pasta', 'Pitsa', 'Pitsa', 'Jookidel']\n",
            "Predicted aspect terms:  ['Portsud ravioolidele', 'Pitsa']\n"
          ]
        },
        {
          "output_type": "stream",
          "name": "stderr",
          "text": [
            "\r 50%|█████     | 5/10 [00:03<00:03,  1.57it/s]"
          ]
        },
        {
          "output_type": "stream",
          "name": "stdout",
          "text": [
            "True aspect terms:  ['Toit', 'ruum', 'õhkkond']\n",
            "Predicted aspect terms:  ['ruum']\n"
          ]
        },
        {
          "output_type": "stream",
          "name": "stderr",
          "text": [
            "\r 60%|██████    | 6/10 [00:03<00:02,  1.67it/s]"
          ]
        },
        {
          "output_type": "stream",
          "name": "stdout",
          "text": [
            "True aspect terms:  ['Tom Khalt', 'supp', 'Kala kogus', 'maitsed']\n",
            "Predicted aspect terms:  []\n"
          ]
        },
        {
          "output_type": "stream",
          "name": "stderr",
          "text": [
            "\r 70%|███████   | 7/10 [00:04<00:01,  1.74it/s]"
          ]
        },
        {
          "output_type": "stream",
          "name": "stdout",
          "text": [
            "True aspect terms:  ['töötajad']\n",
            "Predicted aspect terms:  []\n"
          ]
        },
        {
          "output_type": "stream",
          "name": "stderr",
          "text": [
            "\r 80%|████████  | 8/10 [00:04<00:01,  1.71it/s]"
          ]
        },
        {
          "output_type": "stream",
          "name": "stdout",
          "text": [
            "True aspect terms:  ['laua broneerimisest', 'vaatega Kadriorule', 'teenindus', 'teenindus', 'teenindus', 'toidud']\n",
            "Predicted aspect terms:  ['teenindus', 'teenindus', 'toidud']\n"
          ]
        },
        {
          "output_type": "stream",
          "name": "stderr",
          "text": [
            "\r 90%|█████████ | 9/10 [00:05<00:00,  1.76it/s]"
          ]
        },
        {
          "output_type": "stream",
          "name": "stdout",
          "text": [
            "True aspect terms:  ['kulinaarse \"etteastega\"']\n",
            "Predicted aspect terms:  ['üks parimaid restorane Tallinnas vahest ka Baltikumis', 'olete']\n"
          ]
        },
        {
          "output_type": "stream",
          "name": "stderr",
          "text": [
            "100%|██████████| 10/10 [00:05<00:00,  1.76it/s]"
          ]
        },
        {
          "output_type": "stream",
          "name": "stdout",
          "text": [
            "True aspect terms:  ['toiduvalikut', 'Teenindus', 'Teenindus', 'teenindajad', 'teenindajad']\n",
            "Predicted aspect terms:  []\n"
          ]
        },
        {
          "output_type": "stream",
          "name": "stderr",
          "text": [
            "\n"
          ]
        },
        {
          "output_type": "display_data",
          "data": {
            "text/plain": [
              "<Figure size 1000x600 with 1 Axes>"
            ],
            "image/png": "[encoded data removed]"
          },
          "metadata": {}
        }
      ]
    },
    {
      "cell_type": "code",
      "source": [
        "plot_accuracy_by_first_layers()"
      ],
      "metadata": {
        "colab": {
          "base_uri": "https://localhost:8080/",
          "height": 1000
        },
        "id": "AmASwhIXnb7K",
        "outputId": "a4a04290-dcf4-492f-d155-7671e22bc3be"
      },
      "execution_count": null,
      "outputs": [
        {
          "output_type": "stream",
          "name": "stdout",
          "text": [
            "Evaluating 1 first layers: \n"
          ]
        },
        {
          "output_type": "stream",
          "name": "stderr",
          "text": [
            " 10%|█         | 1/10 [00:00<00:04,  1.99it/s]"
          ]
        },
        {
          "output_type": "stream",
          "name": "stdout",
          "text": [
            "True aspect terms:  ['noormees', 'noormees', 'noormees', 'Toit']\n",
            "Predicted aspect terms:  ['noormees']\n"
          ]
        },
        {
          "output_type": "stream",
          "name": "stderr",
          "text": [
            "\r 20%|██        | 2/10 [00:01<00:04,  1.90it/s]"
          ]
        },
        {
          "output_type": "stream",
          "name": "stdout",
          "text": [
            "True aspect terms:  ['Teenindaja Karl', 'toit', 'vein']\n",
            "Predicted aspect terms:  ['lükata oma broneering 18.00st 19.30le', 'toit']\n"
          ]
        },
        {
          "output_type": "stream",
          "name": "stderr",
          "text": [
            "\r 30%|███       | 3/10 [00:01<00:04,  1.63it/s]"
          ]
        },
        {
          "output_type": "stream",
          "name": "stdout",
          "text": [
            "True aspect terms:  ['jahiõhtusöögiga', 'Toit', 'atmosfäär', 'atmosfäär', 'Silverile', 'Sanderile', 'lahkele pererahvale']\n",
            "Predicted aspect terms:  ['Toit', 'õdus viis novembriõhtu veetmiseks sõprade seltsis', 'õdus viis novembriõhtu veetmiseks sõprade seltsis']\n"
          ]
        },
        {
          "output_type": "stream",
          "name": "stderr",
          "text": [
            "\r 40%|████      | 4/10 [00:02<00:03,  1.59it/s]"
          ]
        },
        {
          "output_type": "stream",
          "name": "stdout",
          "text": [
            "True aspect terms:  ['Pitsa põhi', 'Portsud ravioolidele', 'Pasta', 'Pitsa', 'Pitsa', 'Jookidel']\n",
            "Predicted aspect terms:  ['Portsud ravioolidele', 'Pitsa']\n"
          ]
        },
        {
          "output_type": "stream",
          "name": "stderr",
          "text": [
            "\r 50%|█████     | 5/10 [00:03<00:03,  1.44it/s]"
          ]
        },
        {
          "output_type": "stream",
          "name": "stdout",
          "text": [
            "True aspect terms:  ['Toit', 'ruum', 'õhkkond']\n",
            "Predicted aspect terms:  ['Toit', 'ruum', 'ruum']\n"
          ]
        },
        {
          "output_type": "stream",
          "name": "stderr",
          "text": [
            "\r 60%|██████    | 6/10 [00:04<00:02,  1.35it/s]"
          ]
        },
        {
          "output_type": "stream",
          "name": "stdout",
          "text": [
            "True aspect terms:  ['Tom Khalt', 'supp', 'Kala kogus', 'maitsed']\n",
            "Predicted aspect terms:  []\n"
          ]
        },
        {
          "output_type": "stream",
          "name": "stderr",
          "text": [
            "\r 70%|███████   | 7/10 [00:04<00:02,  1.32it/s]"
          ]
        },
        {
          "output_type": "stream",
          "name": "stdout",
          "text": [
            "True aspect terms:  ['töötajad']\n",
            "Predicted aspect terms:  []\n"
          ]
        },
        {
          "output_type": "stream",
          "name": "stderr",
          "text": [
            "\r 80%|████████  | 8/10 [00:05<00:01,  1.28it/s]"
          ]
        },
        {
          "output_type": "stream",
          "name": "stdout",
          "text": [
            "True aspect terms:  ['laua broneerimisest', 'vaatega Kadriorule', 'teenindus', 'teenindus', 'teenindus', 'toidud']\n",
            "Predicted aspect terms:  ['külastus', 'teenindus', 'teenindus', 'toidud']\n"
          ]
        },
        {
          "output_type": "stream",
          "name": "stderr",
          "text": [
            "\r 90%|█████████ | 9/10 [00:06<00:00,  1.43it/s]"
          ]
        },
        {
          "output_type": "stream",
          "name": "stdout",
          "text": [
            "True aspect terms:  ['kulinaarse \"etteastega\"']\n",
            "Predicted aspect terms:  ['üks parimaid restorane Tallinnas vahest ka Baltikumis', 'koht']\n"
          ]
        },
        {
          "output_type": "stream",
          "name": "stderr",
          "text": [
            "100%|██████████| 10/10 [00:06<00:00,  1.51it/s]\n"
          ]
        },
        {
          "output_type": "stream",
          "name": "stdout",
          "text": [
            "True aspect terms:  ['toiduvalikut', 'Teenindus', 'Teenindus', 'teenindajad', 'teenindajad']\n",
            "Predicted aspect terms:  []\n",
            "Evaluating 2 first layers: \n"
          ]
        },
        {
          "output_type": "stream",
          "name": "stderr",
          "text": [
            " 10%|█         | 1/10 [00:00<00:04,  2.05it/s]"
          ]
        },
        {
          "output_type": "stream",
          "name": "stdout",
          "text": [
            "True aspect terms:  ['noormees', 'noormees', 'noormees', 'Toit']\n",
            "Predicted aspect terms:  ['noormees']\n"
          ]
        },
        {
          "output_type": "stream",
          "name": "stderr",
          "text": [
            "\r 20%|██        | 2/10 [00:01<00:04,  1.88it/s]"
          ]
        },
        {
          "output_type": "stream",
          "name": "stdout",
          "text": [
            "True aspect terms:  ['Teenindaja Karl', 'toit', 'vein']\n",
            "Predicted aspect terms:  ['toit', 'vein']\n"
          ]
        },
        {
          "output_type": "stream",
          "name": "stderr",
          "text": [
            "\r 30%|███       | 3/10 [00:01<00:04,  1.65it/s]"
          ]
        },
        {
          "output_type": "stream",
          "name": "stdout",
          "text": [
            "True aspect terms:  ['jahiõhtusöögiga', 'Toit', 'atmosfäär', 'atmosfäär', 'Silverile', 'Sanderile', 'lahkele pererahvale']\n",
            "Predicted aspect terms:  ['elamusrestoran', 'Toit', 'õdus viis novembriõhtu veetmiseks sõprade seltsis', 'õdus viis novembriõhtu veetmiseks sõprade seltsis']\n"
          ]
        },
        {
          "output_type": "stream",
          "name": "stderr",
          "text": [
            "\r 40%|████      | 4/10 [00:02<00:03,  1.61it/s]"
          ]
        },
        {
          "output_type": "stream",
          "name": "stdout",
          "text": [
            "True aspect terms:  ['Pitsa põhi', 'Portsud ravioolidele', 'Pasta', 'Pitsa', 'Pitsa', 'Jookidel']\n",
            "Predicted aspect terms:  ['Portsud ravioolidele']\n"
          ]
        },
        {
          "output_type": "stream",
          "name": "stderr",
          "text": [
            "\r 50%|█████     | 5/10 [00:02<00:02,  1.70it/s]"
          ]
        },
        {
          "output_type": "stream",
          "name": "stdout",
          "text": [
            "True aspect terms:  ['Toit', 'ruum', 'õhkkond']\n",
            "Predicted aspect terms:  ['Toit', 'ruum', 'ruum']\n"
          ]
        },
        {
          "output_type": "stream",
          "name": "stderr",
          "text": [
            "\r 60%|██████    | 6/10 [00:03<00:02,  1.76it/s]"
          ]
        },
        {
          "output_type": "stream",
          "name": "stdout",
          "text": [
            "True aspect terms:  ['Tom Khalt', 'supp', 'Kala kogus', 'maitsed']\n",
            "Predicted aspect terms:  []\n"
          ]
        },
        {
          "output_type": "stream",
          "name": "stderr",
          "text": [
            "\r 70%|███████   | 7/10 [00:03<00:01,  1.82it/s]"
          ]
        },
        {
          "output_type": "stream",
          "name": "stdout",
          "text": [
            "True aspect terms:  ['töötajad']\n",
            "Predicted aspect terms:  []\n"
          ]
        },
        {
          "output_type": "stream",
          "name": "stderr",
          "text": [
            "\r 80%|████████  | 8/10 [00:04<00:01,  1.75it/s]"
          ]
        },
        {
          "output_type": "stream",
          "name": "stdout",
          "text": [
            "True aspect terms:  ['laua broneerimisest', 'vaatega Kadriorule', 'teenindus', 'teenindus', 'teenindus', 'toidud']\n",
            "Predicted aspect terms:  ['teenindus', 'teenindus', 'toidud']\n"
          ]
        },
        {
          "output_type": "stream",
          "name": "stderr",
          "text": [
            "\r 90%|█████████ | 9/10 [00:05<00:00,  1.77it/s]"
          ]
        },
        {
          "output_type": "stream",
          "name": "stdout",
          "text": [
            "True aspect terms:  ['kulinaarse \"etteastega\"']\n",
            "Predicted aspect terms:  ['üks parimaid restorane Tallinnas vahest ka Baltikumis', 'olete']\n"
          ]
        },
        {
          "output_type": "stream",
          "name": "stderr",
          "text": [
            "100%|██████████| 10/10 [00:05<00:00,  1.80it/s]\n"
          ]
        },
        {
          "output_type": "stream",
          "name": "stdout",
          "text": [
            "True aspect terms:  ['toiduvalikut', 'Teenindus', 'Teenindus', 'teenindajad', 'teenindajad']\n",
            "Predicted aspect terms:  []\n",
            "Evaluating 3 first layers: \n"
          ]
        },
        {
          "output_type": "stream",
          "name": "stderr",
          "text": [
            " 10%|█         | 1/10 [00:00<00:04,  1.93it/s]"
          ]
        },
        {
          "output_type": "stream",
          "name": "stdout",
          "text": [
            "True aspect terms:  ['noormees', 'noormees', 'noormees', 'Toit']\n",
            "Predicted aspect terms:  ['noormees']\n"
          ]
        },
        {
          "output_type": "stream",
          "name": "stderr",
          "text": [
            "\r 20%|██        | 2/10 [00:01<00:04,  1.89it/s]"
          ]
        },
        {
          "output_type": "stream",
          "name": "stdout",
          "text": [
            "True aspect terms:  ['Teenindaja Karl', 'toit', 'vein']\n",
            "Predicted aspect terms:  ['toit', 'vein']\n"
          ]
        },
        {
          "output_type": "stream",
          "name": "stderr",
          "text": [
            "\r 30%|███       | 3/10 [00:01<00:04,  1.63it/s]"
          ]
        },
        {
          "output_type": "stream",
          "name": "stdout",
          "text": [
            "True aspect terms:  ['jahiõhtusöögiga', 'Toit', 'atmosfäär', 'atmosfäär', 'Silverile', 'Sanderile', 'lahkele pererahvale']\n",
            "Predicted aspect terms:  ['õdus viis novembriõhtu veetmiseks sõprade seltsis', 'õdus viis novembriõhtu veetmiseks sõprade seltsis']\n"
          ]
        },
        {
          "output_type": "stream",
          "name": "stderr",
          "text": [
            "\r 40%|████      | 4/10 [00:02<00:03,  1.61it/s]"
          ]
        },
        {
          "output_type": "stream",
          "name": "stdout",
          "text": [
            "True aspect terms:  ['Pitsa põhi', 'Portsud ravioolidele', 'Pasta', 'Pitsa', 'Pitsa', 'Jookidel']\n",
            "Predicted aspect terms:  ['Portsud ravioolidele']\n"
          ]
        },
        {
          "output_type": "stream",
          "name": "stderr",
          "text": [
            "\r 50%|█████     | 5/10 [00:02<00:02,  1.70it/s]"
          ]
        },
        {
          "output_type": "stream",
          "name": "stdout",
          "text": [
            "True aspect terms:  ['Toit', 'ruum', 'õhkkond']\n",
            "Predicted aspect terms:  ['ruum']\n"
          ]
        },
        {
          "output_type": "stream",
          "name": "stderr",
          "text": [
            "\r 60%|██████    | 6/10 [00:03<00:02,  1.68it/s]"
          ]
        },
        {
          "output_type": "stream",
          "name": "stdout",
          "text": [
            "True aspect terms:  ['Tom Khalt', 'supp', 'Kala kogus', 'maitsed']\n",
            "Predicted aspect terms:  []\n"
          ]
        },
        {
          "output_type": "stream",
          "name": "stderr",
          "text": [
            "\r 70%|███████   | 7/10 [00:04<00:01,  1.53it/s]"
          ]
        },
        {
          "output_type": "stream",
          "name": "stdout",
          "text": [
            "True aspect terms:  ['töötajad']\n",
            "Predicted aspect terms:  []\n"
          ]
        },
        {
          "output_type": "stream",
          "name": "stderr",
          "text": [
            "\r 80%|████████  | 8/10 [00:05<00:01,  1.34it/s]"
          ]
        },
        {
          "output_type": "stream",
          "name": "stdout",
          "text": [
            "True aspect terms:  ['laua broneerimisest', 'vaatega Kadriorule', 'teenindus', 'teenindus', 'teenindus', 'toidud']\n",
            "Predicted aspect terms:  ['teenindus', 'teenindus', 'toidud']\n"
          ]
        },
        {
          "output_type": "stream",
          "name": "stderr",
          "text": [
            "\r 90%|█████████ | 9/10 [00:06<00:00,  1.30it/s]"
          ]
        },
        {
          "output_type": "stream",
          "name": "stdout",
          "text": [
            "True aspect terms:  ['kulinaarse \"etteastega\"']\n",
            "Predicted aspect terms:  ['üks parimaid restorane Tallinnas vahest ka Baltikumis', 'olete']\n"
          ]
        },
        {
          "output_type": "stream",
          "name": "stderr",
          "text": [
            "100%|██████████| 10/10 [00:06<00:00,  1.52it/s]\n"
          ]
        },
        {
          "output_type": "stream",
          "name": "stdout",
          "text": [
            "True aspect terms:  ['toiduvalikut', 'Teenindus', 'Teenindus', 'teenindajad', 'teenindajad']\n",
            "Predicted aspect terms:  []\n",
            "Evaluating 4 first layers: \n"
          ]
        },
        {
          "output_type": "stream",
          "name": "stderr",
          "text": [
            " 10%|█         | 1/10 [00:00<00:04,  1.94it/s]"
          ]
        },
        {
          "output_type": "stream",
          "name": "stdout",
          "text": [
            "True aspect terms:  ['noormees', 'noormees', 'noormees', 'Toit']\n",
            "Predicted aspect terms:  []\n"
          ]
        },
        {
          "output_type": "stream",
          "name": "stderr",
          "text": [
            "\r 20%|██        | 2/10 [00:01<00:04,  1.89it/s]"
          ]
        },
        {
          "output_type": "stream",
          "name": "stdout",
          "text": [
            "True aspect terms:  ['Teenindaja Karl', 'toit', 'vein']\n",
            "Predicted aspect terms:  ['toit', 'vein']\n"
          ]
        },
        {
          "output_type": "stream",
          "name": "stderr",
          "text": [
            "\r 30%|███       | 3/10 [00:01<00:04,  1.64it/s]"
          ]
        },
        {
          "output_type": "stream",
          "name": "stdout",
          "text": [
            "True aspect terms:  ['jahiõhtusöögiga', 'Toit', 'atmosfäär', 'atmosfäär', 'Silverile', 'Sanderile', 'lahkele pererahvale']\n",
            "Predicted aspect terms:  ['õdus viis novembriõhtu veetmiseks sõprade seltsis', 'õdus viis novembriõhtu veetmiseks sõprade seltsis']\n"
          ]
        },
        {
          "output_type": "stream",
          "name": "stderr",
          "text": [
            "\r 40%|████      | 4/10 [00:02<00:03,  1.61it/s]"
          ]
        },
        {
          "output_type": "stream",
          "name": "stdout",
          "text": [
            "True aspect terms:  ['Pitsa põhi', 'Portsud ravioolidele', 'Pasta', 'Pitsa', 'Pitsa', 'Jookidel']\n",
            "Predicted aspect terms:  []\n"
          ]
        },
        {
          "output_type": "stream",
          "name": "stderr",
          "text": [
            "\r 50%|█████     | 5/10 [00:02<00:02,  1.68it/s]"
          ]
        },
        {
          "output_type": "stream",
          "name": "stdout",
          "text": [
            "True aspect terms:  ['Toit', 'ruum', 'õhkkond']\n",
            "Predicted aspect terms:  ['ruum']\n"
          ]
        },
        {
          "output_type": "stream",
          "name": "stderr",
          "text": [
            "\r 60%|██████    | 6/10 [00:03<00:02,  1.72it/s]"
          ]
        },
        {
          "output_type": "stream",
          "name": "stdout",
          "text": [
            "True aspect terms:  ['Tom Khalt', 'supp', 'Kala kogus', 'maitsed']\n",
            "Predicted aspect terms:  []\n"
          ]
        },
        {
          "output_type": "stream",
          "name": "stderr",
          "text": [
            "\r 70%|███████   | 7/10 [00:04<00:01,  1.77it/s]"
          ]
        },
        {
          "output_type": "stream",
          "name": "stdout",
          "text": [
            "True aspect terms:  ['töötajad']\n",
            "Predicted aspect terms:  []\n"
          ]
        },
        {
          "output_type": "stream",
          "name": "stderr",
          "text": [
            "\r 80%|████████  | 8/10 [00:04<00:01,  1.71it/s]"
          ]
        },
        {
          "output_type": "stream",
          "name": "stdout",
          "text": [
            "True aspect terms:  ['laua broneerimisest', 'vaatega Kadriorule', 'teenindus', 'teenindus', 'teenindus', 'toidud']\n",
            "Predicted aspect terms:  ['toidud']\n"
          ]
        },
        {
          "output_type": "stream",
          "name": "stderr",
          "text": [
            "\r 90%|█████████ | 9/10 [00:05<00:00,  1.78it/s]"
          ]
        },
        {
          "output_type": "stream",
          "name": "stdout",
          "text": [
            "True aspect terms:  ['kulinaarse \"etteastega\"']\n",
            "Predicted aspect terms:  ['üks parimaid restorane Tallinnas vahest ka Baltikumis', 'olete']\n"
          ]
        },
        {
          "output_type": "stream",
          "name": "stderr",
          "text": [
            "100%|██████████| 10/10 [00:05<00:00,  1.79it/s]\n"
          ]
        },
        {
          "output_type": "stream",
          "name": "stdout",
          "text": [
            "True aspect terms:  ['toiduvalikut', 'Teenindus', 'Teenindus', 'teenindajad', 'teenindajad']\n",
            "Predicted aspect terms:  []\n",
            "Evaluating 5 first layers: \n"
          ]
        },
        {
          "output_type": "stream",
          "name": "stderr",
          "text": [
            " 10%|█         | 1/10 [00:00<00:04,  2.11it/s]"
          ]
        },
        {
          "output_type": "stream",
          "name": "stdout",
          "text": [
            "True aspect terms:  ['noormees', 'noormees', 'noormees', 'Toit']\n",
            "Predicted aspect terms:  []\n"
          ]
        },
        {
          "output_type": "stream",
          "name": "stderr",
          "text": [
            "\r 20%|██        | 2/10 [00:01<00:04,  1.95it/s]"
          ]
        },
        {
          "output_type": "stream",
          "name": "stdout",
          "text": [
            "True aspect terms:  ['Teenindaja Karl', 'toit', 'vein']\n",
            "Predicted aspect terms:  ['toit', 'vein']\n"
          ]
        },
        {
          "output_type": "stream",
          "name": "stderr",
          "text": [
            "\r 30%|███       | 3/10 [00:01<00:04,  1.68it/s]"
          ]
        },
        {
          "output_type": "stream",
          "name": "stdout",
          "text": [
            "True aspect terms:  ['jahiõhtusöögiga', 'Toit', 'atmosfäär', 'atmosfäär', 'Silverile', 'Sanderile', 'lahkele pererahvale']\n",
            "Predicted aspect terms:  ['õdus viis novembriõhtu veetmiseks sõprade seltsis']\n"
          ]
        },
        {
          "output_type": "stream",
          "name": "stderr",
          "text": [
            "\r 40%|████      | 4/10 [00:02<00:03,  1.62it/s]"
          ]
        },
        {
          "output_type": "stream",
          "name": "stdout",
          "text": [
            "True aspect terms:  ['Pitsa põhi', 'Portsud ravioolidele', 'Pasta', 'Pitsa', 'Pitsa', 'Jookidel']\n",
            "Predicted aspect terms:  []\n"
          ]
        },
        {
          "output_type": "stream",
          "name": "stderr",
          "text": [
            "\r 50%|█████     | 5/10 [00:02<00:02,  1.70it/s]"
          ]
        },
        {
          "output_type": "stream",
          "name": "stdout",
          "text": [
            "True aspect terms:  ['Toit', 'ruum', 'õhkkond']\n",
            "Predicted aspect terms:  ['ruum']\n"
          ]
        },
        {
          "output_type": "stream",
          "name": "stderr",
          "text": [
            "\r 60%|██████    | 6/10 [00:03<00:02,  1.74it/s]"
          ]
        },
        {
          "output_type": "stream",
          "name": "stdout",
          "text": [
            "True aspect terms:  ['Tom Khalt', 'supp', 'Kala kogus', 'maitsed']\n",
            "Predicted aspect terms:  []\n"
          ]
        },
        {
          "output_type": "stream",
          "name": "stderr",
          "text": [
            "\r 70%|███████   | 7/10 [00:03<00:01,  1.80it/s]"
          ]
        },
        {
          "output_type": "stream",
          "name": "stdout",
          "text": [
            "True aspect terms:  ['töötajad']\n",
            "Predicted aspect terms:  []\n"
          ]
        },
        {
          "output_type": "stream",
          "name": "stderr",
          "text": [
            "\r 80%|████████  | 8/10 [00:04<00:01,  1.54it/s]"
          ]
        },
        {
          "output_type": "stream",
          "name": "stdout",
          "text": [
            "True aspect terms:  ['laua broneerimisest', 'vaatega Kadriorule', 'teenindus', 'teenindus', 'teenindus', 'toidud']\n",
            "Predicted aspect terms:  ['toidud']\n"
          ]
        },
        {
          "output_type": "stream",
          "name": "stderr",
          "text": [
            "\r 90%|█████████ | 9/10 [00:05<00:00,  1.42it/s]"
          ]
        },
        {
          "output_type": "stream",
          "name": "stdout",
          "text": [
            "True aspect terms:  ['kulinaarse \"etteastega\"']\n",
            "Predicted aspect terms:  ['üks parimaid restorane Tallinnas vahest ka Baltikumis']\n"
          ]
        },
        {
          "output_type": "stream",
          "name": "stderr",
          "text": [
            "100%|██████████| 10/10 [00:06<00:00,  1.59it/s]\n"
          ]
        },
        {
          "output_type": "stream",
          "name": "stdout",
          "text": [
            "True aspect terms:  ['toiduvalikut', 'Teenindus', 'Teenindus', 'teenindajad', 'teenindajad']\n",
            "Predicted aspect terms:  []\n",
            "Evaluating 6 first layers: \n"
          ]
        },
        {
          "output_type": "stream",
          "name": "stderr",
          "text": [
            " 10%|█         | 1/10 [00:00<00:07,  1.24it/s]"
          ]
        },
        {
          "output_type": "stream",
          "name": "stdout",
          "text": [
            "True aspect terms:  ['noormees', 'noormees', 'noormees', 'Toit']\n",
            "Predicted aspect terms:  []\n"
          ]
        },
        {
          "output_type": "stream",
          "name": "stderr",
          "text": [
            "\r 20%|██        | 2/10 [00:01<00:05,  1.52it/s]"
          ]
        },
        {
          "output_type": "stream",
          "name": "stdout",
          "text": [
            "True aspect terms:  ['Teenindaja Karl', 'toit', 'vein']\n",
            "Predicted aspect terms:  ['toit', 'vein']\n"
          ]
        },
        {
          "output_type": "stream",
          "name": "stderr",
          "text": [
            "\r 30%|███       | 3/10 [00:02<00:04,  1.46it/s]"
          ]
        },
        {
          "output_type": "stream",
          "name": "stdout",
          "text": [
            "True aspect terms:  ['jahiõhtusöögiga', 'Toit', 'atmosfäär', 'atmosfäär', 'Silverile', 'Sanderile', 'lahkele pererahvale']\n",
            "Predicted aspect terms:  ['õdus viis novembriõhtu veetmiseks sõprade seltsis']\n"
          ]
        },
        {
          "output_type": "stream",
          "name": "stderr",
          "text": [
            "\r 40%|████      | 4/10 [00:02<00:04,  1.50it/s]"
          ]
        },
        {
          "output_type": "stream",
          "name": "stdout",
          "text": [
            "True aspect terms:  ['Pitsa põhi', 'Portsud ravioolidele', 'Pasta', 'Pitsa', 'Pitsa', 'Jookidel']\n",
            "Predicted aspect terms:  []\n"
          ]
        },
        {
          "output_type": "stream",
          "name": "stderr",
          "text": [
            "\r 50%|█████     | 5/10 [00:03<00:03,  1.58it/s]"
          ]
        },
        {
          "output_type": "stream",
          "name": "stdout",
          "text": [
            "True aspect terms:  ['Toit', 'ruum', 'õhkkond']\n",
            "Predicted aspect terms:  ['ruum']\n"
          ]
        },
        {
          "output_type": "stream",
          "name": "stderr",
          "text": [
            "\r 60%|██████    | 6/10 [00:03<00:02,  1.67it/s]"
          ]
        },
        {
          "output_type": "stream",
          "name": "stdout",
          "text": [
            "True aspect terms:  ['Tom Khalt', 'supp', 'Kala kogus', 'maitsed']\n",
            "Predicted aspect terms:  []\n"
          ]
        },
        {
          "output_type": "stream",
          "name": "stderr",
          "text": [
            "\r 70%|███████   | 7/10 [00:04<00:01,  1.77it/s]"
          ]
        },
        {
          "output_type": "stream",
          "name": "stdout",
          "text": [
            "True aspect terms:  ['töötajad']\n",
            "Predicted aspect terms:  []\n"
          ]
        },
        {
          "output_type": "stream",
          "name": "stderr",
          "text": [
            "\r 80%|████████  | 8/10 [00:04<00:01,  1.72it/s]"
          ]
        },
        {
          "output_type": "stream",
          "name": "stdout",
          "text": [
            "True aspect terms:  ['laua broneerimisest', 'vaatega Kadriorule', 'teenindus', 'teenindus', 'teenindus', 'toidud']\n",
            "Predicted aspect terms:  ['toidud']\n"
          ]
        },
        {
          "output_type": "stream",
          "name": "stderr",
          "text": [
            "\r 90%|█████████ | 9/10 [00:05<00:00,  1.80it/s]"
          ]
        },
        {
          "output_type": "stream",
          "name": "stdout",
          "text": [
            "True aspect terms:  ['kulinaarse \"etteastega\"']\n",
            "Predicted aspect terms:  ['üks parimaid restorane Tallinnas vahest ka Baltikumis']\n"
          ]
        },
        {
          "output_type": "stream",
          "name": "stderr",
          "text": [
            "100%|██████████| 10/10 [00:05<00:00,  1.71it/s]\n"
          ]
        },
        {
          "output_type": "stream",
          "name": "stdout",
          "text": [
            "True aspect terms:  ['toiduvalikut', 'Teenindus', 'Teenindus', 'teenindajad', 'teenindajad']\n",
            "Predicted aspect terms:  []\n",
            "Evaluating 7 first layers: \n"
          ]
        },
        {
          "output_type": "stream",
          "name": "stderr",
          "text": [
            " 10%|█         | 1/10 [00:00<00:04,  2.05it/s]"
          ]
        },
        {
          "output_type": "stream",
          "name": "stdout",
          "text": [
            "True aspect terms:  ['noormees', 'noormees', 'noormees', 'Toit']\n",
            "Predicted aspect terms:  []\n"
          ]
        },
        {
          "output_type": "stream",
          "name": "stderr",
          "text": [
            "\r 20%|██        | 2/10 [00:01<00:04,  1.97it/s]"
          ]
        },
        {
          "output_type": "stream",
          "name": "stdout",
          "text": [
            "True aspect terms:  ['Teenindaja Karl', 'toit', 'vein']\n",
            "Predicted aspect terms:  ['toit', 'vein']\n"
          ]
        },
        {
          "output_type": "stream",
          "name": "stderr",
          "text": [
            "\r 30%|███       | 3/10 [00:01<00:04,  1.67it/s]"
          ]
        },
        {
          "output_type": "stream",
          "name": "stdout",
          "text": [
            "True aspect terms:  ['jahiõhtusöögiga', 'Toit', 'atmosfäär', 'atmosfäär', 'Silverile', 'Sanderile', 'lahkele pererahvale']\n",
            "Predicted aspect terms:  ['õdus viis novembriõhtu veetmiseks sõprade seltsis']\n"
          ]
        },
        {
          "output_type": "stream",
          "name": "stderr",
          "text": [
            "\r 40%|████      | 4/10 [00:02<00:03,  1.62it/s]"
          ]
        },
        {
          "output_type": "stream",
          "name": "stdout",
          "text": [
            "True aspect terms:  ['Pitsa põhi', 'Portsud ravioolidele', 'Pasta', 'Pitsa', 'Pitsa', 'Jookidel']\n",
            "Predicted aspect terms:  []\n"
          ]
        },
        {
          "output_type": "stream",
          "name": "stderr",
          "text": [
            "\r 50%|█████     | 5/10 [00:02<00:02,  1.70it/s]"
          ]
        },
        {
          "output_type": "stream",
          "name": "stdout",
          "text": [
            "True aspect terms:  ['Toit', 'ruum', 'õhkkond']\n",
            "Predicted aspect terms:  ['ruum', 'ruum']\n"
          ]
        },
        {
          "output_type": "stream",
          "name": "stderr",
          "text": [
            "\r 60%|██████    | 6/10 [00:03<00:02,  1.75it/s]"
          ]
        },
        {
          "output_type": "stream",
          "name": "stdout",
          "text": [
            "True aspect terms:  ['Tom Khalt', 'supp', 'Kala kogus', 'maitsed']\n",
            "Predicted aspect terms:  []\n"
          ]
        },
        {
          "output_type": "stream",
          "name": "stderr",
          "text": [
            "\r 70%|███████   | 7/10 [00:03<00:01,  1.82it/s]"
          ]
        },
        {
          "output_type": "stream",
          "name": "stdout",
          "text": [
            "True aspect terms:  ['töötajad']\n",
            "Predicted aspect terms:  []\n"
          ]
        },
        {
          "output_type": "stream",
          "name": "stderr",
          "text": [
            "\r 80%|████████  | 8/10 [00:04<00:01,  1.74it/s]"
          ]
        },
        {
          "output_type": "stream",
          "name": "stdout",
          "text": [
            "True aspect terms:  ['laua broneerimisest', 'vaatega Kadriorule', 'teenindus', 'teenindus', 'teenindus', 'toidud']\n",
            "Predicted aspect terms:  ['teenindus', 'teenindus', 'toidud']\n"
          ]
        },
        {
          "output_type": "stream",
          "name": "stderr",
          "text": [
            "\r 90%|█████████ | 9/10 [00:05<00:00,  1.75it/s]"
          ]
        },
        {
          "output_type": "stream",
          "name": "stdout",
          "text": [
            "True aspect terms:  ['kulinaarse \"etteastega\"']\n",
            "Predicted aspect terms:  ['üks parimaid restorane Tallinnas vahest ka Baltikumis', 'olete']\n"
          ]
        },
        {
          "output_type": "stream",
          "name": "stderr",
          "text": [
            "100%|██████████| 10/10 [00:05<00:00,  1.73it/s]\n"
          ]
        },
        {
          "output_type": "stream",
          "name": "stdout",
          "text": [
            "True aspect terms:  ['toiduvalikut', 'Teenindus', 'Teenindus', 'teenindajad', 'teenindajad']\n",
            "Predicted aspect terms:  []\n",
            "Evaluating 8 first layers: \n"
          ]
        },
        {
          "output_type": "stream",
          "name": "stderr",
          "text": [
            " 10%|█         | 1/10 [00:00<00:06,  1.31it/s]"
          ]
        },
        {
          "output_type": "stream",
          "name": "stdout",
          "text": [
            "True aspect terms:  ['noormees', 'noormees', 'noormees', 'Toit']\n",
            "Predicted aspect terms:  ['noormees']\n"
          ]
        },
        {
          "output_type": "stream",
          "name": "stderr",
          "text": [
            "\r 20%|██        | 2/10 [00:01<00:06,  1.23it/s]"
          ]
        },
        {
          "output_type": "stream",
          "name": "stdout",
          "text": [
            "True aspect terms:  ['Teenindaja Karl', 'toit', 'vein']\n",
            "Predicted aspect terms:  ['lükata oma broneering 18.00st 19.30le', 'toit', 'vein']\n"
          ]
        },
        {
          "output_type": "stream",
          "name": "stderr",
          "text": [
            "\r 30%|███       | 3/10 [00:02<00:05,  1.18it/s]"
          ]
        },
        {
          "output_type": "stream",
          "name": "stdout",
          "text": [
            "True aspect terms:  ['jahiõhtusöögiga', 'Toit', 'atmosfäär', 'atmosfäär', 'Silverile', 'Sanderile', 'lahkele pererahvale']\n",
            "Predicted aspect terms:  ['elamusrestoran', 'õdus viis novembriõhtu veetmiseks sõprade seltsis', 'õdus viis novembriõhtu veetmiseks sõprade seltsis']\n"
          ]
        },
        {
          "output_type": "stream",
          "name": "stderr",
          "text": [
            "\r 40%|████      | 4/10 [00:03<00:04,  1.30it/s]"
          ]
        },
        {
          "output_type": "stream",
          "name": "stdout",
          "text": [
            "True aspect terms:  ['Pitsa põhi', 'Portsud ravioolidele', 'Pasta', 'Pitsa', 'Pitsa', 'Jookidel']\n",
            "Predicted aspect terms:  ['Portsud ravioolidele', 'Pitsa']\n"
          ]
        },
        {
          "output_type": "stream",
          "name": "stderr",
          "text": [
            "\r 50%|█████     | 5/10 [00:03<00:03,  1.46it/s]"
          ]
        },
        {
          "output_type": "stream",
          "name": "stdout",
          "text": [
            "True aspect terms:  ['Toit', 'ruum', 'õhkkond']\n",
            "Predicted aspect terms:  ['ruum', 'ruum']\n"
          ]
        },
        {
          "output_type": "stream",
          "name": "stderr",
          "text": [
            "\r 60%|██████    | 6/10 [00:04<00:02,  1.59it/s]"
          ]
        },
        {
          "output_type": "stream",
          "name": "stdout",
          "text": [
            "True aspect terms:  ['Tom Khalt', 'supp', 'Kala kogus', 'maitsed']\n",
            "Predicted aspect terms:  []\n"
          ]
        },
        {
          "output_type": "stream",
          "name": "stderr",
          "text": [
            "\r 70%|███████   | 7/10 [00:04<00:01,  1.70it/s]"
          ]
        },
        {
          "output_type": "stream",
          "name": "stdout",
          "text": [
            "True aspect terms:  ['töötajad']\n",
            "Predicted aspect terms:  []\n"
          ]
        },
        {
          "output_type": "stream",
          "name": "stderr",
          "text": [
            "\r 80%|████████  | 8/10 [00:05<00:01,  1.67it/s]"
          ]
        },
        {
          "output_type": "stream",
          "name": "stdout",
          "text": [
            "True aspect terms:  ['laua broneerimisest', 'vaatega Kadriorule', 'teenindus', 'teenindus', 'teenindus', 'toidud']\n",
            "Predicted aspect terms:  ['teenindus', 'teenindus', 'toidud']\n"
          ]
        },
        {
          "output_type": "stream",
          "name": "stderr",
          "text": [
            "\r 90%|█████████ | 9/10 [00:05<00:00,  1.72it/s]"
          ]
        },
        {
          "output_type": "stream",
          "name": "stdout",
          "text": [
            "True aspect terms:  ['kulinaarse \"etteastega\"']\n",
            "Predicted aspect terms:  ['üks parimaid restorane Tallinnas vahest ka Baltikumis', 'olete']\n"
          ]
        },
        {
          "output_type": "stream",
          "name": "stderr",
          "text": [
            "100%|██████████| 10/10 [00:06<00:00,  1.59it/s]\n"
          ]
        },
        {
          "output_type": "stream",
          "name": "stdout",
          "text": [
            "True aspect terms:  ['toiduvalikut', 'Teenindus', 'Teenindus', 'teenindajad', 'teenindajad']\n",
            "Predicted aspect terms:  []\n",
            "Evaluating 9 first layers: \n"
          ]
        },
        {
          "output_type": "stream",
          "name": "stderr",
          "text": [
            " 10%|█         | 1/10 [00:00<00:04,  1.98it/s]"
          ]
        },
        {
          "output_type": "stream",
          "name": "stdout",
          "text": [
            "True aspect terms:  ['noormees', 'noormees', 'noormees', 'Toit']\n",
            "Predicted aspect terms:  ['noormees']\n"
          ]
        },
        {
          "output_type": "stream",
          "name": "stderr",
          "text": [
            "\r 20%|██        | 2/10 [00:01<00:04,  1.94it/s]"
          ]
        },
        {
          "output_type": "stream",
          "name": "stdout",
          "text": [
            "True aspect terms:  ['Teenindaja Karl', 'toit', 'vein']\n",
            "Predicted aspect terms:  ['toit', 'vein']\n"
          ]
        },
        {
          "output_type": "stream",
          "name": "stderr",
          "text": [
            "\r 30%|███       | 3/10 [00:01<00:04,  1.68it/s]"
          ]
        },
        {
          "output_type": "stream",
          "name": "stdout",
          "text": [
            "True aspect terms:  ['jahiõhtusöögiga', 'Toit', 'atmosfäär', 'atmosfäär', 'Silverile', 'Sanderile', 'lahkele pererahvale']\n",
            "Predicted aspect terms:  ['elamusrestoran', 'õdus viis novembriõhtu veetmiseks sõprade seltsis', 'õdus viis novembriõhtu veetmiseks sõprade seltsis']\n"
          ]
        },
        {
          "output_type": "stream",
          "name": "stderr",
          "text": [
            "\r 40%|████      | 4/10 [00:02<00:03,  1.64it/s]"
          ]
        },
        {
          "output_type": "stream",
          "name": "stdout",
          "text": [
            "True aspect terms:  ['Pitsa põhi', 'Portsud ravioolidele', 'Pasta', 'Pitsa', 'Pitsa', 'Jookidel']\n",
            "Predicted aspect terms:  ['Portsud ravioolidele', 'Pitsa']\n"
          ]
        },
        {
          "output_type": "stream",
          "name": "stderr",
          "text": [
            "\r 50%|█████     | 5/10 [00:02<00:02,  1.71it/s]"
          ]
        },
        {
          "output_type": "stream",
          "name": "stdout",
          "text": [
            "True aspect terms:  ['Toit', 'ruum', 'õhkkond']\n",
            "Predicted aspect terms:  ['ruum', 'ruum']\n"
          ]
        },
        {
          "output_type": "stream",
          "name": "stderr",
          "text": [
            "\r 60%|██████    | 6/10 [00:03<00:02,  1.76it/s]"
          ]
        },
        {
          "output_type": "stream",
          "name": "stdout",
          "text": [
            "True aspect terms:  ['Tom Khalt', 'supp', 'Kala kogus', 'maitsed']\n",
            "Predicted aspect terms:  []\n"
          ]
        },
        {
          "output_type": "stream",
          "name": "stderr",
          "text": [
            "\r 70%|███████   | 7/10 [00:03<00:01,  1.81it/s]"
          ]
        },
        {
          "output_type": "stream",
          "name": "stdout",
          "text": [
            "True aspect terms:  ['töötajad']\n",
            "Predicted aspect terms:  []\n"
          ]
        },
        {
          "output_type": "stream",
          "name": "stderr",
          "text": [
            "\r 80%|████████  | 8/10 [00:04<00:01,  1.74it/s]"
          ]
        },
        {
          "output_type": "stream",
          "name": "stdout",
          "text": [
            "True aspect terms:  ['laua broneerimisest', 'vaatega Kadriorule', 'teenindus', 'teenindus', 'teenindus', 'toidud']\n",
            "Predicted aspect terms:  ['teenindus', 'teenindus', 'toidud']\n"
          ]
        },
        {
          "output_type": "stream",
          "name": "stderr",
          "text": [
            "\r 90%|█████████ | 9/10 [00:05<00:00,  1.80it/s]"
          ]
        },
        {
          "output_type": "stream",
          "name": "stdout",
          "text": [
            "True aspect terms:  ['kulinaarse \"etteastega\"']\n",
            "Predicted aspect terms:  ['üks parimaid restorane Tallinnas vahest ka Baltikumis', 'olete']\n"
          ]
        },
        {
          "output_type": "stream",
          "name": "stderr",
          "text": [
            "100%|██████████| 10/10 [00:05<00:00,  1.82it/s]\n"
          ]
        },
        {
          "output_type": "stream",
          "name": "stdout",
          "text": [
            "True aspect terms:  ['toiduvalikut', 'Teenindus', 'Teenindus', 'teenindajad', 'teenindajad']\n",
            "Predicted aspect terms:  []\n",
            "Evaluating 10 first layers: \n"
          ]
        },
        {
          "output_type": "stream",
          "name": "stderr",
          "text": [
            " 10%|█         | 1/10 [00:00<00:04,  1.88it/s]"
          ]
        },
        {
          "output_type": "stream",
          "name": "stdout",
          "text": [
            "True aspect terms:  ['noormees', 'noormees', 'noormees', 'Toit']\n",
            "Predicted aspect terms:  ['noormees']\n"
          ]
        },
        {
          "output_type": "stream",
          "name": "stderr",
          "text": [
            "\r 20%|██        | 2/10 [00:01<00:05,  1.40it/s]"
          ]
        },
        {
          "output_type": "stream",
          "name": "stdout",
          "text": [
            "True aspect terms:  ['Teenindaja Karl', 'toit', 'vein']\n",
            "Predicted aspect terms:  ['toit', 'vein']\n"
          ]
        },
        {
          "output_type": "stream",
          "name": "stderr",
          "text": [
            "\r 30%|███       | 3/10 [00:02<00:06,  1.13it/s]"
          ]
        },
        {
          "output_type": "stream",
          "name": "stdout",
          "text": [
            "True aspect terms:  ['jahiõhtusöögiga', 'Toit', 'atmosfäär', 'atmosfäär', 'Silverile', 'Sanderile', 'lahkele pererahvale']\n",
            "Predicted aspect terms:  ['elamusrestoran', 'õdus viis novembriõhtu veetmiseks sõprade seltsis', 'õdus viis novembriõhtu veetmiseks sõprade seltsis']\n"
          ]
        },
        {
          "output_type": "stream",
          "name": "stderr",
          "text": [
            "\r 40%|████      | 4/10 [00:03<00:05,  1.11it/s]"
          ]
        },
        {
          "output_type": "stream",
          "name": "stdout",
          "text": [
            "True aspect terms:  ['Pitsa põhi', 'Portsud ravioolidele', 'Pasta', 'Pitsa', 'Pitsa', 'Jookidel']\n",
            "Predicted aspect terms:  ['Portsud ravioolidele', 'Pitsa']\n"
          ]
        },
        {
          "output_type": "stream",
          "name": "stderr",
          "text": [
            "\r 50%|█████     | 5/10 [00:03<00:03,  1.31it/s]"
          ]
        },
        {
          "output_type": "stream",
          "name": "stdout",
          "text": [
            "True aspect terms:  ['Toit', 'ruum', 'õhkkond']\n",
            "Predicted aspect terms:  ['ruum', 'ruum']\n"
          ]
        },
        {
          "output_type": "stream",
          "name": "stderr",
          "text": [
            "\r 60%|██████    | 6/10 [00:04<00:02,  1.46it/s]"
          ]
        },
        {
          "output_type": "stream",
          "name": "stdout",
          "text": [
            "True aspect terms:  ['Tom Khalt', 'supp', 'Kala kogus', 'maitsed']\n",
            "Predicted aspect terms:  []\n"
          ]
        },
        {
          "output_type": "stream",
          "name": "stderr",
          "text": [
            "\r 70%|███████   | 7/10 [00:04<00:01,  1.60it/s]"
          ]
        },
        {
          "output_type": "stream",
          "name": "stdout",
          "text": [
            "True aspect terms:  ['töötajad']\n",
            "Predicted aspect terms:  []\n"
          ]
        },
        {
          "output_type": "stream",
          "name": "stderr",
          "text": [
            "\r 80%|████████  | 8/10 [00:05<00:01,  1.61it/s]"
          ]
        },
        {
          "output_type": "stream",
          "name": "stdout",
          "text": [
            "True aspect terms:  ['laua broneerimisest', 'vaatega Kadriorule', 'teenindus', 'teenindus', 'teenindus', 'toidud']\n",
            "Predicted aspect terms:  ['teenindus', 'teenindus', 'toidud']\n"
          ]
        },
        {
          "output_type": "stream",
          "name": "stderr",
          "text": [
            "\r 90%|█████████ | 9/10 [00:06<00:00,  1.70it/s]"
          ]
        },
        {
          "output_type": "stream",
          "name": "stdout",
          "text": [
            "True aspect terms:  ['kulinaarse \"etteastega\"']\n",
            "Predicted aspect terms:  ['üks parimaid restorane Tallinnas vahest ka Baltikumis', 'olete']\n"
          ]
        },
        {
          "output_type": "stream",
          "name": "stderr",
          "text": [
            "100%|██████████| 10/10 [00:06<00:00,  1.55it/s]\n"
          ]
        },
        {
          "output_type": "stream",
          "name": "stdout",
          "text": [
            "True aspect terms:  ['toiduvalikut', 'Teenindus', 'Teenindus', 'teenindajad', 'teenindajad']\n",
            "Predicted aspect terms:  []\n",
            "Evaluating 11 first layers: \n"
          ]
        },
        {
          "output_type": "stream",
          "name": "stderr",
          "text": [
            " 10%|█         | 1/10 [00:00<00:04,  2.08it/s]"
          ]
        },
        {
          "output_type": "stream",
          "name": "stdout",
          "text": [
            "True aspect terms:  ['noormees', 'noormees', 'noormees', 'Toit']\n",
            "Predicted aspect terms:  []\n"
          ]
        },
        {
          "output_type": "stream",
          "name": "stderr",
          "text": [
            "\r 20%|██        | 2/10 [00:01<00:04,  1.94it/s]"
          ]
        },
        {
          "output_type": "stream",
          "name": "stdout",
          "text": [
            "True aspect terms:  ['Teenindaja Karl', 'toit', 'vein']\n",
            "Predicted aspect terms:  ['toit', 'vein']\n"
          ]
        },
        {
          "output_type": "stream",
          "name": "stderr",
          "text": [
            "\r 30%|███       | 3/10 [00:01<00:04,  1.67it/s]"
          ]
        },
        {
          "output_type": "stream",
          "name": "stdout",
          "text": [
            "True aspect terms:  ['jahiõhtusöögiga', 'Toit', 'atmosfäär', 'atmosfäär', 'Silverile', 'Sanderile', 'lahkele pererahvale']\n",
            "Predicted aspect terms:  ['õdus viis novembriõhtu veetmiseks sõprade seltsis', 'õdus viis novembriõhtu veetmiseks sõprade seltsis']\n"
          ]
        },
        {
          "output_type": "stream",
          "name": "stderr",
          "text": [
            "\r 40%|████      | 4/10 [00:02<00:03,  1.61it/s]"
          ]
        },
        {
          "output_type": "stream",
          "name": "stdout",
          "text": [
            "True aspect terms:  ['Pitsa põhi', 'Portsud ravioolidele', 'Pasta', 'Pitsa', 'Pitsa', 'Jookidel']\n",
            "Predicted aspect terms:  ['Portsud ravioolidele', 'Pitsa']\n"
          ]
        },
        {
          "output_type": "stream",
          "name": "stderr",
          "text": [
            "\r 50%|█████     | 5/10 [00:02<00:02,  1.70it/s]"
          ]
        },
        {
          "output_type": "stream",
          "name": "stdout",
          "text": [
            "True aspect terms:  ['Toit', 'ruum', 'õhkkond']\n",
            "Predicted aspect terms:  ['ruum', 'ruum']\n"
          ]
        },
        {
          "output_type": "stream",
          "name": "stderr",
          "text": [
            "\r 60%|██████    | 6/10 [00:03<00:02,  1.71it/s]"
          ]
        },
        {
          "output_type": "stream",
          "name": "stdout",
          "text": [
            "True aspect terms:  ['Tom Khalt', 'supp', 'Kala kogus', 'maitsed']\n",
            "Predicted aspect terms:  []\n"
          ]
        },
        {
          "output_type": "stream",
          "name": "stderr",
          "text": [
            "\r 70%|███████   | 7/10 [00:03<00:01,  1.79it/s]"
          ]
        },
        {
          "output_type": "stream",
          "name": "stdout",
          "text": [
            "True aspect terms:  ['töötajad']\n",
            "Predicted aspect terms:  []\n"
          ]
        },
        {
          "output_type": "stream",
          "name": "stderr",
          "text": [
            "\r 80%|████████  | 8/10 [00:04<00:01,  1.73it/s]"
          ]
        },
        {
          "output_type": "stream",
          "name": "stdout",
          "text": [
            "True aspect terms:  ['laua broneerimisest', 'vaatega Kadriorule', 'teenindus', 'teenindus', 'teenindus', 'toidud']\n",
            "Predicted aspect terms:  ['teenindus', 'teenindus', 'toidud']\n"
          ]
        },
        {
          "output_type": "stream",
          "name": "stderr",
          "text": [
            "\r 90%|█████████ | 9/10 [00:05<00:00,  1.79it/s]"
          ]
        },
        {
          "output_type": "stream",
          "name": "stdout",
          "text": [
            "True aspect terms:  ['kulinaarse \"etteastega\"']\n",
            "Predicted aspect terms:  ['üks parimaid restorane Tallinnas vahest ka Baltikumis', 'olete']\n"
          ]
        },
        {
          "output_type": "stream",
          "name": "stderr",
          "text": [
            "100%|██████████| 10/10 [00:05<00:00,  1.82it/s]\n"
          ]
        },
        {
          "output_type": "stream",
          "name": "stdout",
          "text": [
            "True aspect terms:  ['toiduvalikut', 'Teenindus', 'Teenindus', 'teenindajad', 'teenindajad']\n",
            "Predicted aspect terms:  []\n",
            "Evaluating 12 first layers: \n"
          ]
        },
        {
          "output_type": "stream",
          "name": "stderr",
          "text": [
            " 10%|█         | 1/10 [00:00<00:04,  2.12it/s]"
          ]
        },
        {
          "output_type": "stream",
          "name": "stdout",
          "text": [
            "True aspect terms:  ['noormees', 'noormees', 'noormees', 'Toit']\n",
            "Predicted aspect terms:  []\n"
          ]
        },
        {
          "output_type": "stream",
          "name": "stderr",
          "text": [
            "\r 20%|██        | 2/10 [00:01<00:04,  1.95it/s]"
          ]
        },
        {
          "output_type": "stream",
          "name": "stdout",
          "text": [
            "True aspect terms:  ['Teenindaja Karl', 'toit', 'vein']\n",
            "Predicted aspect terms:  ['toit', 'vein']\n"
          ]
        },
        {
          "output_type": "stream",
          "name": "stderr",
          "text": [
            "\r 30%|███       | 3/10 [00:01<00:04,  1.44it/s]"
          ]
        },
        {
          "output_type": "stream",
          "name": "stdout",
          "text": [
            "True aspect terms:  ['jahiõhtusöögiga', 'Toit', 'atmosfäär', 'atmosfäär', 'Silverile', 'Sanderile', 'lahkele pererahvale']\n",
            "Predicted aspect terms:  ['õdus viis novembriõhtu veetmiseks sõprade seltsis', 'õdus viis novembriõhtu veetmiseks sõprade seltsis']\n"
          ]
        },
        {
          "output_type": "stream",
          "name": "stderr",
          "text": [
            "\r 40%|████      | 4/10 [00:02<00:04,  1.25it/s]"
          ]
        },
        {
          "output_type": "stream",
          "name": "stdout",
          "text": [
            "True aspect terms:  ['Pitsa põhi', 'Portsud ravioolidele', 'Pasta', 'Pitsa', 'Pitsa', 'Jookidel']\n",
            "Predicted aspect terms:  ['Portsud ravioolidele', 'Pitsa']\n"
          ]
        },
        {
          "output_type": "stream",
          "name": "stderr",
          "text": [
            "\r 50%|█████     | 5/10 [00:03<00:04,  1.22it/s]"
          ]
        },
        {
          "output_type": "stream",
          "name": "stdout",
          "text": [
            "True aspect terms:  ['Toit', 'ruum', 'õhkkond']\n",
            "Predicted aspect terms:  ['ruum']\n"
          ]
        },
        {
          "output_type": "stream",
          "name": "stderr",
          "text": [
            "\r 60%|██████    | 6/10 [00:04<00:03,  1.29it/s]"
          ]
        },
        {
          "output_type": "stream",
          "name": "stdout",
          "text": [
            "True aspect terms:  ['Tom Khalt', 'supp', 'Kala kogus', 'maitsed']\n",
            "Predicted aspect terms:  []\n"
          ]
        },
        {
          "output_type": "stream",
          "name": "stderr",
          "text": [
            "\r 70%|███████   | 7/10 [00:04<00:02,  1.44it/s]"
          ]
        },
        {
          "output_type": "stream",
          "name": "stdout",
          "text": [
            "True aspect terms:  ['töötajad']\n",
            "Predicted aspect terms:  []\n"
          ]
        },
        {
          "output_type": "stream",
          "name": "stderr",
          "text": [
            "\r 80%|████████  | 8/10 [00:05<00:01,  1.49it/s]"
          ]
        },
        {
          "output_type": "stream",
          "name": "stdout",
          "text": [
            "True aspect terms:  ['laua broneerimisest', 'vaatega Kadriorule', 'teenindus', 'teenindus', 'teenindus', 'toidud']\n",
            "Predicted aspect terms:  ['teenindus', 'teenindus', 'toidud']\n"
          ]
        },
        {
          "output_type": "stream",
          "name": "stderr",
          "text": [
            "\r 90%|█████████ | 9/10 [00:06<00:00,  1.60it/s]"
          ]
        },
        {
          "output_type": "stream",
          "name": "stdout",
          "text": [
            "True aspect terms:  ['kulinaarse \"etteastega\"']\n",
            "Predicted aspect terms:  ['üks parimaid restorane Tallinnas vahest ka Baltikumis', 'olete']\n"
          ]
        },
        {
          "output_type": "stream",
          "name": "stderr",
          "text": [
            "100%|██████████| 10/10 [00:06<00:00,  1.54it/s]"
          ]
        },
        {
          "output_type": "stream",
          "name": "stdout",
          "text": [
            "True aspect terms:  ['toiduvalikut', 'Teenindus', 'Teenindus', 'teenindajad', 'teenindajad']\n",
            "Predicted aspect terms:  []\n"
          ]
        },
        {
          "output_type": "stream",
          "name": "stderr",
          "text": [
            "\n"
          ]
        },
        {
          "output_type": "display_data",
          "data": {
            "text/plain": [
              "<Figure size 1000x600 with 1 Axes>"
            ],
            "image/png": "[encoded data removed]"
          },
          "metadata": {}
        }
      ]
    },
    {
      "cell_type": "code",
      "source": [
        "plot_accuracy_by_moving_window()"
      ],
      "metadata": {
        "colab": {
          "base_uri": "https://localhost:8080/",
          "height": 1000
        },
        "id": "mvehJfrLnc7f",
        "outputId": "4a9c3f56-6450-4273-9ca4-10537de537d7"
      },
      "execution_count": null,
      "outputs": [
        {
          "output_type": "stream",
          "name": "stdout",
          "text": [
            "Evaluating layers 0-3: \n"
          ]
        },
        {
          "output_type": "stream",
          "name": "stderr",
          "text": [
            " 10%|█         | 1/10 [00:00<00:04,  2.03it/s]"
          ]
        },
        {
          "output_type": "stream",
          "name": "stdout",
          "text": [
            "True aspect terms:  ['noormees', 'noormees', 'noormees', 'Toit']\n",
            "Predicted aspect terms:  []\n"
          ]
        },
        {
          "output_type": "stream",
          "name": "stderr",
          "text": [
            "\r 20%|██        | 2/10 [00:01<00:04,  1.95it/s]"
          ]
        },
        {
          "output_type": "stream",
          "name": "stdout",
          "text": [
            "True aspect terms:  ['Teenindaja Karl', 'toit', 'vein']\n",
            "Predicted aspect terms:  ['toit', 'vein']\n"
          ]
        },
        {
          "output_type": "stream",
          "name": "stderr",
          "text": [
            "\r 30%|███       | 3/10 [00:01<00:04,  1.68it/s]"
          ]
        },
        {
          "output_type": "stream",
          "name": "stdout",
          "text": [
            "True aspect terms:  ['jahiõhtusöögiga', 'Toit', 'atmosfäär', 'atmosfäär', 'Silverile', 'Sanderile', 'lahkele pererahvale']\n",
            "Predicted aspect terms:  ['õdus viis novembriõhtu veetmiseks sõprade seltsis', 'õdus viis novembriõhtu veetmiseks sõprade seltsis']\n"
          ]
        },
        {
          "output_type": "stream",
          "name": "stderr",
          "text": [
            "\r 40%|████      | 4/10 [00:02<00:03,  1.62it/s]"
          ]
        },
        {
          "output_type": "stream",
          "name": "stdout",
          "text": [
            "True aspect terms:  ['Pitsa põhi', 'Portsud ravioolidele', 'Pasta', 'Pitsa', 'Pitsa', 'Jookidel']\n",
            "Predicted aspect terms:  []\n"
          ]
        },
        {
          "output_type": "stream",
          "name": "stderr",
          "text": [
            "\r 50%|█████     | 5/10 [00:02<00:02,  1.72it/s]"
          ]
        },
        {
          "output_type": "stream",
          "name": "stdout",
          "text": [
            "True aspect terms:  ['Toit', 'ruum', 'õhkkond']\n",
            "Predicted aspect terms:  ['ruum']\n"
          ]
        },
        {
          "output_type": "stream",
          "name": "stderr",
          "text": [
            "\r 60%|██████    | 6/10 [00:03<00:02,  1.77it/s]"
          ]
        },
        {
          "output_type": "stream",
          "name": "stdout",
          "text": [
            "True aspect terms:  ['Tom Khalt', 'supp', 'Kala kogus', 'maitsed']\n",
            "Predicted aspect terms:  []\n"
          ]
        },
        {
          "output_type": "stream",
          "name": "stderr",
          "text": [
            "\r 70%|███████   | 7/10 [00:03<00:01,  1.85it/s]"
          ]
        },
        {
          "output_type": "stream",
          "name": "stdout",
          "text": [
            "True aspect terms:  ['töötajad']\n",
            "Predicted aspect terms:  []\n"
          ]
        },
        {
          "output_type": "stream",
          "name": "stderr",
          "text": [
            "\r 80%|████████  | 8/10 [00:04<00:01,  1.75it/s]"
          ]
        },
        {
          "output_type": "stream",
          "name": "stdout",
          "text": [
            "True aspect terms:  ['laua broneerimisest', 'vaatega Kadriorule', 'teenindus', 'teenindus', 'teenindus', 'toidud']\n",
            "Predicted aspect terms:  ['toidud']\n"
          ]
        },
        {
          "output_type": "stream",
          "name": "stderr",
          "text": [
            "\r 90%|█████████ | 9/10 [00:05<00:00,  1.82it/s]"
          ]
        },
        {
          "output_type": "stream",
          "name": "stdout",
          "text": [
            "True aspect terms:  ['kulinaarse \"etteastega\"']\n",
            "Predicted aspect terms:  ['üks parimaid restorane Tallinnas vahest ka Baltikumis', 'olete']\n"
          ]
        },
        {
          "output_type": "stream",
          "name": "stderr",
          "text": [
            "100%|██████████| 10/10 [00:05<00:00,  1.83it/s]\n"
          ]
        },
        {
          "output_type": "stream",
          "name": "stdout",
          "text": [
            "True aspect terms:  ['toiduvalikut', 'Teenindus', 'Teenindus', 'teenindajad', 'teenindajad']\n",
            "Predicted aspect terms:  []\n",
            "Evaluating layers 1-4: \n"
          ]
        },
        {
          "output_type": "stream",
          "name": "stderr",
          "text": [
            " 10%|█         | 1/10 [00:00<00:04,  1.98it/s]"
          ]
        },
        {
          "output_type": "stream",
          "name": "stdout",
          "text": [
            "True aspect terms:  ['noormees', 'noormees', 'noormees', 'Toit']\n",
            "Predicted aspect terms:  []\n"
          ]
        },
        {
          "output_type": "stream",
          "name": "stderr",
          "text": [
            "\r 20%|██        | 2/10 [00:01<00:04,  1.74it/s]"
          ]
        },
        {
          "output_type": "stream",
          "name": "stdout",
          "text": [
            "True aspect terms:  ['Teenindaja Karl', 'toit', 'vein']\n",
            "Predicted aspect terms:  ['toit', 'vein']\n"
          ]
        },
        {
          "output_type": "stream",
          "name": "stderr",
          "text": [
            "\r 30%|███       | 3/10 [00:01<00:04,  1.59it/s]"
          ]
        },
        {
          "output_type": "stream",
          "name": "stdout",
          "text": [
            "True aspect terms:  ['jahiõhtusöögiga', 'Toit', 'atmosfäär', 'atmosfäär', 'Silverile', 'Sanderile', 'lahkele pererahvale']\n",
            "Predicted aspect terms:  ['õdus viis novembriõhtu veetmiseks sõprade seltsis']\n"
          ]
        },
        {
          "output_type": "stream",
          "name": "stderr",
          "text": [
            "\r 40%|████      | 4/10 [00:02<00:04,  1.41it/s]"
          ]
        },
        {
          "output_type": "stream",
          "name": "stdout",
          "text": [
            "True aspect terms:  ['Pitsa põhi', 'Portsud ravioolidele', 'Pasta', 'Pitsa', 'Pitsa', 'Jookidel']\n",
            "Predicted aspect terms:  []\n"
          ]
        },
        {
          "output_type": "stream",
          "name": "stderr",
          "text": [
            "\r 50%|█████     | 5/10 [00:03<00:03,  1.32it/s]"
          ]
        },
        {
          "output_type": "stream",
          "name": "stdout",
          "text": [
            "True aspect terms:  ['Toit', 'ruum', 'õhkkond']\n",
            "Predicted aspect terms:  ['ruum']\n"
          ]
        },
        {
          "output_type": "stream",
          "name": "stderr",
          "text": [
            "\r 60%|██████    | 6/10 [00:04<00:03,  1.25it/s]"
          ]
        },
        {
          "output_type": "stream",
          "name": "stdout",
          "text": [
            "True aspect terms:  ['Tom Khalt', 'supp', 'Kala kogus', 'maitsed']\n",
            "Predicted aspect terms:  []\n"
          ]
        },
        {
          "output_type": "stream",
          "name": "stderr",
          "text": [
            "\r 70%|███████   | 7/10 [00:05<00:02,  1.30it/s]"
          ]
        },
        {
          "output_type": "stream",
          "name": "stdout",
          "text": [
            "True aspect terms:  ['töötajad']\n",
            "Predicted aspect terms:  []\n"
          ]
        },
        {
          "output_type": "stream",
          "name": "stderr",
          "text": [
            "\r 80%|████████  | 8/10 [00:05<00:01,  1.39it/s]"
          ]
        },
        {
          "output_type": "stream",
          "name": "stdout",
          "text": [
            "True aspect terms:  ['laua broneerimisest', 'vaatega Kadriorule', 'teenindus', 'teenindus', 'teenindus', 'toidud']\n",
            "Predicted aspect terms:  ['toidud']\n"
          ]
        },
        {
          "output_type": "stream",
          "name": "stderr",
          "text": [
            "\r 90%|█████████ | 9/10 [00:06<00:00,  1.53it/s]"
          ]
        },
        {
          "output_type": "stream",
          "name": "stdout",
          "text": [
            "True aspect terms:  ['kulinaarse \"etteastega\"']\n",
            "Predicted aspect terms:  ['üks parimaid restorane Tallinnas vahest ka Baltikumis']\n"
          ]
        },
        {
          "output_type": "stream",
          "name": "stderr",
          "text": [
            "100%|██████████| 10/10 [00:06<00:00,  1.51it/s]\n"
          ]
        },
        {
          "output_type": "stream",
          "name": "stdout",
          "text": [
            "True aspect terms:  ['toiduvalikut', 'Teenindus', 'Teenindus', 'teenindajad', 'teenindajad']\n",
            "Predicted aspect terms:  []\n",
            "Evaluating layers 2-5: \n"
          ]
        },
        {
          "output_type": "stream",
          "name": "stderr",
          "text": [
            " 10%|█         | 1/10 [00:00<00:04,  2.12it/s]"
          ]
        },
        {
          "output_type": "stream",
          "name": "stdout",
          "text": [
            "True aspect terms:  ['noormees', 'noormees', 'noormees', 'Toit']\n",
            "Predicted aspect terms:  []\n"
          ]
        },
        {
          "output_type": "stream",
          "name": "stderr",
          "text": [
            "\r 20%|██        | 2/10 [00:01<00:04,  1.93it/s]"
          ]
        },
        {
          "output_type": "stream",
          "name": "stdout",
          "text": [
            "True aspect terms:  ['Teenindaja Karl', 'toit', 'vein']\n",
            "Predicted aspect terms:  ['toit']\n"
          ]
        },
        {
          "output_type": "stream",
          "name": "stderr",
          "text": [
            "\r 30%|███       | 3/10 [00:01<00:04,  1.67it/s]"
          ]
        },
        {
          "output_type": "stream",
          "name": "stdout",
          "text": [
            "True aspect terms:  ['jahiõhtusöögiga', 'Toit', 'atmosfäär', 'atmosfäär', 'Silverile', 'Sanderile', 'lahkele pererahvale']\n",
            "Predicted aspect terms:  []\n"
          ]
        },
        {
          "output_type": "stream",
          "name": "stderr",
          "text": [
            "\r 40%|████      | 4/10 [00:02<00:03,  1.64it/s]"
          ]
        },
        {
          "output_type": "stream",
          "name": "stdout",
          "text": [
            "True aspect terms:  ['Pitsa põhi', 'Portsud ravioolidele', 'Pasta', 'Pitsa', 'Pitsa', 'Jookidel']\n",
            "Predicted aspect terms:  []\n"
          ]
        },
        {
          "output_type": "stream",
          "name": "stderr",
          "text": [
            "\r 50%|█████     | 5/10 [00:02<00:02,  1.71it/s]"
          ]
        },
        {
          "output_type": "stream",
          "name": "stdout",
          "text": [
            "True aspect terms:  ['Toit', 'ruum', 'õhkkond']\n",
            "Predicted aspect terms:  ['ruum']\n"
          ]
        },
        {
          "output_type": "stream",
          "name": "stderr",
          "text": [
            "\r 60%|██████    | 6/10 [00:03<00:02,  1.77it/s]"
          ]
        },
        {
          "output_type": "stream",
          "name": "stdout",
          "text": [
            "True aspect terms:  ['Tom Khalt', 'supp', 'Kala kogus', 'maitsed']\n",
            "Predicted aspect terms:  []\n"
          ]
        },
        {
          "output_type": "stream",
          "name": "stderr",
          "text": [
            "\r 70%|███████   | 7/10 [00:03<00:01,  1.83it/s]"
          ]
        },
        {
          "output_type": "stream",
          "name": "stdout",
          "text": [
            "True aspect terms:  ['töötajad']\n",
            "Predicted aspect terms:  []\n"
          ]
        },
        {
          "output_type": "stream",
          "name": "stderr",
          "text": [
            "\r 80%|████████  | 8/10 [00:04<00:01,  1.77it/s]"
          ]
        },
        {
          "output_type": "stream",
          "name": "stdout",
          "text": [
            "True aspect terms:  ['laua broneerimisest', 'vaatega Kadriorule', 'teenindus', 'teenindus', 'teenindus', 'toidud']\n",
            "Predicted aspect terms:  ['toidud']\n"
          ]
        },
        {
          "output_type": "stream",
          "name": "stderr",
          "text": [
            "\r 90%|█████████ | 9/10 [00:05<00:00,  1.82it/s]"
          ]
        },
        {
          "output_type": "stream",
          "name": "stdout",
          "text": [
            "True aspect terms:  ['kulinaarse \"etteastega\"']\n",
            "Predicted aspect terms:  ['üks parimaid restorane Tallinnas vahest ka Baltikumis']\n"
          ]
        },
        {
          "output_type": "stream",
          "name": "stderr",
          "text": [
            "100%|██████████| 10/10 [00:05<00:00,  1.84it/s]\n"
          ]
        },
        {
          "output_type": "stream",
          "name": "stdout",
          "text": [
            "True aspect terms:  ['toiduvalikut', 'Teenindus', 'Teenindus', 'teenindajad', 'teenindajad']\n",
            "Predicted aspect terms:  []\n",
            "Evaluating layers 3-6: \n"
          ]
        },
        {
          "output_type": "stream",
          "name": "stderr",
          "text": [
            " 10%|█         | 1/10 [00:00<00:04,  2.02it/s]"
          ]
        },
        {
          "output_type": "stream",
          "name": "stdout",
          "text": [
            "True aspect terms:  ['noormees', 'noormees', 'noormees', 'Toit']\n",
            "Predicted aspect terms:  []\n"
          ]
        },
        {
          "output_type": "stream",
          "name": "stderr",
          "text": [
            "\r 20%|██        | 2/10 [00:01<00:04,  1.94it/s]"
          ]
        },
        {
          "output_type": "stream",
          "name": "stdout",
          "text": [
            "True aspect terms:  ['Teenindaja Karl', 'toit', 'vein']\n",
            "Predicted aspect terms:  ['toit']\n"
          ]
        },
        {
          "output_type": "stream",
          "name": "stderr",
          "text": [
            "\r 30%|███       | 3/10 [00:01<00:04,  1.67it/s]"
          ]
        },
        {
          "output_type": "stream",
          "name": "stdout",
          "text": [
            "True aspect terms:  ['jahiõhtusöögiga', 'Toit', 'atmosfäär', 'atmosfäär', 'Silverile', 'Sanderile', 'lahkele pererahvale']\n",
            "Predicted aspect terms:  ['õdus viis novembriõhtu veetmiseks sõprade seltsis']\n"
          ]
        },
        {
          "output_type": "stream",
          "name": "stderr",
          "text": [
            "\r 40%|████      | 4/10 [00:02<00:03,  1.63it/s]"
          ]
        },
        {
          "output_type": "stream",
          "name": "stdout",
          "text": [
            "True aspect terms:  ['Pitsa põhi', 'Portsud ravioolidele', 'Pasta', 'Pitsa', 'Pitsa', 'Jookidel']\n",
            "Predicted aspect terms:  []\n"
          ]
        },
        {
          "output_type": "stream",
          "name": "stderr",
          "text": [
            "\r 50%|█████     | 5/10 [00:02<00:02,  1.69it/s]"
          ]
        },
        {
          "output_type": "stream",
          "name": "stdout",
          "text": [
            "True aspect terms:  ['Toit', 'ruum', 'õhkkond']\n",
            "Predicted aspect terms:  ['ruum', 'ruum']\n"
          ]
        },
        {
          "output_type": "stream",
          "name": "stderr",
          "text": [
            "\r 60%|██████    | 6/10 [00:03<00:02,  1.48it/s]"
          ]
        },
        {
          "output_type": "stream",
          "name": "stdout",
          "text": [
            "True aspect terms:  ['Tom Khalt', 'supp', 'Kala kogus', 'maitsed']\n",
            "Predicted aspect terms:  []\n"
          ]
        },
        {
          "output_type": "stream",
          "name": "stderr",
          "text": [
            "\r 70%|███████   | 7/10 [00:04<00:02,  1.40it/s]"
          ]
        },
        {
          "output_type": "stream",
          "name": "stdout",
          "text": [
            "True aspect terms:  ['töötajad']\n",
            "Predicted aspect terms:  []\n"
          ]
        },
        {
          "output_type": "stream",
          "name": "stderr",
          "text": [
            "\r 80%|████████  | 8/10 [00:05<00:01,  1.29it/s]"
          ]
        },
        {
          "output_type": "stream",
          "name": "stdout",
          "text": [
            "True aspect terms:  ['laua broneerimisest', 'vaatega Kadriorule', 'teenindus', 'teenindus', 'teenindus', 'toidud']\n",
            "Predicted aspect terms:  ['toidud']\n"
          ]
        },
        {
          "output_type": "stream",
          "name": "stderr",
          "text": [
            "\r 90%|█████████ | 9/10 [00:06<00:00,  1.35it/s]"
          ]
        },
        {
          "output_type": "stream",
          "name": "stdout",
          "text": [
            "True aspect terms:  ['kulinaarse \"etteastega\"']\n",
            "Predicted aspect terms:  ['üks parimaid restorane Tallinnas vahest ka Baltikumis']\n"
          ]
        },
        {
          "output_type": "stream",
          "name": "stderr",
          "text": [
            "100%|██████████| 10/10 [00:06<00:00,  1.54it/s]\n"
          ]
        },
        {
          "output_type": "stream",
          "name": "stdout",
          "text": [
            "True aspect terms:  ['toiduvalikut', 'Teenindus', 'Teenindus', 'teenindajad', 'teenindajad']\n",
            "Predicted aspect terms:  []\n",
            "Evaluating layers 4-7: \n"
          ]
        },
        {
          "output_type": "stream",
          "name": "stderr",
          "text": [
            " 10%|█         | 1/10 [00:00<00:04,  2.05it/s]"
          ]
        },
        {
          "output_type": "stream",
          "name": "stdout",
          "text": [
            "True aspect terms:  ['noormees', 'noormees', 'noormees', 'Toit']\n",
            "Predicted aspect terms:  ['noormees']\n"
          ]
        },
        {
          "output_type": "stream",
          "name": "stderr",
          "text": [
            "\r 20%|██        | 2/10 [00:01<00:04,  1.93it/s]"
          ]
        },
        {
          "output_type": "stream",
          "name": "stdout",
          "text": [
            "True aspect terms:  ['Teenindaja Karl', 'toit', 'vein']\n",
            "Predicted aspect terms:  ['lükata oma broneering 18.00st 19.30le', 'toit', 'vein']\n"
          ]
        },
        {
          "output_type": "stream",
          "name": "stderr",
          "text": [
            "\r 30%|███       | 3/10 [00:01<00:04,  1.67it/s]"
          ]
        },
        {
          "output_type": "stream",
          "name": "stdout",
          "text": [
            "True aspect terms:  ['jahiõhtusöögiga', 'Toit', 'atmosfäär', 'atmosfäär', 'Silverile', 'Sanderile', 'lahkele pererahvale']\n",
            "Predicted aspect terms:  ['elamusrestoran', 'õdus viis novembriõhtu veetmiseks sõprade seltsis', 'õdus viis novembriõhtu veetmiseks sõprade seltsis']\n"
          ]
        },
        {
          "output_type": "stream",
          "name": "stderr",
          "text": [
            "\r 40%|████      | 4/10 [00:02<00:03,  1.59it/s]"
          ]
        },
        {
          "output_type": "stream",
          "name": "stdout",
          "text": [
            "True aspect terms:  ['Pitsa põhi', 'Portsud ravioolidele', 'Pasta', 'Pitsa', 'Pitsa', 'Jookidel']\n",
            "Predicted aspect terms:  ['Portsud ravioolidele', 'Pitsa']\n"
          ]
        },
        {
          "output_type": "stream",
          "name": "stderr",
          "text": [
            "\r 50%|█████     | 5/10 [00:02<00:02,  1.70it/s]"
          ]
        },
        {
          "output_type": "stream",
          "name": "stdout",
          "text": [
            "True aspect terms:  ['Toit', 'ruum', 'õhkkond']\n",
            "Predicted aspect terms:  ['ruum', 'ruum']\n"
          ]
        },
        {
          "output_type": "stream",
          "name": "stderr",
          "text": [
            "\r 60%|██████    | 6/10 [00:03<00:02,  1.76it/s]"
          ]
        },
        {
          "output_type": "stream",
          "name": "stdout",
          "text": [
            "True aspect terms:  ['Tom Khalt', 'supp', 'Kala kogus', 'maitsed']\n",
            "Predicted aspect terms:  []\n"
          ]
        },
        {
          "output_type": "stream",
          "name": "stderr",
          "text": [
            "\r 70%|███████   | 7/10 [00:03<00:01,  1.85it/s]"
          ]
        },
        {
          "output_type": "stream",
          "name": "stdout",
          "text": [
            "True aspect terms:  ['töötajad']\n",
            "Predicted aspect terms:  []\n"
          ]
        },
        {
          "output_type": "stream",
          "name": "stderr",
          "text": [
            "\r 80%|████████  | 8/10 [00:04<00:01,  1.77it/s]"
          ]
        },
        {
          "output_type": "stream",
          "name": "stdout",
          "text": [
            "True aspect terms:  ['laua broneerimisest', 'vaatega Kadriorule', 'teenindus', 'teenindus', 'teenindus', 'toidud']\n",
            "Predicted aspect terms:  ['teenindus', 'teenindus', 'toidud']\n"
          ]
        },
        {
          "output_type": "stream",
          "name": "stderr",
          "text": [
            "\r 90%|█████████ | 9/10 [00:05<00:00,  1.82it/s]"
          ]
        },
        {
          "output_type": "stream",
          "name": "stdout",
          "text": [
            "True aspect terms:  ['kulinaarse \"etteastega\"']\n",
            "Predicted aspect terms:  ['üks parimaid restorane Tallinnas vahest ka Baltikumis', 'koht', 'olete']\n"
          ]
        },
        {
          "output_type": "stream",
          "name": "stderr",
          "text": [
            "100%|██████████| 10/10 [00:05<00:00,  1.83it/s]\n"
          ]
        },
        {
          "output_type": "stream",
          "name": "stdout",
          "text": [
            "True aspect terms:  ['toiduvalikut', 'Teenindus', 'Teenindus', 'teenindajad', 'teenindajad']\n",
            "Predicted aspect terms:  []\n",
            "Evaluating layers 5-8: \n"
          ]
        },
        {
          "output_type": "stream",
          "name": "stderr",
          "text": [
            " 10%|█         | 1/10 [00:00<00:04,  2.06it/s]"
          ]
        },
        {
          "output_type": "stream",
          "name": "stdout",
          "text": [
            "True aspect terms:  ['noormees', 'noormees', 'noormees', 'Toit']\n",
            "Predicted aspect terms:  ['noormees']\n"
          ]
        },
        {
          "output_type": "stream",
          "name": "stderr",
          "text": [
            "\r 20%|██        | 2/10 [00:01<00:04,  1.91it/s]"
          ]
        },
        {
          "output_type": "stream",
          "name": "stdout",
          "text": [
            "True aspect terms:  ['Teenindaja Karl', 'toit', 'vein']\n",
            "Predicted aspect terms:  ['lükata oma broneering 18.00st 19.30le', 'toit', 'vein']\n"
          ]
        },
        {
          "output_type": "stream",
          "name": "stderr",
          "text": [
            "\r 30%|███       | 3/10 [00:01<00:04,  1.66it/s]"
          ]
        },
        {
          "output_type": "stream",
          "name": "stdout",
          "text": [
            "True aspect terms:  ['jahiõhtusöögiga', 'Toit', 'atmosfäär', 'atmosfäär', 'Silverile', 'Sanderile', 'lahkele pererahvale']\n",
            "Predicted aspect terms:  ['elamusrestoran', 'Toit', 'atmosfäär', 'õdus viis novembriõhtu veetmiseks sõprade seltsis', 'õdus viis novembriõhtu veetmiseks sõprade seltsis', 'õdus viis novembriõhtu veetmiseks sõprade seltsis']\n"
          ]
        },
        {
          "output_type": "stream",
          "name": "stderr",
          "text": [
            "\r 40%|████      | 4/10 [00:02<00:03,  1.63it/s]"
          ]
        },
        {
          "output_type": "stream",
          "name": "stdout",
          "text": [
            "True aspect terms:  ['Pitsa põhi', 'Portsud ravioolidele', 'Pasta', 'Pitsa', 'Pitsa', 'Jookidel']\n",
            "Predicted aspect terms:  ['Portsud ravioolidele', 'Pitsa']\n"
          ]
        },
        {
          "output_type": "stream",
          "name": "stderr",
          "text": [
            "\r 50%|█████     | 5/10 [00:02<00:02,  1.71it/s]"
          ]
        },
        {
          "output_type": "stream",
          "name": "stdout",
          "text": [
            "True aspect terms:  ['Toit', 'ruum', 'õhkkond']\n",
            "Predicted aspect terms:  ['valik', 'Toit', 'ruum', 'ruum']\n"
          ]
        },
        {
          "output_type": "stream",
          "name": "stderr",
          "text": [
            "\r 60%|██████    | 6/10 [00:03<00:02,  1.77it/s]"
          ]
        },
        {
          "output_type": "stream",
          "name": "stdout",
          "text": [
            "True aspect terms:  ['Tom Khalt', 'supp', 'Kala kogus', 'maitsed']\n",
            "Predicted aspect terms:  []\n"
          ]
        },
        {
          "output_type": "stream",
          "name": "stderr",
          "text": [
            "\r 70%|███████   | 7/10 [00:03<00:01,  1.83it/s]"
          ]
        },
        {
          "output_type": "stream",
          "name": "stdout",
          "text": [
            "True aspect terms:  ['töötajad']\n",
            "Predicted aspect terms:  []\n"
          ]
        },
        {
          "output_type": "stream",
          "name": "stderr",
          "text": [
            "\r 80%|████████  | 8/10 [00:04<00:01,  1.50it/s]"
          ]
        },
        {
          "output_type": "stream",
          "name": "stdout",
          "text": [
            "True aspect terms:  ['laua broneerimisest', 'vaatega Kadriorule', 'teenindus', 'teenindus', 'teenindus', 'toidud']\n",
            "Predicted aspect terms:  ['teenindus', 'teenindus', 'toidud']\n"
          ]
        },
        {
          "output_type": "stream",
          "name": "stderr",
          "text": [
            "\r 90%|█████████ | 9/10 [00:05<00:00,  1.41it/s]"
          ]
        },
        {
          "output_type": "stream",
          "name": "stdout",
          "text": [
            "True aspect terms:  ['kulinaarse \"etteastega\"']\n",
            "Predicted aspect terms:  ['üks parimaid restorane Tallinnas vahest ka Baltikumis', 'koht', 'olete']\n"
          ]
        },
        {
          "output_type": "stream",
          "name": "stderr",
          "text": [
            "100%|██████████| 10/10 [00:06<00:00,  1.59it/s]\n"
          ]
        },
        {
          "output_type": "stream",
          "name": "stdout",
          "text": [
            "True aspect terms:  ['toiduvalikut', 'Teenindus', 'Teenindus', 'teenindajad', 'teenindajad']\n",
            "Predicted aspect terms:  []\n",
            "Evaluating layers 6-9: \n"
          ]
        },
        {
          "output_type": "stream",
          "name": "stderr",
          "text": [
            " 10%|█         | 1/10 [00:00<00:05,  1.50it/s]"
          ]
        },
        {
          "output_type": "stream",
          "name": "stdout",
          "text": [
            "True aspect terms:  ['noormees', 'noormees', 'noormees', 'Toit']\n",
            "Predicted aspect terms:  ['noormees']\n"
          ]
        },
        {
          "output_type": "stream",
          "name": "stderr",
          "text": [
            "\r 20%|██        | 2/10 [00:01<00:04,  1.70it/s]"
          ]
        },
        {
          "output_type": "stream",
          "name": "stdout",
          "text": [
            "True aspect terms:  ['Teenindaja Karl', 'toit', 'vein']\n",
            "Predicted aspect terms:  ['lükata oma broneering 18.00st 19.30le', 'toit', 'vein']\n"
          ]
        },
        {
          "output_type": "stream",
          "name": "stderr",
          "text": [
            "\r 30%|███       | 3/10 [00:01<00:04,  1.60it/s]"
          ]
        },
        {
          "output_type": "stream",
          "name": "stdout",
          "text": [
            "True aspect terms:  ['jahiõhtusöögiga', 'Toit', 'atmosfäär', 'atmosfäär', 'Silverile', 'Sanderile', 'lahkele pererahvale']\n",
            "Predicted aspect terms:  ['elamusrestoran', 'Toit', 'atmosfäär', 'õdus viis novembriõhtu veetmiseks sõprade seltsis', 'õdus viis novembriõhtu veetmiseks sõprade seltsis', 'õdus viis novembriõhtu veetmiseks sõprade seltsis']\n"
          ]
        },
        {
          "output_type": "stream",
          "name": "stderr",
          "text": [
            "\r 40%|████      | 4/10 [00:02<00:03,  1.58it/s]"
          ]
        },
        {
          "output_type": "stream",
          "name": "stdout",
          "text": [
            "True aspect terms:  ['Pitsa põhi', 'Portsud ravioolidele', 'Pasta', 'Pitsa', 'Pitsa', 'Jookidel']\n",
            "Predicted aspect terms:  ['Portsud ravioolidele', 'Pitsa']\n"
          ]
        },
        {
          "output_type": "stream",
          "name": "stderr",
          "text": [
            "\r 50%|█████     | 5/10 [00:03<00:03,  1.66it/s]"
          ]
        },
        {
          "output_type": "stream",
          "name": "stdout",
          "text": [
            "True aspect terms:  ['Toit', 'ruum', 'õhkkond']\n",
            "Predicted aspect terms:  ['valik', 'Toit', 'ruum', 'ruum']\n"
          ]
        },
        {
          "output_type": "stream",
          "name": "stderr",
          "text": [
            "\r 60%|██████    | 6/10 [00:03<00:02,  1.73it/s]"
          ]
        },
        {
          "output_type": "stream",
          "name": "stdout",
          "text": [
            "True aspect terms:  ['Tom Khalt', 'supp', 'Kala kogus', 'maitsed']\n",
            "Predicted aspect terms:  []\n"
          ]
        },
        {
          "output_type": "stream",
          "name": "stderr",
          "text": [
            "\r 70%|███████   | 7/10 [00:04<00:01,  1.81it/s]"
          ]
        },
        {
          "output_type": "stream",
          "name": "stdout",
          "text": [
            "True aspect terms:  ['töötajad']\n",
            "Predicted aspect terms:  []\n"
          ]
        },
        {
          "output_type": "stream",
          "name": "stderr",
          "text": [
            "\r 80%|████████  | 8/10 [00:04<00:01,  1.75it/s]"
          ]
        },
        {
          "output_type": "stream",
          "name": "stdout",
          "text": [
            "True aspect terms:  ['laua broneerimisest', 'vaatega Kadriorule', 'teenindus', 'teenindus', 'teenindus', 'toidud']\n",
            "Predicted aspect terms:  ['teenindus', 'teenindus', 'toidud']\n"
          ]
        },
        {
          "output_type": "stream",
          "name": "stderr",
          "text": [
            "\r 90%|█████████ | 9/10 [00:05<00:00,  1.79it/s]"
          ]
        },
        {
          "output_type": "stream",
          "name": "stdout",
          "text": [
            "True aspect terms:  ['kulinaarse \"etteastega\"']\n",
            "Predicted aspect terms:  ['üks parimaid restorane Tallinnas vahest ka Baltikumis', 'koht', 'olete']\n"
          ]
        },
        {
          "output_type": "stream",
          "name": "stderr",
          "text": [
            "100%|██████████| 10/10 [00:05<00:00,  1.77it/s]\n"
          ]
        },
        {
          "output_type": "stream",
          "name": "stdout",
          "text": [
            "True aspect terms:  ['toiduvalikut', 'Teenindus', 'Teenindus', 'teenindajad', 'teenindajad']\n",
            "Predicted aspect terms:  []\n",
            "Evaluating layers 7-10: \n"
          ]
        },
        {
          "output_type": "stream",
          "name": "stderr",
          "text": [
            " 10%|█         | 1/10 [00:00<00:04,  2.08it/s]"
          ]
        },
        {
          "output_type": "stream",
          "name": "stdout",
          "text": [
            "True aspect terms:  ['noormees', 'noormees', 'noormees', 'Toit']\n",
            "Predicted aspect terms:  []\n"
          ]
        },
        {
          "output_type": "stream",
          "name": "stderr",
          "text": [
            "\r 20%|██        | 2/10 [00:01<00:04,  1.96it/s]"
          ]
        },
        {
          "output_type": "stream",
          "name": "stdout",
          "text": [
            "True aspect terms:  ['Teenindaja Karl', 'toit', 'vein']\n",
            "Predicted aspect terms:  ['toit', 'vein']\n"
          ]
        },
        {
          "output_type": "stream",
          "name": "stderr",
          "text": [
            "\r 30%|███       | 3/10 [00:01<00:04,  1.68it/s]"
          ]
        },
        {
          "output_type": "stream",
          "name": "stdout",
          "text": [
            "True aspect terms:  ['jahiõhtusöögiga', 'Toit', 'atmosfäär', 'atmosfäär', 'Silverile', 'Sanderile', 'lahkele pererahvale']\n",
            "Predicted aspect terms:  ['elamusrestoran', 'atmosfäär', 'õdus viis novembriõhtu veetmiseks sõprade seltsis', 'õdus viis novembriõhtu veetmiseks sõprade seltsis', 'õdus viis novembriõhtu veetmiseks sõprade seltsis']\n"
          ]
        },
        {
          "output_type": "stream",
          "name": "stderr",
          "text": [
            "\r 40%|████      | 4/10 [00:02<00:03,  1.63it/s]"
          ]
        },
        {
          "output_type": "stream",
          "name": "stdout",
          "text": [
            "True aspect terms:  ['Pitsa põhi', 'Portsud ravioolidele', 'Pasta', 'Pitsa', 'Pitsa', 'Jookidel']\n",
            "Predicted aspect terms:  ['Portsud ravioolidele', 'Pitsa']\n"
          ]
        },
        {
          "output_type": "stream",
          "name": "stderr",
          "text": [
            "\r 50%|█████     | 5/10 [00:02<00:02,  1.69it/s]"
          ]
        },
        {
          "output_type": "stream",
          "name": "stdout",
          "text": [
            "True aspect terms:  ['Toit', 'ruum', 'õhkkond']\n",
            "Predicted aspect terms:  ['valik', 'Toit', 'ruum']\n"
          ]
        },
        {
          "output_type": "stream",
          "name": "stderr",
          "text": [
            "\r 60%|██████    | 6/10 [00:03<00:02,  1.76it/s]"
          ]
        },
        {
          "output_type": "stream",
          "name": "stdout",
          "text": [
            "True aspect terms:  ['Tom Khalt', 'supp', 'Kala kogus', 'maitsed']\n",
            "Predicted aspect terms:  []\n"
          ]
        },
        {
          "output_type": "stream",
          "name": "stderr",
          "text": [
            "\r 70%|███████   | 7/10 [00:03<00:01,  1.81it/s]"
          ]
        },
        {
          "output_type": "stream",
          "name": "stdout",
          "text": [
            "True aspect terms:  ['töötajad']\n",
            "Predicted aspect terms:  []\n"
          ]
        },
        {
          "output_type": "stream",
          "name": "stderr",
          "text": [
            "\r 80%|████████  | 8/10 [00:04<00:01,  1.76it/s]"
          ]
        },
        {
          "output_type": "stream",
          "name": "stdout",
          "text": [
            "True aspect terms:  ['laua broneerimisest', 'vaatega Kadriorule', 'teenindus', 'teenindus', 'teenindus', 'toidud']\n",
            "Predicted aspect terms:  ['teenindus', 'teenindus', 'toidud']\n"
          ]
        },
        {
          "output_type": "stream",
          "name": "stderr",
          "text": [
            "\r 90%|█████████ | 9/10 [00:05<00:00,  1.69it/s]"
          ]
        },
        {
          "output_type": "stream",
          "name": "stdout",
          "text": [
            "True aspect terms:  ['kulinaarse \"etteastega\"']\n",
            "Predicted aspect terms:  ['üks parimaid restorane Tallinnas vahest ka Baltikumis', 'olete']\n"
          ]
        },
        {
          "output_type": "stream",
          "name": "stderr",
          "text": [
            "100%|██████████| 10/10 [00:05<00:00,  1.71it/s]\n"
          ]
        },
        {
          "output_type": "stream",
          "name": "stdout",
          "text": [
            "True aspect terms:  ['toiduvalikut', 'Teenindus', 'Teenindus', 'teenindajad', 'teenindajad']\n",
            "Predicted aspect terms:  []\n",
            "Evaluating layers 8-11: \n"
          ]
        },
        {
          "output_type": "stream",
          "name": "stderr",
          "text": [
            " 10%|█         | 1/10 [00:00<00:06,  1.37it/s]"
          ]
        },
        {
          "output_type": "stream",
          "name": "stdout",
          "text": [
            "True aspect terms:  ['noormees', 'noormees', 'noormees', 'Toit']\n",
            "Predicted aspect terms:  []\n"
          ]
        },
        {
          "output_type": "stream",
          "name": "stderr",
          "text": [
            "\r 20%|██        | 2/10 [00:01<00:06,  1.21it/s]"
          ]
        },
        {
          "output_type": "stream",
          "name": "stdout",
          "text": [
            "True aspect terms:  ['Teenindaja Karl', 'toit', 'vein']\n",
            "Predicted aspect terms:  ['vein']\n"
          ]
        },
        {
          "output_type": "stream",
          "name": "stderr",
          "text": [
            "\r 30%|███       | 3/10 [00:02<00:05,  1.23it/s]"
          ]
        },
        {
          "output_type": "stream",
          "name": "stdout",
          "text": [
            "True aspect terms:  ['jahiõhtusöögiga', 'Toit', 'atmosfäär', 'atmosfäär', 'Silverile', 'Sanderile', 'lahkele pererahvale']\n",
            "Predicted aspect terms:  ['atmosfäär', 'õdus viis novembriõhtu veetmiseks sõprade seltsis']\n"
          ]
        },
        {
          "output_type": "stream",
          "name": "stderr",
          "text": [
            "\r 40%|████      | 4/10 [00:03<00:04,  1.33it/s]"
          ]
        },
        {
          "output_type": "stream",
          "name": "stdout",
          "text": [
            "True aspect terms:  ['Pitsa põhi', 'Portsud ravioolidele', 'Pasta', 'Pitsa', 'Pitsa', 'Jookidel']\n",
            "Predicted aspect terms:  ['Portsud ravioolidele', 'Pitsa']\n"
          ]
        },
        {
          "output_type": "stream",
          "name": "stderr",
          "text": [
            "\r 50%|█████     | 5/10 [00:03<00:03,  1.49it/s]"
          ]
        },
        {
          "output_type": "stream",
          "name": "stdout",
          "text": [
            "True aspect terms:  ['Toit', 'ruum', 'õhkkond']\n",
            "Predicted aspect terms:  ['ruum']\n"
          ]
        },
        {
          "output_type": "stream",
          "name": "stderr",
          "text": [
            "\r 60%|██████    | 6/10 [00:04<00:02,  1.60it/s]"
          ]
        },
        {
          "output_type": "stream",
          "name": "stdout",
          "text": [
            "True aspect terms:  ['Tom Khalt', 'supp', 'Kala kogus', 'maitsed']\n",
            "Predicted aspect terms:  []\n"
          ]
        },
        {
          "output_type": "stream",
          "name": "stderr",
          "text": [
            "\r 70%|███████   | 7/10 [00:04<00:01,  1.69it/s]"
          ]
        },
        {
          "output_type": "stream",
          "name": "stdout",
          "text": [
            "True aspect terms:  ['töötajad']\n",
            "Predicted aspect terms:  []\n"
          ]
        },
        {
          "output_type": "stream",
          "name": "stderr",
          "text": [
            "\r 80%|████████  | 8/10 [00:05<00:01,  1.67it/s]"
          ]
        },
        {
          "output_type": "stream",
          "name": "stdout",
          "text": [
            "True aspect terms:  ['laua broneerimisest', 'vaatega Kadriorule', 'teenindus', 'teenindus', 'teenindus', 'toidud']\n",
            "Predicted aspect terms:  ['toidud']\n"
          ]
        },
        {
          "output_type": "stream",
          "name": "stderr",
          "text": [
            "\r 90%|█████████ | 9/10 [00:05<00:00,  1.75it/s]"
          ]
        },
        {
          "output_type": "stream",
          "name": "stdout",
          "text": [
            "True aspect terms:  ['kulinaarse \"etteastega\"']\n",
            "Predicted aspect terms:  ['üks parimaid restorane Tallinnas vahest ka Baltikumis', 'olete']\n"
          ]
        },
        {
          "output_type": "stream",
          "name": "stderr",
          "text": [
            "100%|██████████| 10/10 [00:06<00:00,  1.62it/s]"
          ]
        },
        {
          "output_type": "stream",
          "name": "stdout",
          "text": [
            "True aspect terms:  ['toiduvalikut', 'Teenindus', 'Teenindus', 'teenindajad', 'teenindajad']\n",
            "Predicted aspect terms:  []\n"
          ]
        },
        {
          "output_type": "stream",
          "name": "stderr",
          "text": [
            "\n"
          ]
        },
        {
          "output_type": "display_data",
          "data": {
            "text/plain": [
              "<Figure size 1000x600 with 1 Axes>"
            ],
            "image/png": "[encoded data removed]"
          },
          "metadata": {}
        }
      ]
    },
    {
      "cell_type": "code",
      "source": [
        "# Load annotated test set = gold_data\n",
        "with open(\"output_corrected.json\", \"r\", encoding=\"utf-8\") as f:\n",
        "    gold_data = json.load(f)\n",
        "\n",
        "# Predict triplets\n",
        "def predict_triplets_for_dataset(gold_data, selected_layers=4, window_start=5):\n",
        "    pred_data = []\n",
        "    for item in tqdm(gold_data):\n",
        "        review_text = item[\"review_text\"]\n",
        "        tokens, attentions = get_attention_matrices(review_text)\n",
        "\n",
        "        layers = list(range(window_start, window_start + selected_layers))\n",
        "        attention_matrix = aggregate_layers(attentions, layers)\n",
        "\n",
        "        # Extract aspect and opinion terms\n",
        "        extracted_aspects, extracted_opinions = extract_aspects_opinions(review_text)\n",
        "\n",
        "        # Threshold and finding aspect-opinion pairs\n",
        "        threshold = dynamic_threshold(attention_matrix)\n",
        "        predicted_pairs = find_aspect_opinion_pairs(tokens, attention_matrix, extracted_aspects, extracted_opinions, threshold)\n",
        "\n",
        "        # Assinging opinion polarity\n",
        "        opinion_polarities = assign_sentiment_polarity(extracted_opinions)\n",
        "\n",
        "        # Сonstructing triplets\n",
        "        predicted_triplets = []\n",
        "        for pair in predicted_pairs:\n",
        "            aspect_text = pair[\"aspect\"][\"text\"]\n",
        "            opinion_text = pair[\"opinion\"][\"text\"]\n",
        "            polarity = opinion_polarities.get(opinion_text, \"neutral\")\n",
        "            predicted_triplets.append({\n",
        "                \"aspect_term\": {\"text\": aspect_text},\n",
        "                \"opinion_term\": {\"text\": opinion_text},\n",
        "                \"polarity\": polarity\n",
        "            })\n",
        "\n",
        "        pred_data.append({\n",
        "            \"review_text\": review_text,\n",
        "            \"triplets\": predicted_triplets\n",
        "        })\n",
        "\n",
        "    return pred_data\n",
        "\n",
        "# Getting predictions\n",
        "predicted_data = predict_triplets_for_dataset(\n",
        "    gold_data=gold_data,\n",
        "    selected_layers=4,\n",
        "    window_start=5\n",
        ")"
      ],
      "metadata": {
        "colab": {
          "base_uri": "https://localhost:8080/"
        },
        "id": "zgtHx1sPud4a",
        "outputId": "d13c5f05-3756-4a45-fca1-538fe590f71b"
      },
      "execution_count": 19,
      "outputs": [
        {
          "output_type": "stream",
          "name": "stderr",
          "text": [
            "\r  0%|          | 0/100 [00:00<?, ?it/s]Asking to truncate to max_length but no maximum length is provided and the model has no predefined maximum length. Default to no truncation.\n",
            "BertSdpaSelfAttention is used but `torch.nn.functional.scaled_dot_product_attention` does not support non-absolute `position_embedding_type` or `output_attentions=True` or `head_mask`. Falling back to the manual attention implementation, but specifying the manual implementation will be required from Transformers version v5.0.0 onwards. This warning can be removed using the argument `attn_implementation=\"eager\"` when loading the model.\n",
            "100%|██████████| 100/100 [02:23<00:00,  1.43s/it]\n"
          ]
        }
      ]
    },
    {
      "cell_type": "markdown",
      "source": [
        "Functions for metrics calculation from metrics_function.ipynb"
      ],
      "metadata": {
        "id": "SG2kFtFLjLJW"
      }
    },
    {
      "cell_type": "code",
      "source": [
        "import typing as T\n",
        "from typing import List, Dict, Set, Tuple\n",
        "from collections import defaultdict\n",
        "import json\n",
        "from sklearn.metrics import precision_score, recall_score, f1_score, accuracy_score"
      ],
      "metadata": {
        "id": "wDsE-ViFuw1q"
      },
      "execution_count": 20,
      "outputs": []
    },
    {
      "cell_type": "code",
      "source": [
        "def prepare_aspect_set(data: List[Dict]) -> Dict[int, Set[str]]:\n",
        "    \"\"\"Prepare sets of aspect terms for each sample.\"\"\"\n",
        "    aspect_sets = {}\n",
        "    for idx, item in enumerate(data):\n",
        "        triplet_list = item.get(\"triplets\", [])\n",
        "        aspect_texts = set(\n",
        "            triplet[\"aspect_term\"][\"text\"].strip().lower() for triplet in triplet_list\n",
        "            if \"aspect_term\" in triplet and \"text\" in triplet[\"aspect_term\"]\n",
        "        )\n",
        "        aspect_sets[idx] = aspect_texts\n",
        "    return aspect_sets\n",
        "\n",
        "def prepare_triplet_set(data: List[Dict]) -> Dict[int, Set[Tuple[str, str, str]]]:\n",
        "    \"\"\"Prepare sets of (aspect term, opinion term, polarity) triplets for each sample.\"\"\"\n",
        "    triplet_sets = {}\n",
        "    for idx, item in enumerate(data):\n",
        "        triplet_list = item.get(\"triplets\", [])\n",
        "        triplets = set(\n",
        "            (\n",
        "                triplet[\"aspect_term\"][\"text\"].strip().lower(),\n",
        "                triplet[\"opinion_term\"][\"text\"].strip().lower(),\n",
        "                triplet[\"polarity\"].lower()\n",
        "            )\n",
        "            for triplet in triplet_list\n",
        "            if all(key in triplet for key in [\"aspect_term\", \"opinion_term\", \"polarity\"])\n",
        "        )\n",
        "        triplet_sets[idx] = triplets\n",
        "    return triplet_sets\n",
        "\n",
        "def evaluate_triplets(\n",
        "    gold_data: List[Dict],\n",
        "    pred_data: List[Dict],\n",
        "    mode: str = \"triplet\"\n",
        ") -> Dict[str, float]:\n",
        "    \"\"\"\n",
        "    Compute precision, recall, F1, and accuracy for aspects or triplets.\n",
        "\n",
        "    Args:\n",
        "        gold_data: list of dictionaries with gold aspect/triplet annotations\n",
        "        pred_data: list of dictionaries with predicted aspect/triplet annotations\n",
        "        mode: \"aspect\" to evaluate aspect terms, \"triplet\" to evaluate full triplets\n",
        "\n",
        "    Returns:\n",
        "        A dictionary with precision, recall, F1-score, and accuracy\n",
        "    \"\"\"\n",
        "    assert mode in [\"aspect\", \"triplet\"], \"Mode must be 'aspect' or 'triplet'\"\n",
        "    assert len(gold_data) == len(pred_data), \"Mismatch in number of samples between gold and predictions\"\n",
        "\n",
        "    y_true = []\n",
        "    y_pred = []\n",
        "\n",
        "    if mode == \"aspect\":\n",
        "        gold_sets = prepare_aspect_set(gold_data)\n",
        "        pred_sets = prepare_aspect_set(pred_data)\n",
        "    else:  # mode == \"triplet\"\n",
        "        gold_sets = prepare_triplet_set(gold_data)\n",
        "        pred_sets = prepare_triplet_set(pred_data)\n",
        "\n",
        "    for idx in range(len(gold_data)):\n",
        "        gold_review = gold_data[idx].get(\"review_text\", \"\").strip()\n",
        "        pred_review = pred_data[idx].get(\"review_text\", \"\").strip()\n",
        "        # assert gold_review == pred_review, f\"Review text mismatch at index {idx}\\nGold review: {gold_review}\\nPredicted review: {pred_review}\"\n",
        "\n",
        "        gold_items = gold_sets.get(idx, set())\n",
        "        pred_items = pred_sets.get(idx, set())\n",
        "\n",
        "        # True positives\n",
        "        for item in gold_items:\n",
        "            y_true.append(1)\n",
        "            y_pred.append(1 if item in pred_items else 0)\n",
        "\n",
        "        # False positives\n",
        "        for item in pred_items:\n",
        "            if item not in gold_items:\n",
        "                y_true.append(0)\n",
        "                y_pred.append(1)\n",
        "\n",
        "    precision = f'{precision_score(y_true, y_pred, zero_division=0) * 100:.2f}'\n",
        "    recall = f'{recall_score(y_true, y_pred, zero_division=0) * 100:.2f}'\n",
        "    f1 = f'{f1_score(y_true, y_pred, zero_division=0) * 100:.2f}'\n",
        "    accuracy = f'{accuracy_score(y_true, y_pred) * 100:.2f}'\n",
        "\n",
        "    return {\n",
        "        \"precision\": precision,\n",
        "        \"recall\": recall,\n",
        "        \"f1\": f1,\n",
        "        \"accuracy\": accuracy\n",
        "    }"
      ],
      "metadata": {
        "id": "ebzyMsoyu4HR"
      },
      "execution_count": 22,
      "outputs": []
    },
    {
      "cell_type": "markdown",
      "source": [
        "Evaluation on a test set"
      ],
      "metadata": {
        "id": "wH_WZ7MnkA92"
      }
    },
    {
      "cell_type": "code",
      "source": [
        "# Triplet-level\n",
        "metrics = evaluate_triplets(gold_data, predicted_data, mode=\"triplet\")\n",
        "print(\"Evaluation (Triplet-level):\")\n",
        "for k, v in metrics.items():\n",
        "    print(f\"{k.capitalize()}: {v}\")"
      ],
      "metadata": {
        "colab": {
          "base_uri": "https://localhost:8080/"
        },
        "id": "RVHPjgKVwqPu",
        "outputId": "f03fa389-f63c-4c99-f51d-f4e8bec3d7eb"
      },
      "execution_count": 28,
      "outputs": [
        {
          "output_type": "stream",
          "name": "stdout",
          "text": [
            "Evaluation (Triplet-level):\n",
            "Precision: 19.72\n",
            "Recall: 8.48\n",
            "F1: 11.86\n",
            "Accuracy: 6.31\n"
          ]
        }
      ]
    },
    {
      "cell_type": "code",
      "source": [
        "# Aspect-level\n",
        "metrics = evaluate_triplets(gold_data, predicted_data, mode=\"aspect\")\n",
        "print(\"Evaluation (Aspect-level):\")\n",
        "for k, v in metrics.items():\n",
        "    print(f\"{k.capitalize()}: {v}\")"
      ],
      "metadata": {
        "colab": {
          "base_uri": "https://localhost:8080/"
        },
        "id": "CzVZjipavK57",
        "outputId": "5968983b-373c-4831-e89a-cc2644688bee"
      },
      "execution_count": 29,
      "outputs": [
        {
          "output_type": "stream",
          "name": "stdout",
          "text": [
            "Evaluation (Aspect-level):\n",
            "Precision: 52.07\n",
            "Recall: 23.42\n",
            "F1: 32.31\n",
            "Accuracy: 19.27\n"
          ]
        }
      ]
    }
  ]
}