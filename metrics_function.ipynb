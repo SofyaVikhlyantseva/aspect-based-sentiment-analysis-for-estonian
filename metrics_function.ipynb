{
  "nbformat": 4,
  "nbformat_minor": 0,
  "metadata": {
    "colab": {
      "provenance": []
    },
    "kernelspec": {
      "name": "python3",
      "display_name": "Python 3"
    },
    "language_info": {
      "name": "python"
    }
  },
  "cells": [
    {
      "cell_type": "code",
      "source": [
        "import typing as T\n",
        "from typing import List, Dict, Set, Tuple\n",
        "from collections import defaultdict\n",
        "import json\n",
        "from sklearn.metrics import precision_score, recall_score, f1_score, accuracy_score"
      ],
      "metadata": {
        "id": "mu02ImyRT0Wm"
      },
      "execution_count": 28,
      "outputs": []
    },
    {
      "cell_type": "code",
      "execution_count": 2,
      "metadata": {
        "id": "UDkNVnoyTH8P"
      },
      "outputs": [],
      "source": [
        "class Triplet:\n",
        "    def __init__(self, aspect: str, opinion: str, polarity: str):\n",
        "        self.aspect = aspect.lower().strip()\n",
        "        self.opinion = opinion.lower().strip()\n",
        "        self.polarity = polarity.lower().strip()\n",
        "\n",
        "    def __eq__(self, other):\n",
        "        return (\n",
        "            self.aspect == other.aspect and\n",
        "            self.opinion == other.opinion and\n",
        "            self.polarity == other.polarity\n",
        "        )\n",
        "\n",
        "    def __hash__(self):\n",
        "        return hash((self.aspect, self.opinion, self.polarity))\n",
        "\n",
        "    def __repr__(self):\n",
        "        return f\"({self.aspect}, {self.opinion}, {self.polarity})\"\n",
        "\n",
        "\n",
        "def compute_metrics(\n",
        "    gold_data: T.List[T.Dict],\n",
        "    pred_data: T.List[T.Dict],\n",
        "    mode: str = \"triplet\"  # 'triplet', 'aspect', or 'opinion'\n",
        "):\n",
        "    \"\"\"\n",
        "    Compute precision, recall, f1 based on extracted triplets or individual components (aspect/opinion).\n",
        "    \"\"\"\n",
        "    assert mode in [\"triplet\", \"aspect\", \"opinion\"], \"Mode must be 'triplet', 'aspect', or 'opinion'\"\n",
        "\n",
        "    gold_items = defaultdict(set)\n",
        "    pred_items = defaultdict(set)\n",
        "\n",
        "    for idx, item in enumerate(gold_data):\n",
        "        for triplet in item.get(\"triplets\", []):\n",
        "            aspect_text = triplet[\"aspect_term\"][\"text\"]\n",
        "            opinion_text = triplet[\"opinion_term\"][\"text\"]\n",
        "            polarity = triplet[\"polarity\"]\n",
        "\n",
        "            if mode == \"triplet\":\n",
        "                gold_items[idx].add(Triplet(aspect_text, opinion_text, polarity))\n",
        "            elif mode == \"aspect\":\n",
        "                gold_items[idx].add(aspect_text.lower().strip())\n",
        "            elif mode == \"opinion\":\n",
        "                gold_items[idx].add(opinion_text.lower().strip())\n",
        "\n",
        "    for idx, item in enumerate(pred_data):\n",
        "        for triplet in item.get(\"triplets\", []):\n",
        "            aspect_text = triplet[\"aspect_term\"][\"text\"]\n",
        "            opinion_text = triplet[\"opinion_term\"][\"text\"]\n",
        "            polarity = triplet[\"polarity\"]\n",
        "\n",
        "            if mode == \"triplet\":\n",
        "                pred_items[idx].add(Triplet(aspect_text, opinion_text, polarity))\n",
        "            elif mode == \"aspect\":\n",
        "                pred_items[idx].add(aspect_text.lower().strip())\n",
        "            elif mode == \"opinion\":\n",
        "                pred_items[idx].add(opinion_text.lower().strip())\n",
        "\n",
        "    # Now calculate TP, FP, FN\n",
        "    tp = 0\n",
        "    fp = 0\n",
        "    fn = 0\n",
        "\n",
        "    for idx in gold_items.keys():\n",
        "        gold_set = gold_items[idx]\n",
        "        pred_set = pred_items.get(idx, set())\n",
        "\n",
        "        current_tp = len(gold_set & pred_set)\n",
        "        current_fp = len(pred_set - gold_set)\n",
        "        current_fn = len(gold_set - pred_set)\n",
        "\n",
        "        tp += current_tp\n",
        "        fp += current_fp\n",
        "        fn += current_fn\n",
        "\n",
        "    precision = tp / (tp + fp) if (tp + fp) > 0 else 0.0\n",
        "    recall = tp / (tp + fn) if (tp + fn) > 0 else 0.0\n",
        "    f1 = 2 * precision * recall / (precision + recall) if (precision + recall) > 0 else 0.0\n",
        "\n",
        "    return {\n",
        "        \"precision\": precision,\n",
        "        \"recall\": recall,\n",
        "        \"f1\": f1\n",
        "    }\n",
        "\n",
        "\n",
        "def compute_aspect_accuracy(gold_data: T.List[T.Dict], pred_data: T.List[T.Dict]) -> float:\n",
        "    \"\"\"\n",
        "    Compute simple aspect detection accuracy (1 if aspect is found, 0 otherwise).\n",
        "    \"\"\"\n",
        "    y_true = []\n",
        "    y_pred = []\n",
        "\n",
        "    for idx, item in enumerate(gold_data):\n",
        "        gold_aspects = [triplet[\"aspect_term\"][\"text\"].lower().strip() for triplet in item.get(\"triplets\", [])]\n",
        "        pred_aspects = [triplet[\"aspect_term\"][\"text\"].lower().strip() for triplet in pred_data[idx].get(\"triplets\", [])]\n",
        "\n",
        "        for aspect in gold_aspects:\n",
        "            y_true.append(1)\n",
        "            y_pred.append(1 if aspect in pred_aspects else 0)\n",
        "\n",
        "        for aspect in pred_aspects:\n",
        "            if aspect not in gold_aspects:\n",
        "                y_true.append(0)\n",
        "                y_pred.append(1)\n",
        "\n",
        "    return accuracy_score(y_true, y_pred)"
      ]
    },
    {
      "cell_type": "code",
      "source": [
        "with open(\"output_corrected.json\", \"r\", encoding=\"utf-8\") as f:\n",
        "    gold_data = json.load(f)\n",
        "\n",
        "gold_data[97]"
      ],
      "metadata": {
        "colab": {
          "base_uri": "https://localhost:8080/"
        },
        "id": "Ab4PP-w7Ubv9",
        "outputId": "06ac1c19-c5c6-47c1-9978-c281bcaae436"
      },
      "execution_count": 29,
      "outputs": [
        {
          "output_type": "execute_result",
          "data": {
            "text/plain": [
              "{'review_text': 'Alati on teie juurde hea tulla. Laua broneerimine on lihtne ja kiire. Interjöör hubane ja toit alati ootuspäraselt maitsev.\\nKui vähegi võimalik, siis võiksite tuua joogikaardile ka alkoholivaba šampanja pokaaliga ostmise võimaluse ning suuremat valikut mokteile. :)',\n",
              " 'triplets': [{'aspect_term': {'start': 32,\n",
              "    'end': 49,\n",
              "    'text': 'Laua broneerimine'},\n",
              "   'opinion_term': {'start': 53, 'end': 59, 'text': 'lihtne'},\n",
              "   'polarity': 'positive'},\n",
              "  {'aspect_term': {'start': 32, 'end': 49, 'text': 'Laua broneerimine'},\n",
              "   'opinion_term': {'start': 63, 'end': 68, 'text': 'kiire'},\n",
              "   'polarity': 'positive'},\n",
              "  {'aspect_term': {'start': 70, 'end': 79, 'text': 'Interjöör'},\n",
              "   'opinion_term': {'start': 80, 'end': 86, 'text': 'hubane'},\n",
              "   'polarity': 'positive'},\n",
              "  {'aspect_term': {'start': 90, 'end': 94, 'text': 'toit'},\n",
              "   'opinion_term': {'start': 95,\n",
              "    'end': 122,\n",
              "    'text': 'alati ootuspäraselt maitsev'},\n",
              "   'polarity': 'positive'}]}"
            ]
          },
          "metadata": {},
          "execution_count": 29
        }
      ]
    },
    {
      "cell_type": "code",
      "source": [
        "with open(\"predicted_output_eurollm_trunc_prompt_1_shot.json\", \"r\", encoding=\"utf-8\") as f:\n",
        "    pred_data = json.load(f)\n",
        "\n",
        "pred_data[97]"
      ],
      "metadata": {
        "colab": {
          "base_uri": "https://localhost:8080/"
        },
        "id": "o7NJJLNnVSeR",
        "outputId": "703b99fe-a4c3-42b0-eb6d-e70ac3c105a8"
      },
      "execution_count": null,
      "outputs": [
        {
          "output_type": "execute_result",
          "data": {
            "text/plain": [
              "{'review_text': 'Alati on teie juurde hea tulla. Laua broneerimine on lihtne ja kiire. Interjöör hubane ja toit alati ootuspäraselt maitsev. Kui vähegi võimalik, siis võiksite tuua joogikaardile ka alkoholivaba šampanja pokaaliga ostmise võimaluse ning suuremat valikut mokteile. :)',\n",
              " 'triplets': [{'aspect_term': {'text': 'Alati on teie juurde hea tulla.',\n",
              "    'polarity': 'positive',\n",
              "    'start': 0,\n",
              "    'end': 31},\n",
              "   'opinion_term': {'text': 'Laua broneerimine on lihtne ja kiire.',\n",
              "    'polarity': 'positive',\n",
              "    'start': 32,\n",
              "    'end': 69},\n",
              "   'polarity': 'positive'},\n",
              "  {'aspect_term': {'text': 'Interjöör hubane ja toit alati ootuspäraselt maitsev.',\n",
              "    'polarity': 'positive',\n",
              "    'start': 70,\n",
              "    'end': 123},\n",
              "   'opinion_term': {'text': 'Kui vähegi võimalik, siis võiksite tuua joogikaardile ka alkoholivaba šampanja pokaaliga ostmise võimaluse ning suuremat valikut mokteile. :)',\n",
              "    'polarity': 'positive',\n",
              "    'start': 124,\n",
              "    'end': 265},\n",
              "   'polarity': 'positive'}]}"
            ]
          },
          "metadata": {},
          "execution_count": 34
        }
      ]
    },
    {
      "cell_type": "markdown",
      "source": [
        "Postprocessing"
      ],
      "metadata": {
        "id": "Xkb6A-QflWCj"
      }
    },
    {
      "cell_type": "code",
      "source": [
        "import re\n",
        "\n",
        "def clean_term(text):\n",
        "    # Delete unwanted punctuation and emoji\n",
        "    text = text.replace(\":)\", \"\").strip(\" .,!?;:-–—()[]{}«»\\\"'\")\n",
        "    return text"
      ],
      "metadata": {
        "id": "xhttnqoeiNtX"
      },
      "execution_count": 30,
      "outputs": []
    },
    {
      "cell_type": "code",
      "source": [
        "def extract_polarity_and_fix(triplet):\n",
        "    new_triplet = {}\n",
        "    if isinstance(triplet.get(\"aspect_term\"), dict):\n",
        "        if \"polarity\" in triplet[\"aspect_term\"]:\n",
        "            triplet[\"polarity\"] = triplet[\"aspect_term\"].pop(\"polarity\")\n",
        "    if isinstance(triplet.get(\"opinion_term\"), dict):\n",
        "        if \"polarity\" in triplet[\"opinion_term\"]:\n",
        "            triplet[\"polarity\"] = triplet[\"opinion_term\"].pop(\"polarity\")\n",
        "    new_triplet[\"aspect_term\"] = triplet.get(\"aspect_term\", \"\")\n",
        "    new_triplet[\"opinion_term\"] = triplet.get(\"opinion_term\", \"\")\n",
        "    new_triplet[\"polarity\"] = triplet.get(\"polarity\", \"\").lower().strip()\n",
        "    return new_triplet"
      ],
      "metadata": {
        "id": "dXxxiwq7i9XO"
      },
      "execution_count": 31,
      "outputs": []
    },
    {
      "cell_type": "code",
      "source": [
        "EST_TO_ENG_POLARITY = {\n",
        "    \"positiivne\": \"positive\",\n",
        "    \"negatiivne\": \"negative\",\n",
        "    \"neutraalne\": \"neutral\"\n",
        "}\n",
        "\n",
        "def normalize_polarity(polarity):\n",
        "    return EST_TO_ENG_POLARITY.get(polarity.lower(), polarity.lower())"
      ],
      "metadata": {
        "id": "_NsXWAoRtLKd"
      },
      "execution_count": 32,
      "outputs": []
    },
    {
      "cell_type": "code",
      "source": [
        "def postprocess_predictions(pred_data):\n",
        "    cleaned_results = []\n",
        "\n",
        "    for item in pred_data:\n",
        "        original_text = item.get(\"review_text\", \"\")\n",
        "        triplets = item.get(\"triplets\", [])\n",
        "        new_triplets = []\n",
        "\n",
        "        for triplet in triplets:\n",
        "            triplet_fixed = extract_polarity_and_fix(triplet)\n",
        "            triplet_fixed[\"aspect_term\"][\"text\"] = clean_term(triplet[\"aspect_term\"][\"text\"])\n",
        "            if triplet_fixed.get(\"opinion_term\"):\n",
        "              triplet_fixed.get(\"opinion_term\")[\"text\"] = clean_term(triplet.get(\"opinion_term\")[\"text\"])\n",
        "            else:\n",
        "              triplet_fixed[\"opinion_term\"] = {\"text\": \"\"}\n",
        "            triplet_fixed[\"polarity\"] = normalize_polarity(triplet[\"polarity\"])\n",
        "            new_triplets.append(triplet_fixed)\n",
        "\n",
        "        cleaned_results.append({\n",
        "            \"review_text\": original_text,\n",
        "            \"triplets\": new_triplets\n",
        "        })\n",
        "\n",
        "    return cleaned_results"
      ],
      "metadata": {
        "id": "mvxgj0DctdYX"
      },
      "execution_count": 33,
      "outputs": []
    },
    {
      "cell_type": "code",
      "source": [
        "cleaned_data = postprocess_predictions(pred_data)\n",
        "cleaned_data[97]"
      ],
      "metadata": {
        "colab": {
          "base_uri": "https://localhost:8080/"
        },
        "id": "TlFJi4CWtz3v",
        "outputId": "ebb3e674-4704-4436-960a-c57ede8871d6"
      },
      "execution_count": null,
      "outputs": [
        {
          "output_type": "execute_result",
          "data": {
            "text/plain": [
              "{'review_text': 'Alati on teie juurde hea tulla. Laua broneerimine on lihtne ja kiire. Interjöör hubane ja toit alati ootuspäraselt maitsev. Kui vähegi võimalik, siis võiksite tuua joogikaardile ka alkoholivaba šampanja pokaaliga ostmise võimaluse ning suuremat valikut mokteile. :)',\n",
              " 'triplets': [{'aspect_term': {'text': 'Alati on teie juurde hea tulla',\n",
              "    'start': 0,\n",
              "    'end': 31},\n",
              "   'opinion_term': {'text': 'Laua broneerimine on lihtne ja kiire',\n",
              "    'start': 32,\n",
              "    'end': 69},\n",
              "   'polarity': 'positive'},\n",
              "  {'aspect_term': {'text': 'Interjöör hubane ja toit alati ootuspäraselt maitsev',\n",
              "    'start': 70,\n",
              "    'end': 123},\n",
              "   'opinion_term': {'text': 'Kui vähegi võimalik, siis võiksite tuua joogikaardile ka alkoholivaba šampanja pokaaliga ostmise võimaluse ning suuremat valikut mokteile',\n",
              "    'start': 124,\n",
              "    'end': 265},\n",
              "   'polarity': 'positive'}]}"
            ]
          },
          "metadata": {},
          "execution_count": 39
        }
      ]
    },
    {
      "cell_type": "code",
      "source": [
        "# Calculate metrics in triplet mode\n",
        "metrics = compute_metrics(gold_data, cleaned_data, mode=\"triplet\")\n",
        "print(f\"Triplet - Precision: {metrics['precision']:.4f}, Recall: {metrics['recall']:.4f}, F1: {metrics['f1']:.4f}\")\n",
        "\n",
        "# Calculate metrics in aspect mode\n",
        "aspect_metrics = compute_metrics(gold_data, cleaned_data, mode=\"aspect\")\n",
        "print(f\"Aspect - Precision: {aspect_metrics['precision']:.4f}, Recall: {aspect_metrics['recall']:.4f}, F1: {aspect_metrics['f1']:.4f}\")\n",
        "\n",
        "# Calculate only aspect accuracy (like in unsupervised method)\n",
        "aspect_accuracy = compute_aspect_accuracy(gold_data, cleaned_data)\n",
        "print(f\"Aspect Accuracy: {aspect_accuracy:.4f}\")"
      ],
      "metadata": {
        "colab": {
          "base_uri": "https://localhost:8080/"
        },
        "id": "PUIx_GMeT5jI",
        "outputId": "7dc14c19-69e3-40be-f7d7-b115fed69e65"
      },
      "execution_count": null,
      "outputs": [
        {
          "output_type": "stream",
          "name": "stdout",
          "text": [
            "Triplet - Precision: 0.1289, Recall: 0.1364, F1: 0.1325\n",
            "Aspect - Precision: 0.3629, Recall: 0.3494, F1: 0.3561\n",
            "Aspect Accuracy: 0.2210\n"
          ]
        }
      ]
    },
    {
      "cell_type": "code",
      "source": [
        "def prepare_aspect_set(data: List[Dict]) -> Dict[int, Set[str]]:\n",
        "    \"\"\"Prepare sets of aspect terms for each sample.\"\"\"\n",
        "    aspect_sets = {}\n",
        "    for idx, item in enumerate(data):\n",
        "        triplet_list = item.get(\"triplets\", [])\n",
        "        aspect_texts = set(\n",
        "            triplet[\"aspect_term\"][\"text\"].strip().lower() for triplet in triplet_list\n",
        "            if \"aspect_term\" in triplet and \"text\" in triplet[\"aspect_term\"]\n",
        "        )\n",
        "        aspect_sets[idx] = aspect_texts\n",
        "    return aspect_sets\n",
        "\n",
        "def prepare_triplet_set(data: List[Dict]) -> Dict[int, Set[Tuple[str, str, str]]]:\n",
        "    \"\"\"Prepare sets of (aspect term, opinion term, polarity) triplets for each sample.\"\"\"\n",
        "    triplet_sets = {}\n",
        "    for idx, item in enumerate(data):\n",
        "        triplet_list = item.get(\"triplets\", [])\n",
        "        triplets = set(\n",
        "            (\n",
        "                triplet[\"aspect_term\"][\"text\"].strip().lower(),\n",
        "                triplet[\"opinion_term\"][\"text\"].strip().lower(),\n",
        "                triplet[\"polarity\"].lower()\n",
        "            )\n",
        "            for triplet in triplet_list\n",
        "            if all(key in triplet for key in [\"aspect_term\", \"opinion_term\", \"polarity\"])\n",
        "        )\n",
        "        triplet_sets[idx] = triplets\n",
        "    return triplet_sets\n",
        "\n",
        "def evaluate_triplets(\n",
        "    gold_data: List[Dict],\n",
        "    pred_data: List[Dict],\n",
        "    mode: str = \"triplet\"\n",
        ") -> Dict[str, float]:\n",
        "    \"\"\"\n",
        "    Compute precision, recall, F1, and accuracy for aspects or triplets.\n",
        "\n",
        "    Args:\n",
        "        gold_data: list of dictionaries with gold aspect/triplet annotations\n",
        "        pred_data: list of dictionaries with predicted aspect/triplet annotations\n",
        "        mode: \"aspect\" to evaluate aspect terms, \"triplet\" to evaluate full triplets\n",
        "\n",
        "    Returns:\n",
        "        A dictionary with precision, recall, F1-score, and accuracy\n",
        "    \"\"\"\n",
        "    assert mode in [\"aspect\", \"triplet\"], \"Mode must be 'aspect' or 'triplet'\"\n",
        "    assert len(gold_data) == len(pred_data), \"Mismatch in number of samples between gold and predictions\"\n",
        "\n",
        "    y_true = []\n",
        "    y_pred = []\n",
        "\n",
        "    if mode == \"aspect\":\n",
        "        gold_sets = prepare_aspect_set(gold_data)\n",
        "        pred_sets = prepare_aspect_set(pred_data)\n",
        "    else:  # mode == \"triplet\"\n",
        "        gold_sets = prepare_triplet_set(gold_data)\n",
        "        pred_sets = prepare_triplet_set(pred_data)\n",
        "\n",
        "    for idx in range(len(gold_data)):\n",
        "        gold_review = gold_data[idx].get(\"review_text\", \"\").strip()\n",
        "        pred_review = pred_data[idx].get(\"review_text\", \"\").strip()\n",
        "        # assert gold_review == pred_review, f\"Review text mismatch at index {idx}\\nGold review: {gold_review}\\nPredicted review: {pred_review}\"\n",
        "\n",
        "        gold_items = gold_sets.get(idx, set())\n",
        "        pred_items = pred_sets.get(idx, set())\n",
        "\n",
        "        # True positives\n",
        "        for item in gold_items:\n",
        "            y_true.append(1)\n",
        "            y_pred.append(1 if item in pred_items else 0)\n",
        "\n",
        "        # False positives\n",
        "        for item in pred_items:\n",
        "            if item not in gold_items:\n",
        "                y_true.append(0)\n",
        "                y_pred.append(1)\n",
        "\n",
        "    precision = f'{precision_score(y_true, y_pred, zero_division=0) * 100:.2f}'\n",
        "    recall = f'{recall_score(y_true, y_pred, zero_division=0) * 100:.2f}'\n",
        "    f1 = f'{f1_score(y_true, y_pred, zero_division=0) * 100:.2f}'\n",
        "    accuracy = f'{accuracy_score(y_true, y_pred) * 100:.2f}'\n",
        "\n",
        "    return {\n",
        "        \"precision\": precision,\n",
        "        \"recall\": recall,\n",
        "        \"f1\": f1,\n",
        "        \"accuracy\": accuracy\n",
        "    }"
      ],
      "metadata": {
        "id": "SHwJTE9cJHRC"
      },
      "execution_count": 22,
      "outputs": []
    },
    {
      "cell_type": "code",
      "source": [
        "with open(\"basic_0_adj_eng.json\", \"r\", encoding=\"utf-8\") as f:\n",
        "    basic_0_adj_eng = json.load(f)\n",
        "\n",
        "cleaned_basic_0_adj_eng = postprocess_predictions(basic_0_adj_eng)"
      ],
      "metadata": {
        "id": "Dxxt2VBLcihV"
      },
      "execution_count": 34,
      "outputs": []
    },
    {
      "cell_type": "code",
      "source": [
        "len(basic_0_adj_eng)"
      ],
      "metadata": {
        "colab": {
          "base_uri": "https://localhost:8080/"
        },
        "id": "3SyYdC67vsgq",
        "outputId": "74a9c2fd-197a-4f32-9eec-baa39989cd79"
      },
      "execution_count": 35,
      "outputs": [
        {
          "output_type": "execute_result",
          "data": {
            "text/plain": [
              "100"
            ]
          },
          "metadata": {},
          "execution_count": 35
        }
      ]
    },
    {
      "cell_type": "code",
      "source": [
        "evaluate_triplets(gold_data, basic_0_adj_eng, mode=\"aspect\")"
      ],
      "metadata": {
        "colab": {
          "base_uri": "https://localhost:8080/"
        },
        "id": "ofnDhGa8wPZI",
        "outputId": "ae259197-aac6-416a-80fd-fb9cac6e3bd9"
      },
      "execution_count": 36,
      "outputs": [
        {
          "output_type": "execute_result",
          "data": {
            "text/plain": [
              "{'precision': '32.00', 'recall': '11.90', 'f1': '17.34', 'accuracy': '9.50'}"
            ]
          },
          "metadata": {},
          "execution_count": 36
        }
      ]
    },
    {
      "cell_type": "code",
      "source": [
        "evaluate_triplets(gold_data, cleaned_basic_0_adj_eng, mode=\"aspect\")"
      ],
      "metadata": {
        "colab": {
          "base_uri": "https://localhost:8080/"
        },
        "id": "3nt31XCSweGh",
        "outputId": "b2959483-7858-403e-9a29-95f55530dc6a"
      },
      "execution_count": 37,
      "outputs": [
        {
          "output_type": "execute_result",
          "data": {
            "text/plain": [
              "{'precision': '32.00', 'recall': '11.90', 'f1': '17.34', 'accuracy': '9.50'}"
            ]
          },
          "metadata": {},
          "execution_count": 37
        }
      ]
    },
    {
      "cell_type": "code",
      "source": [
        "evaluate_triplets(gold_data, basic_0_adj_eng, mode=\"triplet\")"
      ],
      "metadata": {
        "colab": {
          "base_uri": "https://localhost:8080/"
        },
        "id": "G2yflXh1w_DC",
        "outputId": "faddf515-8af4-4aeb-c0c8-93e52bb19be7"
      },
      "execution_count": 38,
      "outputs": [
        {
          "output_type": "execute_result",
          "data": {
            "text/plain": [
              "{'precision': '5.04', 'recall': '1.82', 'f1': '2.67', 'accuracy': '1.35'}"
            ]
          },
          "metadata": {},
          "execution_count": 38
        }
      ]
    },
    {
      "cell_type": "code",
      "source": [
        "evaluate_triplets(gold_data, cleaned_basic_0_adj_eng, mode=\"triplet\")"
      ],
      "metadata": {
        "colab": {
          "base_uri": "https://localhost:8080/"
        },
        "id": "-C5wF7hYw5Sm",
        "outputId": "6e0b8799-30c1-4802-afb0-a8f17c4f6166"
      },
      "execution_count": 39,
      "outputs": [
        {
          "output_type": "execute_result",
          "data": {
            "text/plain": [
              "{'precision': '7.56', 'recall': '2.73', 'f1': '4.01', 'accuracy': '2.05'}"
            ]
          },
          "metadata": {},
          "execution_count": 39
        }
      ]
    }
  ]
}